{
 "cells": [
  {
   "cell_type": "markdown",
   "id": "e9a5eaf8",
   "metadata": {},
   "source": [
    "# Plotly and Cufflinks"
   ]
  },
  {
   "cell_type": "code",
   "execution_count": 26,
   "id": "65b683cc",
   "metadata": {},
   "outputs": [
    {
     "name": "stdout",
     "output_type": "stream",
     "text": [
      "5.8.0\n"
     ]
    }
   ],
   "source": [
    "import pandas as pd\n",
    "import numpy as np\n",
    "%matplotlib inline\n",
    "from plotly import __version__\n",
    "from plotly.offline import download_plotlyjs, init_notebook_mode, plot, iplot\n",
    "\n",
    "print(__version__) # requires version >= 1.9.0"
   ]
  },
  {
   "cell_type": "code",
   "execution_count": 2,
   "id": "0307f101",
   "metadata": {},
   "outputs": [],
   "source": [
    "import cufflinks as cf"
   ]
  },
  {
   "cell_type": "code",
   "execution_count": 3,
   "id": "597448c9",
   "metadata": {},
   "outputs": [
    {
     "data": {
      "text/html": [
       "        <script type=\"text/javascript\">\n",
       "        window.PlotlyConfig = {MathJaxConfig: 'local'};\n",
       "        if (window.MathJax && window.MathJax.Hub && window.MathJax.Hub.Config) {window.MathJax.Hub.Config({SVG: {font: \"STIX-Web\"}});}\n",
       "        if (typeof require !== 'undefined') {\n",
       "        require.undef(\"plotly\");\n",
       "        requirejs.config({\n",
       "            paths: {\n",
       "                'plotly': ['https://cdn.plot.ly/plotly-2.12.1.min']\n",
       "            }\n",
       "        });\n",
       "        require(['plotly'], function(Plotly) {\n",
       "            window._Plotly = Plotly;\n",
       "        });\n",
       "        }\n",
       "        </script>\n",
       "        "
      ]
     },
     "metadata": {},
     "output_type": "display_data"
    }
   ],
   "source": [
    "init_notebook_mode(connected=True)"
   ]
  },
  {
   "cell_type": "code",
   "execution_count": 4,
   "id": "270f8a9c",
   "metadata": {},
   "outputs": [
    {
     "data": {
      "text/html": [
       "        <script type=\"text/javascript\">\n",
       "        window.PlotlyConfig = {MathJaxConfig: 'local'};\n",
       "        if (window.MathJax && window.MathJax.Hub && window.MathJax.Hub.Config) {window.MathJax.Hub.Config({SVG: {font: \"STIX-Web\"}});}\n",
       "        if (typeof require !== 'undefined') {\n",
       "        require.undef(\"plotly\");\n",
       "        requirejs.config({\n",
       "            paths: {\n",
       "                'plotly': ['https://cdn.plot.ly/plotly-2.12.1.min']\n",
       "            }\n",
       "        });\n",
       "        require(['plotly'], function(Plotly) {\n",
       "            window._Plotly = Plotly;\n",
       "        });\n",
       "        }\n",
       "        </script>\n",
       "        "
      ]
     },
     "metadata": {},
     "output_type": "display_data"
    }
   ],
   "source": [
    "cf.go_offline()"
   ]
  },
  {
   "cell_type": "code",
   "execution_count": 5,
   "id": "6b5a4739",
   "metadata": {},
   "outputs": [],
   "source": [
    "df = pd.DataFrame(np.random.randn(100,4),columns='A B C D'.split())"
   ]
  },
  {
   "cell_type": "code",
   "execution_count": 6,
   "id": "9c713cc2",
   "metadata": {},
   "outputs": [
    {
     "data": {
      "text/html": [
       "<div>\n",
       "<style scoped>\n",
       "    .dataframe tbody tr th:only-of-type {\n",
       "        vertical-align: middle;\n",
       "    }\n",
       "\n",
       "    .dataframe tbody tr th {\n",
       "        vertical-align: top;\n",
       "    }\n",
       "\n",
       "    .dataframe thead th {\n",
       "        text-align: right;\n",
       "    }\n",
       "</style>\n",
       "<table border=\"1\" class=\"dataframe\">\n",
       "  <thead>\n",
       "    <tr style=\"text-align: right;\">\n",
       "      <th></th>\n",
       "      <th>A</th>\n",
       "      <th>B</th>\n",
       "      <th>C</th>\n",
       "      <th>D</th>\n",
       "    </tr>\n",
       "  </thead>\n",
       "  <tbody>\n",
       "    <tr>\n",
       "      <th>0</th>\n",
       "      <td>0.153880</td>\n",
       "      <td>0.208362</td>\n",
       "      <td>0.410659</td>\n",
       "      <td>0.088826</td>\n",
       "    </tr>\n",
       "    <tr>\n",
       "      <th>1</th>\n",
       "      <td>2.181249</td>\n",
       "      <td>-0.007446</td>\n",
       "      <td>0.164517</td>\n",
       "      <td>0.347285</td>\n",
       "    </tr>\n",
       "    <tr>\n",
       "      <th>2</th>\n",
       "      <td>-0.135666</td>\n",
       "      <td>0.013439</td>\n",
       "      <td>-0.536978</td>\n",
       "      <td>-0.372461</td>\n",
       "    </tr>\n",
       "    <tr>\n",
       "      <th>3</th>\n",
       "      <td>2.582637</td>\n",
       "      <td>-1.140220</td>\n",
       "      <td>0.566085</td>\n",
       "      <td>-0.547120</td>\n",
       "    </tr>\n",
       "    <tr>\n",
       "      <th>4</th>\n",
       "      <td>1.678423</td>\n",
       "      <td>-1.003728</td>\n",
       "      <td>-0.627613</td>\n",
       "      <td>0.961220</td>\n",
       "    </tr>\n",
       "  </tbody>\n",
       "</table>\n",
       "</div>"
      ],
      "text/plain": [
       "          A         B         C         D\n",
       "0  0.153880  0.208362  0.410659  0.088826\n",
       "1  2.181249 -0.007446  0.164517  0.347285\n",
       "2 -0.135666  0.013439 -0.536978 -0.372461\n",
       "3  2.582637 -1.140220  0.566085 -0.547120\n",
       "4  1.678423 -1.003728 -0.627613  0.961220"
      ]
     },
     "execution_count": 6,
     "metadata": {},
     "output_type": "execute_result"
    }
   ],
   "source": [
    "df.head()"
   ]
  },
  {
   "cell_type": "code",
   "execution_count": 8,
   "id": "480bc3db",
   "metadata": {},
   "outputs": [],
   "source": [
    "df2 = pd.DataFrame({'Category':['A','B','C'],'Values':[32,43,50]})"
   ]
  },
  {
   "cell_type": "code",
   "execution_count": 9,
   "id": "caf9683c",
   "metadata": {},
   "outputs": [
    {
     "data": {
      "text/html": [
       "<div>\n",
       "<style scoped>\n",
       "    .dataframe tbody tr th:only-of-type {\n",
       "        vertical-align: middle;\n",
       "    }\n",
       "\n",
       "    .dataframe tbody tr th {\n",
       "        vertical-align: top;\n",
       "    }\n",
       "\n",
       "    .dataframe thead th {\n",
       "        text-align: right;\n",
       "    }\n",
       "</style>\n",
       "<table border=\"1\" class=\"dataframe\">\n",
       "  <thead>\n",
       "    <tr style=\"text-align: right;\">\n",
       "      <th></th>\n",
       "      <th>Category</th>\n",
       "      <th>Values</th>\n",
       "    </tr>\n",
       "  </thead>\n",
       "  <tbody>\n",
       "    <tr>\n",
       "      <th>0</th>\n",
       "      <td>A</td>\n",
       "      <td>32</td>\n",
       "    </tr>\n",
       "    <tr>\n",
       "      <th>1</th>\n",
       "      <td>B</td>\n",
       "      <td>43</td>\n",
       "    </tr>\n",
       "    <tr>\n",
       "      <th>2</th>\n",
       "      <td>C</td>\n",
       "      <td>50</td>\n",
       "    </tr>\n",
       "  </tbody>\n",
       "</table>\n",
       "</div>"
      ],
      "text/plain": [
       "  Category  Values\n",
       "0        A      32\n",
       "1        B      43\n",
       "2        C      50"
      ]
     },
     "execution_count": 9,
     "metadata": {},
     "output_type": "execute_result"
    }
   ],
   "source": [
    "df2"
   ]
  },
  {
   "cell_type": "code",
   "execution_count": 13,
   "id": "01529b02",
   "metadata": {},
   "outputs": [
    {
     "data": {
      "application/vnd.plotly.v1+json": {
       "config": {
        "linkText": "Export to plot.ly",
        "plotlyServerURL": "https://plot.ly",
        "showLink": true
       },
       "data": [
        {
         "line": {
          "color": "rgba(255, 153, 51, 1.0)",
          "dash": "solid",
          "shape": "linear",
          "width": 1.3
         },
         "marker": {
          "size": 10,
          "symbol": "circle"
         },
         "mode": "markers",
         "name": "B",
         "text": "",
         "type": "scatter",
         "x": [
          0.15387951566040683,
          2.181248765458232,
          -0.13566587094592006,
          2.5826373196933714,
          1.6784225961066819,
          -0.16299128101973356,
          -0.17874297565492092,
          0.48903983504613824,
          -0.050245207821652656,
          -0.21504123172855624,
          -0.9579247028153586,
          -0.9893440631800207,
          -0.5545866030923471,
          -0.729196183556216,
          -2.1468969108658733,
          1.443650242734995,
          0.9090913732870752,
          0.16199268989531002,
          -0.9466477932939458,
          0.35055814554620657,
          -0.21162327402463743,
          0.6365749108453906,
          -0.3836843220449782,
          1.0035932100576173,
          -0.6335239904754568,
          0.8596977337897347,
          0.4447230070289421,
          -1.2523804891664259,
          -0.13451250405916465,
          -0.5780800680607079,
          -0.2450155534501923,
          -0.9832040367280465,
          -0.23809181759312123,
          -0.34116672085694183,
          -0.8558574974421355,
          1.699621211172324,
          -1.0103056803776571,
          -0.8897721763689249,
          0.9747541077716472,
          0.2733325155193339,
          -2.3269122184399578,
          -0.3725394679542613,
          -1.1036867869571978,
          -0.1352555301863368,
          -1.1509761019037328,
          -1.2187335433615616,
          0.05506999604218593,
          -0.10228406176818654,
          1.2778340337032956,
          -1.6499243125727343,
          0.2584083064742115,
          0.022789195090183578,
          -0.05469858920966472,
          0.6934335354023595,
          -0.3582243331584894,
          -0.6762481063753567,
          -2.6093883903092228,
          0.08746280693315048,
          0.7907999135080389,
          -0.016400209655702606,
          -1.020020479062982,
          1.062252800413191,
          0.06000472648461456,
          -0.5751331128737663,
          0.7283756600309553,
          0.1828699910324269,
          -0.15630554197630672,
          -1.864294517478185,
          -0.05583743965754278,
          -1.3671415114751497,
          -0.2859607383869635,
          0.49472919490075573,
          -0.35969076601765726,
          0.9720742091395949,
          -0.11590515837531183,
          0.39360624198567107,
          0.7839283888154851,
          -1.177254142345938,
          0.8315862249829457,
          -1.1865453897625722,
          1.29698117990059,
          0.8766686456478701,
          0.7043101490622228,
          0.34654329113273163,
          0.009958136649100556,
          -1.134745510635879,
          0.0785083179815372,
          -1.8470364158934645,
          -0.4875047829676378,
          -0.735646683248686,
          -1.316475374019799,
          1.3776811867196217,
          -1.321076206512763,
          0.45445257779186266,
          2.5370214104573803,
          0.5769179650580939,
          0.4222801389522976,
          -0.5517893605255988,
          -0.30363543870509463,
          -0.33995824148450854
         ],
         "y": [
          0.2083619918066731,
          -0.007445592501653823,
          0.013438670371493154,
          -1.1402200714610695,
          -1.0037282728945376,
          -1.7796940522845184,
          1.4005425881113962,
          -0.12409065370077918,
          0.4452116013367775,
          -0.33569644713285623,
          0.9193071025427763,
          0.3170284786129296,
          0.13430335146684186,
          0.7787044216687309,
          0.21450459241797218,
          -1.5092666232396665,
          0.7919886424619987,
          -0.1927552256597784,
          0.1407274967059369,
          0.913396235037004,
          -0.39175435019456206,
          -0.5407190613207937,
          -1.129410685739879,
          -0.7073325132739956,
          -0.1202465665969558,
          -1.2835242588380795,
          -0.37277920098249084,
          0.40015445605057215,
          -0.40024857144059733,
          -0.6379169763897673,
          -0.2866340398118274,
          0.06139895861208848,
          -2.252517714720179,
          0.5457545446741421,
          1.1544587442506151,
          -0.6168270294189658,
          -0.3630037900029631,
          -1.2010279486365256,
          -0.7653438306648163,
          -0.11053318751770316,
          0.38388124646772853,
          -1.2674203103987471,
          0.0028399536666268025,
          -1.5494254508705259,
          2.095749715307753,
          -0.5641187149411993,
          0.34709305987418854,
          0.6236619982195952,
          -0.08063942778001149,
          0.08689494745775367,
          -1.2433803804032548,
          0.17159566961706876,
          -0.0032167099066127717,
          0.11739239250666493,
          0.38951736549480986,
          -1.0280734833091218,
          -0.4800090749698621,
          0.5740201552456949,
          -1.2084516763572983,
          0.7238828648723517,
          2.2005364752879752,
          0.15802727378773124,
          0.32649568568896786,
          -2.7143738424005797,
          0.38341951411432434,
          1.116813227600596,
          -0.01989660137589359,
          1.8878704671898408,
          -0.6405584469147696,
          -2.3590894870123007,
          -0.8715844322342543,
          -1.4398225910640223,
          1.3363221386595507,
          1.8283221642713612,
          -1.1084543823687798,
          -0.9822653578380953,
          -0.6494889734849333,
          -0.3426015797521599,
          -0.6837935756698565,
          0.6076716337813307,
          0.33659591669323224,
          0.4269690302146352,
          -0.9343729078118749,
          0.02124021733474761,
          -0.8433181262016681,
          -1.6579278057042166,
          1.0367687781471089,
          -0.508413311460955,
          1.039475592623558,
          -0.23178447064330665,
          0.0724413119156897,
          0.3487934006331482,
          1.4631758122581195,
          -1.9585115623098048,
          0.05495266418138907,
          0.01997126586927419,
          0.19730602361652821,
          -0.07707793518496193,
          1.2635910163603281,
          -1.575182626460573
         ]
        }
       ],
       "layout": {
        "legend": {
         "bgcolor": "#F5F6F9",
         "font": {
          "color": "#4D5663"
         }
        },
        "paper_bgcolor": "#F5F6F9",
        "plot_bgcolor": "#F5F6F9",
        "template": {
         "data": {
          "bar": [
           {
            "error_x": {
             "color": "#2a3f5f"
            },
            "error_y": {
             "color": "#2a3f5f"
            },
            "marker": {
             "line": {
              "color": "#E5ECF6",
              "width": 0.5
             },
             "pattern": {
              "fillmode": "overlay",
              "size": 10,
              "solidity": 0.2
             }
            },
            "type": "bar"
           }
          ],
          "barpolar": [
           {
            "marker": {
             "line": {
              "color": "#E5ECF6",
              "width": 0.5
             },
             "pattern": {
              "fillmode": "overlay",
              "size": 10,
              "solidity": 0.2
             }
            },
            "type": "barpolar"
           }
          ],
          "carpet": [
           {
            "aaxis": {
             "endlinecolor": "#2a3f5f",
             "gridcolor": "white",
             "linecolor": "white",
             "minorgridcolor": "white",
             "startlinecolor": "#2a3f5f"
            },
            "baxis": {
             "endlinecolor": "#2a3f5f",
             "gridcolor": "white",
             "linecolor": "white",
             "minorgridcolor": "white",
             "startlinecolor": "#2a3f5f"
            },
            "type": "carpet"
           }
          ],
          "choropleth": [
           {
            "colorbar": {
             "outlinewidth": 0,
             "ticks": ""
            },
            "type": "choropleth"
           }
          ],
          "contour": [
           {
            "colorbar": {
             "outlinewidth": 0,
             "ticks": ""
            },
            "colorscale": [
             [
              0,
              "#0d0887"
             ],
             [
              0.1111111111111111,
              "#46039f"
             ],
             [
              0.2222222222222222,
              "#7201a8"
             ],
             [
              0.3333333333333333,
              "#9c179e"
             ],
             [
              0.4444444444444444,
              "#bd3786"
             ],
             [
              0.5555555555555556,
              "#d8576b"
             ],
             [
              0.6666666666666666,
              "#ed7953"
             ],
             [
              0.7777777777777778,
              "#fb9f3a"
             ],
             [
              0.8888888888888888,
              "#fdca26"
             ],
             [
              1,
              "#f0f921"
             ]
            ],
            "type": "contour"
           }
          ],
          "contourcarpet": [
           {
            "colorbar": {
             "outlinewidth": 0,
             "ticks": ""
            },
            "type": "contourcarpet"
           }
          ],
          "heatmap": [
           {
            "colorbar": {
             "outlinewidth": 0,
             "ticks": ""
            },
            "colorscale": [
             [
              0,
              "#0d0887"
             ],
             [
              0.1111111111111111,
              "#46039f"
             ],
             [
              0.2222222222222222,
              "#7201a8"
             ],
             [
              0.3333333333333333,
              "#9c179e"
             ],
             [
              0.4444444444444444,
              "#bd3786"
             ],
             [
              0.5555555555555556,
              "#d8576b"
             ],
             [
              0.6666666666666666,
              "#ed7953"
             ],
             [
              0.7777777777777778,
              "#fb9f3a"
             ],
             [
              0.8888888888888888,
              "#fdca26"
             ],
             [
              1,
              "#f0f921"
             ]
            ],
            "type": "heatmap"
           }
          ],
          "heatmapgl": [
           {
            "colorbar": {
             "outlinewidth": 0,
             "ticks": ""
            },
            "colorscale": [
             [
              0,
              "#0d0887"
             ],
             [
              0.1111111111111111,
              "#46039f"
             ],
             [
              0.2222222222222222,
              "#7201a8"
             ],
             [
              0.3333333333333333,
              "#9c179e"
             ],
             [
              0.4444444444444444,
              "#bd3786"
             ],
             [
              0.5555555555555556,
              "#d8576b"
             ],
             [
              0.6666666666666666,
              "#ed7953"
             ],
             [
              0.7777777777777778,
              "#fb9f3a"
             ],
             [
              0.8888888888888888,
              "#fdca26"
             ],
             [
              1,
              "#f0f921"
             ]
            ],
            "type": "heatmapgl"
           }
          ],
          "histogram": [
           {
            "marker": {
             "pattern": {
              "fillmode": "overlay",
              "size": 10,
              "solidity": 0.2
             }
            },
            "type": "histogram"
           }
          ],
          "histogram2d": [
           {
            "colorbar": {
             "outlinewidth": 0,
             "ticks": ""
            },
            "colorscale": [
             [
              0,
              "#0d0887"
             ],
             [
              0.1111111111111111,
              "#46039f"
             ],
             [
              0.2222222222222222,
              "#7201a8"
             ],
             [
              0.3333333333333333,
              "#9c179e"
             ],
             [
              0.4444444444444444,
              "#bd3786"
             ],
             [
              0.5555555555555556,
              "#d8576b"
             ],
             [
              0.6666666666666666,
              "#ed7953"
             ],
             [
              0.7777777777777778,
              "#fb9f3a"
             ],
             [
              0.8888888888888888,
              "#fdca26"
             ],
             [
              1,
              "#f0f921"
             ]
            ],
            "type": "histogram2d"
           }
          ],
          "histogram2dcontour": [
           {
            "colorbar": {
             "outlinewidth": 0,
             "ticks": ""
            },
            "colorscale": [
             [
              0,
              "#0d0887"
             ],
             [
              0.1111111111111111,
              "#46039f"
             ],
             [
              0.2222222222222222,
              "#7201a8"
             ],
             [
              0.3333333333333333,
              "#9c179e"
             ],
             [
              0.4444444444444444,
              "#bd3786"
             ],
             [
              0.5555555555555556,
              "#d8576b"
             ],
             [
              0.6666666666666666,
              "#ed7953"
             ],
             [
              0.7777777777777778,
              "#fb9f3a"
             ],
             [
              0.8888888888888888,
              "#fdca26"
             ],
             [
              1,
              "#f0f921"
             ]
            ],
            "type": "histogram2dcontour"
           }
          ],
          "mesh3d": [
           {
            "colorbar": {
             "outlinewidth": 0,
             "ticks": ""
            },
            "type": "mesh3d"
           }
          ],
          "parcoords": [
           {
            "line": {
             "colorbar": {
              "outlinewidth": 0,
              "ticks": ""
             }
            },
            "type": "parcoords"
           }
          ],
          "pie": [
           {
            "automargin": true,
            "type": "pie"
           }
          ],
          "scatter": [
           {
            "fillpattern": {
             "fillmode": "overlay",
             "size": 10,
             "solidity": 0.2
            },
            "type": "scatter"
           }
          ],
          "scatter3d": [
           {
            "line": {
             "colorbar": {
              "outlinewidth": 0,
              "ticks": ""
             }
            },
            "marker": {
             "colorbar": {
              "outlinewidth": 0,
              "ticks": ""
             }
            },
            "type": "scatter3d"
           }
          ],
          "scattercarpet": [
           {
            "marker": {
             "colorbar": {
              "outlinewidth": 0,
              "ticks": ""
             }
            },
            "type": "scattercarpet"
           }
          ],
          "scattergeo": [
           {
            "marker": {
             "colorbar": {
              "outlinewidth": 0,
              "ticks": ""
             }
            },
            "type": "scattergeo"
           }
          ],
          "scattergl": [
           {
            "marker": {
             "colorbar": {
              "outlinewidth": 0,
              "ticks": ""
             }
            },
            "type": "scattergl"
           }
          ],
          "scattermapbox": [
           {
            "marker": {
             "colorbar": {
              "outlinewidth": 0,
              "ticks": ""
             }
            },
            "type": "scattermapbox"
           }
          ],
          "scatterpolar": [
           {
            "marker": {
             "colorbar": {
              "outlinewidth": 0,
              "ticks": ""
             }
            },
            "type": "scatterpolar"
           }
          ],
          "scatterpolargl": [
           {
            "marker": {
             "colorbar": {
              "outlinewidth": 0,
              "ticks": ""
             }
            },
            "type": "scatterpolargl"
           }
          ],
          "scatterternary": [
           {
            "marker": {
             "colorbar": {
              "outlinewidth": 0,
              "ticks": ""
             }
            },
            "type": "scatterternary"
           }
          ],
          "surface": [
           {
            "colorbar": {
             "outlinewidth": 0,
             "ticks": ""
            },
            "colorscale": [
             [
              0,
              "#0d0887"
             ],
             [
              0.1111111111111111,
              "#46039f"
             ],
             [
              0.2222222222222222,
              "#7201a8"
             ],
             [
              0.3333333333333333,
              "#9c179e"
             ],
             [
              0.4444444444444444,
              "#bd3786"
             ],
             [
              0.5555555555555556,
              "#d8576b"
             ],
             [
              0.6666666666666666,
              "#ed7953"
             ],
             [
              0.7777777777777778,
              "#fb9f3a"
             ],
             [
              0.8888888888888888,
              "#fdca26"
             ],
             [
              1,
              "#f0f921"
             ]
            ],
            "type": "surface"
           }
          ],
          "table": [
           {
            "cells": {
             "fill": {
              "color": "#EBF0F8"
             },
             "line": {
              "color": "white"
             }
            },
            "header": {
             "fill": {
              "color": "#C8D4E3"
             },
             "line": {
              "color": "white"
             }
            },
            "type": "table"
           }
          ]
         },
         "layout": {
          "annotationdefaults": {
           "arrowcolor": "#2a3f5f",
           "arrowhead": 0,
           "arrowwidth": 1
          },
          "autotypenumbers": "strict",
          "coloraxis": {
           "colorbar": {
            "outlinewidth": 0,
            "ticks": ""
           }
          },
          "colorscale": {
           "diverging": [
            [
             0,
             "#8e0152"
            ],
            [
             0.1,
             "#c51b7d"
            ],
            [
             0.2,
             "#de77ae"
            ],
            [
             0.3,
             "#f1b6da"
            ],
            [
             0.4,
             "#fde0ef"
            ],
            [
             0.5,
             "#f7f7f7"
            ],
            [
             0.6,
             "#e6f5d0"
            ],
            [
             0.7,
             "#b8e186"
            ],
            [
             0.8,
             "#7fbc41"
            ],
            [
             0.9,
             "#4d9221"
            ],
            [
             1,
             "#276419"
            ]
           ],
           "sequential": [
            [
             0,
             "#0d0887"
            ],
            [
             0.1111111111111111,
             "#46039f"
            ],
            [
             0.2222222222222222,
             "#7201a8"
            ],
            [
             0.3333333333333333,
             "#9c179e"
            ],
            [
             0.4444444444444444,
             "#bd3786"
            ],
            [
             0.5555555555555556,
             "#d8576b"
            ],
            [
             0.6666666666666666,
             "#ed7953"
            ],
            [
             0.7777777777777778,
             "#fb9f3a"
            ],
            [
             0.8888888888888888,
             "#fdca26"
            ],
            [
             1,
             "#f0f921"
            ]
           ],
           "sequentialminus": [
            [
             0,
             "#0d0887"
            ],
            [
             0.1111111111111111,
             "#46039f"
            ],
            [
             0.2222222222222222,
             "#7201a8"
            ],
            [
             0.3333333333333333,
             "#9c179e"
            ],
            [
             0.4444444444444444,
             "#bd3786"
            ],
            [
             0.5555555555555556,
             "#d8576b"
            ],
            [
             0.6666666666666666,
             "#ed7953"
            ],
            [
             0.7777777777777778,
             "#fb9f3a"
            ],
            [
             0.8888888888888888,
             "#fdca26"
            ],
            [
             1,
             "#f0f921"
            ]
           ]
          },
          "colorway": [
           "#636efa",
           "#EF553B",
           "#00cc96",
           "#ab63fa",
           "#FFA15A",
           "#19d3f3",
           "#FF6692",
           "#B6E880",
           "#FF97FF",
           "#FECB52"
          ],
          "font": {
           "color": "#2a3f5f"
          },
          "geo": {
           "bgcolor": "white",
           "lakecolor": "white",
           "landcolor": "#E5ECF6",
           "showlakes": true,
           "showland": true,
           "subunitcolor": "white"
          },
          "hoverlabel": {
           "align": "left"
          },
          "hovermode": "closest",
          "mapbox": {
           "style": "light"
          },
          "paper_bgcolor": "white",
          "plot_bgcolor": "#E5ECF6",
          "polar": {
           "angularaxis": {
            "gridcolor": "white",
            "linecolor": "white",
            "ticks": ""
           },
           "bgcolor": "#E5ECF6",
           "radialaxis": {
            "gridcolor": "white",
            "linecolor": "white",
            "ticks": ""
           }
          },
          "scene": {
           "xaxis": {
            "backgroundcolor": "#E5ECF6",
            "gridcolor": "white",
            "gridwidth": 2,
            "linecolor": "white",
            "showbackground": true,
            "ticks": "",
            "zerolinecolor": "white"
           },
           "yaxis": {
            "backgroundcolor": "#E5ECF6",
            "gridcolor": "white",
            "gridwidth": 2,
            "linecolor": "white",
            "showbackground": true,
            "ticks": "",
            "zerolinecolor": "white"
           },
           "zaxis": {
            "backgroundcolor": "#E5ECF6",
            "gridcolor": "white",
            "gridwidth": 2,
            "linecolor": "white",
            "showbackground": true,
            "ticks": "",
            "zerolinecolor": "white"
           }
          },
          "shapedefaults": {
           "line": {
            "color": "#2a3f5f"
           }
          },
          "ternary": {
           "aaxis": {
            "gridcolor": "white",
            "linecolor": "white",
            "ticks": ""
           },
           "baxis": {
            "gridcolor": "white",
            "linecolor": "white",
            "ticks": ""
           },
           "bgcolor": "#E5ECF6",
           "caxis": {
            "gridcolor": "white",
            "linecolor": "white",
            "ticks": ""
           }
          },
          "title": {
           "x": 0.05
          },
          "xaxis": {
           "automargin": true,
           "gridcolor": "white",
           "linecolor": "white",
           "ticks": "",
           "title": {
            "standoff": 15
           },
           "zerolinecolor": "white",
           "zerolinewidth": 2
          },
          "yaxis": {
           "automargin": true,
           "gridcolor": "white",
           "linecolor": "white",
           "ticks": "",
           "title": {
            "standoff": 15
           },
           "zerolinecolor": "white",
           "zerolinewidth": 2
          }
         }
        },
        "title": {
         "font": {
          "color": "#4D5663"
         }
        },
        "xaxis": {
         "gridcolor": "#E1E5ED",
         "showgrid": true,
         "tickfont": {
          "color": "#4D5663"
         },
         "title": {
          "font": {
           "color": "#4D5663"
          },
          "text": ""
         },
         "zerolinecolor": "#E1E5ED"
        },
        "yaxis": {
         "gridcolor": "#E1E5ED",
         "showgrid": true,
         "tickfont": {
          "color": "#4D5663"
         },
         "title": {
          "font": {
           "color": "#4D5663"
          },
          "text": ""
         },
         "zerolinecolor": "#E1E5ED"
        }
       }
      },
      "text/html": [
       "<div>                            <div id=\"6477ae94-255f-4cbc-8a8d-f059bb1f87b3\" class=\"plotly-graph-div\" style=\"height:525px; width:100%;\"></div>            <script type=\"text/javascript\">                require([\"plotly\"], function(Plotly) {                    window.PLOTLYENV=window.PLOTLYENV || {};\n",
       "                    window.PLOTLYENV.BASE_URL='https://plot.ly';                                    if (document.getElementById(\"6477ae94-255f-4cbc-8a8d-f059bb1f87b3\")) {                    Plotly.newPlot(                        \"6477ae94-255f-4cbc-8a8d-f059bb1f87b3\",                        [{\"line\":{\"color\":\"rgba(255, 153, 51, 1.0)\",\"dash\":\"solid\",\"shape\":\"linear\",\"width\":1.3},\"marker\":{\"size\":10,\"symbol\":\"circle\"},\"mode\":\"markers\",\"name\":\"B\",\"text\":\"\",\"x\":[0.15387951566040683,2.181248765458232,-0.13566587094592006,2.5826373196933714,1.6784225961066819,-0.16299128101973356,-0.17874297565492092,0.48903983504613824,-0.050245207821652656,-0.21504123172855624,-0.9579247028153586,-0.9893440631800207,-0.5545866030923471,-0.729196183556216,-2.1468969108658733,1.443650242734995,0.9090913732870752,0.16199268989531002,-0.9466477932939458,0.35055814554620657,-0.21162327402463743,0.6365749108453906,-0.3836843220449782,1.0035932100576173,-0.6335239904754568,0.8596977337897347,0.4447230070289421,-1.2523804891664259,-0.13451250405916465,-0.5780800680607079,-0.2450155534501923,-0.9832040367280465,-0.23809181759312123,-0.34116672085694183,-0.8558574974421355,1.699621211172324,-1.0103056803776571,-0.8897721763689249,0.9747541077716472,0.2733325155193339,-2.3269122184399578,-0.3725394679542613,-1.1036867869571978,-0.1352555301863368,-1.1509761019037328,-1.2187335433615616,0.05506999604218593,-0.10228406176818654,1.2778340337032956,-1.6499243125727343,0.2584083064742115,0.022789195090183578,-0.05469858920966472,0.6934335354023595,-0.3582243331584894,-0.6762481063753567,-2.6093883903092228,0.08746280693315048,0.7907999135080389,-0.016400209655702606,-1.020020479062982,1.062252800413191,0.06000472648461456,-0.5751331128737663,0.7283756600309553,0.1828699910324269,-0.15630554197630672,-1.864294517478185,-0.05583743965754278,-1.3671415114751497,-0.2859607383869635,0.49472919490075573,-0.35969076601765726,0.9720742091395949,-0.11590515837531183,0.39360624198567107,0.7839283888154851,-1.177254142345938,0.8315862249829457,-1.1865453897625722,1.29698117990059,0.8766686456478701,0.7043101490622228,0.34654329113273163,0.009958136649100556,-1.134745510635879,0.0785083179815372,-1.8470364158934645,-0.4875047829676378,-0.735646683248686,-1.316475374019799,1.3776811867196217,-1.321076206512763,0.45445257779186266,2.5370214104573803,0.5769179650580939,0.4222801389522976,-0.5517893605255988,-0.30363543870509463,-0.33995824148450854],\"y\":[0.2083619918066731,-0.007445592501653823,0.013438670371493154,-1.1402200714610695,-1.0037282728945376,-1.7796940522845184,1.4005425881113962,-0.12409065370077918,0.4452116013367775,-0.33569644713285623,0.9193071025427763,0.3170284786129296,0.13430335146684186,0.7787044216687309,0.21450459241797218,-1.5092666232396665,0.7919886424619987,-0.1927552256597784,0.1407274967059369,0.913396235037004,-0.39175435019456206,-0.5407190613207937,-1.129410685739879,-0.7073325132739956,-0.1202465665969558,-1.2835242588380795,-0.37277920098249084,0.40015445605057215,-0.40024857144059733,-0.6379169763897673,-0.2866340398118274,0.06139895861208848,-2.252517714720179,0.5457545446741421,1.1544587442506151,-0.6168270294189658,-0.3630037900029631,-1.2010279486365256,-0.7653438306648163,-0.11053318751770316,0.38388124646772853,-1.2674203103987471,0.0028399536666268025,-1.5494254508705259,2.095749715307753,-0.5641187149411993,0.34709305987418854,0.6236619982195952,-0.08063942778001149,0.08689494745775367,-1.2433803804032548,0.17159566961706876,-0.0032167099066127717,0.11739239250666493,0.38951736549480986,-1.0280734833091218,-0.4800090749698621,0.5740201552456949,-1.2084516763572983,0.7238828648723517,2.2005364752879752,0.15802727378773124,0.32649568568896786,-2.7143738424005797,0.38341951411432434,1.116813227600596,-0.01989660137589359,1.8878704671898408,-0.6405584469147696,-2.3590894870123007,-0.8715844322342543,-1.4398225910640223,1.3363221386595507,1.8283221642713612,-1.1084543823687798,-0.9822653578380953,-0.6494889734849333,-0.3426015797521599,-0.6837935756698565,0.6076716337813307,0.33659591669323224,0.4269690302146352,-0.9343729078118749,0.02124021733474761,-0.8433181262016681,-1.6579278057042166,1.0367687781471089,-0.508413311460955,1.039475592623558,-0.23178447064330665,0.0724413119156897,0.3487934006331482,1.4631758122581195,-1.9585115623098048,0.05495266418138907,0.01997126586927419,0.19730602361652821,-0.07707793518496193,1.2635910163603281,-1.575182626460573],\"type\":\"scatter\"}],                        {\"legend\":{\"bgcolor\":\"#F5F6F9\",\"font\":{\"color\":\"#4D5663\"}},\"paper_bgcolor\":\"#F5F6F9\",\"plot_bgcolor\":\"#F5F6F9\",\"template\":{\"data\":{\"barpolar\":[{\"marker\":{\"line\":{\"color\":\"#E5ECF6\",\"width\":0.5},\"pattern\":{\"fillmode\":\"overlay\",\"size\":10,\"solidity\":0.2}},\"type\":\"barpolar\"}],\"bar\":[{\"error_x\":{\"color\":\"#2a3f5f\"},\"error_y\":{\"color\":\"#2a3f5f\"},\"marker\":{\"line\":{\"color\":\"#E5ECF6\",\"width\":0.5},\"pattern\":{\"fillmode\":\"overlay\",\"size\":10,\"solidity\":0.2}},\"type\":\"bar\"}],\"carpet\":[{\"aaxis\":{\"endlinecolor\":\"#2a3f5f\",\"gridcolor\":\"white\",\"linecolor\":\"white\",\"minorgridcolor\":\"white\",\"startlinecolor\":\"#2a3f5f\"},\"baxis\":{\"endlinecolor\":\"#2a3f5f\",\"gridcolor\":\"white\",\"linecolor\":\"white\",\"minorgridcolor\":\"white\",\"startlinecolor\":\"#2a3f5f\"},\"type\":\"carpet\"}],\"choropleth\":[{\"colorbar\":{\"outlinewidth\":0,\"ticks\":\"\"},\"type\":\"choropleth\"}],\"contourcarpet\":[{\"colorbar\":{\"outlinewidth\":0,\"ticks\":\"\"},\"type\":\"contourcarpet\"}],\"contour\":[{\"colorbar\":{\"outlinewidth\":0,\"ticks\":\"\"},\"colorscale\":[[0.0,\"#0d0887\"],[0.1111111111111111,\"#46039f\"],[0.2222222222222222,\"#7201a8\"],[0.3333333333333333,\"#9c179e\"],[0.4444444444444444,\"#bd3786\"],[0.5555555555555556,\"#d8576b\"],[0.6666666666666666,\"#ed7953\"],[0.7777777777777778,\"#fb9f3a\"],[0.8888888888888888,\"#fdca26\"],[1.0,\"#f0f921\"]],\"type\":\"contour\"}],\"heatmapgl\":[{\"colorbar\":{\"outlinewidth\":0,\"ticks\":\"\"},\"colorscale\":[[0.0,\"#0d0887\"],[0.1111111111111111,\"#46039f\"],[0.2222222222222222,\"#7201a8\"],[0.3333333333333333,\"#9c179e\"],[0.4444444444444444,\"#bd3786\"],[0.5555555555555556,\"#d8576b\"],[0.6666666666666666,\"#ed7953\"],[0.7777777777777778,\"#fb9f3a\"],[0.8888888888888888,\"#fdca26\"],[1.0,\"#f0f921\"]],\"type\":\"heatmapgl\"}],\"heatmap\":[{\"colorbar\":{\"outlinewidth\":0,\"ticks\":\"\"},\"colorscale\":[[0.0,\"#0d0887\"],[0.1111111111111111,\"#46039f\"],[0.2222222222222222,\"#7201a8\"],[0.3333333333333333,\"#9c179e\"],[0.4444444444444444,\"#bd3786\"],[0.5555555555555556,\"#d8576b\"],[0.6666666666666666,\"#ed7953\"],[0.7777777777777778,\"#fb9f3a\"],[0.8888888888888888,\"#fdca26\"],[1.0,\"#f0f921\"]],\"type\":\"heatmap\"}],\"histogram2dcontour\":[{\"colorbar\":{\"outlinewidth\":0,\"ticks\":\"\"},\"colorscale\":[[0.0,\"#0d0887\"],[0.1111111111111111,\"#46039f\"],[0.2222222222222222,\"#7201a8\"],[0.3333333333333333,\"#9c179e\"],[0.4444444444444444,\"#bd3786\"],[0.5555555555555556,\"#d8576b\"],[0.6666666666666666,\"#ed7953\"],[0.7777777777777778,\"#fb9f3a\"],[0.8888888888888888,\"#fdca26\"],[1.0,\"#f0f921\"]],\"type\":\"histogram2dcontour\"}],\"histogram2d\":[{\"colorbar\":{\"outlinewidth\":0,\"ticks\":\"\"},\"colorscale\":[[0.0,\"#0d0887\"],[0.1111111111111111,\"#46039f\"],[0.2222222222222222,\"#7201a8\"],[0.3333333333333333,\"#9c179e\"],[0.4444444444444444,\"#bd3786\"],[0.5555555555555556,\"#d8576b\"],[0.6666666666666666,\"#ed7953\"],[0.7777777777777778,\"#fb9f3a\"],[0.8888888888888888,\"#fdca26\"],[1.0,\"#f0f921\"]],\"type\":\"histogram2d\"}],\"histogram\":[{\"marker\":{\"pattern\":{\"fillmode\":\"overlay\",\"size\":10,\"solidity\":0.2}},\"type\":\"histogram\"}],\"mesh3d\":[{\"colorbar\":{\"outlinewidth\":0,\"ticks\":\"\"},\"type\":\"mesh3d\"}],\"parcoords\":[{\"line\":{\"colorbar\":{\"outlinewidth\":0,\"ticks\":\"\"}},\"type\":\"parcoords\"}],\"pie\":[{\"automargin\":true,\"type\":\"pie\"}],\"scatter3d\":[{\"line\":{\"colorbar\":{\"outlinewidth\":0,\"ticks\":\"\"}},\"marker\":{\"colorbar\":{\"outlinewidth\":0,\"ticks\":\"\"}},\"type\":\"scatter3d\"}],\"scattercarpet\":[{\"marker\":{\"colorbar\":{\"outlinewidth\":0,\"ticks\":\"\"}},\"type\":\"scattercarpet\"}],\"scattergeo\":[{\"marker\":{\"colorbar\":{\"outlinewidth\":0,\"ticks\":\"\"}},\"type\":\"scattergeo\"}],\"scattergl\":[{\"marker\":{\"colorbar\":{\"outlinewidth\":0,\"ticks\":\"\"}},\"type\":\"scattergl\"}],\"scattermapbox\":[{\"marker\":{\"colorbar\":{\"outlinewidth\":0,\"ticks\":\"\"}},\"type\":\"scattermapbox\"}],\"scatterpolargl\":[{\"marker\":{\"colorbar\":{\"outlinewidth\":0,\"ticks\":\"\"}},\"type\":\"scatterpolargl\"}],\"scatterpolar\":[{\"marker\":{\"colorbar\":{\"outlinewidth\":0,\"ticks\":\"\"}},\"type\":\"scatterpolar\"}],\"scatter\":[{\"fillpattern\":{\"fillmode\":\"overlay\",\"size\":10,\"solidity\":0.2},\"type\":\"scatter\"}],\"scatterternary\":[{\"marker\":{\"colorbar\":{\"outlinewidth\":0,\"ticks\":\"\"}},\"type\":\"scatterternary\"}],\"surface\":[{\"colorbar\":{\"outlinewidth\":0,\"ticks\":\"\"},\"colorscale\":[[0.0,\"#0d0887\"],[0.1111111111111111,\"#46039f\"],[0.2222222222222222,\"#7201a8\"],[0.3333333333333333,\"#9c179e\"],[0.4444444444444444,\"#bd3786\"],[0.5555555555555556,\"#d8576b\"],[0.6666666666666666,\"#ed7953\"],[0.7777777777777778,\"#fb9f3a\"],[0.8888888888888888,\"#fdca26\"],[1.0,\"#f0f921\"]],\"type\":\"surface\"}],\"table\":[{\"cells\":{\"fill\":{\"color\":\"#EBF0F8\"},\"line\":{\"color\":\"white\"}},\"header\":{\"fill\":{\"color\":\"#C8D4E3\"},\"line\":{\"color\":\"white\"}},\"type\":\"table\"}]},\"layout\":{\"annotationdefaults\":{\"arrowcolor\":\"#2a3f5f\",\"arrowhead\":0,\"arrowwidth\":1},\"autotypenumbers\":\"strict\",\"coloraxis\":{\"colorbar\":{\"outlinewidth\":0,\"ticks\":\"\"}},\"colorscale\":{\"diverging\":[[0,\"#8e0152\"],[0.1,\"#c51b7d\"],[0.2,\"#de77ae\"],[0.3,\"#f1b6da\"],[0.4,\"#fde0ef\"],[0.5,\"#f7f7f7\"],[0.6,\"#e6f5d0\"],[0.7,\"#b8e186\"],[0.8,\"#7fbc41\"],[0.9,\"#4d9221\"],[1,\"#276419\"]],\"sequential\":[[0.0,\"#0d0887\"],[0.1111111111111111,\"#46039f\"],[0.2222222222222222,\"#7201a8\"],[0.3333333333333333,\"#9c179e\"],[0.4444444444444444,\"#bd3786\"],[0.5555555555555556,\"#d8576b\"],[0.6666666666666666,\"#ed7953\"],[0.7777777777777778,\"#fb9f3a\"],[0.8888888888888888,\"#fdca26\"],[1.0,\"#f0f921\"]],\"sequentialminus\":[[0.0,\"#0d0887\"],[0.1111111111111111,\"#46039f\"],[0.2222222222222222,\"#7201a8\"],[0.3333333333333333,\"#9c179e\"],[0.4444444444444444,\"#bd3786\"],[0.5555555555555556,\"#d8576b\"],[0.6666666666666666,\"#ed7953\"],[0.7777777777777778,\"#fb9f3a\"],[0.8888888888888888,\"#fdca26\"],[1.0,\"#f0f921\"]]},\"colorway\":[\"#636efa\",\"#EF553B\",\"#00cc96\",\"#ab63fa\",\"#FFA15A\",\"#19d3f3\",\"#FF6692\",\"#B6E880\",\"#FF97FF\",\"#FECB52\"],\"font\":{\"color\":\"#2a3f5f\"},\"geo\":{\"bgcolor\":\"white\",\"lakecolor\":\"white\",\"landcolor\":\"#E5ECF6\",\"showlakes\":true,\"showland\":true,\"subunitcolor\":\"white\"},\"hoverlabel\":{\"align\":\"left\"},\"hovermode\":\"closest\",\"mapbox\":{\"style\":\"light\"},\"paper_bgcolor\":\"white\",\"plot_bgcolor\":\"#E5ECF6\",\"polar\":{\"angularaxis\":{\"gridcolor\":\"white\",\"linecolor\":\"white\",\"ticks\":\"\"},\"bgcolor\":\"#E5ECF6\",\"radialaxis\":{\"gridcolor\":\"white\",\"linecolor\":\"white\",\"ticks\":\"\"}},\"scene\":{\"xaxis\":{\"backgroundcolor\":\"#E5ECF6\",\"gridcolor\":\"white\",\"gridwidth\":2,\"linecolor\":\"white\",\"showbackground\":true,\"ticks\":\"\",\"zerolinecolor\":\"white\"},\"yaxis\":{\"backgroundcolor\":\"#E5ECF6\",\"gridcolor\":\"white\",\"gridwidth\":2,\"linecolor\":\"white\",\"showbackground\":true,\"ticks\":\"\",\"zerolinecolor\":\"white\"},\"zaxis\":{\"backgroundcolor\":\"#E5ECF6\",\"gridcolor\":\"white\",\"gridwidth\":2,\"linecolor\":\"white\",\"showbackground\":true,\"ticks\":\"\",\"zerolinecolor\":\"white\"}},\"shapedefaults\":{\"line\":{\"color\":\"#2a3f5f\"}},\"ternary\":{\"aaxis\":{\"gridcolor\":\"white\",\"linecolor\":\"white\",\"ticks\":\"\"},\"baxis\":{\"gridcolor\":\"white\",\"linecolor\":\"white\",\"ticks\":\"\"},\"bgcolor\":\"#E5ECF6\",\"caxis\":{\"gridcolor\":\"white\",\"linecolor\":\"white\",\"ticks\":\"\"}},\"title\":{\"x\":0.05},\"xaxis\":{\"automargin\":true,\"gridcolor\":\"white\",\"linecolor\":\"white\",\"ticks\":\"\",\"title\":{\"standoff\":15},\"zerolinecolor\":\"white\",\"zerolinewidth\":2},\"yaxis\":{\"automargin\":true,\"gridcolor\":\"white\",\"linecolor\":\"white\",\"ticks\":\"\",\"title\":{\"standoff\":15},\"zerolinecolor\":\"white\",\"zerolinewidth\":2}}},\"title\":{\"font\":{\"color\":\"#4D5663\"}},\"xaxis\":{\"gridcolor\":\"#E1E5ED\",\"showgrid\":true,\"tickfont\":{\"color\":\"#4D5663\"},\"title\":{\"font\":{\"color\":\"#4D5663\"},\"text\":\"\"},\"zerolinecolor\":\"#E1E5ED\"},\"yaxis\":{\"gridcolor\":\"#E1E5ED\",\"showgrid\":true,\"tickfont\":{\"color\":\"#4D5663\"},\"title\":{\"font\":{\"color\":\"#4D5663\"},\"text\":\"\"},\"zerolinecolor\":\"#E1E5ED\"}},                        {\"showLink\": true, \"linkText\": \"Export to plot.ly\", \"plotlyServerURL\": \"https://plot.ly\", \"responsive\": true}                    ).then(function(){\n",
       "                            \n",
       "var gd = document.getElementById('6477ae94-255f-4cbc-8a8d-f059bb1f87b3');\n",
       "var x = new MutationObserver(function (mutations, observer) {{\n",
       "        var display = window.getComputedStyle(gd).display;\n",
       "        if (!display || display === 'none') {{\n",
       "            console.log([gd, 'removed!']);\n",
       "            Plotly.purge(gd);\n",
       "            observer.disconnect();\n",
       "        }}\n",
       "}});\n",
       "\n",
       "// Listen for the removal of the full notebook cells\n",
       "var notebookContainer = gd.closest('#notebook-container');\n",
       "if (notebookContainer) {{\n",
       "    x.observe(notebookContainer, {childList: true});\n",
       "}}\n",
       "\n",
       "// Listen for the clearing of the current output cell\n",
       "var outputEl = gd.closest('.output');\n",
       "if (outputEl) {{\n",
       "    x.observe(outputEl, {childList: true});\n",
       "}}\n",
       "\n",
       "                        })                };                });            </script>        </div>"
      ]
     },
     "metadata": {},
     "output_type": "display_data"
    }
   ],
   "source": [
    "df.iplot(kind='scatter',x='A',y='B',mode='markers',size=10)"
   ]
  },
  {
   "cell_type": "code",
   "execution_count": 14,
   "id": "1d8bd2f3",
   "metadata": {},
   "outputs": [
    {
     "data": {
      "application/vnd.plotly.v1+json": {
       "config": {
        "linkText": "Export to plot.ly",
        "plotlyServerURL": "https://plot.ly",
        "showLink": true
       },
       "data": [
        {
         "marker": {
          "color": "rgba(255, 153, 51, 0.6)",
          "line": {
           "color": "rgba(255, 153, 51, 1.0)",
           "width": 1
          }
         },
         "name": "Values",
         "orientation": "v",
         "text": "",
         "type": "bar",
         "x": [
          "A",
          "B",
          "C"
         ],
         "y": [
          32,
          43,
          50
         ]
        }
       ],
       "layout": {
        "legend": {
         "bgcolor": "#F5F6F9",
         "font": {
          "color": "#4D5663"
         }
        },
        "paper_bgcolor": "#F5F6F9",
        "plot_bgcolor": "#F5F6F9",
        "template": {
         "data": {
          "bar": [
           {
            "error_x": {
             "color": "#2a3f5f"
            },
            "error_y": {
             "color": "#2a3f5f"
            },
            "marker": {
             "line": {
              "color": "#E5ECF6",
              "width": 0.5
             },
             "pattern": {
              "fillmode": "overlay",
              "size": 10,
              "solidity": 0.2
             }
            },
            "type": "bar"
           }
          ],
          "barpolar": [
           {
            "marker": {
             "line": {
              "color": "#E5ECF6",
              "width": 0.5
             },
             "pattern": {
              "fillmode": "overlay",
              "size": 10,
              "solidity": 0.2
             }
            },
            "type": "barpolar"
           }
          ],
          "carpet": [
           {
            "aaxis": {
             "endlinecolor": "#2a3f5f",
             "gridcolor": "white",
             "linecolor": "white",
             "minorgridcolor": "white",
             "startlinecolor": "#2a3f5f"
            },
            "baxis": {
             "endlinecolor": "#2a3f5f",
             "gridcolor": "white",
             "linecolor": "white",
             "minorgridcolor": "white",
             "startlinecolor": "#2a3f5f"
            },
            "type": "carpet"
           }
          ],
          "choropleth": [
           {
            "colorbar": {
             "outlinewidth": 0,
             "ticks": ""
            },
            "type": "choropleth"
           }
          ],
          "contour": [
           {
            "colorbar": {
             "outlinewidth": 0,
             "ticks": ""
            },
            "colorscale": [
             [
              0,
              "#0d0887"
             ],
             [
              0.1111111111111111,
              "#46039f"
             ],
             [
              0.2222222222222222,
              "#7201a8"
             ],
             [
              0.3333333333333333,
              "#9c179e"
             ],
             [
              0.4444444444444444,
              "#bd3786"
             ],
             [
              0.5555555555555556,
              "#d8576b"
             ],
             [
              0.6666666666666666,
              "#ed7953"
             ],
             [
              0.7777777777777778,
              "#fb9f3a"
             ],
             [
              0.8888888888888888,
              "#fdca26"
             ],
             [
              1,
              "#f0f921"
             ]
            ],
            "type": "contour"
           }
          ],
          "contourcarpet": [
           {
            "colorbar": {
             "outlinewidth": 0,
             "ticks": ""
            },
            "type": "contourcarpet"
           }
          ],
          "heatmap": [
           {
            "colorbar": {
             "outlinewidth": 0,
             "ticks": ""
            },
            "colorscale": [
             [
              0,
              "#0d0887"
             ],
             [
              0.1111111111111111,
              "#46039f"
             ],
             [
              0.2222222222222222,
              "#7201a8"
             ],
             [
              0.3333333333333333,
              "#9c179e"
             ],
             [
              0.4444444444444444,
              "#bd3786"
             ],
             [
              0.5555555555555556,
              "#d8576b"
             ],
             [
              0.6666666666666666,
              "#ed7953"
             ],
             [
              0.7777777777777778,
              "#fb9f3a"
             ],
             [
              0.8888888888888888,
              "#fdca26"
             ],
             [
              1,
              "#f0f921"
             ]
            ],
            "type": "heatmap"
           }
          ],
          "heatmapgl": [
           {
            "colorbar": {
             "outlinewidth": 0,
             "ticks": ""
            },
            "colorscale": [
             [
              0,
              "#0d0887"
             ],
             [
              0.1111111111111111,
              "#46039f"
             ],
             [
              0.2222222222222222,
              "#7201a8"
             ],
             [
              0.3333333333333333,
              "#9c179e"
             ],
             [
              0.4444444444444444,
              "#bd3786"
             ],
             [
              0.5555555555555556,
              "#d8576b"
             ],
             [
              0.6666666666666666,
              "#ed7953"
             ],
             [
              0.7777777777777778,
              "#fb9f3a"
             ],
             [
              0.8888888888888888,
              "#fdca26"
             ],
             [
              1,
              "#f0f921"
             ]
            ],
            "type": "heatmapgl"
           }
          ],
          "histogram": [
           {
            "marker": {
             "pattern": {
              "fillmode": "overlay",
              "size": 10,
              "solidity": 0.2
             }
            },
            "type": "histogram"
           }
          ],
          "histogram2d": [
           {
            "colorbar": {
             "outlinewidth": 0,
             "ticks": ""
            },
            "colorscale": [
             [
              0,
              "#0d0887"
             ],
             [
              0.1111111111111111,
              "#46039f"
             ],
             [
              0.2222222222222222,
              "#7201a8"
             ],
             [
              0.3333333333333333,
              "#9c179e"
             ],
             [
              0.4444444444444444,
              "#bd3786"
             ],
             [
              0.5555555555555556,
              "#d8576b"
             ],
             [
              0.6666666666666666,
              "#ed7953"
             ],
             [
              0.7777777777777778,
              "#fb9f3a"
             ],
             [
              0.8888888888888888,
              "#fdca26"
             ],
             [
              1,
              "#f0f921"
             ]
            ],
            "type": "histogram2d"
           }
          ],
          "histogram2dcontour": [
           {
            "colorbar": {
             "outlinewidth": 0,
             "ticks": ""
            },
            "colorscale": [
             [
              0,
              "#0d0887"
             ],
             [
              0.1111111111111111,
              "#46039f"
             ],
             [
              0.2222222222222222,
              "#7201a8"
             ],
             [
              0.3333333333333333,
              "#9c179e"
             ],
             [
              0.4444444444444444,
              "#bd3786"
             ],
             [
              0.5555555555555556,
              "#d8576b"
             ],
             [
              0.6666666666666666,
              "#ed7953"
             ],
             [
              0.7777777777777778,
              "#fb9f3a"
             ],
             [
              0.8888888888888888,
              "#fdca26"
             ],
             [
              1,
              "#f0f921"
             ]
            ],
            "type": "histogram2dcontour"
           }
          ],
          "mesh3d": [
           {
            "colorbar": {
             "outlinewidth": 0,
             "ticks": ""
            },
            "type": "mesh3d"
           }
          ],
          "parcoords": [
           {
            "line": {
             "colorbar": {
              "outlinewidth": 0,
              "ticks": ""
             }
            },
            "type": "parcoords"
           }
          ],
          "pie": [
           {
            "automargin": true,
            "type": "pie"
           }
          ],
          "scatter": [
           {
            "fillpattern": {
             "fillmode": "overlay",
             "size": 10,
             "solidity": 0.2
            },
            "type": "scatter"
           }
          ],
          "scatter3d": [
           {
            "line": {
             "colorbar": {
              "outlinewidth": 0,
              "ticks": ""
             }
            },
            "marker": {
             "colorbar": {
              "outlinewidth": 0,
              "ticks": ""
             }
            },
            "type": "scatter3d"
           }
          ],
          "scattercarpet": [
           {
            "marker": {
             "colorbar": {
              "outlinewidth": 0,
              "ticks": ""
             }
            },
            "type": "scattercarpet"
           }
          ],
          "scattergeo": [
           {
            "marker": {
             "colorbar": {
              "outlinewidth": 0,
              "ticks": ""
             }
            },
            "type": "scattergeo"
           }
          ],
          "scattergl": [
           {
            "marker": {
             "colorbar": {
              "outlinewidth": 0,
              "ticks": ""
             }
            },
            "type": "scattergl"
           }
          ],
          "scattermapbox": [
           {
            "marker": {
             "colorbar": {
              "outlinewidth": 0,
              "ticks": ""
             }
            },
            "type": "scattermapbox"
           }
          ],
          "scatterpolar": [
           {
            "marker": {
             "colorbar": {
              "outlinewidth": 0,
              "ticks": ""
             }
            },
            "type": "scatterpolar"
           }
          ],
          "scatterpolargl": [
           {
            "marker": {
             "colorbar": {
              "outlinewidth": 0,
              "ticks": ""
             }
            },
            "type": "scatterpolargl"
           }
          ],
          "scatterternary": [
           {
            "marker": {
             "colorbar": {
              "outlinewidth": 0,
              "ticks": ""
             }
            },
            "type": "scatterternary"
           }
          ],
          "surface": [
           {
            "colorbar": {
             "outlinewidth": 0,
             "ticks": ""
            },
            "colorscale": [
             [
              0,
              "#0d0887"
             ],
             [
              0.1111111111111111,
              "#46039f"
             ],
             [
              0.2222222222222222,
              "#7201a8"
             ],
             [
              0.3333333333333333,
              "#9c179e"
             ],
             [
              0.4444444444444444,
              "#bd3786"
             ],
             [
              0.5555555555555556,
              "#d8576b"
             ],
             [
              0.6666666666666666,
              "#ed7953"
             ],
             [
              0.7777777777777778,
              "#fb9f3a"
             ],
             [
              0.8888888888888888,
              "#fdca26"
             ],
             [
              1,
              "#f0f921"
             ]
            ],
            "type": "surface"
           }
          ],
          "table": [
           {
            "cells": {
             "fill": {
              "color": "#EBF0F8"
             },
             "line": {
              "color": "white"
             }
            },
            "header": {
             "fill": {
              "color": "#C8D4E3"
             },
             "line": {
              "color": "white"
             }
            },
            "type": "table"
           }
          ]
         },
         "layout": {
          "annotationdefaults": {
           "arrowcolor": "#2a3f5f",
           "arrowhead": 0,
           "arrowwidth": 1
          },
          "autotypenumbers": "strict",
          "coloraxis": {
           "colorbar": {
            "outlinewidth": 0,
            "ticks": ""
           }
          },
          "colorscale": {
           "diverging": [
            [
             0,
             "#8e0152"
            ],
            [
             0.1,
             "#c51b7d"
            ],
            [
             0.2,
             "#de77ae"
            ],
            [
             0.3,
             "#f1b6da"
            ],
            [
             0.4,
             "#fde0ef"
            ],
            [
             0.5,
             "#f7f7f7"
            ],
            [
             0.6,
             "#e6f5d0"
            ],
            [
             0.7,
             "#b8e186"
            ],
            [
             0.8,
             "#7fbc41"
            ],
            [
             0.9,
             "#4d9221"
            ],
            [
             1,
             "#276419"
            ]
           ],
           "sequential": [
            [
             0,
             "#0d0887"
            ],
            [
             0.1111111111111111,
             "#46039f"
            ],
            [
             0.2222222222222222,
             "#7201a8"
            ],
            [
             0.3333333333333333,
             "#9c179e"
            ],
            [
             0.4444444444444444,
             "#bd3786"
            ],
            [
             0.5555555555555556,
             "#d8576b"
            ],
            [
             0.6666666666666666,
             "#ed7953"
            ],
            [
             0.7777777777777778,
             "#fb9f3a"
            ],
            [
             0.8888888888888888,
             "#fdca26"
            ],
            [
             1,
             "#f0f921"
            ]
           ],
           "sequentialminus": [
            [
             0,
             "#0d0887"
            ],
            [
             0.1111111111111111,
             "#46039f"
            ],
            [
             0.2222222222222222,
             "#7201a8"
            ],
            [
             0.3333333333333333,
             "#9c179e"
            ],
            [
             0.4444444444444444,
             "#bd3786"
            ],
            [
             0.5555555555555556,
             "#d8576b"
            ],
            [
             0.6666666666666666,
             "#ed7953"
            ],
            [
             0.7777777777777778,
             "#fb9f3a"
            ],
            [
             0.8888888888888888,
             "#fdca26"
            ],
            [
             1,
             "#f0f921"
            ]
           ]
          },
          "colorway": [
           "#636efa",
           "#EF553B",
           "#00cc96",
           "#ab63fa",
           "#FFA15A",
           "#19d3f3",
           "#FF6692",
           "#B6E880",
           "#FF97FF",
           "#FECB52"
          ],
          "font": {
           "color": "#2a3f5f"
          },
          "geo": {
           "bgcolor": "white",
           "lakecolor": "white",
           "landcolor": "#E5ECF6",
           "showlakes": true,
           "showland": true,
           "subunitcolor": "white"
          },
          "hoverlabel": {
           "align": "left"
          },
          "hovermode": "closest",
          "mapbox": {
           "style": "light"
          },
          "paper_bgcolor": "white",
          "plot_bgcolor": "#E5ECF6",
          "polar": {
           "angularaxis": {
            "gridcolor": "white",
            "linecolor": "white",
            "ticks": ""
           },
           "bgcolor": "#E5ECF6",
           "radialaxis": {
            "gridcolor": "white",
            "linecolor": "white",
            "ticks": ""
           }
          },
          "scene": {
           "xaxis": {
            "backgroundcolor": "#E5ECF6",
            "gridcolor": "white",
            "gridwidth": 2,
            "linecolor": "white",
            "showbackground": true,
            "ticks": "",
            "zerolinecolor": "white"
           },
           "yaxis": {
            "backgroundcolor": "#E5ECF6",
            "gridcolor": "white",
            "gridwidth": 2,
            "linecolor": "white",
            "showbackground": true,
            "ticks": "",
            "zerolinecolor": "white"
           },
           "zaxis": {
            "backgroundcolor": "#E5ECF6",
            "gridcolor": "white",
            "gridwidth": 2,
            "linecolor": "white",
            "showbackground": true,
            "ticks": "",
            "zerolinecolor": "white"
           }
          },
          "shapedefaults": {
           "line": {
            "color": "#2a3f5f"
           }
          },
          "ternary": {
           "aaxis": {
            "gridcolor": "white",
            "linecolor": "white",
            "ticks": ""
           },
           "baxis": {
            "gridcolor": "white",
            "linecolor": "white",
            "ticks": ""
           },
           "bgcolor": "#E5ECF6",
           "caxis": {
            "gridcolor": "white",
            "linecolor": "white",
            "ticks": ""
           }
          },
          "title": {
           "x": 0.05
          },
          "xaxis": {
           "automargin": true,
           "gridcolor": "white",
           "linecolor": "white",
           "ticks": "",
           "title": {
            "standoff": 15
           },
           "zerolinecolor": "white",
           "zerolinewidth": 2
          },
          "yaxis": {
           "automargin": true,
           "gridcolor": "white",
           "linecolor": "white",
           "ticks": "",
           "title": {
            "standoff": 15
           },
           "zerolinecolor": "white",
           "zerolinewidth": 2
          }
         }
        },
        "title": {
         "font": {
          "color": "#4D5663"
         }
        },
        "xaxis": {
         "gridcolor": "#E1E5ED",
         "showgrid": true,
         "tickfont": {
          "color": "#4D5663"
         },
         "title": {
          "font": {
           "color": "#4D5663"
          },
          "text": ""
         },
         "zerolinecolor": "#E1E5ED"
        },
        "yaxis": {
         "gridcolor": "#E1E5ED",
         "showgrid": true,
         "tickfont": {
          "color": "#4D5663"
         },
         "title": {
          "font": {
           "color": "#4D5663"
          },
          "text": ""
         },
         "zerolinecolor": "#E1E5ED"
        }
       }
      },
      "text/html": [
       "<div>                            <div id=\"1563f877-eafe-47c7-a05f-018025bc64d4\" class=\"plotly-graph-div\" style=\"height:525px; width:100%;\"></div>            <script type=\"text/javascript\">                require([\"plotly\"], function(Plotly) {                    window.PLOTLYENV=window.PLOTLYENV || {};\n",
       "                    window.PLOTLYENV.BASE_URL='https://plot.ly';                                    if (document.getElementById(\"1563f877-eafe-47c7-a05f-018025bc64d4\")) {                    Plotly.newPlot(                        \"1563f877-eafe-47c7-a05f-018025bc64d4\",                        [{\"marker\":{\"color\":\"rgba(255, 153, 51, 0.6)\",\"line\":{\"color\":\"rgba(255, 153, 51, 1.0)\",\"width\":1}},\"name\":\"Values\",\"orientation\":\"v\",\"text\":\"\",\"x\":[\"A\",\"B\",\"C\"],\"y\":[32,43,50],\"type\":\"bar\"}],                        {\"legend\":{\"bgcolor\":\"#F5F6F9\",\"font\":{\"color\":\"#4D5663\"}},\"paper_bgcolor\":\"#F5F6F9\",\"plot_bgcolor\":\"#F5F6F9\",\"template\":{\"data\":{\"barpolar\":[{\"marker\":{\"line\":{\"color\":\"#E5ECF6\",\"width\":0.5},\"pattern\":{\"fillmode\":\"overlay\",\"size\":10,\"solidity\":0.2}},\"type\":\"barpolar\"}],\"bar\":[{\"error_x\":{\"color\":\"#2a3f5f\"},\"error_y\":{\"color\":\"#2a3f5f\"},\"marker\":{\"line\":{\"color\":\"#E5ECF6\",\"width\":0.5},\"pattern\":{\"fillmode\":\"overlay\",\"size\":10,\"solidity\":0.2}},\"type\":\"bar\"}],\"carpet\":[{\"aaxis\":{\"endlinecolor\":\"#2a3f5f\",\"gridcolor\":\"white\",\"linecolor\":\"white\",\"minorgridcolor\":\"white\",\"startlinecolor\":\"#2a3f5f\"},\"baxis\":{\"endlinecolor\":\"#2a3f5f\",\"gridcolor\":\"white\",\"linecolor\":\"white\",\"minorgridcolor\":\"white\",\"startlinecolor\":\"#2a3f5f\"},\"type\":\"carpet\"}],\"choropleth\":[{\"colorbar\":{\"outlinewidth\":0,\"ticks\":\"\"},\"type\":\"choropleth\"}],\"contourcarpet\":[{\"colorbar\":{\"outlinewidth\":0,\"ticks\":\"\"},\"type\":\"contourcarpet\"}],\"contour\":[{\"colorbar\":{\"outlinewidth\":0,\"ticks\":\"\"},\"colorscale\":[[0.0,\"#0d0887\"],[0.1111111111111111,\"#46039f\"],[0.2222222222222222,\"#7201a8\"],[0.3333333333333333,\"#9c179e\"],[0.4444444444444444,\"#bd3786\"],[0.5555555555555556,\"#d8576b\"],[0.6666666666666666,\"#ed7953\"],[0.7777777777777778,\"#fb9f3a\"],[0.8888888888888888,\"#fdca26\"],[1.0,\"#f0f921\"]],\"type\":\"contour\"}],\"heatmapgl\":[{\"colorbar\":{\"outlinewidth\":0,\"ticks\":\"\"},\"colorscale\":[[0.0,\"#0d0887\"],[0.1111111111111111,\"#46039f\"],[0.2222222222222222,\"#7201a8\"],[0.3333333333333333,\"#9c179e\"],[0.4444444444444444,\"#bd3786\"],[0.5555555555555556,\"#d8576b\"],[0.6666666666666666,\"#ed7953\"],[0.7777777777777778,\"#fb9f3a\"],[0.8888888888888888,\"#fdca26\"],[1.0,\"#f0f921\"]],\"type\":\"heatmapgl\"}],\"heatmap\":[{\"colorbar\":{\"outlinewidth\":0,\"ticks\":\"\"},\"colorscale\":[[0.0,\"#0d0887\"],[0.1111111111111111,\"#46039f\"],[0.2222222222222222,\"#7201a8\"],[0.3333333333333333,\"#9c179e\"],[0.4444444444444444,\"#bd3786\"],[0.5555555555555556,\"#d8576b\"],[0.6666666666666666,\"#ed7953\"],[0.7777777777777778,\"#fb9f3a\"],[0.8888888888888888,\"#fdca26\"],[1.0,\"#f0f921\"]],\"type\":\"heatmap\"}],\"histogram2dcontour\":[{\"colorbar\":{\"outlinewidth\":0,\"ticks\":\"\"},\"colorscale\":[[0.0,\"#0d0887\"],[0.1111111111111111,\"#46039f\"],[0.2222222222222222,\"#7201a8\"],[0.3333333333333333,\"#9c179e\"],[0.4444444444444444,\"#bd3786\"],[0.5555555555555556,\"#d8576b\"],[0.6666666666666666,\"#ed7953\"],[0.7777777777777778,\"#fb9f3a\"],[0.8888888888888888,\"#fdca26\"],[1.0,\"#f0f921\"]],\"type\":\"histogram2dcontour\"}],\"histogram2d\":[{\"colorbar\":{\"outlinewidth\":0,\"ticks\":\"\"},\"colorscale\":[[0.0,\"#0d0887\"],[0.1111111111111111,\"#46039f\"],[0.2222222222222222,\"#7201a8\"],[0.3333333333333333,\"#9c179e\"],[0.4444444444444444,\"#bd3786\"],[0.5555555555555556,\"#d8576b\"],[0.6666666666666666,\"#ed7953\"],[0.7777777777777778,\"#fb9f3a\"],[0.8888888888888888,\"#fdca26\"],[1.0,\"#f0f921\"]],\"type\":\"histogram2d\"}],\"histogram\":[{\"marker\":{\"pattern\":{\"fillmode\":\"overlay\",\"size\":10,\"solidity\":0.2}},\"type\":\"histogram\"}],\"mesh3d\":[{\"colorbar\":{\"outlinewidth\":0,\"ticks\":\"\"},\"type\":\"mesh3d\"}],\"parcoords\":[{\"line\":{\"colorbar\":{\"outlinewidth\":0,\"ticks\":\"\"}},\"type\":\"parcoords\"}],\"pie\":[{\"automargin\":true,\"type\":\"pie\"}],\"scatter3d\":[{\"line\":{\"colorbar\":{\"outlinewidth\":0,\"ticks\":\"\"}},\"marker\":{\"colorbar\":{\"outlinewidth\":0,\"ticks\":\"\"}},\"type\":\"scatter3d\"}],\"scattercarpet\":[{\"marker\":{\"colorbar\":{\"outlinewidth\":0,\"ticks\":\"\"}},\"type\":\"scattercarpet\"}],\"scattergeo\":[{\"marker\":{\"colorbar\":{\"outlinewidth\":0,\"ticks\":\"\"}},\"type\":\"scattergeo\"}],\"scattergl\":[{\"marker\":{\"colorbar\":{\"outlinewidth\":0,\"ticks\":\"\"}},\"type\":\"scattergl\"}],\"scattermapbox\":[{\"marker\":{\"colorbar\":{\"outlinewidth\":0,\"ticks\":\"\"}},\"type\":\"scattermapbox\"}],\"scatterpolargl\":[{\"marker\":{\"colorbar\":{\"outlinewidth\":0,\"ticks\":\"\"}},\"type\":\"scatterpolargl\"}],\"scatterpolar\":[{\"marker\":{\"colorbar\":{\"outlinewidth\":0,\"ticks\":\"\"}},\"type\":\"scatterpolar\"}],\"scatter\":[{\"fillpattern\":{\"fillmode\":\"overlay\",\"size\":10,\"solidity\":0.2},\"type\":\"scatter\"}],\"scatterternary\":[{\"marker\":{\"colorbar\":{\"outlinewidth\":0,\"ticks\":\"\"}},\"type\":\"scatterternary\"}],\"surface\":[{\"colorbar\":{\"outlinewidth\":0,\"ticks\":\"\"},\"colorscale\":[[0.0,\"#0d0887\"],[0.1111111111111111,\"#46039f\"],[0.2222222222222222,\"#7201a8\"],[0.3333333333333333,\"#9c179e\"],[0.4444444444444444,\"#bd3786\"],[0.5555555555555556,\"#d8576b\"],[0.6666666666666666,\"#ed7953\"],[0.7777777777777778,\"#fb9f3a\"],[0.8888888888888888,\"#fdca26\"],[1.0,\"#f0f921\"]],\"type\":\"surface\"}],\"table\":[{\"cells\":{\"fill\":{\"color\":\"#EBF0F8\"},\"line\":{\"color\":\"white\"}},\"header\":{\"fill\":{\"color\":\"#C8D4E3\"},\"line\":{\"color\":\"white\"}},\"type\":\"table\"}]},\"layout\":{\"annotationdefaults\":{\"arrowcolor\":\"#2a3f5f\",\"arrowhead\":0,\"arrowwidth\":1},\"autotypenumbers\":\"strict\",\"coloraxis\":{\"colorbar\":{\"outlinewidth\":0,\"ticks\":\"\"}},\"colorscale\":{\"diverging\":[[0,\"#8e0152\"],[0.1,\"#c51b7d\"],[0.2,\"#de77ae\"],[0.3,\"#f1b6da\"],[0.4,\"#fde0ef\"],[0.5,\"#f7f7f7\"],[0.6,\"#e6f5d0\"],[0.7,\"#b8e186\"],[0.8,\"#7fbc41\"],[0.9,\"#4d9221\"],[1,\"#276419\"]],\"sequential\":[[0.0,\"#0d0887\"],[0.1111111111111111,\"#46039f\"],[0.2222222222222222,\"#7201a8\"],[0.3333333333333333,\"#9c179e\"],[0.4444444444444444,\"#bd3786\"],[0.5555555555555556,\"#d8576b\"],[0.6666666666666666,\"#ed7953\"],[0.7777777777777778,\"#fb9f3a\"],[0.8888888888888888,\"#fdca26\"],[1.0,\"#f0f921\"]],\"sequentialminus\":[[0.0,\"#0d0887\"],[0.1111111111111111,\"#46039f\"],[0.2222222222222222,\"#7201a8\"],[0.3333333333333333,\"#9c179e\"],[0.4444444444444444,\"#bd3786\"],[0.5555555555555556,\"#d8576b\"],[0.6666666666666666,\"#ed7953\"],[0.7777777777777778,\"#fb9f3a\"],[0.8888888888888888,\"#fdca26\"],[1.0,\"#f0f921\"]]},\"colorway\":[\"#636efa\",\"#EF553B\",\"#00cc96\",\"#ab63fa\",\"#FFA15A\",\"#19d3f3\",\"#FF6692\",\"#B6E880\",\"#FF97FF\",\"#FECB52\"],\"font\":{\"color\":\"#2a3f5f\"},\"geo\":{\"bgcolor\":\"white\",\"lakecolor\":\"white\",\"landcolor\":\"#E5ECF6\",\"showlakes\":true,\"showland\":true,\"subunitcolor\":\"white\"},\"hoverlabel\":{\"align\":\"left\"},\"hovermode\":\"closest\",\"mapbox\":{\"style\":\"light\"},\"paper_bgcolor\":\"white\",\"plot_bgcolor\":\"#E5ECF6\",\"polar\":{\"angularaxis\":{\"gridcolor\":\"white\",\"linecolor\":\"white\",\"ticks\":\"\"},\"bgcolor\":\"#E5ECF6\",\"radialaxis\":{\"gridcolor\":\"white\",\"linecolor\":\"white\",\"ticks\":\"\"}},\"scene\":{\"xaxis\":{\"backgroundcolor\":\"#E5ECF6\",\"gridcolor\":\"white\",\"gridwidth\":2,\"linecolor\":\"white\",\"showbackground\":true,\"ticks\":\"\",\"zerolinecolor\":\"white\"},\"yaxis\":{\"backgroundcolor\":\"#E5ECF6\",\"gridcolor\":\"white\",\"gridwidth\":2,\"linecolor\":\"white\",\"showbackground\":true,\"ticks\":\"\",\"zerolinecolor\":\"white\"},\"zaxis\":{\"backgroundcolor\":\"#E5ECF6\",\"gridcolor\":\"white\",\"gridwidth\":2,\"linecolor\":\"white\",\"showbackground\":true,\"ticks\":\"\",\"zerolinecolor\":\"white\"}},\"shapedefaults\":{\"line\":{\"color\":\"#2a3f5f\"}},\"ternary\":{\"aaxis\":{\"gridcolor\":\"white\",\"linecolor\":\"white\",\"ticks\":\"\"},\"baxis\":{\"gridcolor\":\"white\",\"linecolor\":\"white\",\"ticks\":\"\"},\"bgcolor\":\"#E5ECF6\",\"caxis\":{\"gridcolor\":\"white\",\"linecolor\":\"white\",\"ticks\":\"\"}},\"title\":{\"x\":0.05},\"xaxis\":{\"automargin\":true,\"gridcolor\":\"white\",\"linecolor\":\"white\",\"ticks\":\"\",\"title\":{\"standoff\":15},\"zerolinecolor\":\"white\",\"zerolinewidth\":2},\"yaxis\":{\"automargin\":true,\"gridcolor\":\"white\",\"linecolor\":\"white\",\"ticks\":\"\",\"title\":{\"standoff\":15},\"zerolinecolor\":\"white\",\"zerolinewidth\":2}}},\"title\":{\"font\":{\"color\":\"#4D5663\"}},\"xaxis\":{\"gridcolor\":\"#E1E5ED\",\"showgrid\":true,\"tickfont\":{\"color\":\"#4D5663\"},\"title\":{\"font\":{\"color\":\"#4D5663\"},\"text\":\"\"},\"zerolinecolor\":\"#E1E5ED\"},\"yaxis\":{\"gridcolor\":\"#E1E5ED\",\"showgrid\":true,\"tickfont\":{\"color\":\"#4D5663\"},\"title\":{\"font\":{\"color\":\"#4D5663\"},\"text\":\"\"},\"zerolinecolor\":\"#E1E5ED\"}},                        {\"showLink\": true, \"linkText\": \"Export to plot.ly\", \"plotlyServerURL\": \"https://plot.ly\", \"responsive\": true}                    ).then(function(){\n",
       "                            \n",
       "var gd = document.getElementById('1563f877-eafe-47c7-a05f-018025bc64d4');\n",
       "var x = new MutationObserver(function (mutations, observer) {{\n",
       "        var display = window.getComputedStyle(gd).display;\n",
       "        if (!display || display === 'none') {{\n",
       "            console.log([gd, 'removed!']);\n",
       "            Plotly.purge(gd);\n",
       "            observer.disconnect();\n",
       "        }}\n",
       "}});\n",
       "\n",
       "// Listen for the removal of the full notebook cells\n",
       "var notebookContainer = gd.closest('#notebook-container');\n",
       "if (notebookContainer) {{\n",
       "    x.observe(notebookContainer, {childList: true});\n",
       "}}\n",
       "\n",
       "// Listen for the clearing of the current output cell\n",
       "var outputEl = gd.closest('.output');\n",
       "if (outputEl) {{\n",
       "    x.observe(outputEl, {childList: true});\n",
       "}}\n",
       "\n",
       "                        })                };                });            </script>        </div>"
      ]
     },
     "metadata": {},
     "output_type": "display_data"
    }
   ],
   "source": [
    "df2.iplot(kind='bar',x='Category',y='Values')"
   ]
  },
  {
   "cell_type": "code",
   "execution_count": 15,
   "id": "d56bcd0e",
   "metadata": {},
   "outputs": [
    {
     "data": {
      "application/vnd.plotly.v1+json": {
       "config": {
        "linkText": "Export to plot.ly",
        "plotlyServerURL": "https://plot.ly",
        "showLink": true
       },
       "data": [
        {
         "marker": {
          "color": "rgba(255, 153, 51, 0.6)",
          "line": {
           "color": "rgba(255, 153, 51, 1.0)",
           "width": 1
          }
         },
         "name": "None",
         "orientation": "v",
         "text": "",
         "type": "bar",
         "x": [
          "A",
          "B",
          "C",
          "D"
         ],
         "y": [
          100,
          100,
          100,
          100
         ]
        }
       ],
       "layout": {
        "legend": {
         "bgcolor": "#F5F6F9",
         "font": {
          "color": "#4D5663"
         }
        },
        "paper_bgcolor": "#F5F6F9",
        "plot_bgcolor": "#F5F6F9",
        "template": {
         "data": {
          "bar": [
           {
            "error_x": {
             "color": "#2a3f5f"
            },
            "error_y": {
             "color": "#2a3f5f"
            },
            "marker": {
             "line": {
              "color": "#E5ECF6",
              "width": 0.5
             },
             "pattern": {
              "fillmode": "overlay",
              "size": 10,
              "solidity": 0.2
             }
            },
            "type": "bar"
           }
          ],
          "barpolar": [
           {
            "marker": {
             "line": {
              "color": "#E5ECF6",
              "width": 0.5
             },
             "pattern": {
              "fillmode": "overlay",
              "size": 10,
              "solidity": 0.2
             }
            },
            "type": "barpolar"
           }
          ],
          "carpet": [
           {
            "aaxis": {
             "endlinecolor": "#2a3f5f",
             "gridcolor": "white",
             "linecolor": "white",
             "minorgridcolor": "white",
             "startlinecolor": "#2a3f5f"
            },
            "baxis": {
             "endlinecolor": "#2a3f5f",
             "gridcolor": "white",
             "linecolor": "white",
             "minorgridcolor": "white",
             "startlinecolor": "#2a3f5f"
            },
            "type": "carpet"
           }
          ],
          "choropleth": [
           {
            "colorbar": {
             "outlinewidth": 0,
             "ticks": ""
            },
            "type": "choropleth"
           }
          ],
          "contour": [
           {
            "colorbar": {
             "outlinewidth": 0,
             "ticks": ""
            },
            "colorscale": [
             [
              0,
              "#0d0887"
             ],
             [
              0.1111111111111111,
              "#46039f"
             ],
             [
              0.2222222222222222,
              "#7201a8"
             ],
             [
              0.3333333333333333,
              "#9c179e"
             ],
             [
              0.4444444444444444,
              "#bd3786"
             ],
             [
              0.5555555555555556,
              "#d8576b"
             ],
             [
              0.6666666666666666,
              "#ed7953"
             ],
             [
              0.7777777777777778,
              "#fb9f3a"
             ],
             [
              0.8888888888888888,
              "#fdca26"
             ],
             [
              1,
              "#f0f921"
             ]
            ],
            "type": "contour"
           }
          ],
          "contourcarpet": [
           {
            "colorbar": {
             "outlinewidth": 0,
             "ticks": ""
            },
            "type": "contourcarpet"
           }
          ],
          "heatmap": [
           {
            "colorbar": {
             "outlinewidth": 0,
             "ticks": ""
            },
            "colorscale": [
             [
              0,
              "#0d0887"
             ],
             [
              0.1111111111111111,
              "#46039f"
             ],
             [
              0.2222222222222222,
              "#7201a8"
             ],
             [
              0.3333333333333333,
              "#9c179e"
             ],
             [
              0.4444444444444444,
              "#bd3786"
             ],
             [
              0.5555555555555556,
              "#d8576b"
             ],
             [
              0.6666666666666666,
              "#ed7953"
             ],
             [
              0.7777777777777778,
              "#fb9f3a"
             ],
             [
              0.8888888888888888,
              "#fdca26"
             ],
             [
              1,
              "#f0f921"
             ]
            ],
            "type": "heatmap"
           }
          ],
          "heatmapgl": [
           {
            "colorbar": {
             "outlinewidth": 0,
             "ticks": ""
            },
            "colorscale": [
             [
              0,
              "#0d0887"
             ],
             [
              0.1111111111111111,
              "#46039f"
             ],
             [
              0.2222222222222222,
              "#7201a8"
             ],
             [
              0.3333333333333333,
              "#9c179e"
             ],
             [
              0.4444444444444444,
              "#bd3786"
             ],
             [
              0.5555555555555556,
              "#d8576b"
             ],
             [
              0.6666666666666666,
              "#ed7953"
             ],
             [
              0.7777777777777778,
              "#fb9f3a"
             ],
             [
              0.8888888888888888,
              "#fdca26"
             ],
             [
              1,
              "#f0f921"
             ]
            ],
            "type": "heatmapgl"
           }
          ],
          "histogram": [
           {
            "marker": {
             "pattern": {
              "fillmode": "overlay",
              "size": 10,
              "solidity": 0.2
             }
            },
            "type": "histogram"
           }
          ],
          "histogram2d": [
           {
            "colorbar": {
             "outlinewidth": 0,
             "ticks": ""
            },
            "colorscale": [
             [
              0,
              "#0d0887"
             ],
             [
              0.1111111111111111,
              "#46039f"
             ],
             [
              0.2222222222222222,
              "#7201a8"
             ],
             [
              0.3333333333333333,
              "#9c179e"
             ],
             [
              0.4444444444444444,
              "#bd3786"
             ],
             [
              0.5555555555555556,
              "#d8576b"
             ],
             [
              0.6666666666666666,
              "#ed7953"
             ],
             [
              0.7777777777777778,
              "#fb9f3a"
             ],
             [
              0.8888888888888888,
              "#fdca26"
             ],
             [
              1,
              "#f0f921"
             ]
            ],
            "type": "histogram2d"
           }
          ],
          "histogram2dcontour": [
           {
            "colorbar": {
             "outlinewidth": 0,
             "ticks": ""
            },
            "colorscale": [
             [
              0,
              "#0d0887"
             ],
             [
              0.1111111111111111,
              "#46039f"
             ],
             [
              0.2222222222222222,
              "#7201a8"
             ],
             [
              0.3333333333333333,
              "#9c179e"
             ],
             [
              0.4444444444444444,
              "#bd3786"
             ],
             [
              0.5555555555555556,
              "#d8576b"
             ],
             [
              0.6666666666666666,
              "#ed7953"
             ],
             [
              0.7777777777777778,
              "#fb9f3a"
             ],
             [
              0.8888888888888888,
              "#fdca26"
             ],
             [
              1,
              "#f0f921"
             ]
            ],
            "type": "histogram2dcontour"
           }
          ],
          "mesh3d": [
           {
            "colorbar": {
             "outlinewidth": 0,
             "ticks": ""
            },
            "type": "mesh3d"
           }
          ],
          "parcoords": [
           {
            "line": {
             "colorbar": {
              "outlinewidth": 0,
              "ticks": ""
             }
            },
            "type": "parcoords"
           }
          ],
          "pie": [
           {
            "automargin": true,
            "type": "pie"
           }
          ],
          "scatter": [
           {
            "fillpattern": {
             "fillmode": "overlay",
             "size": 10,
             "solidity": 0.2
            },
            "type": "scatter"
           }
          ],
          "scatter3d": [
           {
            "line": {
             "colorbar": {
              "outlinewidth": 0,
              "ticks": ""
             }
            },
            "marker": {
             "colorbar": {
              "outlinewidth": 0,
              "ticks": ""
             }
            },
            "type": "scatter3d"
           }
          ],
          "scattercarpet": [
           {
            "marker": {
             "colorbar": {
              "outlinewidth": 0,
              "ticks": ""
             }
            },
            "type": "scattercarpet"
           }
          ],
          "scattergeo": [
           {
            "marker": {
             "colorbar": {
              "outlinewidth": 0,
              "ticks": ""
             }
            },
            "type": "scattergeo"
           }
          ],
          "scattergl": [
           {
            "marker": {
             "colorbar": {
              "outlinewidth": 0,
              "ticks": ""
             }
            },
            "type": "scattergl"
           }
          ],
          "scattermapbox": [
           {
            "marker": {
             "colorbar": {
              "outlinewidth": 0,
              "ticks": ""
             }
            },
            "type": "scattermapbox"
           }
          ],
          "scatterpolar": [
           {
            "marker": {
             "colorbar": {
              "outlinewidth": 0,
              "ticks": ""
             }
            },
            "type": "scatterpolar"
           }
          ],
          "scatterpolargl": [
           {
            "marker": {
             "colorbar": {
              "outlinewidth": 0,
              "ticks": ""
             }
            },
            "type": "scatterpolargl"
           }
          ],
          "scatterternary": [
           {
            "marker": {
             "colorbar": {
              "outlinewidth": 0,
              "ticks": ""
             }
            },
            "type": "scatterternary"
           }
          ],
          "surface": [
           {
            "colorbar": {
             "outlinewidth": 0,
             "ticks": ""
            },
            "colorscale": [
             [
              0,
              "#0d0887"
             ],
             [
              0.1111111111111111,
              "#46039f"
             ],
             [
              0.2222222222222222,
              "#7201a8"
             ],
             [
              0.3333333333333333,
              "#9c179e"
             ],
             [
              0.4444444444444444,
              "#bd3786"
             ],
             [
              0.5555555555555556,
              "#d8576b"
             ],
             [
              0.6666666666666666,
              "#ed7953"
             ],
             [
              0.7777777777777778,
              "#fb9f3a"
             ],
             [
              0.8888888888888888,
              "#fdca26"
             ],
             [
              1,
              "#f0f921"
             ]
            ],
            "type": "surface"
           }
          ],
          "table": [
           {
            "cells": {
             "fill": {
              "color": "#EBF0F8"
             },
             "line": {
              "color": "white"
             }
            },
            "header": {
             "fill": {
              "color": "#C8D4E3"
             },
             "line": {
              "color": "white"
             }
            },
            "type": "table"
           }
          ]
         },
         "layout": {
          "annotationdefaults": {
           "arrowcolor": "#2a3f5f",
           "arrowhead": 0,
           "arrowwidth": 1
          },
          "autotypenumbers": "strict",
          "coloraxis": {
           "colorbar": {
            "outlinewidth": 0,
            "ticks": ""
           }
          },
          "colorscale": {
           "diverging": [
            [
             0,
             "#8e0152"
            ],
            [
             0.1,
             "#c51b7d"
            ],
            [
             0.2,
             "#de77ae"
            ],
            [
             0.3,
             "#f1b6da"
            ],
            [
             0.4,
             "#fde0ef"
            ],
            [
             0.5,
             "#f7f7f7"
            ],
            [
             0.6,
             "#e6f5d0"
            ],
            [
             0.7,
             "#b8e186"
            ],
            [
             0.8,
             "#7fbc41"
            ],
            [
             0.9,
             "#4d9221"
            ],
            [
             1,
             "#276419"
            ]
           ],
           "sequential": [
            [
             0,
             "#0d0887"
            ],
            [
             0.1111111111111111,
             "#46039f"
            ],
            [
             0.2222222222222222,
             "#7201a8"
            ],
            [
             0.3333333333333333,
             "#9c179e"
            ],
            [
             0.4444444444444444,
             "#bd3786"
            ],
            [
             0.5555555555555556,
             "#d8576b"
            ],
            [
             0.6666666666666666,
             "#ed7953"
            ],
            [
             0.7777777777777778,
             "#fb9f3a"
            ],
            [
             0.8888888888888888,
             "#fdca26"
            ],
            [
             1,
             "#f0f921"
            ]
           ],
           "sequentialminus": [
            [
             0,
             "#0d0887"
            ],
            [
             0.1111111111111111,
             "#46039f"
            ],
            [
             0.2222222222222222,
             "#7201a8"
            ],
            [
             0.3333333333333333,
             "#9c179e"
            ],
            [
             0.4444444444444444,
             "#bd3786"
            ],
            [
             0.5555555555555556,
             "#d8576b"
            ],
            [
             0.6666666666666666,
             "#ed7953"
            ],
            [
             0.7777777777777778,
             "#fb9f3a"
            ],
            [
             0.8888888888888888,
             "#fdca26"
            ],
            [
             1,
             "#f0f921"
            ]
           ]
          },
          "colorway": [
           "#636efa",
           "#EF553B",
           "#00cc96",
           "#ab63fa",
           "#FFA15A",
           "#19d3f3",
           "#FF6692",
           "#B6E880",
           "#FF97FF",
           "#FECB52"
          ],
          "font": {
           "color": "#2a3f5f"
          },
          "geo": {
           "bgcolor": "white",
           "lakecolor": "white",
           "landcolor": "#E5ECF6",
           "showlakes": true,
           "showland": true,
           "subunitcolor": "white"
          },
          "hoverlabel": {
           "align": "left"
          },
          "hovermode": "closest",
          "mapbox": {
           "style": "light"
          },
          "paper_bgcolor": "white",
          "plot_bgcolor": "#E5ECF6",
          "polar": {
           "angularaxis": {
            "gridcolor": "white",
            "linecolor": "white",
            "ticks": ""
           },
           "bgcolor": "#E5ECF6",
           "radialaxis": {
            "gridcolor": "white",
            "linecolor": "white",
            "ticks": ""
           }
          },
          "scene": {
           "xaxis": {
            "backgroundcolor": "#E5ECF6",
            "gridcolor": "white",
            "gridwidth": 2,
            "linecolor": "white",
            "showbackground": true,
            "ticks": "",
            "zerolinecolor": "white"
           },
           "yaxis": {
            "backgroundcolor": "#E5ECF6",
            "gridcolor": "white",
            "gridwidth": 2,
            "linecolor": "white",
            "showbackground": true,
            "ticks": "",
            "zerolinecolor": "white"
           },
           "zaxis": {
            "backgroundcolor": "#E5ECF6",
            "gridcolor": "white",
            "gridwidth": 2,
            "linecolor": "white",
            "showbackground": true,
            "ticks": "",
            "zerolinecolor": "white"
           }
          },
          "shapedefaults": {
           "line": {
            "color": "#2a3f5f"
           }
          },
          "ternary": {
           "aaxis": {
            "gridcolor": "white",
            "linecolor": "white",
            "ticks": ""
           },
           "baxis": {
            "gridcolor": "white",
            "linecolor": "white",
            "ticks": ""
           },
           "bgcolor": "#E5ECF6",
           "caxis": {
            "gridcolor": "white",
            "linecolor": "white",
            "ticks": ""
           }
          },
          "title": {
           "x": 0.05
          },
          "xaxis": {
           "automargin": true,
           "gridcolor": "white",
           "linecolor": "white",
           "ticks": "",
           "title": {
            "standoff": 15
           },
           "zerolinecolor": "white",
           "zerolinewidth": 2
          },
          "yaxis": {
           "automargin": true,
           "gridcolor": "white",
           "linecolor": "white",
           "ticks": "",
           "title": {
            "standoff": 15
           },
           "zerolinecolor": "white",
           "zerolinewidth": 2
          }
         }
        },
        "title": {
         "font": {
          "color": "#4D5663"
         }
        },
        "xaxis": {
         "gridcolor": "#E1E5ED",
         "showgrid": true,
         "tickfont": {
          "color": "#4D5663"
         },
         "title": {
          "font": {
           "color": "#4D5663"
          },
          "text": ""
         },
         "zerolinecolor": "#E1E5ED"
        },
        "yaxis": {
         "gridcolor": "#E1E5ED",
         "showgrid": true,
         "tickfont": {
          "color": "#4D5663"
         },
         "title": {
          "font": {
           "color": "#4D5663"
          },
          "text": ""
         },
         "zerolinecolor": "#E1E5ED"
        }
       }
      },
      "text/html": [
       "<div>                            <div id=\"2ce073e7-9aec-405a-9b50-fc2932da68db\" class=\"plotly-graph-div\" style=\"height:525px; width:100%;\"></div>            <script type=\"text/javascript\">                require([\"plotly\"], function(Plotly) {                    window.PLOTLYENV=window.PLOTLYENV || {};\n",
       "                    window.PLOTLYENV.BASE_URL='https://plot.ly';                                    if (document.getElementById(\"2ce073e7-9aec-405a-9b50-fc2932da68db\")) {                    Plotly.newPlot(                        \"2ce073e7-9aec-405a-9b50-fc2932da68db\",                        [{\"marker\":{\"color\":\"rgba(255, 153, 51, 0.6)\",\"line\":{\"color\":\"rgba(255, 153, 51, 1.0)\",\"width\":1}},\"name\":\"None\",\"orientation\":\"v\",\"text\":\"\",\"x\":[\"A\",\"B\",\"C\",\"D\"],\"y\":[100,100,100,100],\"type\":\"bar\"}],                        {\"legend\":{\"bgcolor\":\"#F5F6F9\",\"font\":{\"color\":\"#4D5663\"}},\"paper_bgcolor\":\"#F5F6F9\",\"plot_bgcolor\":\"#F5F6F9\",\"template\":{\"data\":{\"barpolar\":[{\"marker\":{\"line\":{\"color\":\"#E5ECF6\",\"width\":0.5},\"pattern\":{\"fillmode\":\"overlay\",\"size\":10,\"solidity\":0.2}},\"type\":\"barpolar\"}],\"bar\":[{\"error_x\":{\"color\":\"#2a3f5f\"},\"error_y\":{\"color\":\"#2a3f5f\"},\"marker\":{\"line\":{\"color\":\"#E5ECF6\",\"width\":0.5},\"pattern\":{\"fillmode\":\"overlay\",\"size\":10,\"solidity\":0.2}},\"type\":\"bar\"}],\"carpet\":[{\"aaxis\":{\"endlinecolor\":\"#2a3f5f\",\"gridcolor\":\"white\",\"linecolor\":\"white\",\"minorgridcolor\":\"white\",\"startlinecolor\":\"#2a3f5f\"},\"baxis\":{\"endlinecolor\":\"#2a3f5f\",\"gridcolor\":\"white\",\"linecolor\":\"white\",\"minorgridcolor\":\"white\",\"startlinecolor\":\"#2a3f5f\"},\"type\":\"carpet\"}],\"choropleth\":[{\"colorbar\":{\"outlinewidth\":0,\"ticks\":\"\"},\"type\":\"choropleth\"}],\"contourcarpet\":[{\"colorbar\":{\"outlinewidth\":0,\"ticks\":\"\"},\"type\":\"contourcarpet\"}],\"contour\":[{\"colorbar\":{\"outlinewidth\":0,\"ticks\":\"\"},\"colorscale\":[[0.0,\"#0d0887\"],[0.1111111111111111,\"#46039f\"],[0.2222222222222222,\"#7201a8\"],[0.3333333333333333,\"#9c179e\"],[0.4444444444444444,\"#bd3786\"],[0.5555555555555556,\"#d8576b\"],[0.6666666666666666,\"#ed7953\"],[0.7777777777777778,\"#fb9f3a\"],[0.8888888888888888,\"#fdca26\"],[1.0,\"#f0f921\"]],\"type\":\"contour\"}],\"heatmapgl\":[{\"colorbar\":{\"outlinewidth\":0,\"ticks\":\"\"},\"colorscale\":[[0.0,\"#0d0887\"],[0.1111111111111111,\"#46039f\"],[0.2222222222222222,\"#7201a8\"],[0.3333333333333333,\"#9c179e\"],[0.4444444444444444,\"#bd3786\"],[0.5555555555555556,\"#d8576b\"],[0.6666666666666666,\"#ed7953\"],[0.7777777777777778,\"#fb9f3a\"],[0.8888888888888888,\"#fdca26\"],[1.0,\"#f0f921\"]],\"type\":\"heatmapgl\"}],\"heatmap\":[{\"colorbar\":{\"outlinewidth\":0,\"ticks\":\"\"},\"colorscale\":[[0.0,\"#0d0887\"],[0.1111111111111111,\"#46039f\"],[0.2222222222222222,\"#7201a8\"],[0.3333333333333333,\"#9c179e\"],[0.4444444444444444,\"#bd3786\"],[0.5555555555555556,\"#d8576b\"],[0.6666666666666666,\"#ed7953\"],[0.7777777777777778,\"#fb9f3a\"],[0.8888888888888888,\"#fdca26\"],[1.0,\"#f0f921\"]],\"type\":\"heatmap\"}],\"histogram2dcontour\":[{\"colorbar\":{\"outlinewidth\":0,\"ticks\":\"\"},\"colorscale\":[[0.0,\"#0d0887\"],[0.1111111111111111,\"#46039f\"],[0.2222222222222222,\"#7201a8\"],[0.3333333333333333,\"#9c179e\"],[0.4444444444444444,\"#bd3786\"],[0.5555555555555556,\"#d8576b\"],[0.6666666666666666,\"#ed7953\"],[0.7777777777777778,\"#fb9f3a\"],[0.8888888888888888,\"#fdca26\"],[1.0,\"#f0f921\"]],\"type\":\"histogram2dcontour\"}],\"histogram2d\":[{\"colorbar\":{\"outlinewidth\":0,\"ticks\":\"\"},\"colorscale\":[[0.0,\"#0d0887\"],[0.1111111111111111,\"#46039f\"],[0.2222222222222222,\"#7201a8\"],[0.3333333333333333,\"#9c179e\"],[0.4444444444444444,\"#bd3786\"],[0.5555555555555556,\"#d8576b\"],[0.6666666666666666,\"#ed7953\"],[0.7777777777777778,\"#fb9f3a\"],[0.8888888888888888,\"#fdca26\"],[1.0,\"#f0f921\"]],\"type\":\"histogram2d\"}],\"histogram\":[{\"marker\":{\"pattern\":{\"fillmode\":\"overlay\",\"size\":10,\"solidity\":0.2}},\"type\":\"histogram\"}],\"mesh3d\":[{\"colorbar\":{\"outlinewidth\":0,\"ticks\":\"\"},\"type\":\"mesh3d\"}],\"parcoords\":[{\"line\":{\"colorbar\":{\"outlinewidth\":0,\"ticks\":\"\"}},\"type\":\"parcoords\"}],\"pie\":[{\"automargin\":true,\"type\":\"pie\"}],\"scatter3d\":[{\"line\":{\"colorbar\":{\"outlinewidth\":0,\"ticks\":\"\"}},\"marker\":{\"colorbar\":{\"outlinewidth\":0,\"ticks\":\"\"}},\"type\":\"scatter3d\"}],\"scattercarpet\":[{\"marker\":{\"colorbar\":{\"outlinewidth\":0,\"ticks\":\"\"}},\"type\":\"scattercarpet\"}],\"scattergeo\":[{\"marker\":{\"colorbar\":{\"outlinewidth\":0,\"ticks\":\"\"}},\"type\":\"scattergeo\"}],\"scattergl\":[{\"marker\":{\"colorbar\":{\"outlinewidth\":0,\"ticks\":\"\"}},\"type\":\"scattergl\"}],\"scattermapbox\":[{\"marker\":{\"colorbar\":{\"outlinewidth\":0,\"ticks\":\"\"}},\"type\":\"scattermapbox\"}],\"scatterpolargl\":[{\"marker\":{\"colorbar\":{\"outlinewidth\":0,\"ticks\":\"\"}},\"type\":\"scatterpolargl\"}],\"scatterpolar\":[{\"marker\":{\"colorbar\":{\"outlinewidth\":0,\"ticks\":\"\"}},\"type\":\"scatterpolar\"}],\"scatter\":[{\"fillpattern\":{\"fillmode\":\"overlay\",\"size\":10,\"solidity\":0.2},\"type\":\"scatter\"}],\"scatterternary\":[{\"marker\":{\"colorbar\":{\"outlinewidth\":0,\"ticks\":\"\"}},\"type\":\"scatterternary\"}],\"surface\":[{\"colorbar\":{\"outlinewidth\":0,\"ticks\":\"\"},\"colorscale\":[[0.0,\"#0d0887\"],[0.1111111111111111,\"#46039f\"],[0.2222222222222222,\"#7201a8\"],[0.3333333333333333,\"#9c179e\"],[0.4444444444444444,\"#bd3786\"],[0.5555555555555556,\"#d8576b\"],[0.6666666666666666,\"#ed7953\"],[0.7777777777777778,\"#fb9f3a\"],[0.8888888888888888,\"#fdca26\"],[1.0,\"#f0f921\"]],\"type\":\"surface\"}],\"table\":[{\"cells\":{\"fill\":{\"color\":\"#EBF0F8\"},\"line\":{\"color\":\"white\"}},\"header\":{\"fill\":{\"color\":\"#C8D4E3\"},\"line\":{\"color\":\"white\"}},\"type\":\"table\"}]},\"layout\":{\"annotationdefaults\":{\"arrowcolor\":\"#2a3f5f\",\"arrowhead\":0,\"arrowwidth\":1},\"autotypenumbers\":\"strict\",\"coloraxis\":{\"colorbar\":{\"outlinewidth\":0,\"ticks\":\"\"}},\"colorscale\":{\"diverging\":[[0,\"#8e0152\"],[0.1,\"#c51b7d\"],[0.2,\"#de77ae\"],[0.3,\"#f1b6da\"],[0.4,\"#fde0ef\"],[0.5,\"#f7f7f7\"],[0.6,\"#e6f5d0\"],[0.7,\"#b8e186\"],[0.8,\"#7fbc41\"],[0.9,\"#4d9221\"],[1,\"#276419\"]],\"sequential\":[[0.0,\"#0d0887\"],[0.1111111111111111,\"#46039f\"],[0.2222222222222222,\"#7201a8\"],[0.3333333333333333,\"#9c179e\"],[0.4444444444444444,\"#bd3786\"],[0.5555555555555556,\"#d8576b\"],[0.6666666666666666,\"#ed7953\"],[0.7777777777777778,\"#fb9f3a\"],[0.8888888888888888,\"#fdca26\"],[1.0,\"#f0f921\"]],\"sequentialminus\":[[0.0,\"#0d0887\"],[0.1111111111111111,\"#46039f\"],[0.2222222222222222,\"#7201a8\"],[0.3333333333333333,\"#9c179e\"],[0.4444444444444444,\"#bd3786\"],[0.5555555555555556,\"#d8576b\"],[0.6666666666666666,\"#ed7953\"],[0.7777777777777778,\"#fb9f3a\"],[0.8888888888888888,\"#fdca26\"],[1.0,\"#f0f921\"]]},\"colorway\":[\"#636efa\",\"#EF553B\",\"#00cc96\",\"#ab63fa\",\"#FFA15A\",\"#19d3f3\",\"#FF6692\",\"#B6E880\",\"#FF97FF\",\"#FECB52\"],\"font\":{\"color\":\"#2a3f5f\"},\"geo\":{\"bgcolor\":\"white\",\"lakecolor\":\"white\",\"landcolor\":\"#E5ECF6\",\"showlakes\":true,\"showland\":true,\"subunitcolor\":\"white\"},\"hoverlabel\":{\"align\":\"left\"},\"hovermode\":\"closest\",\"mapbox\":{\"style\":\"light\"},\"paper_bgcolor\":\"white\",\"plot_bgcolor\":\"#E5ECF6\",\"polar\":{\"angularaxis\":{\"gridcolor\":\"white\",\"linecolor\":\"white\",\"ticks\":\"\"},\"bgcolor\":\"#E5ECF6\",\"radialaxis\":{\"gridcolor\":\"white\",\"linecolor\":\"white\",\"ticks\":\"\"}},\"scene\":{\"xaxis\":{\"backgroundcolor\":\"#E5ECF6\",\"gridcolor\":\"white\",\"gridwidth\":2,\"linecolor\":\"white\",\"showbackground\":true,\"ticks\":\"\",\"zerolinecolor\":\"white\"},\"yaxis\":{\"backgroundcolor\":\"#E5ECF6\",\"gridcolor\":\"white\",\"gridwidth\":2,\"linecolor\":\"white\",\"showbackground\":true,\"ticks\":\"\",\"zerolinecolor\":\"white\"},\"zaxis\":{\"backgroundcolor\":\"#E5ECF6\",\"gridcolor\":\"white\",\"gridwidth\":2,\"linecolor\":\"white\",\"showbackground\":true,\"ticks\":\"\",\"zerolinecolor\":\"white\"}},\"shapedefaults\":{\"line\":{\"color\":\"#2a3f5f\"}},\"ternary\":{\"aaxis\":{\"gridcolor\":\"white\",\"linecolor\":\"white\",\"ticks\":\"\"},\"baxis\":{\"gridcolor\":\"white\",\"linecolor\":\"white\",\"ticks\":\"\"},\"bgcolor\":\"#E5ECF6\",\"caxis\":{\"gridcolor\":\"white\",\"linecolor\":\"white\",\"ticks\":\"\"}},\"title\":{\"x\":0.05},\"xaxis\":{\"automargin\":true,\"gridcolor\":\"white\",\"linecolor\":\"white\",\"ticks\":\"\",\"title\":{\"standoff\":15},\"zerolinecolor\":\"white\",\"zerolinewidth\":2},\"yaxis\":{\"automargin\":true,\"gridcolor\":\"white\",\"linecolor\":\"white\",\"ticks\":\"\",\"title\":{\"standoff\":15},\"zerolinecolor\":\"white\",\"zerolinewidth\":2}}},\"title\":{\"font\":{\"color\":\"#4D5663\"}},\"xaxis\":{\"gridcolor\":\"#E1E5ED\",\"showgrid\":true,\"tickfont\":{\"color\":\"#4D5663\"},\"title\":{\"font\":{\"color\":\"#4D5663\"},\"text\":\"\"},\"zerolinecolor\":\"#E1E5ED\"},\"yaxis\":{\"gridcolor\":\"#E1E5ED\",\"showgrid\":true,\"tickfont\":{\"color\":\"#4D5663\"},\"title\":{\"font\":{\"color\":\"#4D5663\"},\"text\":\"\"},\"zerolinecolor\":\"#E1E5ED\"}},                        {\"showLink\": true, \"linkText\": \"Export to plot.ly\", \"plotlyServerURL\": \"https://plot.ly\", \"responsive\": true}                    ).then(function(){\n",
       "                            \n",
       "var gd = document.getElementById('2ce073e7-9aec-405a-9b50-fc2932da68db');\n",
       "var x = new MutationObserver(function (mutations, observer) {{\n",
       "        var display = window.getComputedStyle(gd).display;\n",
       "        if (!display || display === 'none') {{\n",
       "            console.log([gd, 'removed!']);\n",
       "            Plotly.purge(gd);\n",
       "            observer.disconnect();\n",
       "        }}\n",
       "}});\n",
       "\n",
       "// Listen for the removal of the full notebook cells\n",
       "var notebookContainer = gd.closest('#notebook-container');\n",
       "if (notebookContainer) {{\n",
       "    x.observe(notebookContainer, {childList: true});\n",
       "}}\n",
       "\n",
       "// Listen for the clearing of the current output cell\n",
       "var outputEl = gd.closest('.output');\n",
       "if (outputEl) {{\n",
       "    x.observe(outputEl, {childList: true});\n",
       "}}\n",
       "\n",
       "                        })                };                });            </script>        </div>"
      ]
     },
     "metadata": {},
     "output_type": "display_data"
    }
   ],
   "source": [
    "df.count().iplot(kind='bar')"
   ]
  },
  {
   "cell_type": "code",
   "execution_count": 16,
   "id": "eeba0740",
   "metadata": {},
   "outputs": [
    {
     "data": {
      "application/vnd.plotly.v1+json": {
       "config": {
        "linkText": "Export to plot.ly",
        "plotlyServerURL": "https://plot.ly",
        "showLink": true
       },
       "data": [
        {
         "boxpoints": false,
         "line": {
          "width": 1.3
         },
         "marker": {
          "color": "rgba(255, 153, 51, 1.0)"
         },
         "name": "A",
         "orientation": "v",
         "type": "box",
         "y": [
          0.15387951566040683,
          2.181248765458232,
          -0.13566587094592006,
          2.5826373196933714,
          1.6784225961066819,
          -0.16299128101973356,
          -0.17874297565492092,
          0.48903983504613824,
          -0.050245207821652656,
          -0.21504123172855624,
          -0.9579247028153586,
          -0.9893440631800207,
          -0.5545866030923471,
          -0.729196183556216,
          -2.1468969108658733,
          1.443650242734995,
          0.9090913732870752,
          0.16199268989531002,
          -0.9466477932939458,
          0.35055814554620657,
          -0.21162327402463743,
          0.6365749108453906,
          -0.3836843220449782,
          1.0035932100576173,
          -0.6335239904754568,
          0.8596977337897347,
          0.4447230070289421,
          -1.2523804891664259,
          -0.13451250405916465,
          -0.5780800680607079,
          -0.2450155534501923,
          -0.9832040367280465,
          -0.23809181759312123,
          -0.34116672085694183,
          -0.8558574974421355,
          1.699621211172324,
          -1.0103056803776571,
          -0.8897721763689249,
          0.9747541077716472,
          0.2733325155193339,
          -2.3269122184399578,
          -0.3725394679542613,
          -1.1036867869571978,
          -0.1352555301863368,
          -1.1509761019037328,
          -1.2187335433615616,
          0.05506999604218593,
          -0.10228406176818654,
          1.2778340337032956,
          -1.6499243125727343,
          0.2584083064742115,
          0.022789195090183578,
          -0.05469858920966472,
          0.6934335354023595,
          -0.3582243331584894,
          -0.6762481063753567,
          -2.6093883903092228,
          0.08746280693315048,
          0.7907999135080389,
          -0.016400209655702606,
          -1.020020479062982,
          1.062252800413191,
          0.06000472648461456,
          -0.5751331128737663,
          0.7283756600309553,
          0.1828699910324269,
          -0.15630554197630672,
          -1.864294517478185,
          -0.05583743965754278,
          -1.3671415114751497,
          -0.2859607383869635,
          0.49472919490075573,
          -0.35969076601765726,
          0.9720742091395949,
          -0.11590515837531183,
          0.39360624198567107,
          0.7839283888154851,
          -1.177254142345938,
          0.8315862249829457,
          -1.1865453897625722,
          1.29698117990059,
          0.8766686456478701,
          0.7043101490622228,
          0.34654329113273163,
          0.009958136649100556,
          -1.134745510635879,
          0.0785083179815372,
          -1.8470364158934645,
          -0.4875047829676378,
          -0.735646683248686,
          -1.316475374019799,
          1.3776811867196217,
          -1.321076206512763,
          0.45445257779186266,
          2.5370214104573803,
          0.5769179650580939,
          0.4222801389522976,
          -0.5517893605255988,
          -0.30363543870509463,
          -0.33995824148450854
         ]
        },
        {
         "boxpoints": false,
         "line": {
          "width": 1.3
         },
         "marker": {
          "color": "rgba(55, 128, 191, 1.0)"
         },
         "name": "B",
         "orientation": "v",
         "type": "box",
         "y": [
          0.2083619918066731,
          -0.007445592501653823,
          0.013438670371493154,
          -1.1402200714610695,
          -1.0037282728945376,
          -1.7796940522845184,
          1.4005425881113962,
          -0.12409065370077918,
          0.4452116013367775,
          -0.33569644713285623,
          0.9193071025427763,
          0.3170284786129296,
          0.13430335146684186,
          0.7787044216687309,
          0.21450459241797218,
          -1.5092666232396665,
          0.7919886424619987,
          -0.1927552256597784,
          0.1407274967059369,
          0.913396235037004,
          -0.39175435019456206,
          -0.5407190613207937,
          -1.129410685739879,
          -0.7073325132739956,
          -0.1202465665969558,
          -1.2835242588380795,
          -0.37277920098249084,
          0.40015445605057215,
          -0.40024857144059733,
          -0.6379169763897673,
          -0.2866340398118274,
          0.06139895861208848,
          -2.252517714720179,
          0.5457545446741421,
          1.1544587442506151,
          -0.6168270294189658,
          -0.3630037900029631,
          -1.2010279486365256,
          -0.7653438306648163,
          -0.11053318751770316,
          0.38388124646772853,
          -1.2674203103987471,
          0.0028399536666268025,
          -1.5494254508705259,
          2.095749715307753,
          -0.5641187149411993,
          0.34709305987418854,
          0.6236619982195952,
          -0.08063942778001149,
          0.08689494745775367,
          -1.2433803804032548,
          0.17159566961706876,
          -0.0032167099066127717,
          0.11739239250666493,
          0.38951736549480986,
          -1.0280734833091218,
          -0.4800090749698621,
          0.5740201552456949,
          -1.2084516763572983,
          0.7238828648723517,
          2.2005364752879752,
          0.15802727378773124,
          0.32649568568896786,
          -2.7143738424005797,
          0.38341951411432434,
          1.116813227600596,
          -0.01989660137589359,
          1.8878704671898408,
          -0.6405584469147696,
          -2.3590894870123007,
          -0.8715844322342543,
          -1.4398225910640223,
          1.3363221386595507,
          1.8283221642713612,
          -1.1084543823687798,
          -0.9822653578380953,
          -0.6494889734849333,
          -0.3426015797521599,
          -0.6837935756698565,
          0.6076716337813307,
          0.33659591669323224,
          0.4269690302146352,
          -0.9343729078118749,
          0.02124021733474761,
          -0.8433181262016681,
          -1.6579278057042166,
          1.0367687781471089,
          -0.508413311460955,
          1.039475592623558,
          -0.23178447064330665,
          0.0724413119156897,
          0.3487934006331482,
          1.4631758122581195,
          -1.9585115623098048,
          0.05495266418138907,
          0.01997126586927419,
          0.19730602361652821,
          -0.07707793518496193,
          1.2635910163603281,
          -1.575182626460573
         ]
        },
        {
         "boxpoints": false,
         "line": {
          "width": 1.3
         },
         "marker": {
          "color": "rgba(50, 171, 96, 1.0)"
         },
         "name": "C",
         "orientation": "v",
         "type": "box",
         "y": [
          0.4106594435925352,
          0.16451668922706855,
          -0.5369782056226539,
          0.5660853315566969,
          -0.6276131115541184,
          -0.35623907365489893,
          2.747624814704155,
          -1.2334283538430675,
          0.5953695186024907,
          -0.43852943328974997,
          0.10864185727711775,
          1.3197907328048857,
          -0.7903712263306164,
          -0.31436931313673816,
          0.47876479857992377,
          -0.2304329790855753,
          -0.061560034155332115,
          0.3004897403370486,
          1.79510490898758,
          1.2737593271137766,
          1.6419424352503602,
          1.852751669824922,
          0.8831830072945414,
          -0.5882779788344554,
          0.3703825755458452,
          1.3929082760023928,
          -1.2071419796121867,
          0.011100149059746016,
          -0.8635739978677018,
          1.8413447682384052,
          -1.8794815878480156,
          1.5621316515960426,
          -0.06962888037480293,
          -0.6454974165203449,
          -0.3910014561766563,
          -1.5022335662754505,
          0.15306706295055966,
          -2.4860561301597333,
          -0.23823128755041628,
          0.7955648043997234,
          -1.123206905763666,
          1.1149380253123027,
          0.5841552064517905,
          1.5849024443809798,
          2.183832117184637,
          1.1175896993788657,
          -2.412033509219897,
          -1.1201490345928256,
          0.3107292331598913,
          0.20800900242550194,
          -0.24909411972896087,
          -0.926708027691749,
          0.36539845848899705,
          -1.0705890309135304,
          0.44291927119139923,
          1.0578310118172347,
          -1.038867142693977,
          -0.10689897007298131,
          -0.6760368140223842,
          -0.5593242936247103,
          0.4123230011731821,
          0.24003181245138533,
          -0.4209577645954547,
          -0.1558898255604296,
          1.178123514861103,
          0.22598894428301605,
          0.5908452772763777,
          -1.0324048991723151,
          -0.31238836333956754,
          -0.6219794206029533,
          0.8572476323195839,
          0.9116187337831878,
          0.6936904236664377,
          0.011038814736188172,
          0.5282033650357248,
          -2.2337668917608267,
          0.3476652905185053,
          -1.847080978535126,
          0.9563701003727998,
          -0.040863608859851734,
          0.5495966278412764,
          1.6700886104241803,
          1.5442686926470075,
          1.010725902990785,
          0.037871630419494456,
          -2.648921228271641,
          -1.0762630270105022,
          -1.6877633899055529,
          -0.7502413749444725,
          0.09517969500198269,
          -0.8494083429449227,
          0.16620975044199085,
          -0.5609639231128154,
          1.1383046777516879,
          0.20397077776091715,
          0.8810095241960068,
          -0.29968980450177246,
          0.3106062982832132,
          1.0062792714069575,
          0.5117597024230559
         ]
        },
        {
         "boxpoints": false,
         "line": {
          "width": 1.3
         },
         "marker": {
          "color": "rgba(128, 0, 128, 1.0)"
         },
         "name": "D",
         "orientation": "v",
         "type": "box",
         "y": [
          0.08882602290852044,
          0.3472852132477984,
          -0.37246145250677315,
          -0.5471198817931465,
          0.9612201659969524,
          -0.9855005302431957,
          1.119709969364751,
          -1.5617645240073064,
          0.3784234935225686,
          0.8406059405919006,
          0.2478538909570599,
          0.2245201258386008,
          -0.014007087076950283,
          -0.017978432906322183,
          0.23460468060069478,
          -0.46640179910384066,
          0.8643632730322002,
          -2.6157456252518436,
          1.1628922977618183,
          -0.7598486830496928,
          -0.6520913250599274,
          -0.013592979843362926,
          -2.7804940392783677,
          -0.3473536826461263,
          1.1078778869163652,
          0.5857347552960472,
          -0.9958308215441067,
          -2.5263763627546973,
          -0.26672147672956403,
          0.2862130405186244,
          -2.6837494659660046,
          0.3033874733214488,
          0.5033661712626599,
          1.2197512825265693,
          -0.7138700472974253,
          -1.925808072447536,
          -0.5814574365040682,
          -0.4316677271910598,
          -0.5703494359618949,
          -0.858974487595339,
          -1.268676361059802,
          1.8444717976597462,
          -2.1710324942939474,
          -0.3184873602637343,
          0.8737016676868598,
          0.44676451160752684,
          0.19552955849466425,
          0.0097143559489846,
          -0.0907528690945857,
          0.08390466816220352,
          0.8499106301768232,
          -0.5016390313044293,
          -1.31739615184278,
          -0.9576190435279951,
          -0.4544082003105043,
          -0.4869871195405576,
          -0.8031200143028007,
          1.075905546432674,
          0.11504800737028045,
          0.6313800121106293,
          -0.02836752563835282,
          0.20623183108131207,
          0.4924132535395281,
          0.36853576080201733,
          0.37820890226831194,
          -1.2439165858578292,
          -1.0284139820799816,
          0.21205417447788924,
          1.3137150199660272,
          -1.6444588158118052,
          -0.30379493368012983,
          -0.4395301958526581,
          -0.3402084180822364,
          0.6792109021535856,
          2.2801482871709338,
          -1.558556941237184,
          1.2111088848996647,
          -0.4985515344568757,
          -0.9371606948293234,
          -0.23032569341794734,
          -0.5784890532022261,
          1.4498168645510277,
          -0.6048136450530708,
          -0.18714427053050872,
          0.5624949566075169,
          0.2609508920583652,
          -1.6613993136336094,
          -0.6533027541602376,
          0.3832809683638925,
          0.7929129370617669,
          -0.19080093806256554,
          0.7551565441543654,
          -0.34100404750090174,
          1.487922424333899,
          1.0231598093783791,
          -0.20659353593347068,
          -0.31801059017001254,
          0.025258088091292458,
          -1.3992419746609126,
          -0.9911240824684592
         ]
        }
       ],
       "layout": {
        "legend": {
         "bgcolor": "#F5F6F9",
         "font": {
          "color": "#4D5663"
         }
        },
        "paper_bgcolor": "#F5F6F9",
        "plot_bgcolor": "#F5F6F9",
        "template": {
         "data": {
          "bar": [
           {
            "error_x": {
             "color": "#2a3f5f"
            },
            "error_y": {
             "color": "#2a3f5f"
            },
            "marker": {
             "line": {
              "color": "#E5ECF6",
              "width": 0.5
             },
             "pattern": {
              "fillmode": "overlay",
              "size": 10,
              "solidity": 0.2
             }
            },
            "type": "bar"
           }
          ],
          "barpolar": [
           {
            "marker": {
             "line": {
              "color": "#E5ECF6",
              "width": 0.5
             },
             "pattern": {
              "fillmode": "overlay",
              "size": 10,
              "solidity": 0.2
             }
            },
            "type": "barpolar"
           }
          ],
          "carpet": [
           {
            "aaxis": {
             "endlinecolor": "#2a3f5f",
             "gridcolor": "white",
             "linecolor": "white",
             "minorgridcolor": "white",
             "startlinecolor": "#2a3f5f"
            },
            "baxis": {
             "endlinecolor": "#2a3f5f",
             "gridcolor": "white",
             "linecolor": "white",
             "minorgridcolor": "white",
             "startlinecolor": "#2a3f5f"
            },
            "type": "carpet"
           }
          ],
          "choropleth": [
           {
            "colorbar": {
             "outlinewidth": 0,
             "ticks": ""
            },
            "type": "choropleth"
           }
          ],
          "contour": [
           {
            "colorbar": {
             "outlinewidth": 0,
             "ticks": ""
            },
            "colorscale": [
             [
              0,
              "#0d0887"
             ],
             [
              0.1111111111111111,
              "#46039f"
             ],
             [
              0.2222222222222222,
              "#7201a8"
             ],
             [
              0.3333333333333333,
              "#9c179e"
             ],
             [
              0.4444444444444444,
              "#bd3786"
             ],
             [
              0.5555555555555556,
              "#d8576b"
             ],
             [
              0.6666666666666666,
              "#ed7953"
             ],
             [
              0.7777777777777778,
              "#fb9f3a"
             ],
             [
              0.8888888888888888,
              "#fdca26"
             ],
             [
              1,
              "#f0f921"
             ]
            ],
            "type": "contour"
           }
          ],
          "contourcarpet": [
           {
            "colorbar": {
             "outlinewidth": 0,
             "ticks": ""
            },
            "type": "contourcarpet"
           }
          ],
          "heatmap": [
           {
            "colorbar": {
             "outlinewidth": 0,
             "ticks": ""
            },
            "colorscale": [
             [
              0,
              "#0d0887"
             ],
             [
              0.1111111111111111,
              "#46039f"
             ],
             [
              0.2222222222222222,
              "#7201a8"
             ],
             [
              0.3333333333333333,
              "#9c179e"
             ],
             [
              0.4444444444444444,
              "#bd3786"
             ],
             [
              0.5555555555555556,
              "#d8576b"
             ],
             [
              0.6666666666666666,
              "#ed7953"
             ],
             [
              0.7777777777777778,
              "#fb9f3a"
             ],
             [
              0.8888888888888888,
              "#fdca26"
             ],
             [
              1,
              "#f0f921"
             ]
            ],
            "type": "heatmap"
           }
          ],
          "heatmapgl": [
           {
            "colorbar": {
             "outlinewidth": 0,
             "ticks": ""
            },
            "colorscale": [
             [
              0,
              "#0d0887"
             ],
             [
              0.1111111111111111,
              "#46039f"
             ],
             [
              0.2222222222222222,
              "#7201a8"
             ],
             [
              0.3333333333333333,
              "#9c179e"
             ],
             [
              0.4444444444444444,
              "#bd3786"
             ],
             [
              0.5555555555555556,
              "#d8576b"
             ],
             [
              0.6666666666666666,
              "#ed7953"
             ],
             [
              0.7777777777777778,
              "#fb9f3a"
             ],
             [
              0.8888888888888888,
              "#fdca26"
             ],
             [
              1,
              "#f0f921"
             ]
            ],
            "type": "heatmapgl"
           }
          ],
          "histogram": [
           {
            "marker": {
             "pattern": {
              "fillmode": "overlay",
              "size": 10,
              "solidity": 0.2
             }
            },
            "type": "histogram"
           }
          ],
          "histogram2d": [
           {
            "colorbar": {
             "outlinewidth": 0,
             "ticks": ""
            },
            "colorscale": [
             [
              0,
              "#0d0887"
             ],
             [
              0.1111111111111111,
              "#46039f"
             ],
             [
              0.2222222222222222,
              "#7201a8"
             ],
             [
              0.3333333333333333,
              "#9c179e"
             ],
             [
              0.4444444444444444,
              "#bd3786"
             ],
             [
              0.5555555555555556,
              "#d8576b"
             ],
             [
              0.6666666666666666,
              "#ed7953"
             ],
             [
              0.7777777777777778,
              "#fb9f3a"
             ],
             [
              0.8888888888888888,
              "#fdca26"
             ],
             [
              1,
              "#f0f921"
             ]
            ],
            "type": "histogram2d"
           }
          ],
          "histogram2dcontour": [
           {
            "colorbar": {
             "outlinewidth": 0,
             "ticks": ""
            },
            "colorscale": [
             [
              0,
              "#0d0887"
             ],
             [
              0.1111111111111111,
              "#46039f"
             ],
             [
              0.2222222222222222,
              "#7201a8"
             ],
             [
              0.3333333333333333,
              "#9c179e"
             ],
             [
              0.4444444444444444,
              "#bd3786"
             ],
             [
              0.5555555555555556,
              "#d8576b"
             ],
             [
              0.6666666666666666,
              "#ed7953"
             ],
             [
              0.7777777777777778,
              "#fb9f3a"
             ],
             [
              0.8888888888888888,
              "#fdca26"
             ],
             [
              1,
              "#f0f921"
             ]
            ],
            "type": "histogram2dcontour"
           }
          ],
          "mesh3d": [
           {
            "colorbar": {
             "outlinewidth": 0,
             "ticks": ""
            },
            "type": "mesh3d"
           }
          ],
          "parcoords": [
           {
            "line": {
             "colorbar": {
              "outlinewidth": 0,
              "ticks": ""
             }
            },
            "type": "parcoords"
           }
          ],
          "pie": [
           {
            "automargin": true,
            "type": "pie"
           }
          ],
          "scatter": [
           {
            "fillpattern": {
             "fillmode": "overlay",
             "size": 10,
             "solidity": 0.2
            },
            "type": "scatter"
           }
          ],
          "scatter3d": [
           {
            "line": {
             "colorbar": {
              "outlinewidth": 0,
              "ticks": ""
             }
            },
            "marker": {
             "colorbar": {
              "outlinewidth": 0,
              "ticks": ""
             }
            },
            "type": "scatter3d"
           }
          ],
          "scattercarpet": [
           {
            "marker": {
             "colorbar": {
              "outlinewidth": 0,
              "ticks": ""
             }
            },
            "type": "scattercarpet"
           }
          ],
          "scattergeo": [
           {
            "marker": {
             "colorbar": {
              "outlinewidth": 0,
              "ticks": ""
             }
            },
            "type": "scattergeo"
           }
          ],
          "scattergl": [
           {
            "marker": {
             "colorbar": {
              "outlinewidth": 0,
              "ticks": ""
             }
            },
            "type": "scattergl"
           }
          ],
          "scattermapbox": [
           {
            "marker": {
             "colorbar": {
              "outlinewidth": 0,
              "ticks": ""
             }
            },
            "type": "scattermapbox"
           }
          ],
          "scatterpolar": [
           {
            "marker": {
             "colorbar": {
              "outlinewidth": 0,
              "ticks": ""
             }
            },
            "type": "scatterpolar"
           }
          ],
          "scatterpolargl": [
           {
            "marker": {
             "colorbar": {
              "outlinewidth": 0,
              "ticks": ""
             }
            },
            "type": "scatterpolargl"
           }
          ],
          "scatterternary": [
           {
            "marker": {
             "colorbar": {
              "outlinewidth": 0,
              "ticks": ""
             }
            },
            "type": "scatterternary"
           }
          ],
          "surface": [
           {
            "colorbar": {
             "outlinewidth": 0,
             "ticks": ""
            },
            "colorscale": [
             [
              0,
              "#0d0887"
             ],
             [
              0.1111111111111111,
              "#46039f"
             ],
             [
              0.2222222222222222,
              "#7201a8"
             ],
             [
              0.3333333333333333,
              "#9c179e"
             ],
             [
              0.4444444444444444,
              "#bd3786"
             ],
             [
              0.5555555555555556,
              "#d8576b"
             ],
             [
              0.6666666666666666,
              "#ed7953"
             ],
             [
              0.7777777777777778,
              "#fb9f3a"
             ],
             [
              0.8888888888888888,
              "#fdca26"
             ],
             [
              1,
              "#f0f921"
             ]
            ],
            "type": "surface"
           }
          ],
          "table": [
           {
            "cells": {
             "fill": {
              "color": "#EBF0F8"
             },
             "line": {
              "color": "white"
             }
            },
            "header": {
             "fill": {
              "color": "#C8D4E3"
             },
             "line": {
              "color": "white"
             }
            },
            "type": "table"
           }
          ]
         },
         "layout": {
          "annotationdefaults": {
           "arrowcolor": "#2a3f5f",
           "arrowhead": 0,
           "arrowwidth": 1
          },
          "autotypenumbers": "strict",
          "coloraxis": {
           "colorbar": {
            "outlinewidth": 0,
            "ticks": ""
           }
          },
          "colorscale": {
           "diverging": [
            [
             0,
             "#8e0152"
            ],
            [
             0.1,
             "#c51b7d"
            ],
            [
             0.2,
             "#de77ae"
            ],
            [
             0.3,
             "#f1b6da"
            ],
            [
             0.4,
             "#fde0ef"
            ],
            [
             0.5,
             "#f7f7f7"
            ],
            [
             0.6,
             "#e6f5d0"
            ],
            [
             0.7,
             "#b8e186"
            ],
            [
             0.8,
             "#7fbc41"
            ],
            [
             0.9,
             "#4d9221"
            ],
            [
             1,
             "#276419"
            ]
           ],
           "sequential": [
            [
             0,
             "#0d0887"
            ],
            [
             0.1111111111111111,
             "#46039f"
            ],
            [
             0.2222222222222222,
             "#7201a8"
            ],
            [
             0.3333333333333333,
             "#9c179e"
            ],
            [
             0.4444444444444444,
             "#bd3786"
            ],
            [
             0.5555555555555556,
             "#d8576b"
            ],
            [
             0.6666666666666666,
             "#ed7953"
            ],
            [
             0.7777777777777778,
             "#fb9f3a"
            ],
            [
             0.8888888888888888,
             "#fdca26"
            ],
            [
             1,
             "#f0f921"
            ]
           ],
           "sequentialminus": [
            [
             0,
             "#0d0887"
            ],
            [
             0.1111111111111111,
             "#46039f"
            ],
            [
             0.2222222222222222,
             "#7201a8"
            ],
            [
             0.3333333333333333,
             "#9c179e"
            ],
            [
             0.4444444444444444,
             "#bd3786"
            ],
            [
             0.5555555555555556,
             "#d8576b"
            ],
            [
             0.6666666666666666,
             "#ed7953"
            ],
            [
             0.7777777777777778,
             "#fb9f3a"
            ],
            [
             0.8888888888888888,
             "#fdca26"
            ],
            [
             1,
             "#f0f921"
            ]
           ]
          },
          "colorway": [
           "#636efa",
           "#EF553B",
           "#00cc96",
           "#ab63fa",
           "#FFA15A",
           "#19d3f3",
           "#FF6692",
           "#B6E880",
           "#FF97FF",
           "#FECB52"
          ],
          "font": {
           "color": "#2a3f5f"
          },
          "geo": {
           "bgcolor": "white",
           "lakecolor": "white",
           "landcolor": "#E5ECF6",
           "showlakes": true,
           "showland": true,
           "subunitcolor": "white"
          },
          "hoverlabel": {
           "align": "left"
          },
          "hovermode": "closest",
          "mapbox": {
           "style": "light"
          },
          "paper_bgcolor": "white",
          "plot_bgcolor": "#E5ECF6",
          "polar": {
           "angularaxis": {
            "gridcolor": "white",
            "linecolor": "white",
            "ticks": ""
           },
           "bgcolor": "#E5ECF6",
           "radialaxis": {
            "gridcolor": "white",
            "linecolor": "white",
            "ticks": ""
           }
          },
          "scene": {
           "xaxis": {
            "backgroundcolor": "#E5ECF6",
            "gridcolor": "white",
            "gridwidth": 2,
            "linecolor": "white",
            "showbackground": true,
            "ticks": "",
            "zerolinecolor": "white"
           },
           "yaxis": {
            "backgroundcolor": "#E5ECF6",
            "gridcolor": "white",
            "gridwidth": 2,
            "linecolor": "white",
            "showbackground": true,
            "ticks": "",
            "zerolinecolor": "white"
           },
           "zaxis": {
            "backgroundcolor": "#E5ECF6",
            "gridcolor": "white",
            "gridwidth": 2,
            "linecolor": "white",
            "showbackground": true,
            "ticks": "",
            "zerolinecolor": "white"
           }
          },
          "shapedefaults": {
           "line": {
            "color": "#2a3f5f"
           }
          },
          "ternary": {
           "aaxis": {
            "gridcolor": "white",
            "linecolor": "white",
            "ticks": ""
           },
           "baxis": {
            "gridcolor": "white",
            "linecolor": "white",
            "ticks": ""
           },
           "bgcolor": "#E5ECF6",
           "caxis": {
            "gridcolor": "white",
            "linecolor": "white",
            "ticks": ""
           }
          },
          "title": {
           "x": 0.05
          },
          "xaxis": {
           "automargin": true,
           "gridcolor": "white",
           "linecolor": "white",
           "ticks": "",
           "title": {
            "standoff": 15
           },
           "zerolinecolor": "white",
           "zerolinewidth": 2
          },
          "yaxis": {
           "automargin": true,
           "gridcolor": "white",
           "linecolor": "white",
           "ticks": "",
           "title": {
            "standoff": 15
           },
           "zerolinecolor": "white",
           "zerolinewidth": 2
          }
         }
        },
        "title": {
         "font": {
          "color": "#4D5663"
         }
        },
        "xaxis": {
         "gridcolor": "#E1E5ED",
         "showgrid": true,
         "tickfont": {
          "color": "#4D5663"
         },
         "title": {
          "font": {
           "color": "#4D5663"
          },
          "text": ""
         },
         "zerolinecolor": "#E1E5ED"
        },
        "yaxis": {
         "gridcolor": "#E1E5ED",
         "showgrid": true,
         "tickfont": {
          "color": "#4D5663"
         },
         "title": {
          "font": {
           "color": "#4D5663"
          },
          "text": ""
         },
         "zerolinecolor": "#E1E5ED"
        }
       }
      },
      "text/html": [
       "<div>                            <div id=\"ac1e40ca-c665-46f7-824f-2f7b78a0f094\" class=\"plotly-graph-div\" style=\"height:525px; width:100%;\"></div>            <script type=\"text/javascript\">                require([\"plotly\"], function(Plotly) {                    window.PLOTLYENV=window.PLOTLYENV || {};\n",
       "                    window.PLOTLYENV.BASE_URL='https://plot.ly';                                    if (document.getElementById(\"ac1e40ca-c665-46f7-824f-2f7b78a0f094\")) {                    Plotly.newPlot(                        \"ac1e40ca-c665-46f7-824f-2f7b78a0f094\",                        [{\"boxpoints\":false,\"line\":{\"width\":1.3},\"marker\":{\"color\":\"rgba(255, 153, 51, 1.0)\"},\"name\":\"A\",\"orientation\":\"v\",\"y\":[0.15387951566040683,2.181248765458232,-0.13566587094592006,2.5826373196933714,1.6784225961066819,-0.16299128101973356,-0.17874297565492092,0.48903983504613824,-0.050245207821652656,-0.21504123172855624,-0.9579247028153586,-0.9893440631800207,-0.5545866030923471,-0.729196183556216,-2.1468969108658733,1.443650242734995,0.9090913732870752,0.16199268989531002,-0.9466477932939458,0.35055814554620657,-0.21162327402463743,0.6365749108453906,-0.3836843220449782,1.0035932100576173,-0.6335239904754568,0.8596977337897347,0.4447230070289421,-1.2523804891664259,-0.13451250405916465,-0.5780800680607079,-0.2450155534501923,-0.9832040367280465,-0.23809181759312123,-0.34116672085694183,-0.8558574974421355,1.699621211172324,-1.0103056803776571,-0.8897721763689249,0.9747541077716472,0.2733325155193339,-2.3269122184399578,-0.3725394679542613,-1.1036867869571978,-0.1352555301863368,-1.1509761019037328,-1.2187335433615616,0.05506999604218593,-0.10228406176818654,1.2778340337032956,-1.6499243125727343,0.2584083064742115,0.022789195090183578,-0.05469858920966472,0.6934335354023595,-0.3582243331584894,-0.6762481063753567,-2.6093883903092228,0.08746280693315048,0.7907999135080389,-0.016400209655702606,-1.020020479062982,1.062252800413191,0.06000472648461456,-0.5751331128737663,0.7283756600309553,0.1828699910324269,-0.15630554197630672,-1.864294517478185,-0.05583743965754278,-1.3671415114751497,-0.2859607383869635,0.49472919490075573,-0.35969076601765726,0.9720742091395949,-0.11590515837531183,0.39360624198567107,0.7839283888154851,-1.177254142345938,0.8315862249829457,-1.1865453897625722,1.29698117990059,0.8766686456478701,0.7043101490622228,0.34654329113273163,0.009958136649100556,-1.134745510635879,0.0785083179815372,-1.8470364158934645,-0.4875047829676378,-0.735646683248686,-1.316475374019799,1.3776811867196217,-1.321076206512763,0.45445257779186266,2.5370214104573803,0.5769179650580939,0.4222801389522976,-0.5517893605255988,-0.30363543870509463,-0.33995824148450854],\"type\":\"box\"},{\"boxpoints\":false,\"line\":{\"width\":1.3},\"marker\":{\"color\":\"rgba(55, 128, 191, 1.0)\"},\"name\":\"B\",\"orientation\":\"v\",\"y\":[0.2083619918066731,-0.007445592501653823,0.013438670371493154,-1.1402200714610695,-1.0037282728945376,-1.7796940522845184,1.4005425881113962,-0.12409065370077918,0.4452116013367775,-0.33569644713285623,0.9193071025427763,0.3170284786129296,0.13430335146684186,0.7787044216687309,0.21450459241797218,-1.5092666232396665,0.7919886424619987,-0.1927552256597784,0.1407274967059369,0.913396235037004,-0.39175435019456206,-0.5407190613207937,-1.129410685739879,-0.7073325132739956,-0.1202465665969558,-1.2835242588380795,-0.37277920098249084,0.40015445605057215,-0.40024857144059733,-0.6379169763897673,-0.2866340398118274,0.06139895861208848,-2.252517714720179,0.5457545446741421,1.1544587442506151,-0.6168270294189658,-0.3630037900029631,-1.2010279486365256,-0.7653438306648163,-0.11053318751770316,0.38388124646772853,-1.2674203103987471,0.0028399536666268025,-1.5494254508705259,2.095749715307753,-0.5641187149411993,0.34709305987418854,0.6236619982195952,-0.08063942778001149,0.08689494745775367,-1.2433803804032548,0.17159566961706876,-0.0032167099066127717,0.11739239250666493,0.38951736549480986,-1.0280734833091218,-0.4800090749698621,0.5740201552456949,-1.2084516763572983,0.7238828648723517,2.2005364752879752,0.15802727378773124,0.32649568568896786,-2.7143738424005797,0.38341951411432434,1.116813227600596,-0.01989660137589359,1.8878704671898408,-0.6405584469147696,-2.3590894870123007,-0.8715844322342543,-1.4398225910640223,1.3363221386595507,1.8283221642713612,-1.1084543823687798,-0.9822653578380953,-0.6494889734849333,-0.3426015797521599,-0.6837935756698565,0.6076716337813307,0.33659591669323224,0.4269690302146352,-0.9343729078118749,0.02124021733474761,-0.8433181262016681,-1.6579278057042166,1.0367687781471089,-0.508413311460955,1.039475592623558,-0.23178447064330665,0.0724413119156897,0.3487934006331482,1.4631758122581195,-1.9585115623098048,0.05495266418138907,0.01997126586927419,0.19730602361652821,-0.07707793518496193,1.2635910163603281,-1.575182626460573],\"type\":\"box\"},{\"boxpoints\":false,\"line\":{\"width\":1.3},\"marker\":{\"color\":\"rgba(50, 171, 96, 1.0)\"},\"name\":\"C\",\"orientation\":\"v\",\"y\":[0.4106594435925352,0.16451668922706855,-0.5369782056226539,0.5660853315566969,-0.6276131115541184,-0.35623907365489893,2.747624814704155,-1.2334283538430675,0.5953695186024907,-0.43852943328974997,0.10864185727711775,1.3197907328048857,-0.7903712263306164,-0.31436931313673816,0.47876479857992377,-0.2304329790855753,-0.061560034155332115,0.3004897403370486,1.79510490898758,1.2737593271137766,1.6419424352503602,1.852751669824922,0.8831830072945414,-0.5882779788344554,0.3703825755458452,1.3929082760023928,-1.2071419796121867,0.011100149059746016,-0.8635739978677018,1.8413447682384052,-1.8794815878480156,1.5621316515960426,-0.06962888037480293,-0.6454974165203449,-0.3910014561766563,-1.5022335662754505,0.15306706295055966,-2.4860561301597333,-0.23823128755041628,0.7955648043997234,-1.123206905763666,1.1149380253123027,0.5841552064517905,1.5849024443809798,2.183832117184637,1.1175896993788657,-2.412033509219897,-1.1201490345928256,0.3107292331598913,0.20800900242550194,-0.24909411972896087,-0.926708027691749,0.36539845848899705,-1.0705890309135304,0.44291927119139923,1.0578310118172347,-1.038867142693977,-0.10689897007298131,-0.6760368140223842,-0.5593242936247103,0.4123230011731821,0.24003181245138533,-0.4209577645954547,-0.1558898255604296,1.178123514861103,0.22598894428301605,0.5908452772763777,-1.0324048991723151,-0.31238836333956754,-0.6219794206029533,0.8572476323195839,0.9116187337831878,0.6936904236664377,0.011038814736188172,0.5282033650357248,-2.2337668917608267,0.3476652905185053,-1.847080978535126,0.9563701003727998,-0.040863608859851734,0.5495966278412764,1.6700886104241803,1.5442686926470075,1.010725902990785,0.037871630419494456,-2.648921228271641,-1.0762630270105022,-1.6877633899055529,-0.7502413749444725,0.09517969500198269,-0.8494083429449227,0.16620975044199085,-0.5609639231128154,1.1383046777516879,0.20397077776091715,0.8810095241960068,-0.29968980450177246,0.3106062982832132,1.0062792714069575,0.5117597024230559],\"type\":\"box\"},{\"boxpoints\":false,\"line\":{\"width\":1.3},\"marker\":{\"color\":\"rgba(128, 0, 128, 1.0)\"},\"name\":\"D\",\"orientation\":\"v\",\"y\":[0.08882602290852044,0.3472852132477984,-0.37246145250677315,-0.5471198817931465,0.9612201659969524,-0.9855005302431957,1.119709969364751,-1.5617645240073064,0.3784234935225686,0.8406059405919006,0.2478538909570599,0.2245201258386008,-0.014007087076950283,-0.017978432906322183,0.23460468060069478,-0.46640179910384066,0.8643632730322002,-2.6157456252518436,1.1628922977618183,-0.7598486830496928,-0.6520913250599274,-0.013592979843362926,-2.7804940392783677,-0.3473536826461263,1.1078778869163652,0.5857347552960472,-0.9958308215441067,-2.5263763627546973,-0.26672147672956403,0.2862130405186244,-2.6837494659660046,0.3033874733214488,0.5033661712626599,1.2197512825265693,-0.7138700472974253,-1.925808072447536,-0.5814574365040682,-0.4316677271910598,-0.5703494359618949,-0.858974487595339,-1.268676361059802,1.8444717976597462,-2.1710324942939474,-0.3184873602637343,0.8737016676868598,0.44676451160752684,0.19552955849466425,0.0097143559489846,-0.0907528690945857,0.08390466816220352,0.8499106301768232,-0.5016390313044293,-1.31739615184278,-0.9576190435279951,-0.4544082003105043,-0.4869871195405576,-0.8031200143028007,1.075905546432674,0.11504800737028045,0.6313800121106293,-0.02836752563835282,0.20623183108131207,0.4924132535395281,0.36853576080201733,0.37820890226831194,-1.2439165858578292,-1.0284139820799816,0.21205417447788924,1.3137150199660272,-1.6444588158118052,-0.30379493368012983,-0.4395301958526581,-0.3402084180822364,0.6792109021535856,2.2801482871709338,-1.558556941237184,1.2111088848996647,-0.4985515344568757,-0.9371606948293234,-0.23032569341794734,-0.5784890532022261,1.4498168645510277,-0.6048136450530708,-0.18714427053050872,0.5624949566075169,0.2609508920583652,-1.6613993136336094,-0.6533027541602376,0.3832809683638925,0.7929129370617669,-0.19080093806256554,0.7551565441543654,-0.34100404750090174,1.487922424333899,1.0231598093783791,-0.20659353593347068,-0.31801059017001254,0.025258088091292458,-1.3992419746609126,-0.9911240824684592],\"type\":\"box\"}],                        {\"legend\":{\"bgcolor\":\"#F5F6F9\",\"font\":{\"color\":\"#4D5663\"}},\"paper_bgcolor\":\"#F5F6F9\",\"plot_bgcolor\":\"#F5F6F9\",\"template\":{\"data\":{\"barpolar\":[{\"marker\":{\"line\":{\"color\":\"#E5ECF6\",\"width\":0.5},\"pattern\":{\"fillmode\":\"overlay\",\"size\":10,\"solidity\":0.2}},\"type\":\"barpolar\"}],\"bar\":[{\"error_x\":{\"color\":\"#2a3f5f\"},\"error_y\":{\"color\":\"#2a3f5f\"},\"marker\":{\"line\":{\"color\":\"#E5ECF6\",\"width\":0.5},\"pattern\":{\"fillmode\":\"overlay\",\"size\":10,\"solidity\":0.2}},\"type\":\"bar\"}],\"carpet\":[{\"aaxis\":{\"endlinecolor\":\"#2a3f5f\",\"gridcolor\":\"white\",\"linecolor\":\"white\",\"minorgridcolor\":\"white\",\"startlinecolor\":\"#2a3f5f\"},\"baxis\":{\"endlinecolor\":\"#2a3f5f\",\"gridcolor\":\"white\",\"linecolor\":\"white\",\"minorgridcolor\":\"white\",\"startlinecolor\":\"#2a3f5f\"},\"type\":\"carpet\"}],\"choropleth\":[{\"colorbar\":{\"outlinewidth\":0,\"ticks\":\"\"},\"type\":\"choropleth\"}],\"contourcarpet\":[{\"colorbar\":{\"outlinewidth\":0,\"ticks\":\"\"},\"type\":\"contourcarpet\"}],\"contour\":[{\"colorbar\":{\"outlinewidth\":0,\"ticks\":\"\"},\"colorscale\":[[0.0,\"#0d0887\"],[0.1111111111111111,\"#46039f\"],[0.2222222222222222,\"#7201a8\"],[0.3333333333333333,\"#9c179e\"],[0.4444444444444444,\"#bd3786\"],[0.5555555555555556,\"#d8576b\"],[0.6666666666666666,\"#ed7953\"],[0.7777777777777778,\"#fb9f3a\"],[0.8888888888888888,\"#fdca26\"],[1.0,\"#f0f921\"]],\"type\":\"contour\"}],\"heatmapgl\":[{\"colorbar\":{\"outlinewidth\":0,\"ticks\":\"\"},\"colorscale\":[[0.0,\"#0d0887\"],[0.1111111111111111,\"#46039f\"],[0.2222222222222222,\"#7201a8\"],[0.3333333333333333,\"#9c179e\"],[0.4444444444444444,\"#bd3786\"],[0.5555555555555556,\"#d8576b\"],[0.6666666666666666,\"#ed7953\"],[0.7777777777777778,\"#fb9f3a\"],[0.8888888888888888,\"#fdca26\"],[1.0,\"#f0f921\"]],\"type\":\"heatmapgl\"}],\"heatmap\":[{\"colorbar\":{\"outlinewidth\":0,\"ticks\":\"\"},\"colorscale\":[[0.0,\"#0d0887\"],[0.1111111111111111,\"#46039f\"],[0.2222222222222222,\"#7201a8\"],[0.3333333333333333,\"#9c179e\"],[0.4444444444444444,\"#bd3786\"],[0.5555555555555556,\"#d8576b\"],[0.6666666666666666,\"#ed7953\"],[0.7777777777777778,\"#fb9f3a\"],[0.8888888888888888,\"#fdca26\"],[1.0,\"#f0f921\"]],\"type\":\"heatmap\"}],\"histogram2dcontour\":[{\"colorbar\":{\"outlinewidth\":0,\"ticks\":\"\"},\"colorscale\":[[0.0,\"#0d0887\"],[0.1111111111111111,\"#46039f\"],[0.2222222222222222,\"#7201a8\"],[0.3333333333333333,\"#9c179e\"],[0.4444444444444444,\"#bd3786\"],[0.5555555555555556,\"#d8576b\"],[0.6666666666666666,\"#ed7953\"],[0.7777777777777778,\"#fb9f3a\"],[0.8888888888888888,\"#fdca26\"],[1.0,\"#f0f921\"]],\"type\":\"histogram2dcontour\"}],\"histogram2d\":[{\"colorbar\":{\"outlinewidth\":0,\"ticks\":\"\"},\"colorscale\":[[0.0,\"#0d0887\"],[0.1111111111111111,\"#46039f\"],[0.2222222222222222,\"#7201a8\"],[0.3333333333333333,\"#9c179e\"],[0.4444444444444444,\"#bd3786\"],[0.5555555555555556,\"#d8576b\"],[0.6666666666666666,\"#ed7953\"],[0.7777777777777778,\"#fb9f3a\"],[0.8888888888888888,\"#fdca26\"],[1.0,\"#f0f921\"]],\"type\":\"histogram2d\"}],\"histogram\":[{\"marker\":{\"pattern\":{\"fillmode\":\"overlay\",\"size\":10,\"solidity\":0.2}},\"type\":\"histogram\"}],\"mesh3d\":[{\"colorbar\":{\"outlinewidth\":0,\"ticks\":\"\"},\"type\":\"mesh3d\"}],\"parcoords\":[{\"line\":{\"colorbar\":{\"outlinewidth\":0,\"ticks\":\"\"}},\"type\":\"parcoords\"}],\"pie\":[{\"automargin\":true,\"type\":\"pie\"}],\"scatter3d\":[{\"line\":{\"colorbar\":{\"outlinewidth\":0,\"ticks\":\"\"}},\"marker\":{\"colorbar\":{\"outlinewidth\":0,\"ticks\":\"\"}},\"type\":\"scatter3d\"}],\"scattercarpet\":[{\"marker\":{\"colorbar\":{\"outlinewidth\":0,\"ticks\":\"\"}},\"type\":\"scattercarpet\"}],\"scattergeo\":[{\"marker\":{\"colorbar\":{\"outlinewidth\":0,\"ticks\":\"\"}},\"type\":\"scattergeo\"}],\"scattergl\":[{\"marker\":{\"colorbar\":{\"outlinewidth\":0,\"ticks\":\"\"}},\"type\":\"scattergl\"}],\"scattermapbox\":[{\"marker\":{\"colorbar\":{\"outlinewidth\":0,\"ticks\":\"\"}},\"type\":\"scattermapbox\"}],\"scatterpolargl\":[{\"marker\":{\"colorbar\":{\"outlinewidth\":0,\"ticks\":\"\"}},\"type\":\"scatterpolargl\"}],\"scatterpolar\":[{\"marker\":{\"colorbar\":{\"outlinewidth\":0,\"ticks\":\"\"}},\"type\":\"scatterpolar\"}],\"scatter\":[{\"fillpattern\":{\"fillmode\":\"overlay\",\"size\":10,\"solidity\":0.2},\"type\":\"scatter\"}],\"scatterternary\":[{\"marker\":{\"colorbar\":{\"outlinewidth\":0,\"ticks\":\"\"}},\"type\":\"scatterternary\"}],\"surface\":[{\"colorbar\":{\"outlinewidth\":0,\"ticks\":\"\"},\"colorscale\":[[0.0,\"#0d0887\"],[0.1111111111111111,\"#46039f\"],[0.2222222222222222,\"#7201a8\"],[0.3333333333333333,\"#9c179e\"],[0.4444444444444444,\"#bd3786\"],[0.5555555555555556,\"#d8576b\"],[0.6666666666666666,\"#ed7953\"],[0.7777777777777778,\"#fb9f3a\"],[0.8888888888888888,\"#fdca26\"],[1.0,\"#f0f921\"]],\"type\":\"surface\"}],\"table\":[{\"cells\":{\"fill\":{\"color\":\"#EBF0F8\"},\"line\":{\"color\":\"white\"}},\"header\":{\"fill\":{\"color\":\"#C8D4E3\"},\"line\":{\"color\":\"white\"}},\"type\":\"table\"}]},\"layout\":{\"annotationdefaults\":{\"arrowcolor\":\"#2a3f5f\",\"arrowhead\":0,\"arrowwidth\":1},\"autotypenumbers\":\"strict\",\"coloraxis\":{\"colorbar\":{\"outlinewidth\":0,\"ticks\":\"\"}},\"colorscale\":{\"diverging\":[[0,\"#8e0152\"],[0.1,\"#c51b7d\"],[0.2,\"#de77ae\"],[0.3,\"#f1b6da\"],[0.4,\"#fde0ef\"],[0.5,\"#f7f7f7\"],[0.6,\"#e6f5d0\"],[0.7,\"#b8e186\"],[0.8,\"#7fbc41\"],[0.9,\"#4d9221\"],[1,\"#276419\"]],\"sequential\":[[0.0,\"#0d0887\"],[0.1111111111111111,\"#46039f\"],[0.2222222222222222,\"#7201a8\"],[0.3333333333333333,\"#9c179e\"],[0.4444444444444444,\"#bd3786\"],[0.5555555555555556,\"#d8576b\"],[0.6666666666666666,\"#ed7953\"],[0.7777777777777778,\"#fb9f3a\"],[0.8888888888888888,\"#fdca26\"],[1.0,\"#f0f921\"]],\"sequentialminus\":[[0.0,\"#0d0887\"],[0.1111111111111111,\"#46039f\"],[0.2222222222222222,\"#7201a8\"],[0.3333333333333333,\"#9c179e\"],[0.4444444444444444,\"#bd3786\"],[0.5555555555555556,\"#d8576b\"],[0.6666666666666666,\"#ed7953\"],[0.7777777777777778,\"#fb9f3a\"],[0.8888888888888888,\"#fdca26\"],[1.0,\"#f0f921\"]]},\"colorway\":[\"#636efa\",\"#EF553B\",\"#00cc96\",\"#ab63fa\",\"#FFA15A\",\"#19d3f3\",\"#FF6692\",\"#B6E880\",\"#FF97FF\",\"#FECB52\"],\"font\":{\"color\":\"#2a3f5f\"},\"geo\":{\"bgcolor\":\"white\",\"lakecolor\":\"white\",\"landcolor\":\"#E5ECF6\",\"showlakes\":true,\"showland\":true,\"subunitcolor\":\"white\"},\"hoverlabel\":{\"align\":\"left\"},\"hovermode\":\"closest\",\"mapbox\":{\"style\":\"light\"},\"paper_bgcolor\":\"white\",\"plot_bgcolor\":\"#E5ECF6\",\"polar\":{\"angularaxis\":{\"gridcolor\":\"white\",\"linecolor\":\"white\",\"ticks\":\"\"},\"bgcolor\":\"#E5ECF6\",\"radialaxis\":{\"gridcolor\":\"white\",\"linecolor\":\"white\",\"ticks\":\"\"}},\"scene\":{\"xaxis\":{\"backgroundcolor\":\"#E5ECF6\",\"gridcolor\":\"white\",\"gridwidth\":2,\"linecolor\":\"white\",\"showbackground\":true,\"ticks\":\"\",\"zerolinecolor\":\"white\"},\"yaxis\":{\"backgroundcolor\":\"#E5ECF6\",\"gridcolor\":\"white\",\"gridwidth\":2,\"linecolor\":\"white\",\"showbackground\":true,\"ticks\":\"\",\"zerolinecolor\":\"white\"},\"zaxis\":{\"backgroundcolor\":\"#E5ECF6\",\"gridcolor\":\"white\",\"gridwidth\":2,\"linecolor\":\"white\",\"showbackground\":true,\"ticks\":\"\",\"zerolinecolor\":\"white\"}},\"shapedefaults\":{\"line\":{\"color\":\"#2a3f5f\"}},\"ternary\":{\"aaxis\":{\"gridcolor\":\"white\",\"linecolor\":\"white\",\"ticks\":\"\"},\"baxis\":{\"gridcolor\":\"white\",\"linecolor\":\"white\",\"ticks\":\"\"},\"bgcolor\":\"#E5ECF6\",\"caxis\":{\"gridcolor\":\"white\",\"linecolor\":\"white\",\"ticks\":\"\"}},\"title\":{\"x\":0.05},\"xaxis\":{\"automargin\":true,\"gridcolor\":\"white\",\"linecolor\":\"white\",\"ticks\":\"\",\"title\":{\"standoff\":15},\"zerolinecolor\":\"white\",\"zerolinewidth\":2},\"yaxis\":{\"automargin\":true,\"gridcolor\":\"white\",\"linecolor\":\"white\",\"ticks\":\"\",\"title\":{\"standoff\":15},\"zerolinecolor\":\"white\",\"zerolinewidth\":2}}},\"title\":{\"font\":{\"color\":\"#4D5663\"}},\"xaxis\":{\"gridcolor\":\"#E1E5ED\",\"showgrid\":true,\"tickfont\":{\"color\":\"#4D5663\"},\"title\":{\"font\":{\"color\":\"#4D5663\"},\"text\":\"\"},\"zerolinecolor\":\"#E1E5ED\"},\"yaxis\":{\"gridcolor\":\"#E1E5ED\",\"showgrid\":true,\"tickfont\":{\"color\":\"#4D5663\"},\"title\":{\"font\":{\"color\":\"#4D5663\"},\"text\":\"\"},\"zerolinecolor\":\"#E1E5ED\"}},                        {\"showLink\": true, \"linkText\": \"Export to plot.ly\", \"plotlyServerURL\": \"https://plot.ly\", \"responsive\": true}                    ).then(function(){\n",
       "                            \n",
       "var gd = document.getElementById('ac1e40ca-c665-46f7-824f-2f7b78a0f094');\n",
       "var x = new MutationObserver(function (mutations, observer) {{\n",
       "        var display = window.getComputedStyle(gd).display;\n",
       "        if (!display || display === 'none') {{\n",
       "            console.log([gd, 'removed!']);\n",
       "            Plotly.purge(gd);\n",
       "            observer.disconnect();\n",
       "        }}\n",
       "}});\n",
       "\n",
       "// Listen for the removal of the full notebook cells\n",
       "var notebookContainer = gd.closest('#notebook-container');\n",
       "if (notebookContainer) {{\n",
       "    x.observe(notebookContainer, {childList: true});\n",
       "}}\n",
       "\n",
       "// Listen for the clearing of the current output cell\n",
       "var outputEl = gd.closest('.output');\n",
       "if (outputEl) {{\n",
       "    x.observe(outputEl, {childList: true});\n",
       "}}\n",
       "\n",
       "                        })                };                });            </script>        </div>"
      ]
     },
     "metadata": {},
     "output_type": "display_data"
    }
   ],
   "source": [
    "df.iplot(kind='box')"
   ]
  },
  {
   "cell_type": "code",
   "execution_count": 17,
   "id": "9d6c70fa",
   "metadata": {},
   "outputs": [
    {
     "data": {
      "application/vnd.plotly.v1+json": {
       "config": {
        "linkText": "Export to plot.ly",
        "plotlyServerURL": "https://plot.ly",
        "showLink": true
       },
       "data": [
        {
         "colorscale": [
          [
           0,
           "rgb(165,0,38)"
          ],
          [
           0.1,
           "rgb(215,48,39)"
          ],
          [
           0.2,
           "rgb(244,109,67)"
          ],
          [
           0.3,
           "rgb(253,174,97)"
          ],
          [
           0.4,
           "rgb(254,224,144)"
          ],
          [
           0.5,
           "rgb(255,255,191)"
          ],
          [
           0.6,
           "rgb(224,243,248)"
          ],
          [
           0.7,
           "rgb(171,217,233)"
          ],
          [
           0.8,
           "rgb(116,173,209)"
          ],
          [
           0.9,
           "rgb(69,117,180)"
          ],
          [
           1,
           "rgb(49,54,149)"
          ]
         ],
         "type": "surface",
         "x": [
          0,
          1,
          2,
          3,
          4
         ],
         "y": [
          "x",
          "y",
          "z"
         ],
         "z": [
          [
           1,
           2,
           3,
           4,
           5
          ],
          [
           10,
           20,
           30,
           20,
           10
          ],
          [
           5,
           4,
           3,
           2,
           1
          ]
         ]
        }
       ],
       "layout": {
        "legend": {
         "bgcolor": "#F5F6F9",
         "font": {
          "color": "#4D5663"
         }
        },
        "paper_bgcolor": "#F5F6F9",
        "plot_bgcolor": "#F5F6F9",
        "template": {
         "data": {
          "bar": [
           {
            "error_x": {
             "color": "#2a3f5f"
            },
            "error_y": {
             "color": "#2a3f5f"
            },
            "marker": {
             "line": {
              "color": "#E5ECF6",
              "width": 0.5
             },
             "pattern": {
              "fillmode": "overlay",
              "size": 10,
              "solidity": 0.2
             }
            },
            "type": "bar"
           }
          ],
          "barpolar": [
           {
            "marker": {
             "line": {
              "color": "#E5ECF6",
              "width": 0.5
             },
             "pattern": {
              "fillmode": "overlay",
              "size": 10,
              "solidity": 0.2
             }
            },
            "type": "barpolar"
           }
          ],
          "carpet": [
           {
            "aaxis": {
             "endlinecolor": "#2a3f5f",
             "gridcolor": "white",
             "linecolor": "white",
             "minorgridcolor": "white",
             "startlinecolor": "#2a3f5f"
            },
            "baxis": {
             "endlinecolor": "#2a3f5f",
             "gridcolor": "white",
             "linecolor": "white",
             "minorgridcolor": "white",
             "startlinecolor": "#2a3f5f"
            },
            "type": "carpet"
           }
          ],
          "choropleth": [
           {
            "colorbar": {
             "outlinewidth": 0,
             "ticks": ""
            },
            "type": "choropleth"
           }
          ],
          "contour": [
           {
            "colorbar": {
             "outlinewidth": 0,
             "ticks": ""
            },
            "colorscale": [
             [
              0,
              "#0d0887"
             ],
             [
              0.1111111111111111,
              "#46039f"
             ],
             [
              0.2222222222222222,
              "#7201a8"
             ],
             [
              0.3333333333333333,
              "#9c179e"
             ],
             [
              0.4444444444444444,
              "#bd3786"
             ],
             [
              0.5555555555555556,
              "#d8576b"
             ],
             [
              0.6666666666666666,
              "#ed7953"
             ],
             [
              0.7777777777777778,
              "#fb9f3a"
             ],
             [
              0.8888888888888888,
              "#fdca26"
             ],
             [
              1,
              "#f0f921"
             ]
            ],
            "type": "contour"
           }
          ],
          "contourcarpet": [
           {
            "colorbar": {
             "outlinewidth": 0,
             "ticks": ""
            },
            "type": "contourcarpet"
           }
          ],
          "heatmap": [
           {
            "colorbar": {
             "outlinewidth": 0,
             "ticks": ""
            },
            "colorscale": [
             [
              0,
              "#0d0887"
             ],
             [
              0.1111111111111111,
              "#46039f"
             ],
             [
              0.2222222222222222,
              "#7201a8"
             ],
             [
              0.3333333333333333,
              "#9c179e"
             ],
             [
              0.4444444444444444,
              "#bd3786"
             ],
             [
              0.5555555555555556,
              "#d8576b"
             ],
             [
              0.6666666666666666,
              "#ed7953"
             ],
             [
              0.7777777777777778,
              "#fb9f3a"
             ],
             [
              0.8888888888888888,
              "#fdca26"
             ],
             [
              1,
              "#f0f921"
             ]
            ],
            "type": "heatmap"
           }
          ],
          "heatmapgl": [
           {
            "colorbar": {
             "outlinewidth": 0,
             "ticks": ""
            },
            "colorscale": [
             [
              0,
              "#0d0887"
             ],
             [
              0.1111111111111111,
              "#46039f"
             ],
             [
              0.2222222222222222,
              "#7201a8"
             ],
             [
              0.3333333333333333,
              "#9c179e"
             ],
             [
              0.4444444444444444,
              "#bd3786"
             ],
             [
              0.5555555555555556,
              "#d8576b"
             ],
             [
              0.6666666666666666,
              "#ed7953"
             ],
             [
              0.7777777777777778,
              "#fb9f3a"
             ],
             [
              0.8888888888888888,
              "#fdca26"
             ],
             [
              1,
              "#f0f921"
             ]
            ],
            "type": "heatmapgl"
           }
          ],
          "histogram": [
           {
            "marker": {
             "pattern": {
              "fillmode": "overlay",
              "size": 10,
              "solidity": 0.2
             }
            },
            "type": "histogram"
           }
          ],
          "histogram2d": [
           {
            "colorbar": {
             "outlinewidth": 0,
             "ticks": ""
            },
            "colorscale": [
             [
              0,
              "#0d0887"
             ],
             [
              0.1111111111111111,
              "#46039f"
             ],
             [
              0.2222222222222222,
              "#7201a8"
             ],
             [
              0.3333333333333333,
              "#9c179e"
             ],
             [
              0.4444444444444444,
              "#bd3786"
             ],
             [
              0.5555555555555556,
              "#d8576b"
             ],
             [
              0.6666666666666666,
              "#ed7953"
             ],
             [
              0.7777777777777778,
              "#fb9f3a"
             ],
             [
              0.8888888888888888,
              "#fdca26"
             ],
             [
              1,
              "#f0f921"
             ]
            ],
            "type": "histogram2d"
           }
          ],
          "histogram2dcontour": [
           {
            "colorbar": {
             "outlinewidth": 0,
             "ticks": ""
            },
            "colorscale": [
             [
              0,
              "#0d0887"
             ],
             [
              0.1111111111111111,
              "#46039f"
             ],
             [
              0.2222222222222222,
              "#7201a8"
             ],
             [
              0.3333333333333333,
              "#9c179e"
             ],
             [
              0.4444444444444444,
              "#bd3786"
             ],
             [
              0.5555555555555556,
              "#d8576b"
             ],
             [
              0.6666666666666666,
              "#ed7953"
             ],
             [
              0.7777777777777778,
              "#fb9f3a"
             ],
             [
              0.8888888888888888,
              "#fdca26"
             ],
             [
              1,
              "#f0f921"
             ]
            ],
            "type": "histogram2dcontour"
           }
          ],
          "mesh3d": [
           {
            "colorbar": {
             "outlinewidth": 0,
             "ticks": ""
            },
            "type": "mesh3d"
           }
          ],
          "parcoords": [
           {
            "line": {
             "colorbar": {
              "outlinewidth": 0,
              "ticks": ""
             }
            },
            "type": "parcoords"
           }
          ],
          "pie": [
           {
            "automargin": true,
            "type": "pie"
           }
          ],
          "scatter": [
           {
            "fillpattern": {
             "fillmode": "overlay",
             "size": 10,
             "solidity": 0.2
            },
            "type": "scatter"
           }
          ],
          "scatter3d": [
           {
            "line": {
             "colorbar": {
              "outlinewidth": 0,
              "ticks": ""
             }
            },
            "marker": {
             "colorbar": {
              "outlinewidth": 0,
              "ticks": ""
             }
            },
            "type": "scatter3d"
           }
          ],
          "scattercarpet": [
           {
            "marker": {
             "colorbar": {
              "outlinewidth": 0,
              "ticks": ""
             }
            },
            "type": "scattercarpet"
           }
          ],
          "scattergeo": [
           {
            "marker": {
             "colorbar": {
              "outlinewidth": 0,
              "ticks": ""
             }
            },
            "type": "scattergeo"
           }
          ],
          "scattergl": [
           {
            "marker": {
             "colorbar": {
              "outlinewidth": 0,
              "ticks": ""
             }
            },
            "type": "scattergl"
           }
          ],
          "scattermapbox": [
           {
            "marker": {
             "colorbar": {
              "outlinewidth": 0,
              "ticks": ""
             }
            },
            "type": "scattermapbox"
           }
          ],
          "scatterpolar": [
           {
            "marker": {
             "colorbar": {
              "outlinewidth": 0,
              "ticks": ""
             }
            },
            "type": "scatterpolar"
           }
          ],
          "scatterpolargl": [
           {
            "marker": {
             "colorbar": {
              "outlinewidth": 0,
              "ticks": ""
             }
            },
            "type": "scatterpolargl"
           }
          ],
          "scatterternary": [
           {
            "marker": {
             "colorbar": {
              "outlinewidth": 0,
              "ticks": ""
             }
            },
            "type": "scatterternary"
           }
          ],
          "surface": [
           {
            "colorbar": {
             "outlinewidth": 0,
             "ticks": ""
            },
            "colorscale": [
             [
              0,
              "#0d0887"
             ],
             [
              0.1111111111111111,
              "#46039f"
             ],
             [
              0.2222222222222222,
              "#7201a8"
             ],
             [
              0.3333333333333333,
              "#9c179e"
             ],
             [
              0.4444444444444444,
              "#bd3786"
             ],
             [
              0.5555555555555556,
              "#d8576b"
             ],
             [
              0.6666666666666666,
              "#ed7953"
             ],
             [
              0.7777777777777778,
              "#fb9f3a"
             ],
             [
              0.8888888888888888,
              "#fdca26"
             ],
             [
              1,
              "#f0f921"
             ]
            ],
            "type": "surface"
           }
          ],
          "table": [
           {
            "cells": {
             "fill": {
              "color": "#EBF0F8"
             },
             "line": {
              "color": "white"
             }
            },
            "header": {
             "fill": {
              "color": "#C8D4E3"
             },
             "line": {
              "color": "white"
             }
            },
            "type": "table"
           }
          ]
         },
         "layout": {
          "annotationdefaults": {
           "arrowcolor": "#2a3f5f",
           "arrowhead": 0,
           "arrowwidth": 1
          },
          "autotypenumbers": "strict",
          "coloraxis": {
           "colorbar": {
            "outlinewidth": 0,
            "ticks": ""
           }
          },
          "colorscale": {
           "diverging": [
            [
             0,
             "#8e0152"
            ],
            [
             0.1,
             "#c51b7d"
            ],
            [
             0.2,
             "#de77ae"
            ],
            [
             0.3,
             "#f1b6da"
            ],
            [
             0.4,
             "#fde0ef"
            ],
            [
             0.5,
             "#f7f7f7"
            ],
            [
             0.6,
             "#e6f5d0"
            ],
            [
             0.7,
             "#b8e186"
            ],
            [
             0.8,
             "#7fbc41"
            ],
            [
             0.9,
             "#4d9221"
            ],
            [
             1,
             "#276419"
            ]
           ],
           "sequential": [
            [
             0,
             "#0d0887"
            ],
            [
             0.1111111111111111,
             "#46039f"
            ],
            [
             0.2222222222222222,
             "#7201a8"
            ],
            [
             0.3333333333333333,
             "#9c179e"
            ],
            [
             0.4444444444444444,
             "#bd3786"
            ],
            [
             0.5555555555555556,
             "#d8576b"
            ],
            [
             0.6666666666666666,
             "#ed7953"
            ],
            [
             0.7777777777777778,
             "#fb9f3a"
            ],
            [
             0.8888888888888888,
             "#fdca26"
            ],
            [
             1,
             "#f0f921"
            ]
           ],
           "sequentialminus": [
            [
             0,
             "#0d0887"
            ],
            [
             0.1111111111111111,
             "#46039f"
            ],
            [
             0.2222222222222222,
             "#7201a8"
            ],
            [
             0.3333333333333333,
             "#9c179e"
            ],
            [
             0.4444444444444444,
             "#bd3786"
            ],
            [
             0.5555555555555556,
             "#d8576b"
            ],
            [
             0.6666666666666666,
             "#ed7953"
            ],
            [
             0.7777777777777778,
             "#fb9f3a"
            ],
            [
             0.8888888888888888,
             "#fdca26"
            ],
            [
             1,
             "#f0f921"
            ]
           ]
          },
          "colorway": [
           "#636efa",
           "#EF553B",
           "#00cc96",
           "#ab63fa",
           "#FFA15A",
           "#19d3f3",
           "#FF6692",
           "#B6E880",
           "#FF97FF",
           "#FECB52"
          ],
          "font": {
           "color": "#2a3f5f"
          },
          "geo": {
           "bgcolor": "white",
           "lakecolor": "white",
           "landcolor": "#E5ECF6",
           "showlakes": true,
           "showland": true,
           "subunitcolor": "white"
          },
          "hoverlabel": {
           "align": "left"
          },
          "hovermode": "closest",
          "mapbox": {
           "style": "light"
          },
          "paper_bgcolor": "white",
          "plot_bgcolor": "#E5ECF6",
          "polar": {
           "angularaxis": {
            "gridcolor": "white",
            "linecolor": "white",
            "ticks": ""
           },
           "bgcolor": "#E5ECF6",
           "radialaxis": {
            "gridcolor": "white",
            "linecolor": "white",
            "ticks": ""
           }
          },
          "scene": {
           "xaxis": {
            "backgroundcolor": "#E5ECF6",
            "gridcolor": "white",
            "gridwidth": 2,
            "linecolor": "white",
            "showbackground": true,
            "ticks": "",
            "zerolinecolor": "white"
           },
           "yaxis": {
            "backgroundcolor": "#E5ECF6",
            "gridcolor": "white",
            "gridwidth": 2,
            "linecolor": "white",
            "showbackground": true,
            "ticks": "",
            "zerolinecolor": "white"
           },
           "zaxis": {
            "backgroundcolor": "#E5ECF6",
            "gridcolor": "white",
            "gridwidth": 2,
            "linecolor": "white",
            "showbackground": true,
            "ticks": "",
            "zerolinecolor": "white"
           }
          },
          "shapedefaults": {
           "line": {
            "color": "#2a3f5f"
           }
          },
          "ternary": {
           "aaxis": {
            "gridcolor": "white",
            "linecolor": "white",
            "ticks": ""
           },
           "baxis": {
            "gridcolor": "white",
            "linecolor": "white",
            "ticks": ""
           },
           "bgcolor": "#E5ECF6",
           "caxis": {
            "gridcolor": "white",
            "linecolor": "white",
            "ticks": ""
           }
          },
          "title": {
           "x": 0.05
          },
          "xaxis": {
           "automargin": true,
           "gridcolor": "white",
           "linecolor": "white",
           "ticks": "",
           "title": {
            "standoff": 15
           },
           "zerolinecolor": "white",
           "zerolinewidth": 2
          },
          "yaxis": {
           "automargin": true,
           "gridcolor": "white",
           "linecolor": "white",
           "ticks": "",
           "title": {
            "standoff": 15
           },
           "zerolinecolor": "white",
           "zerolinewidth": 2
          }
         }
        },
        "title": {
         "font": {
          "color": "#4D5663"
         }
        },
        "xaxis": {
         "gridcolor": "#E1E5ED",
         "showgrid": true,
         "tickfont": {
          "color": "#4D5663"
         },
         "title": {
          "font": {
           "color": "#4D5663"
          },
          "text": ""
         },
         "zerolinecolor": "#E1E5ED"
        },
        "yaxis": {
         "gridcolor": "#E1E5ED",
         "showgrid": true,
         "tickfont": {
          "color": "#4D5663"
         },
         "title": {
          "font": {
           "color": "#4D5663"
          },
          "text": ""
         },
         "zerolinecolor": "#E1E5ED"
        }
       }
      },
      "text/html": [
       "<div>                            <div id=\"c05210f3-c825-452e-845f-c1a3c009a79f\" class=\"plotly-graph-div\" style=\"height:525px; width:100%;\"></div>            <script type=\"text/javascript\">                require([\"plotly\"], function(Plotly) {                    window.PLOTLYENV=window.PLOTLYENV || {};\n",
       "                    window.PLOTLYENV.BASE_URL='https://plot.ly';                                    if (document.getElementById(\"c05210f3-c825-452e-845f-c1a3c009a79f\")) {                    Plotly.newPlot(                        \"c05210f3-c825-452e-845f-c1a3c009a79f\",                        [{\"colorscale\":[[0.0,\"rgb(165,0,38)\"],[0.1,\"rgb(215,48,39)\"],[0.2,\"rgb(244,109,67)\"],[0.3,\"rgb(253,174,97)\"],[0.4,\"rgb(254,224,144)\"],[0.5,\"rgb(255,255,191)\"],[0.6,\"rgb(224,243,248)\"],[0.7,\"rgb(171,217,233)\"],[0.8,\"rgb(116,173,209)\"],[0.9,\"rgb(69,117,180)\"],[1.0,\"rgb(49,54,149)\"]],\"x\":[0,1,2,3,4],\"y\":[\"x\",\"y\",\"z\"],\"z\":[[1,2,3,4,5],[10,20,30,20,10],[5,4,3,2,1]],\"type\":\"surface\"}],                        {\"legend\":{\"bgcolor\":\"#F5F6F9\",\"font\":{\"color\":\"#4D5663\"}},\"paper_bgcolor\":\"#F5F6F9\",\"plot_bgcolor\":\"#F5F6F9\",\"template\":{\"data\":{\"barpolar\":[{\"marker\":{\"line\":{\"color\":\"#E5ECF6\",\"width\":0.5},\"pattern\":{\"fillmode\":\"overlay\",\"size\":10,\"solidity\":0.2}},\"type\":\"barpolar\"}],\"bar\":[{\"error_x\":{\"color\":\"#2a3f5f\"},\"error_y\":{\"color\":\"#2a3f5f\"},\"marker\":{\"line\":{\"color\":\"#E5ECF6\",\"width\":0.5},\"pattern\":{\"fillmode\":\"overlay\",\"size\":10,\"solidity\":0.2}},\"type\":\"bar\"}],\"carpet\":[{\"aaxis\":{\"endlinecolor\":\"#2a3f5f\",\"gridcolor\":\"white\",\"linecolor\":\"white\",\"minorgridcolor\":\"white\",\"startlinecolor\":\"#2a3f5f\"},\"baxis\":{\"endlinecolor\":\"#2a3f5f\",\"gridcolor\":\"white\",\"linecolor\":\"white\",\"minorgridcolor\":\"white\",\"startlinecolor\":\"#2a3f5f\"},\"type\":\"carpet\"}],\"choropleth\":[{\"colorbar\":{\"outlinewidth\":0,\"ticks\":\"\"},\"type\":\"choropleth\"}],\"contourcarpet\":[{\"colorbar\":{\"outlinewidth\":0,\"ticks\":\"\"},\"type\":\"contourcarpet\"}],\"contour\":[{\"colorbar\":{\"outlinewidth\":0,\"ticks\":\"\"},\"colorscale\":[[0.0,\"#0d0887\"],[0.1111111111111111,\"#46039f\"],[0.2222222222222222,\"#7201a8\"],[0.3333333333333333,\"#9c179e\"],[0.4444444444444444,\"#bd3786\"],[0.5555555555555556,\"#d8576b\"],[0.6666666666666666,\"#ed7953\"],[0.7777777777777778,\"#fb9f3a\"],[0.8888888888888888,\"#fdca26\"],[1.0,\"#f0f921\"]],\"type\":\"contour\"}],\"heatmapgl\":[{\"colorbar\":{\"outlinewidth\":0,\"ticks\":\"\"},\"colorscale\":[[0.0,\"#0d0887\"],[0.1111111111111111,\"#46039f\"],[0.2222222222222222,\"#7201a8\"],[0.3333333333333333,\"#9c179e\"],[0.4444444444444444,\"#bd3786\"],[0.5555555555555556,\"#d8576b\"],[0.6666666666666666,\"#ed7953\"],[0.7777777777777778,\"#fb9f3a\"],[0.8888888888888888,\"#fdca26\"],[1.0,\"#f0f921\"]],\"type\":\"heatmapgl\"}],\"heatmap\":[{\"colorbar\":{\"outlinewidth\":0,\"ticks\":\"\"},\"colorscale\":[[0.0,\"#0d0887\"],[0.1111111111111111,\"#46039f\"],[0.2222222222222222,\"#7201a8\"],[0.3333333333333333,\"#9c179e\"],[0.4444444444444444,\"#bd3786\"],[0.5555555555555556,\"#d8576b\"],[0.6666666666666666,\"#ed7953\"],[0.7777777777777778,\"#fb9f3a\"],[0.8888888888888888,\"#fdca26\"],[1.0,\"#f0f921\"]],\"type\":\"heatmap\"}],\"histogram2dcontour\":[{\"colorbar\":{\"outlinewidth\":0,\"ticks\":\"\"},\"colorscale\":[[0.0,\"#0d0887\"],[0.1111111111111111,\"#46039f\"],[0.2222222222222222,\"#7201a8\"],[0.3333333333333333,\"#9c179e\"],[0.4444444444444444,\"#bd3786\"],[0.5555555555555556,\"#d8576b\"],[0.6666666666666666,\"#ed7953\"],[0.7777777777777778,\"#fb9f3a\"],[0.8888888888888888,\"#fdca26\"],[1.0,\"#f0f921\"]],\"type\":\"histogram2dcontour\"}],\"histogram2d\":[{\"colorbar\":{\"outlinewidth\":0,\"ticks\":\"\"},\"colorscale\":[[0.0,\"#0d0887\"],[0.1111111111111111,\"#46039f\"],[0.2222222222222222,\"#7201a8\"],[0.3333333333333333,\"#9c179e\"],[0.4444444444444444,\"#bd3786\"],[0.5555555555555556,\"#d8576b\"],[0.6666666666666666,\"#ed7953\"],[0.7777777777777778,\"#fb9f3a\"],[0.8888888888888888,\"#fdca26\"],[1.0,\"#f0f921\"]],\"type\":\"histogram2d\"}],\"histogram\":[{\"marker\":{\"pattern\":{\"fillmode\":\"overlay\",\"size\":10,\"solidity\":0.2}},\"type\":\"histogram\"}],\"mesh3d\":[{\"colorbar\":{\"outlinewidth\":0,\"ticks\":\"\"},\"type\":\"mesh3d\"}],\"parcoords\":[{\"line\":{\"colorbar\":{\"outlinewidth\":0,\"ticks\":\"\"}},\"type\":\"parcoords\"}],\"pie\":[{\"automargin\":true,\"type\":\"pie\"}],\"scatter3d\":[{\"line\":{\"colorbar\":{\"outlinewidth\":0,\"ticks\":\"\"}},\"marker\":{\"colorbar\":{\"outlinewidth\":0,\"ticks\":\"\"}},\"type\":\"scatter3d\"}],\"scattercarpet\":[{\"marker\":{\"colorbar\":{\"outlinewidth\":0,\"ticks\":\"\"}},\"type\":\"scattercarpet\"}],\"scattergeo\":[{\"marker\":{\"colorbar\":{\"outlinewidth\":0,\"ticks\":\"\"}},\"type\":\"scattergeo\"}],\"scattergl\":[{\"marker\":{\"colorbar\":{\"outlinewidth\":0,\"ticks\":\"\"}},\"type\":\"scattergl\"}],\"scattermapbox\":[{\"marker\":{\"colorbar\":{\"outlinewidth\":0,\"ticks\":\"\"}},\"type\":\"scattermapbox\"}],\"scatterpolargl\":[{\"marker\":{\"colorbar\":{\"outlinewidth\":0,\"ticks\":\"\"}},\"type\":\"scatterpolargl\"}],\"scatterpolar\":[{\"marker\":{\"colorbar\":{\"outlinewidth\":0,\"ticks\":\"\"}},\"type\":\"scatterpolar\"}],\"scatter\":[{\"fillpattern\":{\"fillmode\":\"overlay\",\"size\":10,\"solidity\":0.2},\"type\":\"scatter\"}],\"scatterternary\":[{\"marker\":{\"colorbar\":{\"outlinewidth\":0,\"ticks\":\"\"}},\"type\":\"scatterternary\"}],\"surface\":[{\"colorbar\":{\"outlinewidth\":0,\"ticks\":\"\"},\"colorscale\":[[0.0,\"#0d0887\"],[0.1111111111111111,\"#46039f\"],[0.2222222222222222,\"#7201a8\"],[0.3333333333333333,\"#9c179e\"],[0.4444444444444444,\"#bd3786\"],[0.5555555555555556,\"#d8576b\"],[0.6666666666666666,\"#ed7953\"],[0.7777777777777778,\"#fb9f3a\"],[0.8888888888888888,\"#fdca26\"],[1.0,\"#f0f921\"]],\"type\":\"surface\"}],\"table\":[{\"cells\":{\"fill\":{\"color\":\"#EBF0F8\"},\"line\":{\"color\":\"white\"}},\"header\":{\"fill\":{\"color\":\"#C8D4E3\"},\"line\":{\"color\":\"white\"}},\"type\":\"table\"}]},\"layout\":{\"annotationdefaults\":{\"arrowcolor\":\"#2a3f5f\",\"arrowhead\":0,\"arrowwidth\":1},\"autotypenumbers\":\"strict\",\"coloraxis\":{\"colorbar\":{\"outlinewidth\":0,\"ticks\":\"\"}},\"colorscale\":{\"diverging\":[[0,\"#8e0152\"],[0.1,\"#c51b7d\"],[0.2,\"#de77ae\"],[0.3,\"#f1b6da\"],[0.4,\"#fde0ef\"],[0.5,\"#f7f7f7\"],[0.6,\"#e6f5d0\"],[0.7,\"#b8e186\"],[0.8,\"#7fbc41\"],[0.9,\"#4d9221\"],[1,\"#276419\"]],\"sequential\":[[0.0,\"#0d0887\"],[0.1111111111111111,\"#46039f\"],[0.2222222222222222,\"#7201a8\"],[0.3333333333333333,\"#9c179e\"],[0.4444444444444444,\"#bd3786\"],[0.5555555555555556,\"#d8576b\"],[0.6666666666666666,\"#ed7953\"],[0.7777777777777778,\"#fb9f3a\"],[0.8888888888888888,\"#fdca26\"],[1.0,\"#f0f921\"]],\"sequentialminus\":[[0.0,\"#0d0887\"],[0.1111111111111111,\"#46039f\"],[0.2222222222222222,\"#7201a8\"],[0.3333333333333333,\"#9c179e\"],[0.4444444444444444,\"#bd3786\"],[0.5555555555555556,\"#d8576b\"],[0.6666666666666666,\"#ed7953\"],[0.7777777777777778,\"#fb9f3a\"],[0.8888888888888888,\"#fdca26\"],[1.0,\"#f0f921\"]]},\"colorway\":[\"#636efa\",\"#EF553B\",\"#00cc96\",\"#ab63fa\",\"#FFA15A\",\"#19d3f3\",\"#FF6692\",\"#B6E880\",\"#FF97FF\",\"#FECB52\"],\"font\":{\"color\":\"#2a3f5f\"},\"geo\":{\"bgcolor\":\"white\",\"lakecolor\":\"white\",\"landcolor\":\"#E5ECF6\",\"showlakes\":true,\"showland\":true,\"subunitcolor\":\"white\"},\"hoverlabel\":{\"align\":\"left\"},\"hovermode\":\"closest\",\"mapbox\":{\"style\":\"light\"},\"paper_bgcolor\":\"white\",\"plot_bgcolor\":\"#E5ECF6\",\"polar\":{\"angularaxis\":{\"gridcolor\":\"white\",\"linecolor\":\"white\",\"ticks\":\"\"},\"bgcolor\":\"#E5ECF6\",\"radialaxis\":{\"gridcolor\":\"white\",\"linecolor\":\"white\",\"ticks\":\"\"}},\"scene\":{\"xaxis\":{\"backgroundcolor\":\"#E5ECF6\",\"gridcolor\":\"white\",\"gridwidth\":2,\"linecolor\":\"white\",\"showbackground\":true,\"ticks\":\"\",\"zerolinecolor\":\"white\"},\"yaxis\":{\"backgroundcolor\":\"#E5ECF6\",\"gridcolor\":\"white\",\"gridwidth\":2,\"linecolor\":\"white\",\"showbackground\":true,\"ticks\":\"\",\"zerolinecolor\":\"white\"},\"zaxis\":{\"backgroundcolor\":\"#E5ECF6\",\"gridcolor\":\"white\",\"gridwidth\":2,\"linecolor\":\"white\",\"showbackground\":true,\"ticks\":\"\",\"zerolinecolor\":\"white\"}},\"shapedefaults\":{\"line\":{\"color\":\"#2a3f5f\"}},\"ternary\":{\"aaxis\":{\"gridcolor\":\"white\",\"linecolor\":\"white\",\"ticks\":\"\"},\"baxis\":{\"gridcolor\":\"white\",\"linecolor\":\"white\",\"ticks\":\"\"},\"bgcolor\":\"#E5ECF6\",\"caxis\":{\"gridcolor\":\"white\",\"linecolor\":\"white\",\"ticks\":\"\"}},\"title\":{\"x\":0.05},\"xaxis\":{\"automargin\":true,\"gridcolor\":\"white\",\"linecolor\":\"white\",\"ticks\":\"\",\"title\":{\"standoff\":15},\"zerolinecolor\":\"white\",\"zerolinewidth\":2},\"yaxis\":{\"automargin\":true,\"gridcolor\":\"white\",\"linecolor\":\"white\",\"ticks\":\"\",\"title\":{\"standoff\":15},\"zerolinecolor\":\"white\",\"zerolinewidth\":2}}},\"title\":{\"font\":{\"color\":\"#4D5663\"}},\"xaxis\":{\"gridcolor\":\"#E1E5ED\",\"showgrid\":true,\"tickfont\":{\"color\":\"#4D5663\"},\"title\":{\"font\":{\"color\":\"#4D5663\"},\"text\":\"\"},\"zerolinecolor\":\"#E1E5ED\"},\"yaxis\":{\"gridcolor\":\"#E1E5ED\",\"showgrid\":true,\"tickfont\":{\"color\":\"#4D5663\"},\"title\":{\"font\":{\"color\":\"#4D5663\"},\"text\":\"\"},\"zerolinecolor\":\"#E1E5ED\"}},                        {\"showLink\": true, \"linkText\": \"Export to plot.ly\", \"plotlyServerURL\": \"https://plot.ly\", \"responsive\": true}                    ).then(function(){\n",
       "                            \n",
       "var gd = document.getElementById('c05210f3-c825-452e-845f-c1a3c009a79f');\n",
       "var x = new MutationObserver(function (mutations, observer) {{\n",
       "        var display = window.getComputedStyle(gd).display;\n",
       "        if (!display || display === 'none') {{\n",
       "            console.log([gd, 'removed!']);\n",
       "            Plotly.purge(gd);\n",
       "            observer.disconnect();\n",
       "        }}\n",
       "}});\n",
       "\n",
       "// Listen for the removal of the full notebook cells\n",
       "var notebookContainer = gd.closest('#notebook-container');\n",
       "if (notebookContainer) {{\n",
       "    x.observe(notebookContainer, {childList: true});\n",
       "}}\n",
       "\n",
       "// Listen for the clearing of the current output cell\n",
       "var outputEl = gd.closest('.output');\n",
       "if (outputEl) {{\n",
       "    x.observe(outputEl, {childList: true});\n",
       "}}\n",
       "\n",
       "                        })                };                });            </script>        </div>"
      ]
     },
     "metadata": {},
     "output_type": "display_data"
    }
   ],
   "source": [
    "df3 = pd.DataFrame({'x':[1,2,3,4,5],'y':[10,20,30,20,10],'z':[5,4,3,2,1]})\n",
    "df3.iplot(kind='surface',colorscale='rdylbu')"
   ]
  },
  {
   "cell_type": "code",
   "execution_count": 18,
   "id": "85f52eee",
   "metadata": {},
   "outputs": [
    {
     "name": "stderr",
     "output_type": "stream",
     "text": [
      "C:\\Users\\user\\anaconda3\\lib\\site-packages\\cufflinks\\plotlytools.py:849: FutureWarning:\n",
      "\n",
      "The pandas.np module is deprecated and will be removed from pandas in a future version. Import numpy directly instead\n",
      "\n",
      "C:\\Users\\user\\anaconda3\\lib\\site-packages\\cufflinks\\plotlytools.py:850: FutureWarning:\n",
      "\n",
      "The pandas.np module is deprecated and will be removed from pandas in a future version. Import numpy directly instead\n",
      "\n"
     ]
    },
    {
     "data": {
      "application/vnd.plotly.v1+json": {
       "config": {
        "linkText": "Export to plot.ly",
        "plotlyServerURL": "https://plot.ly",
        "showLink": true
       },
       "data": [
        {
         "line": {
          "color": "rgba(255, 153, 51, 1.0)",
          "dash": "solid",
          "shape": "linear",
          "width": 1.3
         },
         "mode": "lines",
         "name": "A",
         "text": "",
         "type": "scatter",
         "x": [
          0,
          1,
          2,
          3,
          4,
          5,
          6,
          7,
          8,
          9,
          10,
          11,
          12,
          13,
          14,
          15,
          16,
          17,
          18,
          19,
          20,
          21,
          22,
          23,
          24,
          25,
          26,
          27,
          28,
          29,
          30,
          31,
          32,
          33,
          34,
          35,
          36,
          37,
          38,
          39,
          40,
          41,
          42,
          43,
          44,
          45,
          46,
          47,
          48,
          49,
          50,
          51,
          52,
          53,
          54,
          55,
          56,
          57,
          58,
          59,
          60,
          61,
          62,
          63,
          64,
          65,
          66,
          67,
          68,
          69,
          70,
          71,
          72,
          73,
          74,
          75,
          76,
          77,
          78,
          79,
          80,
          81,
          82,
          83,
          84,
          85,
          86,
          87,
          88,
          89,
          90,
          91,
          92,
          93,
          94,
          95,
          96,
          97,
          98,
          99
         ],
         "y": [
          0.15387951566040683,
          2.181248765458232,
          -0.13566587094592006,
          2.5826373196933714,
          1.6784225961066819,
          -0.16299128101973356,
          -0.17874297565492092,
          0.48903983504613824,
          -0.050245207821652656,
          -0.21504123172855624,
          -0.9579247028153586,
          -0.9893440631800207,
          -0.5545866030923471,
          -0.729196183556216,
          -2.1468969108658733,
          1.443650242734995,
          0.9090913732870752,
          0.16199268989531002,
          -0.9466477932939458,
          0.35055814554620657,
          -0.21162327402463743,
          0.6365749108453906,
          -0.3836843220449782,
          1.0035932100576173,
          -0.6335239904754568,
          0.8596977337897347,
          0.4447230070289421,
          -1.2523804891664259,
          -0.13451250405916465,
          -0.5780800680607079,
          -0.2450155534501923,
          -0.9832040367280465,
          -0.23809181759312123,
          -0.34116672085694183,
          -0.8558574974421355,
          1.699621211172324,
          -1.0103056803776571,
          -0.8897721763689249,
          0.9747541077716472,
          0.2733325155193339,
          -2.3269122184399578,
          -0.3725394679542613,
          -1.1036867869571978,
          -0.1352555301863368,
          -1.1509761019037328,
          -1.2187335433615616,
          0.05506999604218593,
          -0.10228406176818654,
          1.2778340337032956,
          -1.6499243125727343,
          0.2584083064742115,
          0.022789195090183578,
          -0.05469858920966472,
          0.6934335354023595,
          -0.3582243331584894,
          -0.6762481063753567,
          -2.6093883903092228,
          0.08746280693315048,
          0.7907999135080389,
          -0.016400209655702606,
          -1.020020479062982,
          1.062252800413191,
          0.06000472648461456,
          -0.5751331128737663,
          0.7283756600309553,
          0.1828699910324269,
          -0.15630554197630672,
          -1.864294517478185,
          -0.05583743965754278,
          -1.3671415114751497,
          -0.2859607383869635,
          0.49472919490075573,
          -0.35969076601765726,
          0.9720742091395949,
          -0.11590515837531183,
          0.39360624198567107,
          0.7839283888154851,
          -1.177254142345938,
          0.8315862249829457,
          -1.1865453897625722,
          1.29698117990059,
          0.8766686456478701,
          0.7043101490622228,
          0.34654329113273163,
          0.009958136649100556,
          -1.134745510635879,
          0.0785083179815372,
          -1.8470364158934645,
          -0.4875047829676378,
          -0.735646683248686,
          -1.316475374019799,
          1.3776811867196217,
          -1.321076206512763,
          0.45445257779186266,
          2.5370214104573803,
          0.5769179650580939,
          0.4222801389522976,
          -0.5517893605255988,
          -0.30363543870509463,
          -0.33995824148450854
         ]
        },
        {
         "line": {
          "color": "rgba(55, 128, 191, 1.0)",
          "dash": "solid",
          "shape": "linear",
          "width": 1.3
         },
         "mode": "lines",
         "name": "B",
         "text": "",
         "type": "scatter",
         "x": [
          0,
          1,
          2,
          3,
          4,
          5,
          6,
          7,
          8,
          9,
          10,
          11,
          12,
          13,
          14,
          15,
          16,
          17,
          18,
          19,
          20,
          21,
          22,
          23,
          24,
          25,
          26,
          27,
          28,
          29,
          30,
          31,
          32,
          33,
          34,
          35,
          36,
          37,
          38,
          39,
          40,
          41,
          42,
          43,
          44,
          45,
          46,
          47,
          48,
          49,
          50,
          51,
          52,
          53,
          54,
          55,
          56,
          57,
          58,
          59,
          60,
          61,
          62,
          63,
          64,
          65,
          66,
          67,
          68,
          69,
          70,
          71,
          72,
          73,
          74,
          75,
          76,
          77,
          78,
          79,
          80,
          81,
          82,
          83,
          84,
          85,
          86,
          87,
          88,
          89,
          90,
          91,
          92,
          93,
          94,
          95,
          96,
          97,
          98,
          99
         ],
         "y": [
          0.2083619918066731,
          -0.007445592501653823,
          0.013438670371493154,
          -1.1402200714610695,
          -1.0037282728945376,
          -1.7796940522845184,
          1.4005425881113962,
          -0.12409065370077918,
          0.4452116013367775,
          -0.33569644713285623,
          0.9193071025427763,
          0.3170284786129296,
          0.13430335146684186,
          0.7787044216687309,
          0.21450459241797218,
          -1.5092666232396665,
          0.7919886424619987,
          -0.1927552256597784,
          0.1407274967059369,
          0.913396235037004,
          -0.39175435019456206,
          -0.5407190613207937,
          -1.129410685739879,
          -0.7073325132739956,
          -0.1202465665969558,
          -1.2835242588380795,
          -0.37277920098249084,
          0.40015445605057215,
          -0.40024857144059733,
          -0.6379169763897673,
          -0.2866340398118274,
          0.06139895861208848,
          -2.252517714720179,
          0.5457545446741421,
          1.1544587442506151,
          -0.6168270294189658,
          -0.3630037900029631,
          -1.2010279486365256,
          -0.7653438306648163,
          -0.11053318751770316,
          0.38388124646772853,
          -1.2674203103987471,
          0.0028399536666268025,
          -1.5494254508705259,
          2.095749715307753,
          -0.5641187149411993,
          0.34709305987418854,
          0.6236619982195952,
          -0.08063942778001149,
          0.08689494745775367,
          -1.2433803804032548,
          0.17159566961706876,
          -0.0032167099066127717,
          0.11739239250666493,
          0.38951736549480986,
          -1.0280734833091218,
          -0.4800090749698621,
          0.5740201552456949,
          -1.2084516763572983,
          0.7238828648723517,
          2.2005364752879752,
          0.15802727378773124,
          0.32649568568896786,
          -2.7143738424005797,
          0.38341951411432434,
          1.116813227600596,
          -0.01989660137589359,
          1.8878704671898408,
          -0.6405584469147696,
          -2.3590894870123007,
          -0.8715844322342543,
          -1.4398225910640223,
          1.3363221386595507,
          1.8283221642713612,
          -1.1084543823687798,
          -0.9822653578380953,
          -0.6494889734849333,
          -0.3426015797521599,
          -0.6837935756698565,
          0.6076716337813307,
          0.33659591669323224,
          0.4269690302146352,
          -0.9343729078118749,
          0.02124021733474761,
          -0.8433181262016681,
          -1.6579278057042166,
          1.0367687781471089,
          -0.508413311460955,
          1.039475592623558,
          -0.23178447064330665,
          0.0724413119156897,
          0.3487934006331482,
          1.4631758122581195,
          -1.9585115623098048,
          0.05495266418138907,
          0.01997126586927419,
          0.19730602361652821,
          -0.07707793518496193,
          1.2635910163603281,
          -1.575182626460573
         ]
        },
        {
         "connectgaps": false,
         "fill": "tozeroy",
         "line": {
          "color": "green",
          "dash": "solid",
          "shape": "linear",
          "width": 0.5
         },
         "mode": "lines",
         "name": "Spread",
         "showlegend": false,
         "type": "scatter",
         "x": [
          0,
          1,
          2,
          3,
          4,
          5,
          6,
          7,
          8,
          9,
          10,
          11,
          12,
          13,
          14,
          15,
          16,
          17,
          18,
          19,
          20,
          21,
          22,
          23,
          24,
          25,
          26,
          27,
          28,
          29,
          30,
          31,
          32,
          33,
          34,
          35,
          36,
          37,
          38,
          39,
          40,
          41,
          42,
          43,
          44,
          45,
          46,
          47,
          48,
          49,
          50,
          51,
          52,
          53,
          54,
          55,
          56,
          57,
          58,
          59,
          60,
          61,
          62,
          63,
          64,
          65,
          66,
          67,
          68,
          69,
          70,
          71,
          72,
          73,
          74,
          75,
          76,
          77,
          78,
          79,
          80,
          81,
          82,
          83,
          84,
          85,
          86,
          87,
          88,
          89,
          90,
          91,
          92,
          93,
          94,
          95,
          96,
          97,
          98,
          99
         ],
         "xaxis": "x2",
         "y": [
          "",
          2.1886943579598857,
          "",
          3.7228573911544407,
          2.6821508690012195,
          1.6167027712647848,
          "",
          0.6131304887469174,
          "",
          0.12065521540429999,
          "",
          "",
          "",
          "",
          "",
          2.952916865974662,
          0.1171027308250765,
          0.35474791555508844,
          "",
          "",
          0.18013107616992463,
          1.1772939721661844,
          0.7457263636949008,
          1.7109257233316129,
          "",
          2.143221992627814,
          0.8175022080114329,
          "",
          0.2657360673814327,
          0.05983690832905941,
          0.04161848636163509,
          "",
          2.014425897127058,
          "",
          "",
          2.31644824059129,
          "",
          0.3112557722676007,
          1.7400979384364634,
          0.38386570303703704,
          "",
          0.8948808424444858,
          "",
          1.4141699206841891,
          "",
          "",
          "",
          "",
          1.3584734614833072,
          "",
          1.5017886868774664,
          "",
          "",
          0.5760411428956946,
          "",
          0.35182537693376514,
          "",
          "",
          1.9992515898653371,
          "",
          "",
          0.9042255266254597,
          "",
          2.139240729526813,
          0.344956145916631,
          "",
          "",
          "",
          0.5847210072572269,
          0.991947975537151,
          0.5856236938472907,
          1.934551785964778,
          "",
          "",
          0.992549223993468,
          1.3758715998237663,
          1.4334173623004185,
          "",
          1.515379800652802,
          "",
          0.9603852632073577,
          0.44969961543323483,
          1.6386830568740978,
          0.325303073797984,
          0.8532762628507686,
          0.5231822950683376,
          "",
          "",
          "",
          "",
          "",
          1.0288877860864736,
          "",
          2.4129641401016677,
          2.482068746275991,
          0.5569466991888197,
          0.2249741153357694,
          "",
          "",
          1.2352243849760645
         ],
         "yaxis": "y2"
        },
        {
         "connectgaps": false,
         "fill": "tozeroy",
         "line": {
          "color": "red",
          "dash": "solid",
          "shape": "linear",
          "width": 0.5
         },
         "mode": "lines",
         "name": "Spread",
         "showlegend": false,
         "type": "scatter",
         "x": [
          0,
          1,
          2,
          3,
          4,
          5,
          6,
          7,
          8,
          9,
          10,
          11,
          12,
          13,
          14,
          15,
          16,
          17,
          18,
          19,
          20,
          21,
          22,
          23,
          24,
          25,
          26,
          27,
          28,
          29,
          30,
          31,
          32,
          33,
          34,
          35,
          36,
          37,
          38,
          39,
          40,
          41,
          42,
          43,
          44,
          45,
          46,
          47,
          48,
          49,
          50,
          51,
          52,
          53,
          54,
          55,
          56,
          57,
          58,
          59,
          60,
          61,
          62,
          63,
          64,
          65,
          66,
          67,
          68,
          69,
          70,
          71,
          72,
          73,
          74,
          75,
          76,
          77,
          78,
          79,
          80,
          81,
          82,
          83,
          84,
          85,
          86,
          87,
          88,
          89,
          90,
          91,
          92,
          93,
          94,
          95,
          96,
          97,
          98,
          99
         ],
         "xaxis": "x2",
         "y": [
          -0.05448247614626628,
          "",
          -0.14910454131741321,
          "",
          "",
          "",
          -1.5792855637663172,
          "",
          -0.49545680915843016,
          "",
          -1.877231805358135,
          -1.3063725417929501,
          -0.6888899545591889,
          -1.5079006052249468,
          -2.3614015032838456,
          "",
          "",
          "",
          -1.0873752899998828,
          -0.5628380894907974,
          "",
          "",
          "",
          "",
          -0.5132774238785011,
          "",
          "",
          -1.652534945216998,
          "",
          "",
          "",
          -1.044602995340135,
          "",
          -0.8869212655310839,
          -2.0103162416927507,
          "",
          -0.647301890374694,
          "",
          "",
          "",
          -2.7107934649076864,
          "",
          -1.1065267406238246,
          "",
          -3.2467258172114857,
          -0.6546148284203623,
          -0.2920230638320026,
          -0.7259460599877817,
          "",
          -1.736819260030488,
          "",
          -0.1488064745268852,
          -0.05148187930305195,
          "",
          -0.7477416986532992,
          "",
          -2.1293793153393605,
          -0.4865573483125445,
          "",
          -0.7402830745280543,
          -3.2205569543509576,
          "",
          -0.2664909592043533,
          "",
          "",
          -0.933943236568169,
          -0.13640894060041314,
          -3.752164984668026,
          "",
          "",
          "",
          "",
          -1.6960129046772079,
          -0.8562479551317663,
          "",
          "",
          "",
          -0.8346525625937781,
          "",
          -1.794217023543903,
          "",
          "",
          "",
          "",
          "",
          "",
          -0.9582604601655716,
          -1.3386231044325094,
          -1.5269803755911957,
          -0.5038622126053793,
          -1.3889166859354887,
          "",
          -2.7842520187708826,
          "",
          "",
          "",
          "",
          -0.47471142534063687,
          -1.5672264550654227,
          ""
         ],
         "yaxis": "y2"
        }
       ],
       "layout": {
        "hovermode": "x",
        "legend": {
         "bgcolor": "#F5F6F9",
         "font": {
          "color": "#4D5663"
         }
        },
        "paper_bgcolor": "#F5F6F9",
        "plot_bgcolor": "#F5F6F9",
        "template": {
         "data": {
          "bar": [
           {
            "error_x": {
             "color": "#2a3f5f"
            },
            "error_y": {
             "color": "#2a3f5f"
            },
            "marker": {
             "line": {
              "color": "#E5ECF6",
              "width": 0.5
             },
             "pattern": {
              "fillmode": "overlay",
              "size": 10,
              "solidity": 0.2
             }
            },
            "type": "bar"
           }
          ],
          "barpolar": [
           {
            "marker": {
             "line": {
              "color": "#E5ECF6",
              "width": 0.5
             },
             "pattern": {
              "fillmode": "overlay",
              "size": 10,
              "solidity": 0.2
             }
            },
            "type": "barpolar"
           }
          ],
          "carpet": [
           {
            "aaxis": {
             "endlinecolor": "#2a3f5f",
             "gridcolor": "white",
             "linecolor": "white",
             "minorgridcolor": "white",
             "startlinecolor": "#2a3f5f"
            },
            "baxis": {
             "endlinecolor": "#2a3f5f",
             "gridcolor": "white",
             "linecolor": "white",
             "minorgridcolor": "white",
             "startlinecolor": "#2a3f5f"
            },
            "type": "carpet"
           }
          ],
          "choropleth": [
           {
            "colorbar": {
             "outlinewidth": 0,
             "ticks": ""
            },
            "type": "choropleth"
           }
          ],
          "contour": [
           {
            "colorbar": {
             "outlinewidth": 0,
             "ticks": ""
            },
            "colorscale": [
             [
              0,
              "#0d0887"
             ],
             [
              0.1111111111111111,
              "#46039f"
             ],
             [
              0.2222222222222222,
              "#7201a8"
             ],
             [
              0.3333333333333333,
              "#9c179e"
             ],
             [
              0.4444444444444444,
              "#bd3786"
             ],
             [
              0.5555555555555556,
              "#d8576b"
             ],
             [
              0.6666666666666666,
              "#ed7953"
             ],
             [
              0.7777777777777778,
              "#fb9f3a"
             ],
             [
              0.8888888888888888,
              "#fdca26"
             ],
             [
              1,
              "#f0f921"
             ]
            ],
            "type": "contour"
           }
          ],
          "contourcarpet": [
           {
            "colorbar": {
             "outlinewidth": 0,
             "ticks": ""
            },
            "type": "contourcarpet"
           }
          ],
          "heatmap": [
           {
            "colorbar": {
             "outlinewidth": 0,
             "ticks": ""
            },
            "colorscale": [
             [
              0,
              "#0d0887"
             ],
             [
              0.1111111111111111,
              "#46039f"
             ],
             [
              0.2222222222222222,
              "#7201a8"
             ],
             [
              0.3333333333333333,
              "#9c179e"
             ],
             [
              0.4444444444444444,
              "#bd3786"
             ],
             [
              0.5555555555555556,
              "#d8576b"
             ],
             [
              0.6666666666666666,
              "#ed7953"
             ],
             [
              0.7777777777777778,
              "#fb9f3a"
             ],
             [
              0.8888888888888888,
              "#fdca26"
             ],
             [
              1,
              "#f0f921"
             ]
            ],
            "type": "heatmap"
           }
          ],
          "heatmapgl": [
           {
            "colorbar": {
             "outlinewidth": 0,
             "ticks": ""
            },
            "colorscale": [
             [
              0,
              "#0d0887"
             ],
             [
              0.1111111111111111,
              "#46039f"
             ],
             [
              0.2222222222222222,
              "#7201a8"
             ],
             [
              0.3333333333333333,
              "#9c179e"
             ],
             [
              0.4444444444444444,
              "#bd3786"
             ],
             [
              0.5555555555555556,
              "#d8576b"
             ],
             [
              0.6666666666666666,
              "#ed7953"
             ],
             [
              0.7777777777777778,
              "#fb9f3a"
             ],
             [
              0.8888888888888888,
              "#fdca26"
             ],
             [
              1,
              "#f0f921"
             ]
            ],
            "type": "heatmapgl"
           }
          ],
          "histogram": [
           {
            "marker": {
             "pattern": {
              "fillmode": "overlay",
              "size": 10,
              "solidity": 0.2
             }
            },
            "type": "histogram"
           }
          ],
          "histogram2d": [
           {
            "colorbar": {
             "outlinewidth": 0,
             "ticks": ""
            },
            "colorscale": [
             [
              0,
              "#0d0887"
             ],
             [
              0.1111111111111111,
              "#46039f"
             ],
             [
              0.2222222222222222,
              "#7201a8"
             ],
             [
              0.3333333333333333,
              "#9c179e"
             ],
             [
              0.4444444444444444,
              "#bd3786"
             ],
             [
              0.5555555555555556,
              "#d8576b"
             ],
             [
              0.6666666666666666,
              "#ed7953"
             ],
             [
              0.7777777777777778,
              "#fb9f3a"
             ],
             [
              0.8888888888888888,
              "#fdca26"
             ],
             [
              1,
              "#f0f921"
             ]
            ],
            "type": "histogram2d"
           }
          ],
          "histogram2dcontour": [
           {
            "colorbar": {
             "outlinewidth": 0,
             "ticks": ""
            },
            "colorscale": [
             [
              0,
              "#0d0887"
             ],
             [
              0.1111111111111111,
              "#46039f"
             ],
             [
              0.2222222222222222,
              "#7201a8"
             ],
             [
              0.3333333333333333,
              "#9c179e"
             ],
             [
              0.4444444444444444,
              "#bd3786"
             ],
             [
              0.5555555555555556,
              "#d8576b"
             ],
             [
              0.6666666666666666,
              "#ed7953"
             ],
             [
              0.7777777777777778,
              "#fb9f3a"
             ],
             [
              0.8888888888888888,
              "#fdca26"
             ],
             [
              1,
              "#f0f921"
             ]
            ],
            "type": "histogram2dcontour"
           }
          ],
          "mesh3d": [
           {
            "colorbar": {
             "outlinewidth": 0,
             "ticks": ""
            },
            "type": "mesh3d"
           }
          ],
          "parcoords": [
           {
            "line": {
             "colorbar": {
              "outlinewidth": 0,
              "ticks": ""
             }
            },
            "type": "parcoords"
           }
          ],
          "pie": [
           {
            "automargin": true,
            "type": "pie"
           }
          ],
          "scatter": [
           {
            "fillpattern": {
             "fillmode": "overlay",
             "size": 10,
             "solidity": 0.2
            },
            "type": "scatter"
           }
          ],
          "scatter3d": [
           {
            "line": {
             "colorbar": {
              "outlinewidth": 0,
              "ticks": ""
             }
            },
            "marker": {
             "colorbar": {
              "outlinewidth": 0,
              "ticks": ""
             }
            },
            "type": "scatter3d"
           }
          ],
          "scattercarpet": [
           {
            "marker": {
             "colorbar": {
              "outlinewidth": 0,
              "ticks": ""
             }
            },
            "type": "scattercarpet"
           }
          ],
          "scattergeo": [
           {
            "marker": {
             "colorbar": {
              "outlinewidth": 0,
              "ticks": ""
             }
            },
            "type": "scattergeo"
           }
          ],
          "scattergl": [
           {
            "marker": {
             "colorbar": {
              "outlinewidth": 0,
              "ticks": ""
             }
            },
            "type": "scattergl"
           }
          ],
          "scattermapbox": [
           {
            "marker": {
             "colorbar": {
              "outlinewidth": 0,
              "ticks": ""
             }
            },
            "type": "scattermapbox"
           }
          ],
          "scatterpolar": [
           {
            "marker": {
             "colorbar": {
              "outlinewidth": 0,
              "ticks": ""
             }
            },
            "type": "scatterpolar"
           }
          ],
          "scatterpolargl": [
           {
            "marker": {
             "colorbar": {
              "outlinewidth": 0,
              "ticks": ""
             }
            },
            "type": "scatterpolargl"
           }
          ],
          "scatterternary": [
           {
            "marker": {
             "colorbar": {
              "outlinewidth": 0,
              "ticks": ""
             }
            },
            "type": "scatterternary"
           }
          ],
          "surface": [
           {
            "colorbar": {
             "outlinewidth": 0,
             "ticks": ""
            },
            "colorscale": [
             [
              0,
              "#0d0887"
             ],
             [
              0.1111111111111111,
              "#46039f"
             ],
             [
              0.2222222222222222,
              "#7201a8"
             ],
             [
              0.3333333333333333,
              "#9c179e"
             ],
             [
              0.4444444444444444,
              "#bd3786"
             ],
             [
              0.5555555555555556,
              "#d8576b"
             ],
             [
              0.6666666666666666,
              "#ed7953"
             ],
             [
              0.7777777777777778,
              "#fb9f3a"
             ],
             [
              0.8888888888888888,
              "#fdca26"
             ],
             [
              1,
              "#f0f921"
             ]
            ],
            "type": "surface"
           }
          ],
          "table": [
           {
            "cells": {
             "fill": {
              "color": "#EBF0F8"
             },
             "line": {
              "color": "white"
             }
            },
            "header": {
             "fill": {
              "color": "#C8D4E3"
             },
             "line": {
              "color": "white"
             }
            },
            "type": "table"
           }
          ]
         },
         "layout": {
          "annotationdefaults": {
           "arrowcolor": "#2a3f5f",
           "arrowhead": 0,
           "arrowwidth": 1
          },
          "autotypenumbers": "strict",
          "coloraxis": {
           "colorbar": {
            "outlinewidth": 0,
            "ticks": ""
           }
          },
          "colorscale": {
           "diverging": [
            [
             0,
             "#8e0152"
            ],
            [
             0.1,
             "#c51b7d"
            ],
            [
             0.2,
             "#de77ae"
            ],
            [
             0.3,
             "#f1b6da"
            ],
            [
             0.4,
             "#fde0ef"
            ],
            [
             0.5,
             "#f7f7f7"
            ],
            [
             0.6,
             "#e6f5d0"
            ],
            [
             0.7,
             "#b8e186"
            ],
            [
             0.8,
             "#7fbc41"
            ],
            [
             0.9,
             "#4d9221"
            ],
            [
             1,
             "#276419"
            ]
           ],
           "sequential": [
            [
             0,
             "#0d0887"
            ],
            [
             0.1111111111111111,
             "#46039f"
            ],
            [
             0.2222222222222222,
             "#7201a8"
            ],
            [
             0.3333333333333333,
             "#9c179e"
            ],
            [
             0.4444444444444444,
             "#bd3786"
            ],
            [
             0.5555555555555556,
             "#d8576b"
            ],
            [
             0.6666666666666666,
             "#ed7953"
            ],
            [
             0.7777777777777778,
             "#fb9f3a"
            ],
            [
             0.8888888888888888,
             "#fdca26"
            ],
            [
             1,
             "#f0f921"
            ]
           ],
           "sequentialminus": [
            [
             0,
             "#0d0887"
            ],
            [
             0.1111111111111111,
             "#46039f"
            ],
            [
             0.2222222222222222,
             "#7201a8"
            ],
            [
             0.3333333333333333,
             "#9c179e"
            ],
            [
             0.4444444444444444,
             "#bd3786"
            ],
            [
             0.5555555555555556,
             "#d8576b"
            ],
            [
             0.6666666666666666,
             "#ed7953"
            ],
            [
             0.7777777777777778,
             "#fb9f3a"
            ],
            [
             0.8888888888888888,
             "#fdca26"
            ],
            [
             1,
             "#f0f921"
            ]
           ]
          },
          "colorway": [
           "#636efa",
           "#EF553B",
           "#00cc96",
           "#ab63fa",
           "#FFA15A",
           "#19d3f3",
           "#FF6692",
           "#B6E880",
           "#FF97FF",
           "#FECB52"
          ],
          "font": {
           "color": "#2a3f5f"
          },
          "geo": {
           "bgcolor": "white",
           "lakecolor": "white",
           "landcolor": "#E5ECF6",
           "showlakes": true,
           "showland": true,
           "subunitcolor": "white"
          },
          "hoverlabel": {
           "align": "left"
          },
          "hovermode": "closest",
          "mapbox": {
           "style": "light"
          },
          "paper_bgcolor": "white",
          "plot_bgcolor": "#E5ECF6",
          "polar": {
           "angularaxis": {
            "gridcolor": "white",
            "linecolor": "white",
            "ticks": ""
           },
           "bgcolor": "#E5ECF6",
           "radialaxis": {
            "gridcolor": "white",
            "linecolor": "white",
            "ticks": ""
           }
          },
          "scene": {
           "xaxis": {
            "backgroundcolor": "#E5ECF6",
            "gridcolor": "white",
            "gridwidth": 2,
            "linecolor": "white",
            "showbackground": true,
            "ticks": "",
            "zerolinecolor": "white"
           },
           "yaxis": {
            "backgroundcolor": "#E5ECF6",
            "gridcolor": "white",
            "gridwidth": 2,
            "linecolor": "white",
            "showbackground": true,
            "ticks": "",
            "zerolinecolor": "white"
           },
           "zaxis": {
            "backgroundcolor": "#E5ECF6",
            "gridcolor": "white",
            "gridwidth": 2,
            "linecolor": "white",
            "showbackground": true,
            "ticks": "",
            "zerolinecolor": "white"
           }
          },
          "shapedefaults": {
           "line": {
            "color": "#2a3f5f"
           }
          },
          "ternary": {
           "aaxis": {
            "gridcolor": "white",
            "linecolor": "white",
            "ticks": ""
           },
           "baxis": {
            "gridcolor": "white",
            "linecolor": "white",
            "ticks": ""
           },
           "bgcolor": "#E5ECF6",
           "caxis": {
            "gridcolor": "white",
            "linecolor": "white",
            "ticks": ""
           }
          },
          "title": {
           "x": 0.05
          },
          "xaxis": {
           "automargin": true,
           "gridcolor": "white",
           "linecolor": "white",
           "ticks": "",
           "title": {
            "standoff": 15
           },
           "zerolinecolor": "white",
           "zerolinewidth": 2
          },
          "yaxis": {
           "automargin": true,
           "gridcolor": "white",
           "linecolor": "white",
           "ticks": "",
           "title": {
            "standoff": 15
           },
           "zerolinecolor": "white",
           "zerolinewidth": 2
          }
         }
        },
        "title": {
         "font": {
          "color": "#4D5663"
         }
        },
        "xaxis": {
         "gridcolor": "#E1E5ED",
         "showgrid": true,
         "tickfont": {
          "color": "#4D5663"
         },
         "title": {
          "font": {
           "color": "#4D5663"
          },
          "text": ""
         },
         "zerolinecolor": "#E1E5ED"
        },
        "xaxis2": {
         "anchor": "y2",
         "gridcolor": "#E1E5ED",
         "showgrid": true,
         "showticklabels": false,
         "tickfont": {
          "color": "#4D5663"
         },
         "title": {
          "font": {
           "color": "#4D5663"
          },
          "text": ""
         },
         "zerolinecolor": "#E1E5ED"
        },
        "yaxis": {
         "domain": [
          0.3,
          1
         ],
         "gridcolor": "#E1E5ED",
         "showgrid": true,
         "tickfont": {
          "color": "#4D5663"
         },
         "title": {
          "font": {
           "color": "#4D5663"
          },
          "text": ""
         },
         "zerolinecolor": "#E1E5ED"
        },
        "yaxis2": {
         "domain": [
          0,
          0.25
         ],
         "gridcolor": "#E1E5ED",
         "showgrid": true,
         "tickfont": {
          "color": "#4D5663"
         },
         "title": {
          "font": {
           "color": "#4D5663"
          },
          "text": "Spread"
         },
         "zerolinecolor": "#E1E5ED"
        }
       }
      },
      "text/html": [
       "<div>                            <div id=\"99f6ff00-9a42-4d24-892a-30d25fd80c1d\" class=\"plotly-graph-div\" style=\"height:525px; width:100%;\"></div>            <script type=\"text/javascript\">                require([\"plotly\"], function(Plotly) {                    window.PLOTLYENV=window.PLOTLYENV || {};\n",
       "                    window.PLOTLYENV.BASE_URL='https://plot.ly';                                    if (document.getElementById(\"99f6ff00-9a42-4d24-892a-30d25fd80c1d\")) {                    Plotly.newPlot(                        \"99f6ff00-9a42-4d24-892a-30d25fd80c1d\",                        [{\"line\":{\"color\":\"rgba(255, 153, 51, 1.0)\",\"dash\":\"solid\",\"shape\":\"linear\",\"width\":1.3},\"mode\":\"lines\",\"name\":\"A\",\"text\":\"\",\"x\":[0,1,2,3,4,5,6,7,8,9,10,11,12,13,14,15,16,17,18,19,20,21,22,23,24,25,26,27,28,29,30,31,32,33,34,35,36,37,38,39,40,41,42,43,44,45,46,47,48,49,50,51,52,53,54,55,56,57,58,59,60,61,62,63,64,65,66,67,68,69,70,71,72,73,74,75,76,77,78,79,80,81,82,83,84,85,86,87,88,89,90,91,92,93,94,95,96,97,98,99],\"y\":[0.15387951566040683,2.181248765458232,-0.13566587094592006,2.5826373196933714,1.6784225961066819,-0.16299128101973356,-0.17874297565492092,0.48903983504613824,-0.050245207821652656,-0.21504123172855624,-0.9579247028153586,-0.9893440631800207,-0.5545866030923471,-0.729196183556216,-2.1468969108658733,1.443650242734995,0.9090913732870752,0.16199268989531002,-0.9466477932939458,0.35055814554620657,-0.21162327402463743,0.6365749108453906,-0.3836843220449782,1.0035932100576173,-0.6335239904754568,0.8596977337897347,0.4447230070289421,-1.2523804891664259,-0.13451250405916465,-0.5780800680607079,-0.2450155534501923,-0.9832040367280465,-0.23809181759312123,-0.34116672085694183,-0.8558574974421355,1.699621211172324,-1.0103056803776571,-0.8897721763689249,0.9747541077716472,0.2733325155193339,-2.3269122184399578,-0.3725394679542613,-1.1036867869571978,-0.1352555301863368,-1.1509761019037328,-1.2187335433615616,0.05506999604218593,-0.10228406176818654,1.2778340337032956,-1.6499243125727343,0.2584083064742115,0.022789195090183578,-0.05469858920966472,0.6934335354023595,-0.3582243331584894,-0.6762481063753567,-2.6093883903092228,0.08746280693315048,0.7907999135080389,-0.016400209655702606,-1.020020479062982,1.062252800413191,0.06000472648461456,-0.5751331128737663,0.7283756600309553,0.1828699910324269,-0.15630554197630672,-1.864294517478185,-0.05583743965754278,-1.3671415114751497,-0.2859607383869635,0.49472919490075573,-0.35969076601765726,0.9720742091395949,-0.11590515837531183,0.39360624198567107,0.7839283888154851,-1.177254142345938,0.8315862249829457,-1.1865453897625722,1.29698117990059,0.8766686456478701,0.7043101490622228,0.34654329113273163,0.009958136649100556,-1.134745510635879,0.0785083179815372,-1.8470364158934645,-0.4875047829676378,-0.735646683248686,-1.316475374019799,1.3776811867196217,-1.321076206512763,0.45445257779186266,2.5370214104573803,0.5769179650580939,0.4222801389522976,-0.5517893605255988,-0.30363543870509463,-0.33995824148450854],\"type\":\"scatter\"},{\"line\":{\"color\":\"rgba(55, 128, 191, 1.0)\",\"dash\":\"solid\",\"shape\":\"linear\",\"width\":1.3},\"mode\":\"lines\",\"name\":\"B\",\"text\":\"\",\"x\":[0,1,2,3,4,5,6,7,8,9,10,11,12,13,14,15,16,17,18,19,20,21,22,23,24,25,26,27,28,29,30,31,32,33,34,35,36,37,38,39,40,41,42,43,44,45,46,47,48,49,50,51,52,53,54,55,56,57,58,59,60,61,62,63,64,65,66,67,68,69,70,71,72,73,74,75,76,77,78,79,80,81,82,83,84,85,86,87,88,89,90,91,92,93,94,95,96,97,98,99],\"y\":[0.2083619918066731,-0.007445592501653823,0.013438670371493154,-1.1402200714610695,-1.0037282728945376,-1.7796940522845184,1.4005425881113962,-0.12409065370077918,0.4452116013367775,-0.33569644713285623,0.9193071025427763,0.3170284786129296,0.13430335146684186,0.7787044216687309,0.21450459241797218,-1.5092666232396665,0.7919886424619987,-0.1927552256597784,0.1407274967059369,0.913396235037004,-0.39175435019456206,-0.5407190613207937,-1.129410685739879,-0.7073325132739956,-0.1202465665969558,-1.2835242588380795,-0.37277920098249084,0.40015445605057215,-0.40024857144059733,-0.6379169763897673,-0.2866340398118274,0.06139895861208848,-2.252517714720179,0.5457545446741421,1.1544587442506151,-0.6168270294189658,-0.3630037900029631,-1.2010279486365256,-0.7653438306648163,-0.11053318751770316,0.38388124646772853,-1.2674203103987471,0.0028399536666268025,-1.5494254508705259,2.095749715307753,-0.5641187149411993,0.34709305987418854,0.6236619982195952,-0.08063942778001149,0.08689494745775367,-1.2433803804032548,0.17159566961706876,-0.0032167099066127717,0.11739239250666493,0.38951736549480986,-1.0280734833091218,-0.4800090749698621,0.5740201552456949,-1.2084516763572983,0.7238828648723517,2.2005364752879752,0.15802727378773124,0.32649568568896786,-2.7143738424005797,0.38341951411432434,1.116813227600596,-0.01989660137589359,1.8878704671898408,-0.6405584469147696,-2.3590894870123007,-0.8715844322342543,-1.4398225910640223,1.3363221386595507,1.8283221642713612,-1.1084543823687798,-0.9822653578380953,-0.6494889734849333,-0.3426015797521599,-0.6837935756698565,0.6076716337813307,0.33659591669323224,0.4269690302146352,-0.9343729078118749,0.02124021733474761,-0.8433181262016681,-1.6579278057042166,1.0367687781471089,-0.508413311460955,1.039475592623558,-0.23178447064330665,0.0724413119156897,0.3487934006331482,1.4631758122581195,-1.9585115623098048,0.05495266418138907,0.01997126586927419,0.19730602361652821,-0.07707793518496193,1.2635910163603281,-1.575182626460573],\"type\":\"scatter\"},{\"connectgaps\":false,\"fill\":\"tozeroy\",\"line\":{\"color\":\"green\",\"dash\":\"solid\",\"shape\":\"linear\",\"width\":0.5},\"mode\":\"lines\",\"name\":\"Spread\",\"showlegend\":false,\"x\":[0,1,2,3,4,5,6,7,8,9,10,11,12,13,14,15,16,17,18,19,20,21,22,23,24,25,26,27,28,29,30,31,32,33,34,35,36,37,38,39,40,41,42,43,44,45,46,47,48,49,50,51,52,53,54,55,56,57,58,59,60,61,62,63,64,65,66,67,68,69,70,71,72,73,74,75,76,77,78,79,80,81,82,83,84,85,86,87,88,89,90,91,92,93,94,95,96,97,98,99],\"xaxis\":\"x2\",\"y\":[\"\",2.1886943579598857,\"\",3.7228573911544407,2.6821508690012195,1.6167027712647848,\"\",0.6131304887469174,\"\",0.12065521540429999,\"\",\"\",\"\",\"\",\"\",2.952916865974662,0.1171027308250765,0.35474791555508844,\"\",\"\",0.18013107616992463,1.1772939721661844,0.7457263636949008,1.7109257233316129,\"\",2.143221992627814,0.8175022080114329,\"\",0.2657360673814327,0.05983690832905941,0.04161848636163509,\"\",2.014425897127058,\"\",\"\",2.31644824059129,\"\",0.3112557722676007,1.7400979384364634,0.38386570303703704,\"\",0.8948808424444858,\"\",1.4141699206841891,\"\",\"\",\"\",\"\",1.3584734614833072,\"\",1.5017886868774664,\"\",\"\",0.5760411428956946,\"\",0.35182537693376514,\"\",\"\",1.9992515898653371,\"\",\"\",0.9042255266254597,\"\",2.139240729526813,0.344956145916631,\"\",\"\",\"\",0.5847210072572269,0.991947975537151,0.5856236938472907,1.934551785964778,\"\",\"\",0.992549223993468,1.3758715998237663,1.4334173623004185,\"\",1.515379800652802,\"\",0.9603852632073577,0.44969961543323483,1.6386830568740978,0.325303073797984,0.8532762628507686,0.5231822950683376,\"\",\"\",\"\",\"\",\"\",1.0288877860864736,\"\",2.4129641401016677,2.482068746275991,0.5569466991888197,0.2249741153357694,\"\",\"\",1.2352243849760645],\"yaxis\":\"y2\",\"type\":\"scatter\"},{\"connectgaps\":false,\"fill\":\"tozeroy\",\"line\":{\"color\":\"red\",\"dash\":\"solid\",\"shape\":\"linear\",\"width\":0.5},\"mode\":\"lines\",\"name\":\"Spread\",\"showlegend\":false,\"x\":[0,1,2,3,4,5,6,7,8,9,10,11,12,13,14,15,16,17,18,19,20,21,22,23,24,25,26,27,28,29,30,31,32,33,34,35,36,37,38,39,40,41,42,43,44,45,46,47,48,49,50,51,52,53,54,55,56,57,58,59,60,61,62,63,64,65,66,67,68,69,70,71,72,73,74,75,76,77,78,79,80,81,82,83,84,85,86,87,88,89,90,91,92,93,94,95,96,97,98,99],\"xaxis\":\"x2\",\"y\":[-0.05448247614626628,\"\",-0.14910454131741321,\"\",\"\",\"\",-1.5792855637663172,\"\",-0.49545680915843016,\"\",-1.877231805358135,-1.3063725417929501,-0.6888899545591889,-1.5079006052249468,-2.3614015032838456,\"\",\"\",\"\",-1.0873752899998828,-0.5628380894907974,\"\",\"\",\"\",\"\",-0.5132774238785011,\"\",\"\",-1.652534945216998,\"\",\"\",\"\",-1.044602995340135,\"\",-0.8869212655310839,-2.0103162416927507,\"\",-0.647301890374694,\"\",\"\",\"\",-2.7107934649076864,\"\",-1.1065267406238246,\"\",-3.2467258172114857,-0.6546148284203623,-0.2920230638320026,-0.7259460599877817,\"\",-1.736819260030488,\"\",-0.1488064745268852,-0.05148187930305195,\"\",-0.7477416986532992,\"\",-2.1293793153393605,-0.4865573483125445,\"\",-0.7402830745280543,-3.2205569543509576,\"\",-0.2664909592043533,\"\",\"\",-0.933943236568169,-0.13640894060041314,-3.752164984668026,\"\",\"\",\"\",\"\",-1.6960129046772079,-0.8562479551317663,\"\",\"\",\"\",-0.8346525625937781,\"\",-1.794217023543903,\"\",\"\",\"\",\"\",\"\",\"\",-0.9582604601655716,-1.3386231044325094,-1.5269803755911957,-0.5038622126053793,-1.3889166859354887,\"\",-2.7842520187708826,\"\",\"\",\"\",\"\",-0.47471142534063687,-1.5672264550654227,\"\"],\"yaxis\":\"y2\",\"type\":\"scatter\"}],                        {\"hovermode\":\"x\",\"legend\":{\"bgcolor\":\"#F5F6F9\",\"font\":{\"color\":\"#4D5663\"}},\"paper_bgcolor\":\"#F5F6F9\",\"plot_bgcolor\":\"#F5F6F9\",\"template\":{\"data\":{\"barpolar\":[{\"marker\":{\"line\":{\"color\":\"#E5ECF6\",\"width\":0.5},\"pattern\":{\"fillmode\":\"overlay\",\"size\":10,\"solidity\":0.2}},\"type\":\"barpolar\"}],\"bar\":[{\"error_x\":{\"color\":\"#2a3f5f\"},\"error_y\":{\"color\":\"#2a3f5f\"},\"marker\":{\"line\":{\"color\":\"#E5ECF6\",\"width\":0.5},\"pattern\":{\"fillmode\":\"overlay\",\"size\":10,\"solidity\":0.2}},\"type\":\"bar\"}],\"carpet\":[{\"aaxis\":{\"endlinecolor\":\"#2a3f5f\",\"gridcolor\":\"white\",\"linecolor\":\"white\",\"minorgridcolor\":\"white\",\"startlinecolor\":\"#2a3f5f\"},\"baxis\":{\"endlinecolor\":\"#2a3f5f\",\"gridcolor\":\"white\",\"linecolor\":\"white\",\"minorgridcolor\":\"white\",\"startlinecolor\":\"#2a3f5f\"},\"type\":\"carpet\"}],\"choropleth\":[{\"colorbar\":{\"outlinewidth\":0,\"ticks\":\"\"},\"type\":\"choropleth\"}],\"contourcarpet\":[{\"colorbar\":{\"outlinewidth\":0,\"ticks\":\"\"},\"type\":\"contourcarpet\"}],\"contour\":[{\"colorbar\":{\"outlinewidth\":0,\"ticks\":\"\"},\"colorscale\":[[0.0,\"#0d0887\"],[0.1111111111111111,\"#46039f\"],[0.2222222222222222,\"#7201a8\"],[0.3333333333333333,\"#9c179e\"],[0.4444444444444444,\"#bd3786\"],[0.5555555555555556,\"#d8576b\"],[0.6666666666666666,\"#ed7953\"],[0.7777777777777778,\"#fb9f3a\"],[0.8888888888888888,\"#fdca26\"],[1.0,\"#f0f921\"]],\"type\":\"contour\"}],\"heatmapgl\":[{\"colorbar\":{\"outlinewidth\":0,\"ticks\":\"\"},\"colorscale\":[[0.0,\"#0d0887\"],[0.1111111111111111,\"#46039f\"],[0.2222222222222222,\"#7201a8\"],[0.3333333333333333,\"#9c179e\"],[0.4444444444444444,\"#bd3786\"],[0.5555555555555556,\"#d8576b\"],[0.6666666666666666,\"#ed7953\"],[0.7777777777777778,\"#fb9f3a\"],[0.8888888888888888,\"#fdca26\"],[1.0,\"#f0f921\"]],\"type\":\"heatmapgl\"}],\"heatmap\":[{\"colorbar\":{\"outlinewidth\":0,\"ticks\":\"\"},\"colorscale\":[[0.0,\"#0d0887\"],[0.1111111111111111,\"#46039f\"],[0.2222222222222222,\"#7201a8\"],[0.3333333333333333,\"#9c179e\"],[0.4444444444444444,\"#bd3786\"],[0.5555555555555556,\"#d8576b\"],[0.6666666666666666,\"#ed7953\"],[0.7777777777777778,\"#fb9f3a\"],[0.8888888888888888,\"#fdca26\"],[1.0,\"#f0f921\"]],\"type\":\"heatmap\"}],\"histogram2dcontour\":[{\"colorbar\":{\"outlinewidth\":0,\"ticks\":\"\"},\"colorscale\":[[0.0,\"#0d0887\"],[0.1111111111111111,\"#46039f\"],[0.2222222222222222,\"#7201a8\"],[0.3333333333333333,\"#9c179e\"],[0.4444444444444444,\"#bd3786\"],[0.5555555555555556,\"#d8576b\"],[0.6666666666666666,\"#ed7953\"],[0.7777777777777778,\"#fb9f3a\"],[0.8888888888888888,\"#fdca26\"],[1.0,\"#f0f921\"]],\"type\":\"histogram2dcontour\"}],\"histogram2d\":[{\"colorbar\":{\"outlinewidth\":0,\"ticks\":\"\"},\"colorscale\":[[0.0,\"#0d0887\"],[0.1111111111111111,\"#46039f\"],[0.2222222222222222,\"#7201a8\"],[0.3333333333333333,\"#9c179e\"],[0.4444444444444444,\"#bd3786\"],[0.5555555555555556,\"#d8576b\"],[0.6666666666666666,\"#ed7953\"],[0.7777777777777778,\"#fb9f3a\"],[0.8888888888888888,\"#fdca26\"],[1.0,\"#f0f921\"]],\"type\":\"histogram2d\"}],\"histogram\":[{\"marker\":{\"pattern\":{\"fillmode\":\"overlay\",\"size\":10,\"solidity\":0.2}},\"type\":\"histogram\"}],\"mesh3d\":[{\"colorbar\":{\"outlinewidth\":0,\"ticks\":\"\"},\"type\":\"mesh3d\"}],\"parcoords\":[{\"line\":{\"colorbar\":{\"outlinewidth\":0,\"ticks\":\"\"}},\"type\":\"parcoords\"}],\"pie\":[{\"automargin\":true,\"type\":\"pie\"}],\"scatter3d\":[{\"line\":{\"colorbar\":{\"outlinewidth\":0,\"ticks\":\"\"}},\"marker\":{\"colorbar\":{\"outlinewidth\":0,\"ticks\":\"\"}},\"type\":\"scatter3d\"}],\"scattercarpet\":[{\"marker\":{\"colorbar\":{\"outlinewidth\":0,\"ticks\":\"\"}},\"type\":\"scattercarpet\"}],\"scattergeo\":[{\"marker\":{\"colorbar\":{\"outlinewidth\":0,\"ticks\":\"\"}},\"type\":\"scattergeo\"}],\"scattergl\":[{\"marker\":{\"colorbar\":{\"outlinewidth\":0,\"ticks\":\"\"}},\"type\":\"scattergl\"}],\"scattermapbox\":[{\"marker\":{\"colorbar\":{\"outlinewidth\":0,\"ticks\":\"\"}},\"type\":\"scattermapbox\"}],\"scatterpolargl\":[{\"marker\":{\"colorbar\":{\"outlinewidth\":0,\"ticks\":\"\"}},\"type\":\"scatterpolargl\"}],\"scatterpolar\":[{\"marker\":{\"colorbar\":{\"outlinewidth\":0,\"ticks\":\"\"}},\"type\":\"scatterpolar\"}],\"scatter\":[{\"fillpattern\":{\"fillmode\":\"overlay\",\"size\":10,\"solidity\":0.2},\"type\":\"scatter\"}],\"scatterternary\":[{\"marker\":{\"colorbar\":{\"outlinewidth\":0,\"ticks\":\"\"}},\"type\":\"scatterternary\"}],\"surface\":[{\"colorbar\":{\"outlinewidth\":0,\"ticks\":\"\"},\"colorscale\":[[0.0,\"#0d0887\"],[0.1111111111111111,\"#46039f\"],[0.2222222222222222,\"#7201a8\"],[0.3333333333333333,\"#9c179e\"],[0.4444444444444444,\"#bd3786\"],[0.5555555555555556,\"#d8576b\"],[0.6666666666666666,\"#ed7953\"],[0.7777777777777778,\"#fb9f3a\"],[0.8888888888888888,\"#fdca26\"],[1.0,\"#f0f921\"]],\"type\":\"surface\"}],\"table\":[{\"cells\":{\"fill\":{\"color\":\"#EBF0F8\"},\"line\":{\"color\":\"white\"}},\"header\":{\"fill\":{\"color\":\"#C8D4E3\"},\"line\":{\"color\":\"white\"}},\"type\":\"table\"}]},\"layout\":{\"annotationdefaults\":{\"arrowcolor\":\"#2a3f5f\",\"arrowhead\":0,\"arrowwidth\":1},\"autotypenumbers\":\"strict\",\"coloraxis\":{\"colorbar\":{\"outlinewidth\":0,\"ticks\":\"\"}},\"colorscale\":{\"diverging\":[[0,\"#8e0152\"],[0.1,\"#c51b7d\"],[0.2,\"#de77ae\"],[0.3,\"#f1b6da\"],[0.4,\"#fde0ef\"],[0.5,\"#f7f7f7\"],[0.6,\"#e6f5d0\"],[0.7,\"#b8e186\"],[0.8,\"#7fbc41\"],[0.9,\"#4d9221\"],[1,\"#276419\"]],\"sequential\":[[0.0,\"#0d0887\"],[0.1111111111111111,\"#46039f\"],[0.2222222222222222,\"#7201a8\"],[0.3333333333333333,\"#9c179e\"],[0.4444444444444444,\"#bd3786\"],[0.5555555555555556,\"#d8576b\"],[0.6666666666666666,\"#ed7953\"],[0.7777777777777778,\"#fb9f3a\"],[0.8888888888888888,\"#fdca26\"],[1.0,\"#f0f921\"]],\"sequentialminus\":[[0.0,\"#0d0887\"],[0.1111111111111111,\"#46039f\"],[0.2222222222222222,\"#7201a8\"],[0.3333333333333333,\"#9c179e\"],[0.4444444444444444,\"#bd3786\"],[0.5555555555555556,\"#d8576b\"],[0.6666666666666666,\"#ed7953\"],[0.7777777777777778,\"#fb9f3a\"],[0.8888888888888888,\"#fdca26\"],[1.0,\"#f0f921\"]]},\"colorway\":[\"#636efa\",\"#EF553B\",\"#00cc96\",\"#ab63fa\",\"#FFA15A\",\"#19d3f3\",\"#FF6692\",\"#B6E880\",\"#FF97FF\",\"#FECB52\"],\"font\":{\"color\":\"#2a3f5f\"},\"geo\":{\"bgcolor\":\"white\",\"lakecolor\":\"white\",\"landcolor\":\"#E5ECF6\",\"showlakes\":true,\"showland\":true,\"subunitcolor\":\"white\"},\"hoverlabel\":{\"align\":\"left\"},\"hovermode\":\"closest\",\"mapbox\":{\"style\":\"light\"},\"paper_bgcolor\":\"white\",\"plot_bgcolor\":\"#E5ECF6\",\"polar\":{\"angularaxis\":{\"gridcolor\":\"white\",\"linecolor\":\"white\",\"ticks\":\"\"},\"bgcolor\":\"#E5ECF6\",\"radialaxis\":{\"gridcolor\":\"white\",\"linecolor\":\"white\",\"ticks\":\"\"}},\"scene\":{\"xaxis\":{\"backgroundcolor\":\"#E5ECF6\",\"gridcolor\":\"white\",\"gridwidth\":2,\"linecolor\":\"white\",\"showbackground\":true,\"ticks\":\"\",\"zerolinecolor\":\"white\"},\"yaxis\":{\"backgroundcolor\":\"#E5ECF6\",\"gridcolor\":\"white\",\"gridwidth\":2,\"linecolor\":\"white\",\"showbackground\":true,\"ticks\":\"\",\"zerolinecolor\":\"white\"},\"zaxis\":{\"backgroundcolor\":\"#E5ECF6\",\"gridcolor\":\"white\",\"gridwidth\":2,\"linecolor\":\"white\",\"showbackground\":true,\"ticks\":\"\",\"zerolinecolor\":\"white\"}},\"shapedefaults\":{\"line\":{\"color\":\"#2a3f5f\"}},\"ternary\":{\"aaxis\":{\"gridcolor\":\"white\",\"linecolor\":\"white\",\"ticks\":\"\"},\"baxis\":{\"gridcolor\":\"white\",\"linecolor\":\"white\",\"ticks\":\"\"},\"bgcolor\":\"#E5ECF6\",\"caxis\":{\"gridcolor\":\"white\",\"linecolor\":\"white\",\"ticks\":\"\"}},\"title\":{\"x\":0.05},\"xaxis\":{\"automargin\":true,\"gridcolor\":\"white\",\"linecolor\":\"white\",\"ticks\":\"\",\"title\":{\"standoff\":15},\"zerolinecolor\":\"white\",\"zerolinewidth\":2},\"yaxis\":{\"automargin\":true,\"gridcolor\":\"white\",\"linecolor\":\"white\",\"ticks\":\"\",\"title\":{\"standoff\":15},\"zerolinecolor\":\"white\",\"zerolinewidth\":2}}},\"title\":{\"font\":{\"color\":\"#4D5663\"}},\"xaxis\":{\"gridcolor\":\"#E1E5ED\",\"showgrid\":true,\"tickfont\":{\"color\":\"#4D5663\"},\"title\":{\"font\":{\"color\":\"#4D5663\"},\"text\":\"\"},\"zerolinecolor\":\"#E1E5ED\"},\"yaxis\":{\"domain\":[0.3,1],\"gridcolor\":\"#E1E5ED\",\"showgrid\":true,\"tickfont\":{\"color\":\"#4D5663\"},\"title\":{\"font\":{\"color\":\"#4D5663\"},\"text\":\"\"},\"zerolinecolor\":\"#E1E5ED\"},\"yaxis2\":{\"domain\":[0,0.25],\"gridcolor\":\"#E1E5ED\",\"showgrid\":true,\"tickfont\":{\"color\":\"#4D5663\"},\"title\":{\"font\":{\"color\":\"#4D5663\"},\"text\":\"Spread\"},\"zerolinecolor\":\"#E1E5ED\"},\"xaxis2\":{\"anchor\":\"y2\",\"gridcolor\":\"#E1E5ED\",\"showgrid\":true,\"showticklabels\":false,\"tickfont\":{\"color\":\"#4D5663\"},\"title\":{\"font\":{\"color\":\"#4D5663\"},\"text\":\"\"},\"zerolinecolor\":\"#E1E5ED\"}},                        {\"showLink\": true, \"linkText\": \"Export to plot.ly\", \"plotlyServerURL\": \"https://plot.ly\", \"responsive\": true}                    ).then(function(){\n",
       "                            \n",
       "var gd = document.getElementById('99f6ff00-9a42-4d24-892a-30d25fd80c1d');\n",
       "var x = new MutationObserver(function (mutations, observer) {{\n",
       "        var display = window.getComputedStyle(gd).display;\n",
       "        if (!display || display === 'none') {{\n",
       "            console.log([gd, 'removed!']);\n",
       "            Plotly.purge(gd);\n",
       "            observer.disconnect();\n",
       "        }}\n",
       "}});\n",
       "\n",
       "// Listen for the removal of the full notebook cells\n",
       "var notebookContainer = gd.closest('#notebook-container');\n",
       "if (notebookContainer) {{\n",
       "    x.observe(notebookContainer, {childList: true});\n",
       "}}\n",
       "\n",
       "// Listen for the clearing of the current output cell\n",
       "var outputEl = gd.closest('.output');\n",
       "if (outputEl) {{\n",
       "    x.observe(outputEl, {childList: true});\n",
       "}}\n",
       "\n",
       "                        })                };                });            </script>        </div>"
      ]
     },
     "metadata": {},
     "output_type": "display_data"
    }
   ],
   "source": [
    "df[['A','B']].iplot(kind='spread')"
   ]
  },
  {
   "cell_type": "code",
   "execution_count": 19,
   "id": "51bff754",
   "metadata": {},
   "outputs": [
    {
     "data": {
      "application/vnd.plotly.v1+json": {
       "config": {
        "linkText": "Export to plot.ly",
        "plotlyServerURL": "https://plot.ly",
        "showLink": true
       },
       "data": [
        {
         "histfunc": "count",
         "histnorm": "",
         "marker": {
          "color": "rgba(255, 153, 51, 1.0)",
          "line": {
           "color": "#4D5663",
           "width": 1.3
          }
         },
         "name": "A",
         "nbinsx": 25,
         "opacity": 0.8,
         "orientation": "v",
         "type": "histogram",
         "x": [
          0.15387951566040683,
          2.181248765458232,
          -0.13566587094592006,
          2.5826373196933714,
          1.6784225961066819,
          -0.16299128101973356,
          -0.17874297565492092,
          0.48903983504613824,
          -0.050245207821652656,
          -0.21504123172855624,
          -0.9579247028153586,
          -0.9893440631800207,
          -0.5545866030923471,
          -0.729196183556216,
          -2.1468969108658733,
          1.443650242734995,
          0.9090913732870752,
          0.16199268989531002,
          -0.9466477932939458,
          0.35055814554620657,
          -0.21162327402463743,
          0.6365749108453906,
          -0.3836843220449782,
          1.0035932100576173,
          -0.6335239904754568,
          0.8596977337897347,
          0.4447230070289421,
          -1.2523804891664259,
          -0.13451250405916465,
          -0.5780800680607079,
          -0.2450155534501923,
          -0.9832040367280465,
          -0.23809181759312123,
          -0.34116672085694183,
          -0.8558574974421355,
          1.699621211172324,
          -1.0103056803776571,
          -0.8897721763689249,
          0.9747541077716472,
          0.2733325155193339,
          -2.3269122184399578,
          -0.3725394679542613,
          -1.1036867869571978,
          -0.1352555301863368,
          -1.1509761019037328,
          -1.2187335433615616,
          0.05506999604218593,
          -0.10228406176818654,
          1.2778340337032956,
          -1.6499243125727343,
          0.2584083064742115,
          0.022789195090183578,
          -0.05469858920966472,
          0.6934335354023595,
          -0.3582243331584894,
          -0.6762481063753567,
          -2.6093883903092228,
          0.08746280693315048,
          0.7907999135080389,
          -0.016400209655702606,
          -1.020020479062982,
          1.062252800413191,
          0.06000472648461456,
          -0.5751331128737663,
          0.7283756600309553,
          0.1828699910324269,
          -0.15630554197630672,
          -1.864294517478185,
          -0.05583743965754278,
          -1.3671415114751497,
          -0.2859607383869635,
          0.49472919490075573,
          -0.35969076601765726,
          0.9720742091395949,
          -0.11590515837531183,
          0.39360624198567107,
          0.7839283888154851,
          -1.177254142345938,
          0.8315862249829457,
          -1.1865453897625722,
          1.29698117990059,
          0.8766686456478701,
          0.7043101490622228,
          0.34654329113273163,
          0.009958136649100556,
          -1.134745510635879,
          0.0785083179815372,
          -1.8470364158934645,
          -0.4875047829676378,
          -0.735646683248686,
          -1.316475374019799,
          1.3776811867196217,
          -1.321076206512763,
          0.45445257779186266,
          2.5370214104573803,
          0.5769179650580939,
          0.4222801389522976,
          -0.5517893605255988,
          -0.30363543870509463,
          -0.33995824148450854
         ]
        }
       ],
       "layout": {
        "barmode": "overlay",
        "legend": {
         "bgcolor": "#F5F6F9",
         "font": {
          "color": "#4D5663"
         }
        },
        "paper_bgcolor": "#F5F6F9",
        "plot_bgcolor": "#F5F6F9",
        "template": {
         "data": {
          "bar": [
           {
            "error_x": {
             "color": "#2a3f5f"
            },
            "error_y": {
             "color": "#2a3f5f"
            },
            "marker": {
             "line": {
              "color": "#E5ECF6",
              "width": 0.5
             },
             "pattern": {
              "fillmode": "overlay",
              "size": 10,
              "solidity": 0.2
             }
            },
            "type": "bar"
           }
          ],
          "barpolar": [
           {
            "marker": {
             "line": {
              "color": "#E5ECF6",
              "width": 0.5
             },
             "pattern": {
              "fillmode": "overlay",
              "size": 10,
              "solidity": 0.2
             }
            },
            "type": "barpolar"
           }
          ],
          "carpet": [
           {
            "aaxis": {
             "endlinecolor": "#2a3f5f",
             "gridcolor": "white",
             "linecolor": "white",
             "minorgridcolor": "white",
             "startlinecolor": "#2a3f5f"
            },
            "baxis": {
             "endlinecolor": "#2a3f5f",
             "gridcolor": "white",
             "linecolor": "white",
             "minorgridcolor": "white",
             "startlinecolor": "#2a3f5f"
            },
            "type": "carpet"
           }
          ],
          "choropleth": [
           {
            "colorbar": {
             "outlinewidth": 0,
             "ticks": ""
            },
            "type": "choropleth"
           }
          ],
          "contour": [
           {
            "colorbar": {
             "outlinewidth": 0,
             "ticks": ""
            },
            "colorscale": [
             [
              0,
              "#0d0887"
             ],
             [
              0.1111111111111111,
              "#46039f"
             ],
             [
              0.2222222222222222,
              "#7201a8"
             ],
             [
              0.3333333333333333,
              "#9c179e"
             ],
             [
              0.4444444444444444,
              "#bd3786"
             ],
             [
              0.5555555555555556,
              "#d8576b"
             ],
             [
              0.6666666666666666,
              "#ed7953"
             ],
             [
              0.7777777777777778,
              "#fb9f3a"
             ],
             [
              0.8888888888888888,
              "#fdca26"
             ],
             [
              1,
              "#f0f921"
             ]
            ],
            "type": "contour"
           }
          ],
          "contourcarpet": [
           {
            "colorbar": {
             "outlinewidth": 0,
             "ticks": ""
            },
            "type": "contourcarpet"
           }
          ],
          "heatmap": [
           {
            "colorbar": {
             "outlinewidth": 0,
             "ticks": ""
            },
            "colorscale": [
             [
              0,
              "#0d0887"
             ],
             [
              0.1111111111111111,
              "#46039f"
             ],
             [
              0.2222222222222222,
              "#7201a8"
             ],
             [
              0.3333333333333333,
              "#9c179e"
             ],
             [
              0.4444444444444444,
              "#bd3786"
             ],
             [
              0.5555555555555556,
              "#d8576b"
             ],
             [
              0.6666666666666666,
              "#ed7953"
             ],
             [
              0.7777777777777778,
              "#fb9f3a"
             ],
             [
              0.8888888888888888,
              "#fdca26"
             ],
             [
              1,
              "#f0f921"
             ]
            ],
            "type": "heatmap"
           }
          ],
          "heatmapgl": [
           {
            "colorbar": {
             "outlinewidth": 0,
             "ticks": ""
            },
            "colorscale": [
             [
              0,
              "#0d0887"
             ],
             [
              0.1111111111111111,
              "#46039f"
             ],
             [
              0.2222222222222222,
              "#7201a8"
             ],
             [
              0.3333333333333333,
              "#9c179e"
             ],
             [
              0.4444444444444444,
              "#bd3786"
             ],
             [
              0.5555555555555556,
              "#d8576b"
             ],
             [
              0.6666666666666666,
              "#ed7953"
             ],
             [
              0.7777777777777778,
              "#fb9f3a"
             ],
             [
              0.8888888888888888,
              "#fdca26"
             ],
             [
              1,
              "#f0f921"
             ]
            ],
            "type": "heatmapgl"
           }
          ],
          "histogram": [
           {
            "marker": {
             "pattern": {
              "fillmode": "overlay",
              "size": 10,
              "solidity": 0.2
             }
            },
            "type": "histogram"
           }
          ],
          "histogram2d": [
           {
            "colorbar": {
             "outlinewidth": 0,
             "ticks": ""
            },
            "colorscale": [
             [
              0,
              "#0d0887"
             ],
             [
              0.1111111111111111,
              "#46039f"
             ],
             [
              0.2222222222222222,
              "#7201a8"
             ],
             [
              0.3333333333333333,
              "#9c179e"
             ],
             [
              0.4444444444444444,
              "#bd3786"
             ],
             [
              0.5555555555555556,
              "#d8576b"
             ],
             [
              0.6666666666666666,
              "#ed7953"
             ],
             [
              0.7777777777777778,
              "#fb9f3a"
             ],
             [
              0.8888888888888888,
              "#fdca26"
             ],
             [
              1,
              "#f0f921"
             ]
            ],
            "type": "histogram2d"
           }
          ],
          "histogram2dcontour": [
           {
            "colorbar": {
             "outlinewidth": 0,
             "ticks": ""
            },
            "colorscale": [
             [
              0,
              "#0d0887"
             ],
             [
              0.1111111111111111,
              "#46039f"
             ],
             [
              0.2222222222222222,
              "#7201a8"
             ],
             [
              0.3333333333333333,
              "#9c179e"
             ],
             [
              0.4444444444444444,
              "#bd3786"
             ],
             [
              0.5555555555555556,
              "#d8576b"
             ],
             [
              0.6666666666666666,
              "#ed7953"
             ],
             [
              0.7777777777777778,
              "#fb9f3a"
             ],
             [
              0.8888888888888888,
              "#fdca26"
             ],
             [
              1,
              "#f0f921"
             ]
            ],
            "type": "histogram2dcontour"
           }
          ],
          "mesh3d": [
           {
            "colorbar": {
             "outlinewidth": 0,
             "ticks": ""
            },
            "type": "mesh3d"
           }
          ],
          "parcoords": [
           {
            "line": {
             "colorbar": {
              "outlinewidth": 0,
              "ticks": ""
             }
            },
            "type": "parcoords"
           }
          ],
          "pie": [
           {
            "automargin": true,
            "type": "pie"
           }
          ],
          "scatter": [
           {
            "fillpattern": {
             "fillmode": "overlay",
             "size": 10,
             "solidity": 0.2
            },
            "type": "scatter"
           }
          ],
          "scatter3d": [
           {
            "line": {
             "colorbar": {
              "outlinewidth": 0,
              "ticks": ""
             }
            },
            "marker": {
             "colorbar": {
              "outlinewidth": 0,
              "ticks": ""
             }
            },
            "type": "scatter3d"
           }
          ],
          "scattercarpet": [
           {
            "marker": {
             "colorbar": {
              "outlinewidth": 0,
              "ticks": ""
             }
            },
            "type": "scattercarpet"
           }
          ],
          "scattergeo": [
           {
            "marker": {
             "colorbar": {
              "outlinewidth": 0,
              "ticks": ""
             }
            },
            "type": "scattergeo"
           }
          ],
          "scattergl": [
           {
            "marker": {
             "colorbar": {
              "outlinewidth": 0,
              "ticks": ""
             }
            },
            "type": "scattergl"
           }
          ],
          "scattermapbox": [
           {
            "marker": {
             "colorbar": {
              "outlinewidth": 0,
              "ticks": ""
             }
            },
            "type": "scattermapbox"
           }
          ],
          "scatterpolar": [
           {
            "marker": {
             "colorbar": {
              "outlinewidth": 0,
              "ticks": ""
             }
            },
            "type": "scatterpolar"
           }
          ],
          "scatterpolargl": [
           {
            "marker": {
             "colorbar": {
              "outlinewidth": 0,
              "ticks": ""
             }
            },
            "type": "scatterpolargl"
           }
          ],
          "scatterternary": [
           {
            "marker": {
             "colorbar": {
              "outlinewidth": 0,
              "ticks": ""
             }
            },
            "type": "scatterternary"
           }
          ],
          "surface": [
           {
            "colorbar": {
             "outlinewidth": 0,
             "ticks": ""
            },
            "colorscale": [
             [
              0,
              "#0d0887"
             ],
             [
              0.1111111111111111,
              "#46039f"
             ],
             [
              0.2222222222222222,
              "#7201a8"
             ],
             [
              0.3333333333333333,
              "#9c179e"
             ],
             [
              0.4444444444444444,
              "#bd3786"
             ],
             [
              0.5555555555555556,
              "#d8576b"
             ],
             [
              0.6666666666666666,
              "#ed7953"
             ],
             [
              0.7777777777777778,
              "#fb9f3a"
             ],
             [
              0.8888888888888888,
              "#fdca26"
             ],
             [
              1,
              "#f0f921"
             ]
            ],
            "type": "surface"
           }
          ],
          "table": [
           {
            "cells": {
             "fill": {
              "color": "#EBF0F8"
             },
             "line": {
              "color": "white"
             }
            },
            "header": {
             "fill": {
              "color": "#C8D4E3"
             },
             "line": {
              "color": "white"
             }
            },
            "type": "table"
           }
          ]
         },
         "layout": {
          "annotationdefaults": {
           "arrowcolor": "#2a3f5f",
           "arrowhead": 0,
           "arrowwidth": 1
          },
          "autotypenumbers": "strict",
          "coloraxis": {
           "colorbar": {
            "outlinewidth": 0,
            "ticks": ""
           }
          },
          "colorscale": {
           "diverging": [
            [
             0,
             "#8e0152"
            ],
            [
             0.1,
             "#c51b7d"
            ],
            [
             0.2,
             "#de77ae"
            ],
            [
             0.3,
             "#f1b6da"
            ],
            [
             0.4,
             "#fde0ef"
            ],
            [
             0.5,
             "#f7f7f7"
            ],
            [
             0.6,
             "#e6f5d0"
            ],
            [
             0.7,
             "#b8e186"
            ],
            [
             0.8,
             "#7fbc41"
            ],
            [
             0.9,
             "#4d9221"
            ],
            [
             1,
             "#276419"
            ]
           ],
           "sequential": [
            [
             0,
             "#0d0887"
            ],
            [
             0.1111111111111111,
             "#46039f"
            ],
            [
             0.2222222222222222,
             "#7201a8"
            ],
            [
             0.3333333333333333,
             "#9c179e"
            ],
            [
             0.4444444444444444,
             "#bd3786"
            ],
            [
             0.5555555555555556,
             "#d8576b"
            ],
            [
             0.6666666666666666,
             "#ed7953"
            ],
            [
             0.7777777777777778,
             "#fb9f3a"
            ],
            [
             0.8888888888888888,
             "#fdca26"
            ],
            [
             1,
             "#f0f921"
            ]
           ],
           "sequentialminus": [
            [
             0,
             "#0d0887"
            ],
            [
             0.1111111111111111,
             "#46039f"
            ],
            [
             0.2222222222222222,
             "#7201a8"
            ],
            [
             0.3333333333333333,
             "#9c179e"
            ],
            [
             0.4444444444444444,
             "#bd3786"
            ],
            [
             0.5555555555555556,
             "#d8576b"
            ],
            [
             0.6666666666666666,
             "#ed7953"
            ],
            [
             0.7777777777777778,
             "#fb9f3a"
            ],
            [
             0.8888888888888888,
             "#fdca26"
            ],
            [
             1,
             "#f0f921"
            ]
           ]
          },
          "colorway": [
           "#636efa",
           "#EF553B",
           "#00cc96",
           "#ab63fa",
           "#FFA15A",
           "#19d3f3",
           "#FF6692",
           "#B6E880",
           "#FF97FF",
           "#FECB52"
          ],
          "font": {
           "color": "#2a3f5f"
          },
          "geo": {
           "bgcolor": "white",
           "lakecolor": "white",
           "landcolor": "#E5ECF6",
           "showlakes": true,
           "showland": true,
           "subunitcolor": "white"
          },
          "hoverlabel": {
           "align": "left"
          },
          "hovermode": "closest",
          "mapbox": {
           "style": "light"
          },
          "paper_bgcolor": "white",
          "plot_bgcolor": "#E5ECF6",
          "polar": {
           "angularaxis": {
            "gridcolor": "white",
            "linecolor": "white",
            "ticks": ""
           },
           "bgcolor": "#E5ECF6",
           "radialaxis": {
            "gridcolor": "white",
            "linecolor": "white",
            "ticks": ""
           }
          },
          "scene": {
           "xaxis": {
            "backgroundcolor": "#E5ECF6",
            "gridcolor": "white",
            "gridwidth": 2,
            "linecolor": "white",
            "showbackground": true,
            "ticks": "",
            "zerolinecolor": "white"
           },
           "yaxis": {
            "backgroundcolor": "#E5ECF6",
            "gridcolor": "white",
            "gridwidth": 2,
            "linecolor": "white",
            "showbackground": true,
            "ticks": "",
            "zerolinecolor": "white"
           },
           "zaxis": {
            "backgroundcolor": "#E5ECF6",
            "gridcolor": "white",
            "gridwidth": 2,
            "linecolor": "white",
            "showbackground": true,
            "ticks": "",
            "zerolinecolor": "white"
           }
          },
          "shapedefaults": {
           "line": {
            "color": "#2a3f5f"
           }
          },
          "ternary": {
           "aaxis": {
            "gridcolor": "white",
            "linecolor": "white",
            "ticks": ""
           },
           "baxis": {
            "gridcolor": "white",
            "linecolor": "white",
            "ticks": ""
           },
           "bgcolor": "#E5ECF6",
           "caxis": {
            "gridcolor": "white",
            "linecolor": "white",
            "ticks": ""
           }
          },
          "title": {
           "x": 0.05
          },
          "xaxis": {
           "automargin": true,
           "gridcolor": "white",
           "linecolor": "white",
           "ticks": "",
           "title": {
            "standoff": 15
           },
           "zerolinecolor": "white",
           "zerolinewidth": 2
          },
          "yaxis": {
           "automargin": true,
           "gridcolor": "white",
           "linecolor": "white",
           "ticks": "",
           "title": {
            "standoff": 15
           },
           "zerolinecolor": "white",
           "zerolinewidth": 2
          }
         }
        },
        "title": {
         "font": {
          "color": "#4D5663"
         }
        },
        "xaxis": {
         "gridcolor": "#E1E5ED",
         "showgrid": true,
         "tickfont": {
          "color": "#4D5663"
         },
         "title": {
          "font": {
           "color": "#4D5663"
          },
          "text": ""
         },
         "zerolinecolor": "#E1E5ED"
        },
        "yaxis": {
         "gridcolor": "#E1E5ED",
         "showgrid": true,
         "tickfont": {
          "color": "#4D5663"
         },
         "title": {
          "font": {
           "color": "#4D5663"
          },
          "text": ""
         },
         "zerolinecolor": "#E1E5ED"
        }
       }
      },
      "text/html": [
       "<div>                            <div id=\"a6244a07-95ed-4c46-be43-1d999f472835\" class=\"plotly-graph-div\" style=\"height:525px; width:100%;\"></div>            <script type=\"text/javascript\">                require([\"plotly\"], function(Plotly) {                    window.PLOTLYENV=window.PLOTLYENV || {};\n",
       "                    window.PLOTLYENV.BASE_URL='https://plot.ly';                                    if (document.getElementById(\"a6244a07-95ed-4c46-be43-1d999f472835\")) {                    Plotly.newPlot(                        \"a6244a07-95ed-4c46-be43-1d999f472835\",                        [{\"histfunc\":\"count\",\"histnorm\":\"\",\"marker\":{\"color\":\"rgba(255, 153, 51, 1.0)\",\"line\":{\"color\":\"#4D5663\",\"width\":1.3}},\"name\":\"A\",\"nbinsx\":25,\"opacity\":0.8,\"orientation\":\"v\",\"x\":[0.15387951566040683,2.181248765458232,-0.13566587094592006,2.5826373196933714,1.6784225961066819,-0.16299128101973356,-0.17874297565492092,0.48903983504613824,-0.050245207821652656,-0.21504123172855624,-0.9579247028153586,-0.9893440631800207,-0.5545866030923471,-0.729196183556216,-2.1468969108658733,1.443650242734995,0.9090913732870752,0.16199268989531002,-0.9466477932939458,0.35055814554620657,-0.21162327402463743,0.6365749108453906,-0.3836843220449782,1.0035932100576173,-0.6335239904754568,0.8596977337897347,0.4447230070289421,-1.2523804891664259,-0.13451250405916465,-0.5780800680607079,-0.2450155534501923,-0.9832040367280465,-0.23809181759312123,-0.34116672085694183,-0.8558574974421355,1.699621211172324,-1.0103056803776571,-0.8897721763689249,0.9747541077716472,0.2733325155193339,-2.3269122184399578,-0.3725394679542613,-1.1036867869571978,-0.1352555301863368,-1.1509761019037328,-1.2187335433615616,0.05506999604218593,-0.10228406176818654,1.2778340337032956,-1.6499243125727343,0.2584083064742115,0.022789195090183578,-0.05469858920966472,0.6934335354023595,-0.3582243331584894,-0.6762481063753567,-2.6093883903092228,0.08746280693315048,0.7907999135080389,-0.016400209655702606,-1.020020479062982,1.062252800413191,0.06000472648461456,-0.5751331128737663,0.7283756600309553,0.1828699910324269,-0.15630554197630672,-1.864294517478185,-0.05583743965754278,-1.3671415114751497,-0.2859607383869635,0.49472919490075573,-0.35969076601765726,0.9720742091395949,-0.11590515837531183,0.39360624198567107,0.7839283888154851,-1.177254142345938,0.8315862249829457,-1.1865453897625722,1.29698117990059,0.8766686456478701,0.7043101490622228,0.34654329113273163,0.009958136649100556,-1.134745510635879,0.0785083179815372,-1.8470364158934645,-0.4875047829676378,-0.735646683248686,-1.316475374019799,1.3776811867196217,-1.321076206512763,0.45445257779186266,2.5370214104573803,0.5769179650580939,0.4222801389522976,-0.5517893605255988,-0.30363543870509463,-0.33995824148450854],\"type\":\"histogram\"}],                        {\"barmode\":\"overlay\",\"legend\":{\"bgcolor\":\"#F5F6F9\",\"font\":{\"color\":\"#4D5663\"}},\"paper_bgcolor\":\"#F5F6F9\",\"plot_bgcolor\":\"#F5F6F9\",\"template\":{\"data\":{\"barpolar\":[{\"marker\":{\"line\":{\"color\":\"#E5ECF6\",\"width\":0.5},\"pattern\":{\"fillmode\":\"overlay\",\"size\":10,\"solidity\":0.2}},\"type\":\"barpolar\"}],\"bar\":[{\"error_x\":{\"color\":\"#2a3f5f\"},\"error_y\":{\"color\":\"#2a3f5f\"},\"marker\":{\"line\":{\"color\":\"#E5ECF6\",\"width\":0.5},\"pattern\":{\"fillmode\":\"overlay\",\"size\":10,\"solidity\":0.2}},\"type\":\"bar\"}],\"carpet\":[{\"aaxis\":{\"endlinecolor\":\"#2a3f5f\",\"gridcolor\":\"white\",\"linecolor\":\"white\",\"minorgridcolor\":\"white\",\"startlinecolor\":\"#2a3f5f\"},\"baxis\":{\"endlinecolor\":\"#2a3f5f\",\"gridcolor\":\"white\",\"linecolor\":\"white\",\"minorgridcolor\":\"white\",\"startlinecolor\":\"#2a3f5f\"},\"type\":\"carpet\"}],\"choropleth\":[{\"colorbar\":{\"outlinewidth\":0,\"ticks\":\"\"},\"type\":\"choropleth\"}],\"contourcarpet\":[{\"colorbar\":{\"outlinewidth\":0,\"ticks\":\"\"},\"type\":\"contourcarpet\"}],\"contour\":[{\"colorbar\":{\"outlinewidth\":0,\"ticks\":\"\"},\"colorscale\":[[0.0,\"#0d0887\"],[0.1111111111111111,\"#46039f\"],[0.2222222222222222,\"#7201a8\"],[0.3333333333333333,\"#9c179e\"],[0.4444444444444444,\"#bd3786\"],[0.5555555555555556,\"#d8576b\"],[0.6666666666666666,\"#ed7953\"],[0.7777777777777778,\"#fb9f3a\"],[0.8888888888888888,\"#fdca26\"],[1.0,\"#f0f921\"]],\"type\":\"contour\"}],\"heatmapgl\":[{\"colorbar\":{\"outlinewidth\":0,\"ticks\":\"\"},\"colorscale\":[[0.0,\"#0d0887\"],[0.1111111111111111,\"#46039f\"],[0.2222222222222222,\"#7201a8\"],[0.3333333333333333,\"#9c179e\"],[0.4444444444444444,\"#bd3786\"],[0.5555555555555556,\"#d8576b\"],[0.6666666666666666,\"#ed7953\"],[0.7777777777777778,\"#fb9f3a\"],[0.8888888888888888,\"#fdca26\"],[1.0,\"#f0f921\"]],\"type\":\"heatmapgl\"}],\"heatmap\":[{\"colorbar\":{\"outlinewidth\":0,\"ticks\":\"\"},\"colorscale\":[[0.0,\"#0d0887\"],[0.1111111111111111,\"#46039f\"],[0.2222222222222222,\"#7201a8\"],[0.3333333333333333,\"#9c179e\"],[0.4444444444444444,\"#bd3786\"],[0.5555555555555556,\"#d8576b\"],[0.6666666666666666,\"#ed7953\"],[0.7777777777777778,\"#fb9f3a\"],[0.8888888888888888,\"#fdca26\"],[1.0,\"#f0f921\"]],\"type\":\"heatmap\"}],\"histogram2dcontour\":[{\"colorbar\":{\"outlinewidth\":0,\"ticks\":\"\"},\"colorscale\":[[0.0,\"#0d0887\"],[0.1111111111111111,\"#46039f\"],[0.2222222222222222,\"#7201a8\"],[0.3333333333333333,\"#9c179e\"],[0.4444444444444444,\"#bd3786\"],[0.5555555555555556,\"#d8576b\"],[0.6666666666666666,\"#ed7953\"],[0.7777777777777778,\"#fb9f3a\"],[0.8888888888888888,\"#fdca26\"],[1.0,\"#f0f921\"]],\"type\":\"histogram2dcontour\"}],\"histogram2d\":[{\"colorbar\":{\"outlinewidth\":0,\"ticks\":\"\"},\"colorscale\":[[0.0,\"#0d0887\"],[0.1111111111111111,\"#46039f\"],[0.2222222222222222,\"#7201a8\"],[0.3333333333333333,\"#9c179e\"],[0.4444444444444444,\"#bd3786\"],[0.5555555555555556,\"#d8576b\"],[0.6666666666666666,\"#ed7953\"],[0.7777777777777778,\"#fb9f3a\"],[0.8888888888888888,\"#fdca26\"],[1.0,\"#f0f921\"]],\"type\":\"histogram2d\"}],\"histogram\":[{\"marker\":{\"pattern\":{\"fillmode\":\"overlay\",\"size\":10,\"solidity\":0.2}},\"type\":\"histogram\"}],\"mesh3d\":[{\"colorbar\":{\"outlinewidth\":0,\"ticks\":\"\"},\"type\":\"mesh3d\"}],\"parcoords\":[{\"line\":{\"colorbar\":{\"outlinewidth\":0,\"ticks\":\"\"}},\"type\":\"parcoords\"}],\"pie\":[{\"automargin\":true,\"type\":\"pie\"}],\"scatter3d\":[{\"line\":{\"colorbar\":{\"outlinewidth\":0,\"ticks\":\"\"}},\"marker\":{\"colorbar\":{\"outlinewidth\":0,\"ticks\":\"\"}},\"type\":\"scatter3d\"}],\"scattercarpet\":[{\"marker\":{\"colorbar\":{\"outlinewidth\":0,\"ticks\":\"\"}},\"type\":\"scattercarpet\"}],\"scattergeo\":[{\"marker\":{\"colorbar\":{\"outlinewidth\":0,\"ticks\":\"\"}},\"type\":\"scattergeo\"}],\"scattergl\":[{\"marker\":{\"colorbar\":{\"outlinewidth\":0,\"ticks\":\"\"}},\"type\":\"scattergl\"}],\"scattermapbox\":[{\"marker\":{\"colorbar\":{\"outlinewidth\":0,\"ticks\":\"\"}},\"type\":\"scattermapbox\"}],\"scatterpolargl\":[{\"marker\":{\"colorbar\":{\"outlinewidth\":0,\"ticks\":\"\"}},\"type\":\"scatterpolargl\"}],\"scatterpolar\":[{\"marker\":{\"colorbar\":{\"outlinewidth\":0,\"ticks\":\"\"}},\"type\":\"scatterpolar\"}],\"scatter\":[{\"fillpattern\":{\"fillmode\":\"overlay\",\"size\":10,\"solidity\":0.2},\"type\":\"scatter\"}],\"scatterternary\":[{\"marker\":{\"colorbar\":{\"outlinewidth\":0,\"ticks\":\"\"}},\"type\":\"scatterternary\"}],\"surface\":[{\"colorbar\":{\"outlinewidth\":0,\"ticks\":\"\"},\"colorscale\":[[0.0,\"#0d0887\"],[0.1111111111111111,\"#46039f\"],[0.2222222222222222,\"#7201a8\"],[0.3333333333333333,\"#9c179e\"],[0.4444444444444444,\"#bd3786\"],[0.5555555555555556,\"#d8576b\"],[0.6666666666666666,\"#ed7953\"],[0.7777777777777778,\"#fb9f3a\"],[0.8888888888888888,\"#fdca26\"],[1.0,\"#f0f921\"]],\"type\":\"surface\"}],\"table\":[{\"cells\":{\"fill\":{\"color\":\"#EBF0F8\"},\"line\":{\"color\":\"white\"}},\"header\":{\"fill\":{\"color\":\"#C8D4E3\"},\"line\":{\"color\":\"white\"}},\"type\":\"table\"}]},\"layout\":{\"annotationdefaults\":{\"arrowcolor\":\"#2a3f5f\",\"arrowhead\":0,\"arrowwidth\":1},\"autotypenumbers\":\"strict\",\"coloraxis\":{\"colorbar\":{\"outlinewidth\":0,\"ticks\":\"\"}},\"colorscale\":{\"diverging\":[[0,\"#8e0152\"],[0.1,\"#c51b7d\"],[0.2,\"#de77ae\"],[0.3,\"#f1b6da\"],[0.4,\"#fde0ef\"],[0.5,\"#f7f7f7\"],[0.6,\"#e6f5d0\"],[0.7,\"#b8e186\"],[0.8,\"#7fbc41\"],[0.9,\"#4d9221\"],[1,\"#276419\"]],\"sequential\":[[0.0,\"#0d0887\"],[0.1111111111111111,\"#46039f\"],[0.2222222222222222,\"#7201a8\"],[0.3333333333333333,\"#9c179e\"],[0.4444444444444444,\"#bd3786\"],[0.5555555555555556,\"#d8576b\"],[0.6666666666666666,\"#ed7953\"],[0.7777777777777778,\"#fb9f3a\"],[0.8888888888888888,\"#fdca26\"],[1.0,\"#f0f921\"]],\"sequentialminus\":[[0.0,\"#0d0887\"],[0.1111111111111111,\"#46039f\"],[0.2222222222222222,\"#7201a8\"],[0.3333333333333333,\"#9c179e\"],[0.4444444444444444,\"#bd3786\"],[0.5555555555555556,\"#d8576b\"],[0.6666666666666666,\"#ed7953\"],[0.7777777777777778,\"#fb9f3a\"],[0.8888888888888888,\"#fdca26\"],[1.0,\"#f0f921\"]]},\"colorway\":[\"#636efa\",\"#EF553B\",\"#00cc96\",\"#ab63fa\",\"#FFA15A\",\"#19d3f3\",\"#FF6692\",\"#B6E880\",\"#FF97FF\",\"#FECB52\"],\"font\":{\"color\":\"#2a3f5f\"},\"geo\":{\"bgcolor\":\"white\",\"lakecolor\":\"white\",\"landcolor\":\"#E5ECF6\",\"showlakes\":true,\"showland\":true,\"subunitcolor\":\"white\"},\"hoverlabel\":{\"align\":\"left\"},\"hovermode\":\"closest\",\"mapbox\":{\"style\":\"light\"},\"paper_bgcolor\":\"white\",\"plot_bgcolor\":\"#E5ECF6\",\"polar\":{\"angularaxis\":{\"gridcolor\":\"white\",\"linecolor\":\"white\",\"ticks\":\"\"},\"bgcolor\":\"#E5ECF6\",\"radialaxis\":{\"gridcolor\":\"white\",\"linecolor\":\"white\",\"ticks\":\"\"}},\"scene\":{\"xaxis\":{\"backgroundcolor\":\"#E5ECF6\",\"gridcolor\":\"white\",\"gridwidth\":2,\"linecolor\":\"white\",\"showbackground\":true,\"ticks\":\"\",\"zerolinecolor\":\"white\"},\"yaxis\":{\"backgroundcolor\":\"#E5ECF6\",\"gridcolor\":\"white\",\"gridwidth\":2,\"linecolor\":\"white\",\"showbackground\":true,\"ticks\":\"\",\"zerolinecolor\":\"white\"},\"zaxis\":{\"backgroundcolor\":\"#E5ECF6\",\"gridcolor\":\"white\",\"gridwidth\":2,\"linecolor\":\"white\",\"showbackground\":true,\"ticks\":\"\",\"zerolinecolor\":\"white\"}},\"shapedefaults\":{\"line\":{\"color\":\"#2a3f5f\"}},\"ternary\":{\"aaxis\":{\"gridcolor\":\"white\",\"linecolor\":\"white\",\"ticks\":\"\"},\"baxis\":{\"gridcolor\":\"white\",\"linecolor\":\"white\",\"ticks\":\"\"},\"bgcolor\":\"#E5ECF6\",\"caxis\":{\"gridcolor\":\"white\",\"linecolor\":\"white\",\"ticks\":\"\"}},\"title\":{\"x\":0.05},\"xaxis\":{\"automargin\":true,\"gridcolor\":\"white\",\"linecolor\":\"white\",\"ticks\":\"\",\"title\":{\"standoff\":15},\"zerolinecolor\":\"white\",\"zerolinewidth\":2},\"yaxis\":{\"automargin\":true,\"gridcolor\":\"white\",\"linecolor\":\"white\",\"ticks\":\"\",\"title\":{\"standoff\":15},\"zerolinecolor\":\"white\",\"zerolinewidth\":2}}},\"title\":{\"font\":{\"color\":\"#4D5663\"}},\"xaxis\":{\"gridcolor\":\"#E1E5ED\",\"showgrid\":true,\"tickfont\":{\"color\":\"#4D5663\"},\"title\":{\"font\":{\"color\":\"#4D5663\"},\"text\":\"\"},\"zerolinecolor\":\"#E1E5ED\"},\"yaxis\":{\"gridcolor\":\"#E1E5ED\",\"showgrid\":true,\"tickfont\":{\"color\":\"#4D5663\"},\"title\":{\"font\":{\"color\":\"#4D5663\"},\"text\":\"\"},\"zerolinecolor\":\"#E1E5ED\"}},                        {\"showLink\": true, \"linkText\": \"Export to plot.ly\", \"plotlyServerURL\": \"https://plot.ly\", \"responsive\": true}                    ).then(function(){\n",
       "                            \n",
       "var gd = document.getElementById('a6244a07-95ed-4c46-be43-1d999f472835');\n",
       "var x = new MutationObserver(function (mutations, observer) {{\n",
       "        var display = window.getComputedStyle(gd).display;\n",
       "        if (!display || display === 'none') {{\n",
       "            console.log([gd, 'removed!']);\n",
       "            Plotly.purge(gd);\n",
       "            observer.disconnect();\n",
       "        }}\n",
       "}});\n",
       "\n",
       "// Listen for the removal of the full notebook cells\n",
       "var notebookContainer = gd.closest('#notebook-container');\n",
       "if (notebookContainer) {{\n",
       "    x.observe(notebookContainer, {childList: true});\n",
       "}}\n",
       "\n",
       "// Listen for the clearing of the current output cell\n",
       "var outputEl = gd.closest('.output');\n",
       "if (outputEl) {{\n",
       "    x.observe(outputEl, {childList: true});\n",
       "}}\n",
       "\n",
       "                        })                };                });            </script>        </div>"
      ]
     },
     "metadata": {},
     "output_type": "display_data"
    }
   ],
   "source": [
    "df['A'].iplot(kind='hist',bins=25)\n"
   ]
  },
  {
   "cell_type": "code",
   "execution_count": 24,
   "id": "4a5e6adf",
   "metadata": {},
   "outputs": [
    {
     "data": {
      "application/vnd.plotly.v1+json": {
       "config": {
        "linkText": "Export to plot.ly",
        "plotlyServerURL": "https://plot.ly",
        "showLink": true
       },
       "data": [
        {
         "marker": {
          "color": [
           "rgb(255, 153, 51)",
           "rgb(55, 128, 191)",
           "rgb(50, 171, 96)",
           "rgb(128, 0, 128)",
           "rgb(219, 64, 82)",
           "rgb(0, 128, 128)",
           "rgb(255, 255, 51)",
           "rgb(128, 128, 0)",
           "rgb(251, 128, 114)",
           "rgb(128, 177, 211)"
          ],
          "line": {
           "width": 1.3
          },
          "size": [
           68,
           64,
           51,
           71,
           49,
           54,
           111,
           38,
           72,
           52,
           63,
           85,
           46,
           55,
           69,
           56,
           59,
           66,
           94,
           84,
           91,
           95,
           77,
           50,
           67,
           86,
           38,
           61,
           45,
           95,
           26,
           90,
           59,
           49,
           53,
           33,
           63,
           15,
           56,
           75,
           40,
           81,
           71,
           90,
           101,
           81,
           16,
           40,
           66,
           64,
           56,
           43,
           67,
           41,
           69,
           80,
           41,
           59,
           48,
           50,
           68,
           65,
           53,
           58,
           82,
           65,
           72,
           41,
           55,
           49,
           76,
           77,
           73,
           61,
           70,
           19,
           67,
           26,
           78,
           60,
           71,
           92,
           89,
           79,
           61,
           12,
           41,
           29,
           47,
           62,
           45,
           64,
           50,
           82,
           64,
           77,
           55,
           66,
           79,
           70
          ],
          "symbol": "circle"
         },
         "mode": "markers",
         "text": "",
         "type": "scatter",
         "x": [
          0.15387951566040683,
          2.181248765458232,
          -0.13566587094592006,
          2.5826373196933714,
          1.6784225961066819,
          -0.16299128101973356,
          -0.17874297565492092,
          0.48903983504613824,
          -0.050245207821652656,
          -0.21504123172855624,
          -0.9579247028153586,
          -0.9893440631800207,
          -0.5545866030923471,
          -0.729196183556216,
          -2.1468969108658733,
          1.443650242734995,
          0.9090913732870752,
          0.16199268989531002,
          -0.9466477932939458,
          0.35055814554620657,
          -0.21162327402463743,
          0.6365749108453906,
          -0.3836843220449782,
          1.0035932100576173,
          -0.6335239904754568,
          0.8596977337897347,
          0.4447230070289421,
          -1.2523804891664259,
          -0.13451250405916465,
          -0.5780800680607079,
          -0.2450155534501923,
          -0.9832040367280465,
          -0.23809181759312123,
          -0.34116672085694183,
          -0.8558574974421355,
          1.699621211172324,
          -1.0103056803776571,
          -0.8897721763689249,
          0.9747541077716472,
          0.2733325155193339,
          -2.3269122184399578,
          -0.3725394679542613,
          -1.1036867869571978,
          -0.1352555301863368,
          -1.1509761019037328,
          -1.2187335433615616,
          0.05506999604218593,
          -0.10228406176818654,
          1.2778340337032956,
          -1.6499243125727343,
          0.2584083064742115,
          0.022789195090183578,
          -0.05469858920966472,
          0.6934335354023595,
          -0.3582243331584894,
          -0.6762481063753567,
          -2.6093883903092228,
          0.08746280693315048,
          0.7907999135080389,
          -0.016400209655702606,
          -1.020020479062982,
          1.062252800413191,
          0.06000472648461456,
          -0.5751331128737663,
          0.7283756600309553,
          0.1828699910324269,
          -0.15630554197630672,
          -1.864294517478185,
          -0.05583743965754278,
          -1.3671415114751497,
          -0.2859607383869635,
          0.49472919490075573,
          -0.35969076601765726,
          0.9720742091395949,
          -0.11590515837531183,
          0.39360624198567107,
          0.7839283888154851,
          -1.177254142345938,
          0.8315862249829457,
          -1.1865453897625722,
          1.29698117990059,
          0.8766686456478701,
          0.7043101490622228,
          0.34654329113273163,
          0.009958136649100556,
          -1.134745510635879,
          0.0785083179815372,
          -1.8470364158934645,
          -0.4875047829676378,
          -0.735646683248686,
          -1.316475374019799,
          1.3776811867196217,
          -1.321076206512763,
          0.45445257779186266,
          2.5370214104573803,
          0.5769179650580939,
          0.4222801389522976,
          -0.5517893605255988,
          -0.30363543870509463,
          -0.33995824148450854
         ],
         "y": [
          0.2083619918066731,
          -0.007445592501653823,
          0.013438670371493154,
          -1.1402200714610695,
          -1.0037282728945376,
          -1.7796940522845184,
          1.4005425881113962,
          -0.12409065370077918,
          0.4452116013367775,
          -0.33569644713285623,
          0.9193071025427763,
          0.3170284786129296,
          0.13430335146684186,
          0.7787044216687309,
          0.21450459241797218,
          -1.5092666232396665,
          0.7919886424619987,
          -0.1927552256597784,
          0.1407274967059369,
          0.913396235037004,
          -0.39175435019456206,
          -0.5407190613207937,
          -1.129410685739879,
          -0.7073325132739956,
          -0.1202465665969558,
          -1.2835242588380795,
          -0.37277920098249084,
          0.40015445605057215,
          -0.40024857144059733,
          -0.6379169763897673,
          -0.2866340398118274,
          0.06139895861208848,
          -2.252517714720179,
          0.5457545446741421,
          1.1544587442506151,
          -0.6168270294189658,
          -0.3630037900029631,
          -1.2010279486365256,
          -0.7653438306648163,
          -0.11053318751770316,
          0.38388124646772853,
          -1.2674203103987471,
          0.0028399536666268025,
          -1.5494254508705259,
          2.095749715307753,
          -0.5641187149411993,
          0.34709305987418854,
          0.6236619982195952,
          -0.08063942778001149,
          0.08689494745775367,
          -1.2433803804032548,
          0.17159566961706876,
          -0.0032167099066127717,
          0.11739239250666493,
          0.38951736549480986,
          -1.0280734833091218,
          -0.4800090749698621,
          0.5740201552456949,
          -1.2084516763572983,
          0.7238828648723517,
          2.2005364752879752,
          0.15802727378773124,
          0.32649568568896786,
          -2.7143738424005797,
          0.38341951411432434,
          1.116813227600596,
          -0.01989660137589359,
          1.8878704671898408,
          -0.6405584469147696,
          -2.3590894870123007,
          -0.8715844322342543,
          -1.4398225910640223,
          1.3363221386595507,
          1.8283221642713612,
          -1.1084543823687798,
          -0.9822653578380953,
          -0.6494889734849333,
          -0.3426015797521599,
          -0.6837935756698565,
          0.6076716337813307,
          0.33659591669323224,
          0.4269690302146352,
          -0.9343729078118749,
          0.02124021733474761,
          -0.8433181262016681,
          -1.6579278057042166,
          1.0367687781471089,
          -0.508413311460955,
          1.039475592623558,
          -0.23178447064330665,
          0.0724413119156897,
          0.3487934006331482,
          1.4631758122581195,
          -1.9585115623098048,
          0.05495266418138907,
          0.01997126586927419,
          0.19730602361652821,
          -0.07707793518496193,
          1.2635910163603281,
          -1.575182626460573
         ]
        }
       ],
       "layout": {
        "legend": {
         "bgcolor": "#F5F6F9",
         "font": {
          "color": "#4D5663"
         }
        },
        "paper_bgcolor": "#F5F6F9",
        "plot_bgcolor": "#F5F6F9",
        "template": {
         "data": {
          "bar": [
           {
            "error_x": {
             "color": "#2a3f5f"
            },
            "error_y": {
             "color": "#2a3f5f"
            },
            "marker": {
             "line": {
              "color": "#E5ECF6",
              "width": 0.5
             },
             "pattern": {
              "fillmode": "overlay",
              "size": 10,
              "solidity": 0.2
             }
            },
            "type": "bar"
           }
          ],
          "barpolar": [
           {
            "marker": {
             "line": {
              "color": "#E5ECF6",
              "width": 0.5
             },
             "pattern": {
              "fillmode": "overlay",
              "size": 10,
              "solidity": 0.2
             }
            },
            "type": "barpolar"
           }
          ],
          "carpet": [
           {
            "aaxis": {
             "endlinecolor": "#2a3f5f",
             "gridcolor": "white",
             "linecolor": "white",
             "minorgridcolor": "white",
             "startlinecolor": "#2a3f5f"
            },
            "baxis": {
             "endlinecolor": "#2a3f5f",
             "gridcolor": "white",
             "linecolor": "white",
             "minorgridcolor": "white",
             "startlinecolor": "#2a3f5f"
            },
            "type": "carpet"
           }
          ],
          "choropleth": [
           {
            "colorbar": {
             "outlinewidth": 0,
             "ticks": ""
            },
            "type": "choropleth"
           }
          ],
          "contour": [
           {
            "colorbar": {
             "outlinewidth": 0,
             "ticks": ""
            },
            "colorscale": [
             [
              0,
              "#0d0887"
             ],
             [
              0.1111111111111111,
              "#46039f"
             ],
             [
              0.2222222222222222,
              "#7201a8"
             ],
             [
              0.3333333333333333,
              "#9c179e"
             ],
             [
              0.4444444444444444,
              "#bd3786"
             ],
             [
              0.5555555555555556,
              "#d8576b"
             ],
             [
              0.6666666666666666,
              "#ed7953"
             ],
             [
              0.7777777777777778,
              "#fb9f3a"
             ],
             [
              0.8888888888888888,
              "#fdca26"
             ],
             [
              1,
              "#f0f921"
             ]
            ],
            "type": "contour"
           }
          ],
          "contourcarpet": [
           {
            "colorbar": {
             "outlinewidth": 0,
             "ticks": ""
            },
            "type": "contourcarpet"
           }
          ],
          "heatmap": [
           {
            "colorbar": {
             "outlinewidth": 0,
             "ticks": ""
            },
            "colorscale": [
             [
              0,
              "#0d0887"
             ],
             [
              0.1111111111111111,
              "#46039f"
             ],
             [
              0.2222222222222222,
              "#7201a8"
             ],
             [
              0.3333333333333333,
              "#9c179e"
             ],
             [
              0.4444444444444444,
              "#bd3786"
             ],
             [
              0.5555555555555556,
              "#d8576b"
             ],
             [
              0.6666666666666666,
              "#ed7953"
             ],
             [
              0.7777777777777778,
              "#fb9f3a"
             ],
             [
              0.8888888888888888,
              "#fdca26"
             ],
             [
              1,
              "#f0f921"
             ]
            ],
            "type": "heatmap"
           }
          ],
          "heatmapgl": [
           {
            "colorbar": {
             "outlinewidth": 0,
             "ticks": ""
            },
            "colorscale": [
             [
              0,
              "#0d0887"
             ],
             [
              0.1111111111111111,
              "#46039f"
             ],
             [
              0.2222222222222222,
              "#7201a8"
             ],
             [
              0.3333333333333333,
              "#9c179e"
             ],
             [
              0.4444444444444444,
              "#bd3786"
             ],
             [
              0.5555555555555556,
              "#d8576b"
             ],
             [
              0.6666666666666666,
              "#ed7953"
             ],
             [
              0.7777777777777778,
              "#fb9f3a"
             ],
             [
              0.8888888888888888,
              "#fdca26"
             ],
             [
              1,
              "#f0f921"
             ]
            ],
            "type": "heatmapgl"
           }
          ],
          "histogram": [
           {
            "marker": {
             "pattern": {
              "fillmode": "overlay",
              "size": 10,
              "solidity": 0.2
             }
            },
            "type": "histogram"
           }
          ],
          "histogram2d": [
           {
            "colorbar": {
             "outlinewidth": 0,
             "ticks": ""
            },
            "colorscale": [
             [
              0,
              "#0d0887"
             ],
             [
              0.1111111111111111,
              "#46039f"
             ],
             [
              0.2222222222222222,
              "#7201a8"
             ],
             [
              0.3333333333333333,
              "#9c179e"
             ],
             [
              0.4444444444444444,
              "#bd3786"
             ],
             [
              0.5555555555555556,
              "#d8576b"
             ],
             [
              0.6666666666666666,
              "#ed7953"
             ],
             [
              0.7777777777777778,
              "#fb9f3a"
             ],
             [
              0.8888888888888888,
              "#fdca26"
             ],
             [
              1,
              "#f0f921"
             ]
            ],
            "type": "histogram2d"
           }
          ],
          "histogram2dcontour": [
           {
            "colorbar": {
             "outlinewidth": 0,
             "ticks": ""
            },
            "colorscale": [
             [
              0,
              "#0d0887"
             ],
             [
              0.1111111111111111,
              "#46039f"
             ],
             [
              0.2222222222222222,
              "#7201a8"
             ],
             [
              0.3333333333333333,
              "#9c179e"
             ],
             [
              0.4444444444444444,
              "#bd3786"
             ],
             [
              0.5555555555555556,
              "#d8576b"
             ],
             [
              0.6666666666666666,
              "#ed7953"
             ],
             [
              0.7777777777777778,
              "#fb9f3a"
             ],
             [
              0.8888888888888888,
              "#fdca26"
             ],
             [
              1,
              "#f0f921"
             ]
            ],
            "type": "histogram2dcontour"
           }
          ],
          "mesh3d": [
           {
            "colorbar": {
             "outlinewidth": 0,
             "ticks": ""
            },
            "type": "mesh3d"
           }
          ],
          "parcoords": [
           {
            "line": {
             "colorbar": {
              "outlinewidth": 0,
              "ticks": ""
             }
            },
            "type": "parcoords"
           }
          ],
          "pie": [
           {
            "automargin": true,
            "type": "pie"
           }
          ],
          "scatter": [
           {
            "fillpattern": {
             "fillmode": "overlay",
             "size": 10,
             "solidity": 0.2
            },
            "type": "scatter"
           }
          ],
          "scatter3d": [
           {
            "line": {
             "colorbar": {
              "outlinewidth": 0,
              "ticks": ""
             }
            },
            "marker": {
             "colorbar": {
              "outlinewidth": 0,
              "ticks": ""
             }
            },
            "type": "scatter3d"
           }
          ],
          "scattercarpet": [
           {
            "marker": {
             "colorbar": {
              "outlinewidth": 0,
              "ticks": ""
             }
            },
            "type": "scattercarpet"
           }
          ],
          "scattergeo": [
           {
            "marker": {
             "colorbar": {
              "outlinewidth": 0,
              "ticks": ""
             }
            },
            "type": "scattergeo"
           }
          ],
          "scattergl": [
           {
            "marker": {
             "colorbar": {
              "outlinewidth": 0,
              "ticks": ""
             }
            },
            "type": "scattergl"
           }
          ],
          "scattermapbox": [
           {
            "marker": {
             "colorbar": {
              "outlinewidth": 0,
              "ticks": ""
             }
            },
            "type": "scattermapbox"
           }
          ],
          "scatterpolar": [
           {
            "marker": {
             "colorbar": {
              "outlinewidth": 0,
              "ticks": ""
             }
            },
            "type": "scatterpolar"
           }
          ],
          "scatterpolargl": [
           {
            "marker": {
             "colorbar": {
              "outlinewidth": 0,
              "ticks": ""
             }
            },
            "type": "scatterpolargl"
           }
          ],
          "scatterternary": [
           {
            "marker": {
             "colorbar": {
              "outlinewidth": 0,
              "ticks": ""
             }
            },
            "type": "scatterternary"
           }
          ],
          "surface": [
           {
            "colorbar": {
             "outlinewidth": 0,
             "ticks": ""
            },
            "colorscale": [
             [
              0,
              "#0d0887"
             ],
             [
              0.1111111111111111,
              "#46039f"
             ],
             [
              0.2222222222222222,
              "#7201a8"
             ],
             [
              0.3333333333333333,
              "#9c179e"
             ],
             [
              0.4444444444444444,
              "#bd3786"
             ],
             [
              0.5555555555555556,
              "#d8576b"
             ],
             [
              0.6666666666666666,
              "#ed7953"
             ],
             [
              0.7777777777777778,
              "#fb9f3a"
             ],
             [
              0.8888888888888888,
              "#fdca26"
             ],
             [
              1,
              "#f0f921"
             ]
            ],
            "type": "surface"
           }
          ],
          "table": [
           {
            "cells": {
             "fill": {
              "color": "#EBF0F8"
             },
             "line": {
              "color": "white"
             }
            },
            "header": {
             "fill": {
              "color": "#C8D4E3"
             },
             "line": {
              "color": "white"
             }
            },
            "type": "table"
           }
          ]
         },
         "layout": {
          "annotationdefaults": {
           "arrowcolor": "#2a3f5f",
           "arrowhead": 0,
           "arrowwidth": 1
          },
          "autotypenumbers": "strict",
          "coloraxis": {
           "colorbar": {
            "outlinewidth": 0,
            "ticks": ""
           }
          },
          "colorscale": {
           "diverging": [
            [
             0,
             "#8e0152"
            ],
            [
             0.1,
             "#c51b7d"
            ],
            [
             0.2,
             "#de77ae"
            ],
            [
             0.3,
             "#f1b6da"
            ],
            [
             0.4,
             "#fde0ef"
            ],
            [
             0.5,
             "#f7f7f7"
            ],
            [
             0.6,
             "#e6f5d0"
            ],
            [
             0.7,
             "#b8e186"
            ],
            [
             0.8,
             "#7fbc41"
            ],
            [
             0.9,
             "#4d9221"
            ],
            [
             1,
             "#276419"
            ]
           ],
           "sequential": [
            [
             0,
             "#0d0887"
            ],
            [
             0.1111111111111111,
             "#46039f"
            ],
            [
             0.2222222222222222,
             "#7201a8"
            ],
            [
             0.3333333333333333,
             "#9c179e"
            ],
            [
             0.4444444444444444,
             "#bd3786"
            ],
            [
             0.5555555555555556,
             "#d8576b"
            ],
            [
             0.6666666666666666,
             "#ed7953"
            ],
            [
             0.7777777777777778,
             "#fb9f3a"
            ],
            [
             0.8888888888888888,
             "#fdca26"
            ],
            [
             1,
             "#f0f921"
            ]
           ],
           "sequentialminus": [
            [
             0,
             "#0d0887"
            ],
            [
             0.1111111111111111,
             "#46039f"
            ],
            [
             0.2222222222222222,
             "#7201a8"
            ],
            [
             0.3333333333333333,
             "#9c179e"
            ],
            [
             0.4444444444444444,
             "#bd3786"
            ],
            [
             0.5555555555555556,
             "#d8576b"
            ],
            [
             0.6666666666666666,
             "#ed7953"
            ],
            [
             0.7777777777777778,
             "#fb9f3a"
            ],
            [
             0.8888888888888888,
             "#fdca26"
            ],
            [
             1,
             "#f0f921"
            ]
           ]
          },
          "colorway": [
           "#636efa",
           "#EF553B",
           "#00cc96",
           "#ab63fa",
           "#FFA15A",
           "#19d3f3",
           "#FF6692",
           "#B6E880",
           "#FF97FF",
           "#FECB52"
          ],
          "font": {
           "color": "#2a3f5f"
          },
          "geo": {
           "bgcolor": "white",
           "lakecolor": "white",
           "landcolor": "#E5ECF6",
           "showlakes": true,
           "showland": true,
           "subunitcolor": "white"
          },
          "hoverlabel": {
           "align": "left"
          },
          "hovermode": "closest",
          "mapbox": {
           "style": "light"
          },
          "paper_bgcolor": "white",
          "plot_bgcolor": "#E5ECF6",
          "polar": {
           "angularaxis": {
            "gridcolor": "white",
            "linecolor": "white",
            "ticks": ""
           },
           "bgcolor": "#E5ECF6",
           "radialaxis": {
            "gridcolor": "white",
            "linecolor": "white",
            "ticks": ""
           }
          },
          "scene": {
           "xaxis": {
            "backgroundcolor": "#E5ECF6",
            "gridcolor": "white",
            "gridwidth": 2,
            "linecolor": "white",
            "showbackground": true,
            "ticks": "",
            "zerolinecolor": "white"
           },
           "yaxis": {
            "backgroundcolor": "#E5ECF6",
            "gridcolor": "white",
            "gridwidth": 2,
            "linecolor": "white",
            "showbackground": true,
            "ticks": "",
            "zerolinecolor": "white"
           },
           "zaxis": {
            "backgroundcolor": "#E5ECF6",
            "gridcolor": "white",
            "gridwidth": 2,
            "linecolor": "white",
            "showbackground": true,
            "ticks": "",
            "zerolinecolor": "white"
           }
          },
          "shapedefaults": {
           "line": {
            "color": "#2a3f5f"
           }
          },
          "ternary": {
           "aaxis": {
            "gridcolor": "white",
            "linecolor": "white",
            "ticks": ""
           },
           "baxis": {
            "gridcolor": "white",
            "linecolor": "white",
            "ticks": ""
           },
           "bgcolor": "#E5ECF6",
           "caxis": {
            "gridcolor": "white",
            "linecolor": "white",
            "ticks": ""
           }
          },
          "title": {
           "x": 0.05
          },
          "xaxis": {
           "automargin": true,
           "gridcolor": "white",
           "linecolor": "white",
           "ticks": "",
           "title": {
            "standoff": 15
           },
           "zerolinecolor": "white",
           "zerolinewidth": 2
          },
          "yaxis": {
           "automargin": true,
           "gridcolor": "white",
           "linecolor": "white",
           "ticks": "",
           "title": {
            "standoff": 15
           },
           "zerolinecolor": "white",
           "zerolinewidth": 2
          }
         }
        },
        "title": {
         "font": {
          "color": "#4D5663"
         }
        },
        "xaxis": {
         "gridcolor": "#E1E5ED",
         "showgrid": true,
         "tickfont": {
          "color": "#4D5663"
         },
         "title": {
          "font": {
           "color": "#4D5663"
          },
          "text": ""
         },
         "zerolinecolor": "#E1E5ED"
        },
        "yaxis": {
         "gridcolor": "#E1E5ED",
         "showgrid": true,
         "tickfont": {
          "color": "#4D5663"
         },
         "title": {
          "font": {
           "color": "#4D5663"
          },
          "text": ""
         },
         "zerolinecolor": "#E1E5ED"
        }
       }
      },
      "text/html": [
       "<div>                            <div id=\"40eb102c-beba-44d4-a130-9a4b950e1226\" class=\"plotly-graph-div\" style=\"height:525px; width:100%;\"></div>            <script type=\"text/javascript\">                require([\"plotly\"], function(Plotly) {                    window.PLOTLYENV=window.PLOTLYENV || {};\n",
       "                    window.PLOTLYENV.BASE_URL='https://plot.ly';                                    if (document.getElementById(\"40eb102c-beba-44d4-a130-9a4b950e1226\")) {                    Plotly.newPlot(                        \"40eb102c-beba-44d4-a130-9a4b950e1226\",                        [{\"marker\":{\"color\":[\"rgb(255, 153, 51)\",\"rgb(55, 128, 191)\",\"rgb(50, 171, 96)\",\"rgb(128, 0, 128)\",\"rgb(219, 64, 82)\",\"rgb(0, 128, 128)\",\"rgb(255, 255, 51)\",\"rgb(128, 128, 0)\",\"rgb(251, 128, 114)\",\"rgb(128, 177, 211)\"],\"line\":{\"width\":1.3},\"size\":[68,64,51,71,49,54,111,38,72,52,63,85,46,55,69,56,59,66,94,84,91,95,77,50,67,86,38,61,45,95,26,90,59,49,53,33,63,15,56,75,40,81,71,90,101,81,16,40,66,64,56,43,67,41,69,80,41,59,48,50,68,65,53,58,82,65,72,41,55,49,76,77,73,61,70,19,67,26,78,60,71,92,89,79,61,12,41,29,47,62,45,64,50,82,64,77,55,66,79,70],\"symbol\":\"circle\"},\"mode\":\"markers\",\"text\":\"\",\"x\":[0.15387951566040683,2.181248765458232,-0.13566587094592006,2.5826373196933714,1.6784225961066819,-0.16299128101973356,-0.17874297565492092,0.48903983504613824,-0.050245207821652656,-0.21504123172855624,-0.9579247028153586,-0.9893440631800207,-0.5545866030923471,-0.729196183556216,-2.1468969108658733,1.443650242734995,0.9090913732870752,0.16199268989531002,-0.9466477932939458,0.35055814554620657,-0.21162327402463743,0.6365749108453906,-0.3836843220449782,1.0035932100576173,-0.6335239904754568,0.8596977337897347,0.4447230070289421,-1.2523804891664259,-0.13451250405916465,-0.5780800680607079,-0.2450155534501923,-0.9832040367280465,-0.23809181759312123,-0.34116672085694183,-0.8558574974421355,1.699621211172324,-1.0103056803776571,-0.8897721763689249,0.9747541077716472,0.2733325155193339,-2.3269122184399578,-0.3725394679542613,-1.1036867869571978,-0.1352555301863368,-1.1509761019037328,-1.2187335433615616,0.05506999604218593,-0.10228406176818654,1.2778340337032956,-1.6499243125727343,0.2584083064742115,0.022789195090183578,-0.05469858920966472,0.6934335354023595,-0.3582243331584894,-0.6762481063753567,-2.6093883903092228,0.08746280693315048,0.7907999135080389,-0.016400209655702606,-1.020020479062982,1.062252800413191,0.06000472648461456,-0.5751331128737663,0.7283756600309553,0.1828699910324269,-0.15630554197630672,-1.864294517478185,-0.05583743965754278,-1.3671415114751497,-0.2859607383869635,0.49472919490075573,-0.35969076601765726,0.9720742091395949,-0.11590515837531183,0.39360624198567107,0.7839283888154851,-1.177254142345938,0.8315862249829457,-1.1865453897625722,1.29698117990059,0.8766686456478701,0.7043101490622228,0.34654329113273163,0.009958136649100556,-1.134745510635879,0.0785083179815372,-1.8470364158934645,-0.4875047829676378,-0.735646683248686,-1.316475374019799,1.3776811867196217,-1.321076206512763,0.45445257779186266,2.5370214104573803,0.5769179650580939,0.4222801389522976,-0.5517893605255988,-0.30363543870509463,-0.33995824148450854],\"y\":[0.2083619918066731,-0.007445592501653823,0.013438670371493154,-1.1402200714610695,-1.0037282728945376,-1.7796940522845184,1.4005425881113962,-0.12409065370077918,0.4452116013367775,-0.33569644713285623,0.9193071025427763,0.3170284786129296,0.13430335146684186,0.7787044216687309,0.21450459241797218,-1.5092666232396665,0.7919886424619987,-0.1927552256597784,0.1407274967059369,0.913396235037004,-0.39175435019456206,-0.5407190613207937,-1.129410685739879,-0.7073325132739956,-0.1202465665969558,-1.2835242588380795,-0.37277920098249084,0.40015445605057215,-0.40024857144059733,-0.6379169763897673,-0.2866340398118274,0.06139895861208848,-2.252517714720179,0.5457545446741421,1.1544587442506151,-0.6168270294189658,-0.3630037900029631,-1.2010279486365256,-0.7653438306648163,-0.11053318751770316,0.38388124646772853,-1.2674203103987471,0.0028399536666268025,-1.5494254508705259,2.095749715307753,-0.5641187149411993,0.34709305987418854,0.6236619982195952,-0.08063942778001149,0.08689494745775367,-1.2433803804032548,0.17159566961706876,-0.0032167099066127717,0.11739239250666493,0.38951736549480986,-1.0280734833091218,-0.4800090749698621,0.5740201552456949,-1.2084516763572983,0.7238828648723517,2.2005364752879752,0.15802727378773124,0.32649568568896786,-2.7143738424005797,0.38341951411432434,1.116813227600596,-0.01989660137589359,1.8878704671898408,-0.6405584469147696,-2.3590894870123007,-0.8715844322342543,-1.4398225910640223,1.3363221386595507,1.8283221642713612,-1.1084543823687798,-0.9822653578380953,-0.6494889734849333,-0.3426015797521599,-0.6837935756698565,0.6076716337813307,0.33659591669323224,0.4269690302146352,-0.9343729078118749,0.02124021733474761,-0.8433181262016681,-1.6579278057042166,1.0367687781471089,-0.508413311460955,1.039475592623558,-0.23178447064330665,0.0724413119156897,0.3487934006331482,1.4631758122581195,-1.9585115623098048,0.05495266418138907,0.01997126586927419,0.19730602361652821,-0.07707793518496193,1.2635910163603281,-1.575182626460573],\"type\":\"scatter\"}],                        {\"legend\":{\"bgcolor\":\"#F5F6F9\",\"font\":{\"color\":\"#4D5663\"}},\"paper_bgcolor\":\"#F5F6F9\",\"plot_bgcolor\":\"#F5F6F9\",\"template\":{\"data\":{\"barpolar\":[{\"marker\":{\"line\":{\"color\":\"#E5ECF6\",\"width\":0.5},\"pattern\":{\"fillmode\":\"overlay\",\"size\":10,\"solidity\":0.2}},\"type\":\"barpolar\"}],\"bar\":[{\"error_x\":{\"color\":\"#2a3f5f\"},\"error_y\":{\"color\":\"#2a3f5f\"},\"marker\":{\"line\":{\"color\":\"#E5ECF6\",\"width\":0.5},\"pattern\":{\"fillmode\":\"overlay\",\"size\":10,\"solidity\":0.2}},\"type\":\"bar\"}],\"carpet\":[{\"aaxis\":{\"endlinecolor\":\"#2a3f5f\",\"gridcolor\":\"white\",\"linecolor\":\"white\",\"minorgridcolor\":\"white\",\"startlinecolor\":\"#2a3f5f\"},\"baxis\":{\"endlinecolor\":\"#2a3f5f\",\"gridcolor\":\"white\",\"linecolor\":\"white\",\"minorgridcolor\":\"white\",\"startlinecolor\":\"#2a3f5f\"},\"type\":\"carpet\"}],\"choropleth\":[{\"colorbar\":{\"outlinewidth\":0,\"ticks\":\"\"},\"type\":\"choropleth\"}],\"contourcarpet\":[{\"colorbar\":{\"outlinewidth\":0,\"ticks\":\"\"},\"type\":\"contourcarpet\"}],\"contour\":[{\"colorbar\":{\"outlinewidth\":0,\"ticks\":\"\"},\"colorscale\":[[0.0,\"#0d0887\"],[0.1111111111111111,\"#46039f\"],[0.2222222222222222,\"#7201a8\"],[0.3333333333333333,\"#9c179e\"],[0.4444444444444444,\"#bd3786\"],[0.5555555555555556,\"#d8576b\"],[0.6666666666666666,\"#ed7953\"],[0.7777777777777778,\"#fb9f3a\"],[0.8888888888888888,\"#fdca26\"],[1.0,\"#f0f921\"]],\"type\":\"contour\"}],\"heatmapgl\":[{\"colorbar\":{\"outlinewidth\":0,\"ticks\":\"\"},\"colorscale\":[[0.0,\"#0d0887\"],[0.1111111111111111,\"#46039f\"],[0.2222222222222222,\"#7201a8\"],[0.3333333333333333,\"#9c179e\"],[0.4444444444444444,\"#bd3786\"],[0.5555555555555556,\"#d8576b\"],[0.6666666666666666,\"#ed7953\"],[0.7777777777777778,\"#fb9f3a\"],[0.8888888888888888,\"#fdca26\"],[1.0,\"#f0f921\"]],\"type\":\"heatmapgl\"}],\"heatmap\":[{\"colorbar\":{\"outlinewidth\":0,\"ticks\":\"\"},\"colorscale\":[[0.0,\"#0d0887\"],[0.1111111111111111,\"#46039f\"],[0.2222222222222222,\"#7201a8\"],[0.3333333333333333,\"#9c179e\"],[0.4444444444444444,\"#bd3786\"],[0.5555555555555556,\"#d8576b\"],[0.6666666666666666,\"#ed7953\"],[0.7777777777777778,\"#fb9f3a\"],[0.8888888888888888,\"#fdca26\"],[1.0,\"#f0f921\"]],\"type\":\"heatmap\"}],\"histogram2dcontour\":[{\"colorbar\":{\"outlinewidth\":0,\"ticks\":\"\"},\"colorscale\":[[0.0,\"#0d0887\"],[0.1111111111111111,\"#46039f\"],[0.2222222222222222,\"#7201a8\"],[0.3333333333333333,\"#9c179e\"],[0.4444444444444444,\"#bd3786\"],[0.5555555555555556,\"#d8576b\"],[0.6666666666666666,\"#ed7953\"],[0.7777777777777778,\"#fb9f3a\"],[0.8888888888888888,\"#fdca26\"],[1.0,\"#f0f921\"]],\"type\":\"histogram2dcontour\"}],\"histogram2d\":[{\"colorbar\":{\"outlinewidth\":0,\"ticks\":\"\"},\"colorscale\":[[0.0,\"#0d0887\"],[0.1111111111111111,\"#46039f\"],[0.2222222222222222,\"#7201a8\"],[0.3333333333333333,\"#9c179e\"],[0.4444444444444444,\"#bd3786\"],[0.5555555555555556,\"#d8576b\"],[0.6666666666666666,\"#ed7953\"],[0.7777777777777778,\"#fb9f3a\"],[0.8888888888888888,\"#fdca26\"],[1.0,\"#f0f921\"]],\"type\":\"histogram2d\"}],\"histogram\":[{\"marker\":{\"pattern\":{\"fillmode\":\"overlay\",\"size\":10,\"solidity\":0.2}},\"type\":\"histogram\"}],\"mesh3d\":[{\"colorbar\":{\"outlinewidth\":0,\"ticks\":\"\"},\"type\":\"mesh3d\"}],\"parcoords\":[{\"line\":{\"colorbar\":{\"outlinewidth\":0,\"ticks\":\"\"}},\"type\":\"parcoords\"}],\"pie\":[{\"automargin\":true,\"type\":\"pie\"}],\"scatter3d\":[{\"line\":{\"colorbar\":{\"outlinewidth\":0,\"ticks\":\"\"}},\"marker\":{\"colorbar\":{\"outlinewidth\":0,\"ticks\":\"\"}},\"type\":\"scatter3d\"}],\"scattercarpet\":[{\"marker\":{\"colorbar\":{\"outlinewidth\":0,\"ticks\":\"\"}},\"type\":\"scattercarpet\"}],\"scattergeo\":[{\"marker\":{\"colorbar\":{\"outlinewidth\":0,\"ticks\":\"\"}},\"type\":\"scattergeo\"}],\"scattergl\":[{\"marker\":{\"colorbar\":{\"outlinewidth\":0,\"ticks\":\"\"}},\"type\":\"scattergl\"}],\"scattermapbox\":[{\"marker\":{\"colorbar\":{\"outlinewidth\":0,\"ticks\":\"\"}},\"type\":\"scattermapbox\"}],\"scatterpolargl\":[{\"marker\":{\"colorbar\":{\"outlinewidth\":0,\"ticks\":\"\"}},\"type\":\"scatterpolargl\"}],\"scatterpolar\":[{\"marker\":{\"colorbar\":{\"outlinewidth\":0,\"ticks\":\"\"}},\"type\":\"scatterpolar\"}],\"scatter\":[{\"fillpattern\":{\"fillmode\":\"overlay\",\"size\":10,\"solidity\":0.2},\"type\":\"scatter\"}],\"scatterternary\":[{\"marker\":{\"colorbar\":{\"outlinewidth\":0,\"ticks\":\"\"}},\"type\":\"scatterternary\"}],\"surface\":[{\"colorbar\":{\"outlinewidth\":0,\"ticks\":\"\"},\"colorscale\":[[0.0,\"#0d0887\"],[0.1111111111111111,\"#46039f\"],[0.2222222222222222,\"#7201a8\"],[0.3333333333333333,\"#9c179e\"],[0.4444444444444444,\"#bd3786\"],[0.5555555555555556,\"#d8576b\"],[0.6666666666666666,\"#ed7953\"],[0.7777777777777778,\"#fb9f3a\"],[0.8888888888888888,\"#fdca26\"],[1.0,\"#f0f921\"]],\"type\":\"surface\"}],\"table\":[{\"cells\":{\"fill\":{\"color\":\"#EBF0F8\"},\"line\":{\"color\":\"white\"}},\"header\":{\"fill\":{\"color\":\"#C8D4E3\"},\"line\":{\"color\":\"white\"}},\"type\":\"table\"}]},\"layout\":{\"annotationdefaults\":{\"arrowcolor\":\"#2a3f5f\",\"arrowhead\":0,\"arrowwidth\":1},\"autotypenumbers\":\"strict\",\"coloraxis\":{\"colorbar\":{\"outlinewidth\":0,\"ticks\":\"\"}},\"colorscale\":{\"diverging\":[[0,\"#8e0152\"],[0.1,\"#c51b7d\"],[0.2,\"#de77ae\"],[0.3,\"#f1b6da\"],[0.4,\"#fde0ef\"],[0.5,\"#f7f7f7\"],[0.6,\"#e6f5d0\"],[0.7,\"#b8e186\"],[0.8,\"#7fbc41\"],[0.9,\"#4d9221\"],[1,\"#276419\"]],\"sequential\":[[0.0,\"#0d0887\"],[0.1111111111111111,\"#46039f\"],[0.2222222222222222,\"#7201a8\"],[0.3333333333333333,\"#9c179e\"],[0.4444444444444444,\"#bd3786\"],[0.5555555555555556,\"#d8576b\"],[0.6666666666666666,\"#ed7953\"],[0.7777777777777778,\"#fb9f3a\"],[0.8888888888888888,\"#fdca26\"],[1.0,\"#f0f921\"]],\"sequentialminus\":[[0.0,\"#0d0887\"],[0.1111111111111111,\"#46039f\"],[0.2222222222222222,\"#7201a8\"],[0.3333333333333333,\"#9c179e\"],[0.4444444444444444,\"#bd3786\"],[0.5555555555555556,\"#d8576b\"],[0.6666666666666666,\"#ed7953\"],[0.7777777777777778,\"#fb9f3a\"],[0.8888888888888888,\"#fdca26\"],[1.0,\"#f0f921\"]]},\"colorway\":[\"#636efa\",\"#EF553B\",\"#00cc96\",\"#ab63fa\",\"#FFA15A\",\"#19d3f3\",\"#FF6692\",\"#B6E880\",\"#FF97FF\",\"#FECB52\"],\"font\":{\"color\":\"#2a3f5f\"},\"geo\":{\"bgcolor\":\"white\",\"lakecolor\":\"white\",\"landcolor\":\"#E5ECF6\",\"showlakes\":true,\"showland\":true,\"subunitcolor\":\"white\"},\"hoverlabel\":{\"align\":\"left\"},\"hovermode\":\"closest\",\"mapbox\":{\"style\":\"light\"},\"paper_bgcolor\":\"white\",\"plot_bgcolor\":\"#E5ECF6\",\"polar\":{\"angularaxis\":{\"gridcolor\":\"white\",\"linecolor\":\"white\",\"ticks\":\"\"},\"bgcolor\":\"#E5ECF6\",\"radialaxis\":{\"gridcolor\":\"white\",\"linecolor\":\"white\",\"ticks\":\"\"}},\"scene\":{\"xaxis\":{\"backgroundcolor\":\"#E5ECF6\",\"gridcolor\":\"white\",\"gridwidth\":2,\"linecolor\":\"white\",\"showbackground\":true,\"ticks\":\"\",\"zerolinecolor\":\"white\"},\"yaxis\":{\"backgroundcolor\":\"#E5ECF6\",\"gridcolor\":\"white\",\"gridwidth\":2,\"linecolor\":\"white\",\"showbackground\":true,\"ticks\":\"\",\"zerolinecolor\":\"white\"},\"zaxis\":{\"backgroundcolor\":\"#E5ECF6\",\"gridcolor\":\"white\",\"gridwidth\":2,\"linecolor\":\"white\",\"showbackground\":true,\"ticks\":\"\",\"zerolinecolor\":\"white\"}},\"shapedefaults\":{\"line\":{\"color\":\"#2a3f5f\"}},\"ternary\":{\"aaxis\":{\"gridcolor\":\"white\",\"linecolor\":\"white\",\"ticks\":\"\"},\"baxis\":{\"gridcolor\":\"white\",\"linecolor\":\"white\",\"ticks\":\"\"},\"bgcolor\":\"#E5ECF6\",\"caxis\":{\"gridcolor\":\"white\",\"linecolor\":\"white\",\"ticks\":\"\"}},\"title\":{\"x\":0.05},\"xaxis\":{\"automargin\":true,\"gridcolor\":\"white\",\"linecolor\":\"white\",\"ticks\":\"\",\"title\":{\"standoff\":15},\"zerolinecolor\":\"white\",\"zerolinewidth\":2},\"yaxis\":{\"automargin\":true,\"gridcolor\":\"white\",\"linecolor\":\"white\",\"ticks\":\"\",\"title\":{\"standoff\":15},\"zerolinecolor\":\"white\",\"zerolinewidth\":2}}},\"title\":{\"font\":{\"color\":\"#4D5663\"}},\"xaxis\":{\"gridcolor\":\"#E1E5ED\",\"showgrid\":true,\"tickfont\":{\"color\":\"#4D5663\"},\"title\":{\"font\":{\"color\":\"#4D5663\"},\"text\":\"\"},\"zerolinecolor\":\"#E1E5ED\"},\"yaxis\":{\"gridcolor\":\"#E1E5ED\",\"showgrid\":true,\"tickfont\":{\"color\":\"#4D5663\"},\"title\":{\"font\":{\"color\":\"#4D5663\"},\"text\":\"\"},\"zerolinecolor\":\"#E1E5ED\"}},                        {\"showLink\": true, \"linkText\": \"Export to plot.ly\", \"plotlyServerURL\": \"https://plot.ly\", \"responsive\": true}                    ).then(function(){\n",
       "                            \n",
       "var gd = document.getElementById('40eb102c-beba-44d4-a130-9a4b950e1226');\n",
       "var x = new MutationObserver(function (mutations, observer) {{\n",
       "        var display = window.getComputedStyle(gd).display;\n",
       "        if (!display || display === 'none') {{\n",
       "            console.log([gd, 'removed!']);\n",
       "            Plotly.purge(gd);\n",
       "            observer.disconnect();\n",
       "        }}\n",
       "}});\n",
       "\n",
       "// Listen for the removal of the full notebook cells\n",
       "var notebookContainer = gd.closest('#notebook-container');\n",
       "if (notebookContainer) {{\n",
       "    x.observe(notebookContainer, {childList: true});\n",
       "}}\n",
       "\n",
       "// Listen for the clearing of the current output cell\n",
       "var outputEl = gd.closest('.output');\n",
       "if (outputEl) {{\n",
       "    x.observe(outputEl, {childList: true});\n",
       "}}\n",
       "\n",
       "                        })                };                });            </script>        </div>"
      ]
     },
     "metadata": {},
     "output_type": "display_data"
    }
   ],
   "source": [
    "df.iplot(kind='bubble',x='A',y='B',size='C')"
   ]
  },
  {
   "cell_type": "code",
   "execution_count": 25,
   "id": "56fa92ef",
   "metadata": {},
   "outputs": [
    {
     "data": {
      "application/vnd.plotly.v1+json": {
       "config": {
        "linkText": "Export to plot.ly",
        "plotlyServerURL": "https://plot.ly",
        "showLink": true
       },
       "data": [
        {
         "histfunc": "count",
         "histnorm": "",
         "marker": {
          "color": "rgba(255, 153, 51, 1.0)",
          "line": {
           "color": "#4D5663",
           "width": 1.3
          }
         },
         "name": "A",
         "nbinsx": 10,
         "opacity": 0.8,
         "orientation": "v",
         "type": "histogram",
         "x": [
          0.15387951566040683,
          2.181248765458232,
          -0.13566587094592006,
          2.5826373196933714,
          1.6784225961066819,
          -0.16299128101973356,
          -0.17874297565492092,
          0.48903983504613824,
          -0.050245207821652656,
          -0.21504123172855624,
          -0.9579247028153586,
          -0.9893440631800207,
          -0.5545866030923471,
          -0.729196183556216,
          -2.1468969108658733,
          1.443650242734995,
          0.9090913732870752,
          0.16199268989531002,
          -0.9466477932939458,
          0.35055814554620657,
          -0.21162327402463743,
          0.6365749108453906,
          -0.3836843220449782,
          1.0035932100576173,
          -0.6335239904754568,
          0.8596977337897347,
          0.4447230070289421,
          -1.2523804891664259,
          -0.13451250405916465,
          -0.5780800680607079,
          -0.2450155534501923,
          -0.9832040367280465,
          -0.23809181759312123,
          -0.34116672085694183,
          -0.8558574974421355,
          1.699621211172324,
          -1.0103056803776571,
          -0.8897721763689249,
          0.9747541077716472,
          0.2733325155193339,
          -2.3269122184399578,
          -0.3725394679542613,
          -1.1036867869571978,
          -0.1352555301863368,
          -1.1509761019037328,
          -1.2187335433615616,
          0.05506999604218593,
          -0.10228406176818654,
          1.2778340337032956,
          -1.6499243125727343,
          0.2584083064742115,
          0.022789195090183578,
          -0.05469858920966472,
          0.6934335354023595,
          -0.3582243331584894,
          -0.6762481063753567,
          -2.6093883903092228,
          0.08746280693315048,
          0.7907999135080389,
          -0.016400209655702606,
          -1.020020479062982,
          1.062252800413191,
          0.06000472648461456,
          -0.5751331128737663,
          0.7283756600309553,
          0.1828699910324269,
          -0.15630554197630672,
          -1.864294517478185,
          -0.05583743965754278,
          -1.3671415114751497,
          -0.2859607383869635,
          0.49472919490075573,
          -0.35969076601765726,
          0.9720742091395949,
          -0.11590515837531183,
          0.39360624198567107,
          0.7839283888154851,
          -1.177254142345938,
          0.8315862249829457,
          -1.1865453897625722,
          1.29698117990059,
          0.8766686456478701,
          0.7043101490622228,
          0.34654329113273163,
          0.009958136649100556,
          -1.134745510635879,
          0.0785083179815372,
          -1.8470364158934645,
          -0.4875047829676378,
          -0.735646683248686,
          -1.316475374019799,
          1.3776811867196217,
          -1.321076206512763,
          0.45445257779186266,
          2.5370214104573803,
          0.5769179650580939,
          0.4222801389522976,
          -0.5517893605255988,
          -0.30363543870509463,
          -0.33995824148450854
         ],
         "xaxis": "x",
         "yaxis": "y"
        },
        {
         "line": {
          "color": "rgba(128, 128, 128, 1.0)",
          "dash": "solid",
          "shape": "linear",
          "width": 1.3
         },
         "marker": {
          "size": 2,
          "symbol": "circle"
         },
         "mode": "markers",
         "name": "A",
         "text": "",
         "type": "scatter",
         "x": [
          0.2083619918066731,
          -0.007445592501653823,
          0.013438670371493154,
          -1.1402200714610695,
          -1.0037282728945376,
          -1.7796940522845184,
          1.4005425881113962,
          -0.12409065370077918,
          0.4452116013367775,
          -0.33569644713285623,
          0.9193071025427763,
          0.3170284786129296,
          0.13430335146684186,
          0.7787044216687309,
          0.21450459241797218,
          -1.5092666232396665,
          0.7919886424619987,
          -0.1927552256597784,
          0.1407274967059369,
          0.913396235037004,
          -0.39175435019456206,
          -0.5407190613207937,
          -1.129410685739879,
          -0.7073325132739956,
          -0.1202465665969558,
          -1.2835242588380795,
          -0.37277920098249084,
          0.40015445605057215,
          -0.40024857144059733,
          -0.6379169763897673,
          -0.2866340398118274,
          0.06139895861208848,
          -2.252517714720179,
          0.5457545446741421,
          1.1544587442506151,
          -0.6168270294189658,
          -0.3630037900029631,
          -1.2010279486365256,
          -0.7653438306648163,
          -0.11053318751770316,
          0.38388124646772853,
          -1.2674203103987471,
          0.0028399536666268025,
          -1.5494254508705259,
          2.095749715307753,
          -0.5641187149411993,
          0.34709305987418854,
          0.6236619982195952,
          -0.08063942778001149,
          0.08689494745775367,
          -1.2433803804032548,
          0.17159566961706876,
          -0.0032167099066127717,
          0.11739239250666493,
          0.38951736549480986,
          -1.0280734833091218,
          -0.4800090749698621,
          0.5740201552456949,
          -1.2084516763572983,
          0.7238828648723517,
          2.2005364752879752,
          0.15802727378773124,
          0.32649568568896786,
          -2.7143738424005797,
          0.38341951411432434,
          1.116813227600596,
          -0.01989660137589359,
          1.8878704671898408,
          -0.6405584469147696,
          -2.3590894870123007,
          -0.8715844322342543,
          -1.4398225910640223,
          1.3363221386595507,
          1.8283221642713612,
          -1.1084543823687798,
          -0.9822653578380953,
          -0.6494889734849333,
          -0.3426015797521599,
          -0.6837935756698565,
          0.6076716337813307,
          0.33659591669323224,
          0.4269690302146352,
          -0.9343729078118749,
          0.02124021733474761,
          -0.8433181262016681,
          -1.6579278057042166,
          1.0367687781471089,
          -0.508413311460955,
          1.039475592623558,
          -0.23178447064330665,
          0.0724413119156897,
          0.3487934006331482,
          1.4631758122581195,
          -1.9585115623098048,
          0.05495266418138907,
          0.01997126586927419,
          0.19730602361652821,
          -0.07707793518496193,
          1.2635910163603281,
          -1.575182626460573
         ],
         "xaxis": "x2",
         "y": [
          0.15387951566040683,
          2.181248765458232,
          -0.13566587094592006,
          2.5826373196933714,
          1.6784225961066819,
          -0.16299128101973356,
          -0.17874297565492092,
          0.48903983504613824,
          -0.050245207821652656,
          -0.21504123172855624,
          -0.9579247028153586,
          -0.9893440631800207,
          -0.5545866030923471,
          -0.729196183556216,
          -2.1468969108658733,
          1.443650242734995,
          0.9090913732870752,
          0.16199268989531002,
          -0.9466477932939458,
          0.35055814554620657,
          -0.21162327402463743,
          0.6365749108453906,
          -0.3836843220449782,
          1.0035932100576173,
          -0.6335239904754568,
          0.8596977337897347,
          0.4447230070289421,
          -1.2523804891664259,
          -0.13451250405916465,
          -0.5780800680607079,
          -0.2450155534501923,
          -0.9832040367280465,
          -0.23809181759312123,
          -0.34116672085694183,
          -0.8558574974421355,
          1.699621211172324,
          -1.0103056803776571,
          -0.8897721763689249,
          0.9747541077716472,
          0.2733325155193339,
          -2.3269122184399578,
          -0.3725394679542613,
          -1.1036867869571978,
          -0.1352555301863368,
          -1.1509761019037328,
          -1.2187335433615616,
          0.05506999604218593,
          -0.10228406176818654,
          1.2778340337032956,
          -1.6499243125727343,
          0.2584083064742115,
          0.022789195090183578,
          -0.05469858920966472,
          0.6934335354023595,
          -0.3582243331584894,
          -0.6762481063753567,
          -2.6093883903092228,
          0.08746280693315048,
          0.7907999135080389,
          -0.016400209655702606,
          -1.020020479062982,
          1.062252800413191,
          0.06000472648461456,
          -0.5751331128737663,
          0.7283756600309553,
          0.1828699910324269,
          -0.15630554197630672,
          -1.864294517478185,
          -0.05583743965754278,
          -1.3671415114751497,
          -0.2859607383869635,
          0.49472919490075573,
          -0.35969076601765726,
          0.9720742091395949,
          -0.11590515837531183,
          0.39360624198567107,
          0.7839283888154851,
          -1.177254142345938,
          0.8315862249829457,
          -1.1865453897625722,
          1.29698117990059,
          0.8766686456478701,
          0.7043101490622228,
          0.34654329113273163,
          0.009958136649100556,
          -1.134745510635879,
          0.0785083179815372,
          -1.8470364158934645,
          -0.4875047829676378,
          -0.735646683248686,
          -1.316475374019799,
          1.3776811867196217,
          -1.321076206512763,
          0.45445257779186266,
          2.5370214104573803,
          0.5769179650580939,
          0.4222801389522976,
          -0.5517893605255988,
          -0.30363543870509463,
          -0.33995824148450854
         ],
         "yaxis": "y2"
        },
        {
         "line": {
          "color": "rgba(128, 128, 128, 1.0)",
          "dash": "solid",
          "shape": "linear",
          "width": 1.3
         },
         "marker": {
          "size": 2,
          "symbol": "circle"
         },
         "mode": "markers",
         "name": "A",
         "text": "",
         "type": "scatter",
         "x": [
          0.4106594435925352,
          0.16451668922706855,
          -0.5369782056226539,
          0.5660853315566969,
          -0.6276131115541184,
          -0.35623907365489893,
          2.747624814704155,
          -1.2334283538430675,
          0.5953695186024907,
          -0.43852943328974997,
          0.10864185727711775,
          1.3197907328048857,
          -0.7903712263306164,
          -0.31436931313673816,
          0.47876479857992377,
          -0.2304329790855753,
          -0.061560034155332115,
          0.3004897403370486,
          1.79510490898758,
          1.2737593271137766,
          1.6419424352503602,
          1.852751669824922,
          0.8831830072945414,
          -0.5882779788344554,
          0.3703825755458452,
          1.3929082760023928,
          -1.2071419796121867,
          0.011100149059746016,
          -0.8635739978677018,
          1.8413447682384052,
          -1.8794815878480156,
          1.5621316515960426,
          -0.06962888037480293,
          -0.6454974165203449,
          -0.3910014561766563,
          -1.5022335662754505,
          0.15306706295055966,
          -2.4860561301597333,
          -0.23823128755041628,
          0.7955648043997234,
          -1.123206905763666,
          1.1149380253123027,
          0.5841552064517905,
          1.5849024443809798,
          2.183832117184637,
          1.1175896993788657,
          -2.412033509219897,
          -1.1201490345928256,
          0.3107292331598913,
          0.20800900242550194,
          -0.24909411972896087,
          -0.926708027691749,
          0.36539845848899705,
          -1.0705890309135304,
          0.44291927119139923,
          1.0578310118172347,
          -1.038867142693977,
          -0.10689897007298131,
          -0.6760368140223842,
          -0.5593242936247103,
          0.4123230011731821,
          0.24003181245138533,
          -0.4209577645954547,
          -0.1558898255604296,
          1.178123514861103,
          0.22598894428301605,
          0.5908452772763777,
          -1.0324048991723151,
          -0.31238836333956754,
          -0.6219794206029533,
          0.8572476323195839,
          0.9116187337831878,
          0.6936904236664377,
          0.011038814736188172,
          0.5282033650357248,
          -2.2337668917608267,
          0.3476652905185053,
          -1.847080978535126,
          0.9563701003727998,
          -0.040863608859851734,
          0.5495966278412764,
          1.6700886104241803,
          1.5442686926470075,
          1.010725902990785,
          0.037871630419494456,
          -2.648921228271641,
          -1.0762630270105022,
          -1.6877633899055529,
          -0.7502413749444725,
          0.09517969500198269,
          -0.8494083429449227,
          0.16620975044199085,
          -0.5609639231128154,
          1.1383046777516879,
          0.20397077776091715,
          0.8810095241960068,
          -0.29968980450177246,
          0.3106062982832132,
          1.0062792714069575,
          0.5117597024230559
         ],
         "xaxis": "x3",
         "y": [
          0.15387951566040683,
          2.181248765458232,
          -0.13566587094592006,
          2.5826373196933714,
          1.6784225961066819,
          -0.16299128101973356,
          -0.17874297565492092,
          0.48903983504613824,
          -0.050245207821652656,
          -0.21504123172855624,
          -0.9579247028153586,
          -0.9893440631800207,
          -0.5545866030923471,
          -0.729196183556216,
          -2.1468969108658733,
          1.443650242734995,
          0.9090913732870752,
          0.16199268989531002,
          -0.9466477932939458,
          0.35055814554620657,
          -0.21162327402463743,
          0.6365749108453906,
          -0.3836843220449782,
          1.0035932100576173,
          -0.6335239904754568,
          0.8596977337897347,
          0.4447230070289421,
          -1.2523804891664259,
          -0.13451250405916465,
          -0.5780800680607079,
          -0.2450155534501923,
          -0.9832040367280465,
          -0.23809181759312123,
          -0.34116672085694183,
          -0.8558574974421355,
          1.699621211172324,
          -1.0103056803776571,
          -0.8897721763689249,
          0.9747541077716472,
          0.2733325155193339,
          -2.3269122184399578,
          -0.3725394679542613,
          -1.1036867869571978,
          -0.1352555301863368,
          -1.1509761019037328,
          -1.2187335433615616,
          0.05506999604218593,
          -0.10228406176818654,
          1.2778340337032956,
          -1.6499243125727343,
          0.2584083064742115,
          0.022789195090183578,
          -0.05469858920966472,
          0.6934335354023595,
          -0.3582243331584894,
          -0.6762481063753567,
          -2.6093883903092228,
          0.08746280693315048,
          0.7907999135080389,
          -0.016400209655702606,
          -1.020020479062982,
          1.062252800413191,
          0.06000472648461456,
          -0.5751331128737663,
          0.7283756600309553,
          0.1828699910324269,
          -0.15630554197630672,
          -1.864294517478185,
          -0.05583743965754278,
          -1.3671415114751497,
          -0.2859607383869635,
          0.49472919490075573,
          -0.35969076601765726,
          0.9720742091395949,
          -0.11590515837531183,
          0.39360624198567107,
          0.7839283888154851,
          -1.177254142345938,
          0.8315862249829457,
          -1.1865453897625722,
          1.29698117990059,
          0.8766686456478701,
          0.7043101490622228,
          0.34654329113273163,
          0.009958136649100556,
          -1.134745510635879,
          0.0785083179815372,
          -1.8470364158934645,
          -0.4875047829676378,
          -0.735646683248686,
          -1.316475374019799,
          1.3776811867196217,
          -1.321076206512763,
          0.45445257779186266,
          2.5370214104573803,
          0.5769179650580939,
          0.4222801389522976,
          -0.5517893605255988,
          -0.30363543870509463,
          -0.33995824148450854
         ],
         "yaxis": "y3"
        },
        {
         "line": {
          "color": "rgba(128, 128, 128, 1.0)",
          "dash": "solid",
          "shape": "linear",
          "width": 1.3
         },
         "marker": {
          "size": 2,
          "symbol": "circle"
         },
         "mode": "markers",
         "name": "A",
         "text": "",
         "type": "scatter",
         "x": [
          0.08882602290852044,
          0.3472852132477984,
          -0.37246145250677315,
          -0.5471198817931465,
          0.9612201659969524,
          -0.9855005302431957,
          1.119709969364751,
          -1.5617645240073064,
          0.3784234935225686,
          0.8406059405919006,
          0.2478538909570599,
          0.2245201258386008,
          -0.014007087076950283,
          -0.017978432906322183,
          0.23460468060069478,
          -0.46640179910384066,
          0.8643632730322002,
          -2.6157456252518436,
          1.1628922977618183,
          -0.7598486830496928,
          -0.6520913250599274,
          -0.013592979843362926,
          -2.7804940392783677,
          -0.3473536826461263,
          1.1078778869163652,
          0.5857347552960472,
          -0.9958308215441067,
          -2.5263763627546973,
          -0.26672147672956403,
          0.2862130405186244,
          -2.6837494659660046,
          0.3033874733214488,
          0.5033661712626599,
          1.2197512825265693,
          -0.7138700472974253,
          -1.925808072447536,
          -0.5814574365040682,
          -0.4316677271910598,
          -0.5703494359618949,
          -0.858974487595339,
          -1.268676361059802,
          1.8444717976597462,
          -2.1710324942939474,
          -0.3184873602637343,
          0.8737016676868598,
          0.44676451160752684,
          0.19552955849466425,
          0.0097143559489846,
          -0.0907528690945857,
          0.08390466816220352,
          0.8499106301768232,
          -0.5016390313044293,
          -1.31739615184278,
          -0.9576190435279951,
          -0.4544082003105043,
          -0.4869871195405576,
          -0.8031200143028007,
          1.075905546432674,
          0.11504800737028045,
          0.6313800121106293,
          -0.02836752563835282,
          0.20623183108131207,
          0.4924132535395281,
          0.36853576080201733,
          0.37820890226831194,
          -1.2439165858578292,
          -1.0284139820799816,
          0.21205417447788924,
          1.3137150199660272,
          -1.6444588158118052,
          -0.30379493368012983,
          -0.4395301958526581,
          -0.3402084180822364,
          0.6792109021535856,
          2.2801482871709338,
          -1.558556941237184,
          1.2111088848996647,
          -0.4985515344568757,
          -0.9371606948293234,
          -0.23032569341794734,
          -0.5784890532022261,
          1.4498168645510277,
          -0.6048136450530708,
          -0.18714427053050872,
          0.5624949566075169,
          0.2609508920583652,
          -1.6613993136336094,
          -0.6533027541602376,
          0.3832809683638925,
          0.7929129370617669,
          -0.19080093806256554,
          0.7551565441543654,
          -0.34100404750090174,
          1.487922424333899,
          1.0231598093783791,
          -0.20659353593347068,
          -0.31801059017001254,
          0.025258088091292458,
          -1.3992419746609126,
          -0.9911240824684592
         ],
         "xaxis": "x4",
         "y": [
          0.15387951566040683,
          2.181248765458232,
          -0.13566587094592006,
          2.5826373196933714,
          1.6784225961066819,
          -0.16299128101973356,
          -0.17874297565492092,
          0.48903983504613824,
          -0.050245207821652656,
          -0.21504123172855624,
          -0.9579247028153586,
          -0.9893440631800207,
          -0.5545866030923471,
          -0.729196183556216,
          -2.1468969108658733,
          1.443650242734995,
          0.9090913732870752,
          0.16199268989531002,
          -0.9466477932939458,
          0.35055814554620657,
          -0.21162327402463743,
          0.6365749108453906,
          -0.3836843220449782,
          1.0035932100576173,
          -0.6335239904754568,
          0.8596977337897347,
          0.4447230070289421,
          -1.2523804891664259,
          -0.13451250405916465,
          -0.5780800680607079,
          -0.2450155534501923,
          -0.9832040367280465,
          -0.23809181759312123,
          -0.34116672085694183,
          -0.8558574974421355,
          1.699621211172324,
          -1.0103056803776571,
          -0.8897721763689249,
          0.9747541077716472,
          0.2733325155193339,
          -2.3269122184399578,
          -0.3725394679542613,
          -1.1036867869571978,
          -0.1352555301863368,
          -1.1509761019037328,
          -1.2187335433615616,
          0.05506999604218593,
          -0.10228406176818654,
          1.2778340337032956,
          -1.6499243125727343,
          0.2584083064742115,
          0.022789195090183578,
          -0.05469858920966472,
          0.6934335354023595,
          -0.3582243331584894,
          -0.6762481063753567,
          -2.6093883903092228,
          0.08746280693315048,
          0.7907999135080389,
          -0.016400209655702606,
          -1.020020479062982,
          1.062252800413191,
          0.06000472648461456,
          -0.5751331128737663,
          0.7283756600309553,
          0.1828699910324269,
          -0.15630554197630672,
          -1.864294517478185,
          -0.05583743965754278,
          -1.3671415114751497,
          -0.2859607383869635,
          0.49472919490075573,
          -0.35969076601765726,
          0.9720742091395949,
          -0.11590515837531183,
          0.39360624198567107,
          0.7839283888154851,
          -1.177254142345938,
          0.8315862249829457,
          -1.1865453897625722,
          1.29698117990059,
          0.8766686456478701,
          0.7043101490622228,
          0.34654329113273163,
          0.009958136649100556,
          -1.134745510635879,
          0.0785083179815372,
          -1.8470364158934645,
          -0.4875047829676378,
          -0.735646683248686,
          -1.316475374019799,
          1.3776811867196217,
          -1.321076206512763,
          0.45445257779186266,
          2.5370214104573803,
          0.5769179650580939,
          0.4222801389522976,
          -0.5517893605255988,
          -0.30363543870509463,
          -0.33995824148450854
         ],
         "yaxis": "y4"
        },
        {
         "line": {
          "color": "rgba(128, 128, 128, 1.0)",
          "dash": "solid",
          "shape": "linear",
          "width": 1.3
         },
         "marker": {
          "size": 2,
          "symbol": "circle"
         },
         "mode": "markers",
         "name": "B",
         "text": "",
         "type": "scatter",
         "x": [
          0.15387951566040683,
          2.181248765458232,
          -0.13566587094592006,
          2.5826373196933714,
          1.6784225961066819,
          -0.16299128101973356,
          -0.17874297565492092,
          0.48903983504613824,
          -0.050245207821652656,
          -0.21504123172855624,
          -0.9579247028153586,
          -0.9893440631800207,
          -0.5545866030923471,
          -0.729196183556216,
          -2.1468969108658733,
          1.443650242734995,
          0.9090913732870752,
          0.16199268989531002,
          -0.9466477932939458,
          0.35055814554620657,
          -0.21162327402463743,
          0.6365749108453906,
          -0.3836843220449782,
          1.0035932100576173,
          -0.6335239904754568,
          0.8596977337897347,
          0.4447230070289421,
          -1.2523804891664259,
          -0.13451250405916465,
          -0.5780800680607079,
          -0.2450155534501923,
          -0.9832040367280465,
          -0.23809181759312123,
          -0.34116672085694183,
          -0.8558574974421355,
          1.699621211172324,
          -1.0103056803776571,
          -0.8897721763689249,
          0.9747541077716472,
          0.2733325155193339,
          -2.3269122184399578,
          -0.3725394679542613,
          -1.1036867869571978,
          -0.1352555301863368,
          -1.1509761019037328,
          -1.2187335433615616,
          0.05506999604218593,
          -0.10228406176818654,
          1.2778340337032956,
          -1.6499243125727343,
          0.2584083064742115,
          0.022789195090183578,
          -0.05469858920966472,
          0.6934335354023595,
          -0.3582243331584894,
          -0.6762481063753567,
          -2.6093883903092228,
          0.08746280693315048,
          0.7907999135080389,
          -0.016400209655702606,
          -1.020020479062982,
          1.062252800413191,
          0.06000472648461456,
          -0.5751331128737663,
          0.7283756600309553,
          0.1828699910324269,
          -0.15630554197630672,
          -1.864294517478185,
          -0.05583743965754278,
          -1.3671415114751497,
          -0.2859607383869635,
          0.49472919490075573,
          -0.35969076601765726,
          0.9720742091395949,
          -0.11590515837531183,
          0.39360624198567107,
          0.7839283888154851,
          -1.177254142345938,
          0.8315862249829457,
          -1.1865453897625722,
          1.29698117990059,
          0.8766686456478701,
          0.7043101490622228,
          0.34654329113273163,
          0.009958136649100556,
          -1.134745510635879,
          0.0785083179815372,
          -1.8470364158934645,
          -0.4875047829676378,
          -0.735646683248686,
          -1.316475374019799,
          1.3776811867196217,
          -1.321076206512763,
          0.45445257779186266,
          2.5370214104573803,
          0.5769179650580939,
          0.4222801389522976,
          -0.5517893605255988,
          -0.30363543870509463,
          -0.33995824148450854
         ],
         "xaxis": "x5",
         "y": [
          0.2083619918066731,
          -0.007445592501653823,
          0.013438670371493154,
          -1.1402200714610695,
          -1.0037282728945376,
          -1.7796940522845184,
          1.4005425881113962,
          -0.12409065370077918,
          0.4452116013367775,
          -0.33569644713285623,
          0.9193071025427763,
          0.3170284786129296,
          0.13430335146684186,
          0.7787044216687309,
          0.21450459241797218,
          -1.5092666232396665,
          0.7919886424619987,
          -0.1927552256597784,
          0.1407274967059369,
          0.913396235037004,
          -0.39175435019456206,
          -0.5407190613207937,
          -1.129410685739879,
          -0.7073325132739956,
          -0.1202465665969558,
          -1.2835242588380795,
          -0.37277920098249084,
          0.40015445605057215,
          -0.40024857144059733,
          -0.6379169763897673,
          -0.2866340398118274,
          0.06139895861208848,
          -2.252517714720179,
          0.5457545446741421,
          1.1544587442506151,
          -0.6168270294189658,
          -0.3630037900029631,
          -1.2010279486365256,
          -0.7653438306648163,
          -0.11053318751770316,
          0.38388124646772853,
          -1.2674203103987471,
          0.0028399536666268025,
          -1.5494254508705259,
          2.095749715307753,
          -0.5641187149411993,
          0.34709305987418854,
          0.6236619982195952,
          -0.08063942778001149,
          0.08689494745775367,
          -1.2433803804032548,
          0.17159566961706876,
          -0.0032167099066127717,
          0.11739239250666493,
          0.38951736549480986,
          -1.0280734833091218,
          -0.4800090749698621,
          0.5740201552456949,
          -1.2084516763572983,
          0.7238828648723517,
          2.2005364752879752,
          0.15802727378773124,
          0.32649568568896786,
          -2.7143738424005797,
          0.38341951411432434,
          1.116813227600596,
          -0.01989660137589359,
          1.8878704671898408,
          -0.6405584469147696,
          -2.3590894870123007,
          -0.8715844322342543,
          -1.4398225910640223,
          1.3363221386595507,
          1.8283221642713612,
          -1.1084543823687798,
          -0.9822653578380953,
          -0.6494889734849333,
          -0.3426015797521599,
          -0.6837935756698565,
          0.6076716337813307,
          0.33659591669323224,
          0.4269690302146352,
          -0.9343729078118749,
          0.02124021733474761,
          -0.8433181262016681,
          -1.6579278057042166,
          1.0367687781471089,
          -0.508413311460955,
          1.039475592623558,
          -0.23178447064330665,
          0.0724413119156897,
          0.3487934006331482,
          1.4631758122581195,
          -1.9585115623098048,
          0.05495266418138907,
          0.01997126586927419,
          0.19730602361652821,
          -0.07707793518496193,
          1.2635910163603281,
          -1.575182626460573
         ],
         "yaxis": "y5"
        },
        {
         "histfunc": "count",
         "histnorm": "",
         "marker": {
          "color": "rgba(55, 128, 191, 1.0)",
          "line": {
           "color": "#4D5663",
           "width": 1.3
          }
         },
         "name": "B",
         "nbinsx": 10,
         "opacity": 0.8,
         "orientation": "v",
         "type": "histogram",
         "x": [
          0.2083619918066731,
          -0.007445592501653823,
          0.013438670371493154,
          -1.1402200714610695,
          -1.0037282728945376,
          -1.7796940522845184,
          1.4005425881113962,
          -0.12409065370077918,
          0.4452116013367775,
          -0.33569644713285623,
          0.9193071025427763,
          0.3170284786129296,
          0.13430335146684186,
          0.7787044216687309,
          0.21450459241797218,
          -1.5092666232396665,
          0.7919886424619987,
          -0.1927552256597784,
          0.1407274967059369,
          0.913396235037004,
          -0.39175435019456206,
          -0.5407190613207937,
          -1.129410685739879,
          -0.7073325132739956,
          -0.1202465665969558,
          -1.2835242588380795,
          -0.37277920098249084,
          0.40015445605057215,
          -0.40024857144059733,
          -0.6379169763897673,
          -0.2866340398118274,
          0.06139895861208848,
          -2.252517714720179,
          0.5457545446741421,
          1.1544587442506151,
          -0.6168270294189658,
          -0.3630037900029631,
          -1.2010279486365256,
          -0.7653438306648163,
          -0.11053318751770316,
          0.38388124646772853,
          -1.2674203103987471,
          0.0028399536666268025,
          -1.5494254508705259,
          2.095749715307753,
          -0.5641187149411993,
          0.34709305987418854,
          0.6236619982195952,
          -0.08063942778001149,
          0.08689494745775367,
          -1.2433803804032548,
          0.17159566961706876,
          -0.0032167099066127717,
          0.11739239250666493,
          0.38951736549480986,
          -1.0280734833091218,
          -0.4800090749698621,
          0.5740201552456949,
          -1.2084516763572983,
          0.7238828648723517,
          2.2005364752879752,
          0.15802727378773124,
          0.32649568568896786,
          -2.7143738424005797,
          0.38341951411432434,
          1.116813227600596,
          -0.01989660137589359,
          1.8878704671898408,
          -0.6405584469147696,
          -2.3590894870123007,
          -0.8715844322342543,
          -1.4398225910640223,
          1.3363221386595507,
          1.8283221642713612,
          -1.1084543823687798,
          -0.9822653578380953,
          -0.6494889734849333,
          -0.3426015797521599,
          -0.6837935756698565,
          0.6076716337813307,
          0.33659591669323224,
          0.4269690302146352,
          -0.9343729078118749,
          0.02124021733474761,
          -0.8433181262016681,
          -1.6579278057042166,
          1.0367687781471089,
          -0.508413311460955,
          1.039475592623558,
          -0.23178447064330665,
          0.0724413119156897,
          0.3487934006331482,
          1.4631758122581195,
          -1.9585115623098048,
          0.05495266418138907,
          0.01997126586927419,
          0.19730602361652821,
          -0.07707793518496193,
          1.2635910163603281,
          -1.575182626460573
         ],
         "xaxis": "x6",
         "yaxis": "y6"
        },
        {
         "line": {
          "color": "rgba(128, 128, 128, 1.0)",
          "dash": "solid",
          "shape": "linear",
          "width": 1.3
         },
         "marker": {
          "size": 2,
          "symbol": "circle"
         },
         "mode": "markers",
         "name": "B",
         "text": "",
         "type": "scatter",
         "x": [
          0.4106594435925352,
          0.16451668922706855,
          -0.5369782056226539,
          0.5660853315566969,
          -0.6276131115541184,
          -0.35623907365489893,
          2.747624814704155,
          -1.2334283538430675,
          0.5953695186024907,
          -0.43852943328974997,
          0.10864185727711775,
          1.3197907328048857,
          -0.7903712263306164,
          -0.31436931313673816,
          0.47876479857992377,
          -0.2304329790855753,
          -0.061560034155332115,
          0.3004897403370486,
          1.79510490898758,
          1.2737593271137766,
          1.6419424352503602,
          1.852751669824922,
          0.8831830072945414,
          -0.5882779788344554,
          0.3703825755458452,
          1.3929082760023928,
          -1.2071419796121867,
          0.011100149059746016,
          -0.8635739978677018,
          1.8413447682384052,
          -1.8794815878480156,
          1.5621316515960426,
          -0.06962888037480293,
          -0.6454974165203449,
          -0.3910014561766563,
          -1.5022335662754505,
          0.15306706295055966,
          -2.4860561301597333,
          -0.23823128755041628,
          0.7955648043997234,
          -1.123206905763666,
          1.1149380253123027,
          0.5841552064517905,
          1.5849024443809798,
          2.183832117184637,
          1.1175896993788657,
          -2.412033509219897,
          -1.1201490345928256,
          0.3107292331598913,
          0.20800900242550194,
          -0.24909411972896087,
          -0.926708027691749,
          0.36539845848899705,
          -1.0705890309135304,
          0.44291927119139923,
          1.0578310118172347,
          -1.038867142693977,
          -0.10689897007298131,
          -0.6760368140223842,
          -0.5593242936247103,
          0.4123230011731821,
          0.24003181245138533,
          -0.4209577645954547,
          -0.1558898255604296,
          1.178123514861103,
          0.22598894428301605,
          0.5908452772763777,
          -1.0324048991723151,
          -0.31238836333956754,
          -0.6219794206029533,
          0.8572476323195839,
          0.9116187337831878,
          0.6936904236664377,
          0.011038814736188172,
          0.5282033650357248,
          -2.2337668917608267,
          0.3476652905185053,
          -1.847080978535126,
          0.9563701003727998,
          -0.040863608859851734,
          0.5495966278412764,
          1.6700886104241803,
          1.5442686926470075,
          1.010725902990785,
          0.037871630419494456,
          -2.648921228271641,
          -1.0762630270105022,
          -1.6877633899055529,
          -0.7502413749444725,
          0.09517969500198269,
          -0.8494083429449227,
          0.16620975044199085,
          -0.5609639231128154,
          1.1383046777516879,
          0.20397077776091715,
          0.8810095241960068,
          -0.29968980450177246,
          0.3106062982832132,
          1.0062792714069575,
          0.5117597024230559
         ],
         "xaxis": "x7",
         "y": [
          0.2083619918066731,
          -0.007445592501653823,
          0.013438670371493154,
          -1.1402200714610695,
          -1.0037282728945376,
          -1.7796940522845184,
          1.4005425881113962,
          -0.12409065370077918,
          0.4452116013367775,
          -0.33569644713285623,
          0.9193071025427763,
          0.3170284786129296,
          0.13430335146684186,
          0.7787044216687309,
          0.21450459241797218,
          -1.5092666232396665,
          0.7919886424619987,
          -0.1927552256597784,
          0.1407274967059369,
          0.913396235037004,
          -0.39175435019456206,
          -0.5407190613207937,
          -1.129410685739879,
          -0.7073325132739956,
          -0.1202465665969558,
          -1.2835242588380795,
          -0.37277920098249084,
          0.40015445605057215,
          -0.40024857144059733,
          -0.6379169763897673,
          -0.2866340398118274,
          0.06139895861208848,
          -2.252517714720179,
          0.5457545446741421,
          1.1544587442506151,
          -0.6168270294189658,
          -0.3630037900029631,
          -1.2010279486365256,
          -0.7653438306648163,
          -0.11053318751770316,
          0.38388124646772853,
          -1.2674203103987471,
          0.0028399536666268025,
          -1.5494254508705259,
          2.095749715307753,
          -0.5641187149411993,
          0.34709305987418854,
          0.6236619982195952,
          -0.08063942778001149,
          0.08689494745775367,
          -1.2433803804032548,
          0.17159566961706876,
          -0.0032167099066127717,
          0.11739239250666493,
          0.38951736549480986,
          -1.0280734833091218,
          -0.4800090749698621,
          0.5740201552456949,
          -1.2084516763572983,
          0.7238828648723517,
          2.2005364752879752,
          0.15802727378773124,
          0.32649568568896786,
          -2.7143738424005797,
          0.38341951411432434,
          1.116813227600596,
          -0.01989660137589359,
          1.8878704671898408,
          -0.6405584469147696,
          -2.3590894870123007,
          -0.8715844322342543,
          -1.4398225910640223,
          1.3363221386595507,
          1.8283221642713612,
          -1.1084543823687798,
          -0.9822653578380953,
          -0.6494889734849333,
          -0.3426015797521599,
          -0.6837935756698565,
          0.6076716337813307,
          0.33659591669323224,
          0.4269690302146352,
          -0.9343729078118749,
          0.02124021733474761,
          -0.8433181262016681,
          -1.6579278057042166,
          1.0367687781471089,
          -0.508413311460955,
          1.039475592623558,
          -0.23178447064330665,
          0.0724413119156897,
          0.3487934006331482,
          1.4631758122581195,
          -1.9585115623098048,
          0.05495266418138907,
          0.01997126586927419,
          0.19730602361652821,
          -0.07707793518496193,
          1.2635910163603281,
          -1.575182626460573
         ],
         "yaxis": "y7"
        },
        {
         "line": {
          "color": "rgba(128, 128, 128, 1.0)",
          "dash": "solid",
          "shape": "linear",
          "width": 1.3
         },
         "marker": {
          "size": 2,
          "symbol": "circle"
         },
         "mode": "markers",
         "name": "B",
         "text": "",
         "type": "scatter",
         "x": [
          0.08882602290852044,
          0.3472852132477984,
          -0.37246145250677315,
          -0.5471198817931465,
          0.9612201659969524,
          -0.9855005302431957,
          1.119709969364751,
          -1.5617645240073064,
          0.3784234935225686,
          0.8406059405919006,
          0.2478538909570599,
          0.2245201258386008,
          -0.014007087076950283,
          -0.017978432906322183,
          0.23460468060069478,
          -0.46640179910384066,
          0.8643632730322002,
          -2.6157456252518436,
          1.1628922977618183,
          -0.7598486830496928,
          -0.6520913250599274,
          -0.013592979843362926,
          -2.7804940392783677,
          -0.3473536826461263,
          1.1078778869163652,
          0.5857347552960472,
          -0.9958308215441067,
          -2.5263763627546973,
          -0.26672147672956403,
          0.2862130405186244,
          -2.6837494659660046,
          0.3033874733214488,
          0.5033661712626599,
          1.2197512825265693,
          -0.7138700472974253,
          -1.925808072447536,
          -0.5814574365040682,
          -0.4316677271910598,
          -0.5703494359618949,
          -0.858974487595339,
          -1.268676361059802,
          1.8444717976597462,
          -2.1710324942939474,
          -0.3184873602637343,
          0.8737016676868598,
          0.44676451160752684,
          0.19552955849466425,
          0.0097143559489846,
          -0.0907528690945857,
          0.08390466816220352,
          0.8499106301768232,
          -0.5016390313044293,
          -1.31739615184278,
          -0.9576190435279951,
          -0.4544082003105043,
          -0.4869871195405576,
          -0.8031200143028007,
          1.075905546432674,
          0.11504800737028045,
          0.6313800121106293,
          -0.02836752563835282,
          0.20623183108131207,
          0.4924132535395281,
          0.36853576080201733,
          0.37820890226831194,
          -1.2439165858578292,
          -1.0284139820799816,
          0.21205417447788924,
          1.3137150199660272,
          -1.6444588158118052,
          -0.30379493368012983,
          -0.4395301958526581,
          -0.3402084180822364,
          0.6792109021535856,
          2.2801482871709338,
          -1.558556941237184,
          1.2111088848996647,
          -0.4985515344568757,
          -0.9371606948293234,
          -0.23032569341794734,
          -0.5784890532022261,
          1.4498168645510277,
          -0.6048136450530708,
          -0.18714427053050872,
          0.5624949566075169,
          0.2609508920583652,
          -1.6613993136336094,
          -0.6533027541602376,
          0.3832809683638925,
          0.7929129370617669,
          -0.19080093806256554,
          0.7551565441543654,
          -0.34100404750090174,
          1.487922424333899,
          1.0231598093783791,
          -0.20659353593347068,
          -0.31801059017001254,
          0.025258088091292458,
          -1.3992419746609126,
          -0.9911240824684592
         ],
         "xaxis": "x8",
         "y": [
          0.2083619918066731,
          -0.007445592501653823,
          0.013438670371493154,
          -1.1402200714610695,
          -1.0037282728945376,
          -1.7796940522845184,
          1.4005425881113962,
          -0.12409065370077918,
          0.4452116013367775,
          -0.33569644713285623,
          0.9193071025427763,
          0.3170284786129296,
          0.13430335146684186,
          0.7787044216687309,
          0.21450459241797218,
          -1.5092666232396665,
          0.7919886424619987,
          -0.1927552256597784,
          0.1407274967059369,
          0.913396235037004,
          -0.39175435019456206,
          -0.5407190613207937,
          -1.129410685739879,
          -0.7073325132739956,
          -0.1202465665969558,
          -1.2835242588380795,
          -0.37277920098249084,
          0.40015445605057215,
          -0.40024857144059733,
          -0.6379169763897673,
          -0.2866340398118274,
          0.06139895861208848,
          -2.252517714720179,
          0.5457545446741421,
          1.1544587442506151,
          -0.6168270294189658,
          -0.3630037900029631,
          -1.2010279486365256,
          -0.7653438306648163,
          -0.11053318751770316,
          0.38388124646772853,
          -1.2674203103987471,
          0.0028399536666268025,
          -1.5494254508705259,
          2.095749715307753,
          -0.5641187149411993,
          0.34709305987418854,
          0.6236619982195952,
          -0.08063942778001149,
          0.08689494745775367,
          -1.2433803804032548,
          0.17159566961706876,
          -0.0032167099066127717,
          0.11739239250666493,
          0.38951736549480986,
          -1.0280734833091218,
          -0.4800090749698621,
          0.5740201552456949,
          -1.2084516763572983,
          0.7238828648723517,
          2.2005364752879752,
          0.15802727378773124,
          0.32649568568896786,
          -2.7143738424005797,
          0.38341951411432434,
          1.116813227600596,
          -0.01989660137589359,
          1.8878704671898408,
          -0.6405584469147696,
          -2.3590894870123007,
          -0.8715844322342543,
          -1.4398225910640223,
          1.3363221386595507,
          1.8283221642713612,
          -1.1084543823687798,
          -0.9822653578380953,
          -0.6494889734849333,
          -0.3426015797521599,
          -0.6837935756698565,
          0.6076716337813307,
          0.33659591669323224,
          0.4269690302146352,
          -0.9343729078118749,
          0.02124021733474761,
          -0.8433181262016681,
          -1.6579278057042166,
          1.0367687781471089,
          -0.508413311460955,
          1.039475592623558,
          -0.23178447064330665,
          0.0724413119156897,
          0.3487934006331482,
          1.4631758122581195,
          -1.9585115623098048,
          0.05495266418138907,
          0.01997126586927419,
          0.19730602361652821,
          -0.07707793518496193,
          1.2635910163603281,
          -1.575182626460573
         ],
         "yaxis": "y8"
        },
        {
         "line": {
          "color": "rgba(128, 128, 128, 1.0)",
          "dash": "solid",
          "shape": "linear",
          "width": 1.3
         },
         "marker": {
          "size": 2,
          "symbol": "circle"
         },
         "mode": "markers",
         "name": "C",
         "text": "",
         "type": "scatter",
         "x": [
          0.15387951566040683,
          2.181248765458232,
          -0.13566587094592006,
          2.5826373196933714,
          1.6784225961066819,
          -0.16299128101973356,
          -0.17874297565492092,
          0.48903983504613824,
          -0.050245207821652656,
          -0.21504123172855624,
          -0.9579247028153586,
          -0.9893440631800207,
          -0.5545866030923471,
          -0.729196183556216,
          -2.1468969108658733,
          1.443650242734995,
          0.9090913732870752,
          0.16199268989531002,
          -0.9466477932939458,
          0.35055814554620657,
          -0.21162327402463743,
          0.6365749108453906,
          -0.3836843220449782,
          1.0035932100576173,
          -0.6335239904754568,
          0.8596977337897347,
          0.4447230070289421,
          -1.2523804891664259,
          -0.13451250405916465,
          -0.5780800680607079,
          -0.2450155534501923,
          -0.9832040367280465,
          -0.23809181759312123,
          -0.34116672085694183,
          -0.8558574974421355,
          1.699621211172324,
          -1.0103056803776571,
          -0.8897721763689249,
          0.9747541077716472,
          0.2733325155193339,
          -2.3269122184399578,
          -0.3725394679542613,
          -1.1036867869571978,
          -0.1352555301863368,
          -1.1509761019037328,
          -1.2187335433615616,
          0.05506999604218593,
          -0.10228406176818654,
          1.2778340337032956,
          -1.6499243125727343,
          0.2584083064742115,
          0.022789195090183578,
          -0.05469858920966472,
          0.6934335354023595,
          -0.3582243331584894,
          -0.6762481063753567,
          -2.6093883903092228,
          0.08746280693315048,
          0.7907999135080389,
          -0.016400209655702606,
          -1.020020479062982,
          1.062252800413191,
          0.06000472648461456,
          -0.5751331128737663,
          0.7283756600309553,
          0.1828699910324269,
          -0.15630554197630672,
          -1.864294517478185,
          -0.05583743965754278,
          -1.3671415114751497,
          -0.2859607383869635,
          0.49472919490075573,
          -0.35969076601765726,
          0.9720742091395949,
          -0.11590515837531183,
          0.39360624198567107,
          0.7839283888154851,
          -1.177254142345938,
          0.8315862249829457,
          -1.1865453897625722,
          1.29698117990059,
          0.8766686456478701,
          0.7043101490622228,
          0.34654329113273163,
          0.009958136649100556,
          -1.134745510635879,
          0.0785083179815372,
          -1.8470364158934645,
          -0.4875047829676378,
          -0.735646683248686,
          -1.316475374019799,
          1.3776811867196217,
          -1.321076206512763,
          0.45445257779186266,
          2.5370214104573803,
          0.5769179650580939,
          0.4222801389522976,
          -0.5517893605255988,
          -0.30363543870509463,
          -0.33995824148450854
         ],
         "xaxis": "x9",
         "y": [
          0.4106594435925352,
          0.16451668922706855,
          -0.5369782056226539,
          0.5660853315566969,
          -0.6276131115541184,
          -0.35623907365489893,
          2.747624814704155,
          -1.2334283538430675,
          0.5953695186024907,
          -0.43852943328974997,
          0.10864185727711775,
          1.3197907328048857,
          -0.7903712263306164,
          -0.31436931313673816,
          0.47876479857992377,
          -0.2304329790855753,
          -0.061560034155332115,
          0.3004897403370486,
          1.79510490898758,
          1.2737593271137766,
          1.6419424352503602,
          1.852751669824922,
          0.8831830072945414,
          -0.5882779788344554,
          0.3703825755458452,
          1.3929082760023928,
          -1.2071419796121867,
          0.011100149059746016,
          -0.8635739978677018,
          1.8413447682384052,
          -1.8794815878480156,
          1.5621316515960426,
          -0.06962888037480293,
          -0.6454974165203449,
          -0.3910014561766563,
          -1.5022335662754505,
          0.15306706295055966,
          -2.4860561301597333,
          -0.23823128755041628,
          0.7955648043997234,
          -1.123206905763666,
          1.1149380253123027,
          0.5841552064517905,
          1.5849024443809798,
          2.183832117184637,
          1.1175896993788657,
          -2.412033509219897,
          -1.1201490345928256,
          0.3107292331598913,
          0.20800900242550194,
          -0.24909411972896087,
          -0.926708027691749,
          0.36539845848899705,
          -1.0705890309135304,
          0.44291927119139923,
          1.0578310118172347,
          -1.038867142693977,
          -0.10689897007298131,
          -0.6760368140223842,
          -0.5593242936247103,
          0.4123230011731821,
          0.24003181245138533,
          -0.4209577645954547,
          -0.1558898255604296,
          1.178123514861103,
          0.22598894428301605,
          0.5908452772763777,
          -1.0324048991723151,
          -0.31238836333956754,
          -0.6219794206029533,
          0.8572476323195839,
          0.9116187337831878,
          0.6936904236664377,
          0.011038814736188172,
          0.5282033650357248,
          -2.2337668917608267,
          0.3476652905185053,
          -1.847080978535126,
          0.9563701003727998,
          -0.040863608859851734,
          0.5495966278412764,
          1.6700886104241803,
          1.5442686926470075,
          1.010725902990785,
          0.037871630419494456,
          -2.648921228271641,
          -1.0762630270105022,
          -1.6877633899055529,
          -0.7502413749444725,
          0.09517969500198269,
          -0.8494083429449227,
          0.16620975044199085,
          -0.5609639231128154,
          1.1383046777516879,
          0.20397077776091715,
          0.8810095241960068,
          -0.29968980450177246,
          0.3106062982832132,
          1.0062792714069575,
          0.5117597024230559
         ],
         "yaxis": "y9"
        },
        {
         "line": {
          "color": "rgba(128, 128, 128, 1.0)",
          "dash": "solid",
          "shape": "linear",
          "width": 1.3
         },
         "marker": {
          "size": 2,
          "symbol": "circle"
         },
         "mode": "markers",
         "name": "C",
         "text": "",
         "type": "scatter",
         "x": [
          0.2083619918066731,
          -0.007445592501653823,
          0.013438670371493154,
          -1.1402200714610695,
          -1.0037282728945376,
          -1.7796940522845184,
          1.4005425881113962,
          -0.12409065370077918,
          0.4452116013367775,
          -0.33569644713285623,
          0.9193071025427763,
          0.3170284786129296,
          0.13430335146684186,
          0.7787044216687309,
          0.21450459241797218,
          -1.5092666232396665,
          0.7919886424619987,
          -0.1927552256597784,
          0.1407274967059369,
          0.913396235037004,
          -0.39175435019456206,
          -0.5407190613207937,
          -1.129410685739879,
          -0.7073325132739956,
          -0.1202465665969558,
          -1.2835242588380795,
          -0.37277920098249084,
          0.40015445605057215,
          -0.40024857144059733,
          -0.6379169763897673,
          -0.2866340398118274,
          0.06139895861208848,
          -2.252517714720179,
          0.5457545446741421,
          1.1544587442506151,
          -0.6168270294189658,
          -0.3630037900029631,
          -1.2010279486365256,
          -0.7653438306648163,
          -0.11053318751770316,
          0.38388124646772853,
          -1.2674203103987471,
          0.0028399536666268025,
          -1.5494254508705259,
          2.095749715307753,
          -0.5641187149411993,
          0.34709305987418854,
          0.6236619982195952,
          -0.08063942778001149,
          0.08689494745775367,
          -1.2433803804032548,
          0.17159566961706876,
          -0.0032167099066127717,
          0.11739239250666493,
          0.38951736549480986,
          -1.0280734833091218,
          -0.4800090749698621,
          0.5740201552456949,
          -1.2084516763572983,
          0.7238828648723517,
          2.2005364752879752,
          0.15802727378773124,
          0.32649568568896786,
          -2.7143738424005797,
          0.38341951411432434,
          1.116813227600596,
          -0.01989660137589359,
          1.8878704671898408,
          -0.6405584469147696,
          -2.3590894870123007,
          -0.8715844322342543,
          -1.4398225910640223,
          1.3363221386595507,
          1.8283221642713612,
          -1.1084543823687798,
          -0.9822653578380953,
          -0.6494889734849333,
          -0.3426015797521599,
          -0.6837935756698565,
          0.6076716337813307,
          0.33659591669323224,
          0.4269690302146352,
          -0.9343729078118749,
          0.02124021733474761,
          -0.8433181262016681,
          -1.6579278057042166,
          1.0367687781471089,
          -0.508413311460955,
          1.039475592623558,
          -0.23178447064330665,
          0.0724413119156897,
          0.3487934006331482,
          1.4631758122581195,
          -1.9585115623098048,
          0.05495266418138907,
          0.01997126586927419,
          0.19730602361652821,
          -0.07707793518496193,
          1.2635910163603281,
          -1.575182626460573
         ],
         "xaxis": "x10",
         "y": [
          0.4106594435925352,
          0.16451668922706855,
          -0.5369782056226539,
          0.5660853315566969,
          -0.6276131115541184,
          -0.35623907365489893,
          2.747624814704155,
          -1.2334283538430675,
          0.5953695186024907,
          -0.43852943328974997,
          0.10864185727711775,
          1.3197907328048857,
          -0.7903712263306164,
          -0.31436931313673816,
          0.47876479857992377,
          -0.2304329790855753,
          -0.061560034155332115,
          0.3004897403370486,
          1.79510490898758,
          1.2737593271137766,
          1.6419424352503602,
          1.852751669824922,
          0.8831830072945414,
          -0.5882779788344554,
          0.3703825755458452,
          1.3929082760023928,
          -1.2071419796121867,
          0.011100149059746016,
          -0.8635739978677018,
          1.8413447682384052,
          -1.8794815878480156,
          1.5621316515960426,
          -0.06962888037480293,
          -0.6454974165203449,
          -0.3910014561766563,
          -1.5022335662754505,
          0.15306706295055966,
          -2.4860561301597333,
          -0.23823128755041628,
          0.7955648043997234,
          -1.123206905763666,
          1.1149380253123027,
          0.5841552064517905,
          1.5849024443809798,
          2.183832117184637,
          1.1175896993788657,
          -2.412033509219897,
          -1.1201490345928256,
          0.3107292331598913,
          0.20800900242550194,
          -0.24909411972896087,
          -0.926708027691749,
          0.36539845848899705,
          -1.0705890309135304,
          0.44291927119139923,
          1.0578310118172347,
          -1.038867142693977,
          -0.10689897007298131,
          -0.6760368140223842,
          -0.5593242936247103,
          0.4123230011731821,
          0.24003181245138533,
          -0.4209577645954547,
          -0.1558898255604296,
          1.178123514861103,
          0.22598894428301605,
          0.5908452772763777,
          -1.0324048991723151,
          -0.31238836333956754,
          -0.6219794206029533,
          0.8572476323195839,
          0.9116187337831878,
          0.6936904236664377,
          0.011038814736188172,
          0.5282033650357248,
          -2.2337668917608267,
          0.3476652905185053,
          -1.847080978535126,
          0.9563701003727998,
          -0.040863608859851734,
          0.5495966278412764,
          1.6700886104241803,
          1.5442686926470075,
          1.010725902990785,
          0.037871630419494456,
          -2.648921228271641,
          -1.0762630270105022,
          -1.6877633899055529,
          -0.7502413749444725,
          0.09517969500198269,
          -0.8494083429449227,
          0.16620975044199085,
          -0.5609639231128154,
          1.1383046777516879,
          0.20397077776091715,
          0.8810095241960068,
          -0.29968980450177246,
          0.3106062982832132,
          1.0062792714069575,
          0.5117597024230559
         ],
         "yaxis": "y10"
        },
        {
         "histfunc": "count",
         "histnorm": "",
         "marker": {
          "color": "rgba(50, 171, 96, 1.0)",
          "line": {
           "color": "#4D5663",
           "width": 1.3
          }
         },
         "name": "C",
         "nbinsx": 10,
         "opacity": 0.8,
         "orientation": "v",
         "type": "histogram",
         "x": [
          0.4106594435925352,
          0.16451668922706855,
          -0.5369782056226539,
          0.5660853315566969,
          -0.6276131115541184,
          -0.35623907365489893,
          2.747624814704155,
          -1.2334283538430675,
          0.5953695186024907,
          -0.43852943328974997,
          0.10864185727711775,
          1.3197907328048857,
          -0.7903712263306164,
          -0.31436931313673816,
          0.47876479857992377,
          -0.2304329790855753,
          -0.061560034155332115,
          0.3004897403370486,
          1.79510490898758,
          1.2737593271137766,
          1.6419424352503602,
          1.852751669824922,
          0.8831830072945414,
          -0.5882779788344554,
          0.3703825755458452,
          1.3929082760023928,
          -1.2071419796121867,
          0.011100149059746016,
          -0.8635739978677018,
          1.8413447682384052,
          -1.8794815878480156,
          1.5621316515960426,
          -0.06962888037480293,
          -0.6454974165203449,
          -0.3910014561766563,
          -1.5022335662754505,
          0.15306706295055966,
          -2.4860561301597333,
          -0.23823128755041628,
          0.7955648043997234,
          -1.123206905763666,
          1.1149380253123027,
          0.5841552064517905,
          1.5849024443809798,
          2.183832117184637,
          1.1175896993788657,
          -2.412033509219897,
          -1.1201490345928256,
          0.3107292331598913,
          0.20800900242550194,
          -0.24909411972896087,
          -0.926708027691749,
          0.36539845848899705,
          -1.0705890309135304,
          0.44291927119139923,
          1.0578310118172347,
          -1.038867142693977,
          -0.10689897007298131,
          -0.6760368140223842,
          -0.5593242936247103,
          0.4123230011731821,
          0.24003181245138533,
          -0.4209577645954547,
          -0.1558898255604296,
          1.178123514861103,
          0.22598894428301605,
          0.5908452772763777,
          -1.0324048991723151,
          -0.31238836333956754,
          -0.6219794206029533,
          0.8572476323195839,
          0.9116187337831878,
          0.6936904236664377,
          0.011038814736188172,
          0.5282033650357248,
          -2.2337668917608267,
          0.3476652905185053,
          -1.847080978535126,
          0.9563701003727998,
          -0.040863608859851734,
          0.5495966278412764,
          1.6700886104241803,
          1.5442686926470075,
          1.010725902990785,
          0.037871630419494456,
          -2.648921228271641,
          -1.0762630270105022,
          -1.6877633899055529,
          -0.7502413749444725,
          0.09517969500198269,
          -0.8494083429449227,
          0.16620975044199085,
          -0.5609639231128154,
          1.1383046777516879,
          0.20397077776091715,
          0.8810095241960068,
          -0.29968980450177246,
          0.3106062982832132,
          1.0062792714069575,
          0.5117597024230559
         ],
         "xaxis": "x11",
         "yaxis": "y11"
        },
        {
         "line": {
          "color": "rgba(128, 128, 128, 1.0)",
          "dash": "solid",
          "shape": "linear",
          "width": 1.3
         },
         "marker": {
          "size": 2,
          "symbol": "circle"
         },
         "mode": "markers",
         "name": "C",
         "text": "",
         "type": "scatter",
         "x": [
          0.08882602290852044,
          0.3472852132477984,
          -0.37246145250677315,
          -0.5471198817931465,
          0.9612201659969524,
          -0.9855005302431957,
          1.119709969364751,
          -1.5617645240073064,
          0.3784234935225686,
          0.8406059405919006,
          0.2478538909570599,
          0.2245201258386008,
          -0.014007087076950283,
          -0.017978432906322183,
          0.23460468060069478,
          -0.46640179910384066,
          0.8643632730322002,
          -2.6157456252518436,
          1.1628922977618183,
          -0.7598486830496928,
          -0.6520913250599274,
          -0.013592979843362926,
          -2.7804940392783677,
          -0.3473536826461263,
          1.1078778869163652,
          0.5857347552960472,
          -0.9958308215441067,
          -2.5263763627546973,
          -0.26672147672956403,
          0.2862130405186244,
          -2.6837494659660046,
          0.3033874733214488,
          0.5033661712626599,
          1.2197512825265693,
          -0.7138700472974253,
          -1.925808072447536,
          -0.5814574365040682,
          -0.4316677271910598,
          -0.5703494359618949,
          -0.858974487595339,
          -1.268676361059802,
          1.8444717976597462,
          -2.1710324942939474,
          -0.3184873602637343,
          0.8737016676868598,
          0.44676451160752684,
          0.19552955849466425,
          0.0097143559489846,
          -0.0907528690945857,
          0.08390466816220352,
          0.8499106301768232,
          -0.5016390313044293,
          -1.31739615184278,
          -0.9576190435279951,
          -0.4544082003105043,
          -0.4869871195405576,
          -0.8031200143028007,
          1.075905546432674,
          0.11504800737028045,
          0.6313800121106293,
          -0.02836752563835282,
          0.20623183108131207,
          0.4924132535395281,
          0.36853576080201733,
          0.37820890226831194,
          -1.2439165858578292,
          -1.0284139820799816,
          0.21205417447788924,
          1.3137150199660272,
          -1.6444588158118052,
          -0.30379493368012983,
          -0.4395301958526581,
          -0.3402084180822364,
          0.6792109021535856,
          2.2801482871709338,
          -1.558556941237184,
          1.2111088848996647,
          -0.4985515344568757,
          -0.9371606948293234,
          -0.23032569341794734,
          -0.5784890532022261,
          1.4498168645510277,
          -0.6048136450530708,
          -0.18714427053050872,
          0.5624949566075169,
          0.2609508920583652,
          -1.6613993136336094,
          -0.6533027541602376,
          0.3832809683638925,
          0.7929129370617669,
          -0.19080093806256554,
          0.7551565441543654,
          -0.34100404750090174,
          1.487922424333899,
          1.0231598093783791,
          -0.20659353593347068,
          -0.31801059017001254,
          0.025258088091292458,
          -1.3992419746609126,
          -0.9911240824684592
         ],
         "xaxis": "x12",
         "y": [
          0.4106594435925352,
          0.16451668922706855,
          -0.5369782056226539,
          0.5660853315566969,
          -0.6276131115541184,
          -0.35623907365489893,
          2.747624814704155,
          -1.2334283538430675,
          0.5953695186024907,
          -0.43852943328974997,
          0.10864185727711775,
          1.3197907328048857,
          -0.7903712263306164,
          -0.31436931313673816,
          0.47876479857992377,
          -0.2304329790855753,
          -0.061560034155332115,
          0.3004897403370486,
          1.79510490898758,
          1.2737593271137766,
          1.6419424352503602,
          1.852751669824922,
          0.8831830072945414,
          -0.5882779788344554,
          0.3703825755458452,
          1.3929082760023928,
          -1.2071419796121867,
          0.011100149059746016,
          -0.8635739978677018,
          1.8413447682384052,
          -1.8794815878480156,
          1.5621316515960426,
          -0.06962888037480293,
          -0.6454974165203449,
          -0.3910014561766563,
          -1.5022335662754505,
          0.15306706295055966,
          -2.4860561301597333,
          -0.23823128755041628,
          0.7955648043997234,
          -1.123206905763666,
          1.1149380253123027,
          0.5841552064517905,
          1.5849024443809798,
          2.183832117184637,
          1.1175896993788657,
          -2.412033509219897,
          -1.1201490345928256,
          0.3107292331598913,
          0.20800900242550194,
          -0.24909411972896087,
          -0.926708027691749,
          0.36539845848899705,
          -1.0705890309135304,
          0.44291927119139923,
          1.0578310118172347,
          -1.038867142693977,
          -0.10689897007298131,
          -0.6760368140223842,
          -0.5593242936247103,
          0.4123230011731821,
          0.24003181245138533,
          -0.4209577645954547,
          -0.1558898255604296,
          1.178123514861103,
          0.22598894428301605,
          0.5908452772763777,
          -1.0324048991723151,
          -0.31238836333956754,
          -0.6219794206029533,
          0.8572476323195839,
          0.9116187337831878,
          0.6936904236664377,
          0.011038814736188172,
          0.5282033650357248,
          -2.2337668917608267,
          0.3476652905185053,
          -1.847080978535126,
          0.9563701003727998,
          -0.040863608859851734,
          0.5495966278412764,
          1.6700886104241803,
          1.5442686926470075,
          1.010725902990785,
          0.037871630419494456,
          -2.648921228271641,
          -1.0762630270105022,
          -1.6877633899055529,
          -0.7502413749444725,
          0.09517969500198269,
          -0.8494083429449227,
          0.16620975044199085,
          -0.5609639231128154,
          1.1383046777516879,
          0.20397077776091715,
          0.8810095241960068,
          -0.29968980450177246,
          0.3106062982832132,
          1.0062792714069575,
          0.5117597024230559
         ],
         "yaxis": "y12"
        },
        {
         "line": {
          "color": "rgba(128, 128, 128, 1.0)",
          "dash": "solid",
          "shape": "linear",
          "width": 1.3
         },
         "marker": {
          "size": 2,
          "symbol": "circle"
         },
         "mode": "markers",
         "name": "D",
         "text": "",
         "type": "scatter",
         "x": [
          0.15387951566040683,
          2.181248765458232,
          -0.13566587094592006,
          2.5826373196933714,
          1.6784225961066819,
          -0.16299128101973356,
          -0.17874297565492092,
          0.48903983504613824,
          -0.050245207821652656,
          -0.21504123172855624,
          -0.9579247028153586,
          -0.9893440631800207,
          -0.5545866030923471,
          -0.729196183556216,
          -2.1468969108658733,
          1.443650242734995,
          0.9090913732870752,
          0.16199268989531002,
          -0.9466477932939458,
          0.35055814554620657,
          -0.21162327402463743,
          0.6365749108453906,
          -0.3836843220449782,
          1.0035932100576173,
          -0.6335239904754568,
          0.8596977337897347,
          0.4447230070289421,
          -1.2523804891664259,
          -0.13451250405916465,
          -0.5780800680607079,
          -0.2450155534501923,
          -0.9832040367280465,
          -0.23809181759312123,
          -0.34116672085694183,
          -0.8558574974421355,
          1.699621211172324,
          -1.0103056803776571,
          -0.8897721763689249,
          0.9747541077716472,
          0.2733325155193339,
          -2.3269122184399578,
          -0.3725394679542613,
          -1.1036867869571978,
          -0.1352555301863368,
          -1.1509761019037328,
          -1.2187335433615616,
          0.05506999604218593,
          -0.10228406176818654,
          1.2778340337032956,
          -1.6499243125727343,
          0.2584083064742115,
          0.022789195090183578,
          -0.05469858920966472,
          0.6934335354023595,
          -0.3582243331584894,
          -0.6762481063753567,
          -2.6093883903092228,
          0.08746280693315048,
          0.7907999135080389,
          -0.016400209655702606,
          -1.020020479062982,
          1.062252800413191,
          0.06000472648461456,
          -0.5751331128737663,
          0.7283756600309553,
          0.1828699910324269,
          -0.15630554197630672,
          -1.864294517478185,
          -0.05583743965754278,
          -1.3671415114751497,
          -0.2859607383869635,
          0.49472919490075573,
          -0.35969076601765726,
          0.9720742091395949,
          -0.11590515837531183,
          0.39360624198567107,
          0.7839283888154851,
          -1.177254142345938,
          0.8315862249829457,
          -1.1865453897625722,
          1.29698117990059,
          0.8766686456478701,
          0.7043101490622228,
          0.34654329113273163,
          0.009958136649100556,
          -1.134745510635879,
          0.0785083179815372,
          -1.8470364158934645,
          -0.4875047829676378,
          -0.735646683248686,
          -1.316475374019799,
          1.3776811867196217,
          -1.321076206512763,
          0.45445257779186266,
          2.5370214104573803,
          0.5769179650580939,
          0.4222801389522976,
          -0.5517893605255988,
          -0.30363543870509463,
          -0.33995824148450854
         ],
         "xaxis": "x13",
         "y": [
          0.08882602290852044,
          0.3472852132477984,
          -0.37246145250677315,
          -0.5471198817931465,
          0.9612201659969524,
          -0.9855005302431957,
          1.119709969364751,
          -1.5617645240073064,
          0.3784234935225686,
          0.8406059405919006,
          0.2478538909570599,
          0.2245201258386008,
          -0.014007087076950283,
          -0.017978432906322183,
          0.23460468060069478,
          -0.46640179910384066,
          0.8643632730322002,
          -2.6157456252518436,
          1.1628922977618183,
          -0.7598486830496928,
          -0.6520913250599274,
          -0.013592979843362926,
          -2.7804940392783677,
          -0.3473536826461263,
          1.1078778869163652,
          0.5857347552960472,
          -0.9958308215441067,
          -2.5263763627546973,
          -0.26672147672956403,
          0.2862130405186244,
          -2.6837494659660046,
          0.3033874733214488,
          0.5033661712626599,
          1.2197512825265693,
          -0.7138700472974253,
          -1.925808072447536,
          -0.5814574365040682,
          -0.4316677271910598,
          -0.5703494359618949,
          -0.858974487595339,
          -1.268676361059802,
          1.8444717976597462,
          -2.1710324942939474,
          -0.3184873602637343,
          0.8737016676868598,
          0.44676451160752684,
          0.19552955849466425,
          0.0097143559489846,
          -0.0907528690945857,
          0.08390466816220352,
          0.8499106301768232,
          -0.5016390313044293,
          -1.31739615184278,
          -0.9576190435279951,
          -0.4544082003105043,
          -0.4869871195405576,
          -0.8031200143028007,
          1.075905546432674,
          0.11504800737028045,
          0.6313800121106293,
          -0.02836752563835282,
          0.20623183108131207,
          0.4924132535395281,
          0.36853576080201733,
          0.37820890226831194,
          -1.2439165858578292,
          -1.0284139820799816,
          0.21205417447788924,
          1.3137150199660272,
          -1.6444588158118052,
          -0.30379493368012983,
          -0.4395301958526581,
          -0.3402084180822364,
          0.6792109021535856,
          2.2801482871709338,
          -1.558556941237184,
          1.2111088848996647,
          -0.4985515344568757,
          -0.9371606948293234,
          -0.23032569341794734,
          -0.5784890532022261,
          1.4498168645510277,
          -0.6048136450530708,
          -0.18714427053050872,
          0.5624949566075169,
          0.2609508920583652,
          -1.6613993136336094,
          -0.6533027541602376,
          0.3832809683638925,
          0.7929129370617669,
          -0.19080093806256554,
          0.7551565441543654,
          -0.34100404750090174,
          1.487922424333899,
          1.0231598093783791,
          -0.20659353593347068,
          -0.31801059017001254,
          0.025258088091292458,
          -1.3992419746609126,
          -0.9911240824684592
         ],
         "yaxis": "y13"
        },
        {
         "line": {
          "color": "rgba(128, 128, 128, 1.0)",
          "dash": "solid",
          "shape": "linear",
          "width": 1.3
         },
         "marker": {
          "size": 2,
          "symbol": "circle"
         },
         "mode": "markers",
         "name": "D",
         "text": "",
         "type": "scatter",
         "x": [
          0.2083619918066731,
          -0.007445592501653823,
          0.013438670371493154,
          -1.1402200714610695,
          -1.0037282728945376,
          -1.7796940522845184,
          1.4005425881113962,
          -0.12409065370077918,
          0.4452116013367775,
          -0.33569644713285623,
          0.9193071025427763,
          0.3170284786129296,
          0.13430335146684186,
          0.7787044216687309,
          0.21450459241797218,
          -1.5092666232396665,
          0.7919886424619987,
          -0.1927552256597784,
          0.1407274967059369,
          0.913396235037004,
          -0.39175435019456206,
          -0.5407190613207937,
          -1.129410685739879,
          -0.7073325132739956,
          -0.1202465665969558,
          -1.2835242588380795,
          -0.37277920098249084,
          0.40015445605057215,
          -0.40024857144059733,
          -0.6379169763897673,
          -0.2866340398118274,
          0.06139895861208848,
          -2.252517714720179,
          0.5457545446741421,
          1.1544587442506151,
          -0.6168270294189658,
          -0.3630037900029631,
          -1.2010279486365256,
          -0.7653438306648163,
          -0.11053318751770316,
          0.38388124646772853,
          -1.2674203103987471,
          0.0028399536666268025,
          -1.5494254508705259,
          2.095749715307753,
          -0.5641187149411993,
          0.34709305987418854,
          0.6236619982195952,
          -0.08063942778001149,
          0.08689494745775367,
          -1.2433803804032548,
          0.17159566961706876,
          -0.0032167099066127717,
          0.11739239250666493,
          0.38951736549480986,
          -1.0280734833091218,
          -0.4800090749698621,
          0.5740201552456949,
          -1.2084516763572983,
          0.7238828648723517,
          2.2005364752879752,
          0.15802727378773124,
          0.32649568568896786,
          -2.7143738424005797,
          0.38341951411432434,
          1.116813227600596,
          -0.01989660137589359,
          1.8878704671898408,
          -0.6405584469147696,
          -2.3590894870123007,
          -0.8715844322342543,
          -1.4398225910640223,
          1.3363221386595507,
          1.8283221642713612,
          -1.1084543823687798,
          -0.9822653578380953,
          -0.6494889734849333,
          -0.3426015797521599,
          -0.6837935756698565,
          0.6076716337813307,
          0.33659591669323224,
          0.4269690302146352,
          -0.9343729078118749,
          0.02124021733474761,
          -0.8433181262016681,
          -1.6579278057042166,
          1.0367687781471089,
          -0.508413311460955,
          1.039475592623558,
          -0.23178447064330665,
          0.0724413119156897,
          0.3487934006331482,
          1.4631758122581195,
          -1.9585115623098048,
          0.05495266418138907,
          0.01997126586927419,
          0.19730602361652821,
          -0.07707793518496193,
          1.2635910163603281,
          -1.575182626460573
         ],
         "xaxis": "x14",
         "y": [
          0.08882602290852044,
          0.3472852132477984,
          -0.37246145250677315,
          -0.5471198817931465,
          0.9612201659969524,
          -0.9855005302431957,
          1.119709969364751,
          -1.5617645240073064,
          0.3784234935225686,
          0.8406059405919006,
          0.2478538909570599,
          0.2245201258386008,
          -0.014007087076950283,
          -0.017978432906322183,
          0.23460468060069478,
          -0.46640179910384066,
          0.8643632730322002,
          -2.6157456252518436,
          1.1628922977618183,
          -0.7598486830496928,
          -0.6520913250599274,
          -0.013592979843362926,
          -2.7804940392783677,
          -0.3473536826461263,
          1.1078778869163652,
          0.5857347552960472,
          -0.9958308215441067,
          -2.5263763627546973,
          -0.26672147672956403,
          0.2862130405186244,
          -2.6837494659660046,
          0.3033874733214488,
          0.5033661712626599,
          1.2197512825265693,
          -0.7138700472974253,
          -1.925808072447536,
          -0.5814574365040682,
          -0.4316677271910598,
          -0.5703494359618949,
          -0.858974487595339,
          -1.268676361059802,
          1.8444717976597462,
          -2.1710324942939474,
          -0.3184873602637343,
          0.8737016676868598,
          0.44676451160752684,
          0.19552955849466425,
          0.0097143559489846,
          -0.0907528690945857,
          0.08390466816220352,
          0.8499106301768232,
          -0.5016390313044293,
          -1.31739615184278,
          -0.9576190435279951,
          -0.4544082003105043,
          -0.4869871195405576,
          -0.8031200143028007,
          1.075905546432674,
          0.11504800737028045,
          0.6313800121106293,
          -0.02836752563835282,
          0.20623183108131207,
          0.4924132535395281,
          0.36853576080201733,
          0.37820890226831194,
          -1.2439165858578292,
          -1.0284139820799816,
          0.21205417447788924,
          1.3137150199660272,
          -1.6444588158118052,
          -0.30379493368012983,
          -0.4395301958526581,
          -0.3402084180822364,
          0.6792109021535856,
          2.2801482871709338,
          -1.558556941237184,
          1.2111088848996647,
          -0.4985515344568757,
          -0.9371606948293234,
          -0.23032569341794734,
          -0.5784890532022261,
          1.4498168645510277,
          -0.6048136450530708,
          -0.18714427053050872,
          0.5624949566075169,
          0.2609508920583652,
          -1.6613993136336094,
          -0.6533027541602376,
          0.3832809683638925,
          0.7929129370617669,
          -0.19080093806256554,
          0.7551565441543654,
          -0.34100404750090174,
          1.487922424333899,
          1.0231598093783791,
          -0.20659353593347068,
          -0.31801059017001254,
          0.025258088091292458,
          -1.3992419746609126,
          -0.9911240824684592
         ],
         "yaxis": "y14"
        },
        {
         "line": {
          "color": "rgba(128, 128, 128, 1.0)",
          "dash": "solid",
          "shape": "linear",
          "width": 1.3
         },
         "marker": {
          "size": 2,
          "symbol": "circle"
         },
         "mode": "markers",
         "name": "D",
         "text": "",
         "type": "scatter",
         "x": [
          0.4106594435925352,
          0.16451668922706855,
          -0.5369782056226539,
          0.5660853315566969,
          -0.6276131115541184,
          -0.35623907365489893,
          2.747624814704155,
          -1.2334283538430675,
          0.5953695186024907,
          -0.43852943328974997,
          0.10864185727711775,
          1.3197907328048857,
          -0.7903712263306164,
          -0.31436931313673816,
          0.47876479857992377,
          -0.2304329790855753,
          -0.061560034155332115,
          0.3004897403370486,
          1.79510490898758,
          1.2737593271137766,
          1.6419424352503602,
          1.852751669824922,
          0.8831830072945414,
          -0.5882779788344554,
          0.3703825755458452,
          1.3929082760023928,
          -1.2071419796121867,
          0.011100149059746016,
          -0.8635739978677018,
          1.8413447682384052,
          -1.8794815878480156,
          1.5621316515960426,
          -0.06962888037480293,
          -0.6454974165203449,
          -0.3910014561766563,
          -1.5022335662754505,
          0.15306706295055966,
          -2.4860561301597333,
          -0.23823128755041628,
          0.7955648043997234,
          -1.123206905763666,
          1.1149380253123027,
          0.5841552064517905,
          1.5849024443809798,
          2.183832117184637,
          1.1175896993788657,
          -2.412033509219897,
          -1.1201490345928256,
          0.3107292331598913,
          0.20800900242550194,
          -0.24909411972896087,
          -0.926708027691749,
          0.36539845848899705,
          -1.0705890309135304,
          0.44291927119139923,
          1.0578310118172347,
          -1.038867142693977,
          -0.10689897007298131,
          -0.6760368140223842,
          -0.5593242936247103,
          0.4123230011731821,
          0.24003181245138533,
          -0.4209577645954547,
          -0.1558898255604296,
          1.178123514861103,
          0.22598894428301605,
          0.5908452772763777,
          -1.0324048991723151,
          -0.31238836333956754,
          -0.6219794206029533,
          0.8572476323195839,
          0.9116187337831878,
          0.6936904236664377,
          0.011038814736188172,
          0.5282033650357248,
          -2.2337668917608267,
          0.3476652905185053,
          -1.847080978535126,
          0.9563701003727998,
          -0.040863608859851734,
          0.5495966278412764,
          1.6700886104241803,
          1.5442686926470075,
          1.010725902990785,
          0.037871630419494456,
          -2.648921228271641,
          -1.0762630270105022,
          -1.6877633899055529,
          -0.7502413749444725,
          0.09517969500198269,
          -0.8494083429449227,
          0.16620975044199085,
          -0.5609639231128154,
          1.1383046777516879,
          0.20397077776091715,
          0.8810095241960068,
          -0.29968980450177246,
          0.3106062982832132,
          1.0062792714069575,
          0.5117597024230559
         ],
         "xaxis": "x15",
         "y": [
          0.08882602290852044,
          0.3472852132477984,
          -0.37246145250677315,
          -0.5471198817931465,
          0.9612201659969524,
          -0.9855005302431957,
          1.119709969364751,
          -1.5617645240073064,
          0.3784234935225686,
          0.8406059405919006,
          0.2478538909570599,
          0.2245201258386008,
          -0.014007087076950283,
          -0.017978432906322183,
          0.23460468060069478,
          -0.46640179910384066,
          0.8643632730322002,
          -2.6157456252518436,
          1.1628922977618183,
          -0.7598486830496928,
          -0.6520913250599274,
          -0.013592979843362926,
          -2.7804940392783677,
          -0.3473536826461263,
          1.1078778869163652,
          0.5857347552960472,
          -0.9958308215441067,
          -2.5263763627546973,
          -0.26672147672956403,
          0.2862130405186244,
          -2.6837494659660046,
          0.3033874733214488,
          0.5033661712626599,
          1.2197512825265693,
          -0.7138700472974253,
          -1.925808072447536,
          -0.5814574365040682,
          -0.4316677271910598,
          -0.5703494359618949,
          -0.858974487595339,
          -1.268676361059802,
          1.8444717976597462,
          -2.1710324942939474,
          -0.3184873602637343,
          0.8737016676868598,
          0.44676451160752684,
          0.19552955849466425,
          0.0097143559489846,
          -0.0907528690945857,
          0.08390466816220352,
          0.8499106301768232,
          -0.5016390313044293,
          -1.31739615184278,
          -0.9576190435279951,
          -0.4544082003105043,
          -0.4869871195405576,
          -0.8031200143028007,
          1.075905546432674,
          0.11504800737028045,
          0.6313800121106293,
          -0.02836752563835282,
          0.20623183108131207,
          0.4924132535395281,
          0.36853576080201733,
          0.37820890226831194,
          -1.2439165858578292,
          -1.0284139820799816,
          0.21205417447788924,
          1.3137150199660272,
          -1.6444588158118052,
          -0.30379493368012983,
          -0.4395301958526581,
          -0.3402084180822364,
          0.6792109021535856,
          2.2801482871709338,
          -1.558556941237184,
          1.2111088848996647,
          -0.4985515344568757,
          -0.9371606948293234,
          -0.23032569341794734,
          -0.5784890532022261,
          1.4498168645510277,
          -0.6048136450530708,
          -0.18714427053050872,
          0.5624949566075169,
          0.2609508920583652,
          -1.6613993136336094,
          -0.6533027541602376,
          0.3832809683638925,
          0.7929129370617669,
          -0.19080093806256554,
          0.7551565441543654,
          -0.34100404750090174,
          1.487922424333899,
          1.0231598093783791,
          -0.20659353593347068,
          -0.31801059017001254,
          0.025258088091292458,
          -1.3992419746609126,
          -0.9911240824684592
         ],
         "yaxis": "y15"
        },
        {
         "histfunc": "count",
         "histnorm": "",
         "marker": {
          "color": "rgba(128, 0, 128, 1.0)",
          "line": {
           "color": "#4D5663",
           "width": 1.3
          }
         },
         "name": "D",
         "nbinsx": 10,
         "opacity": 0.8,
         "orientation": "v",
         "type": "histogram",
         "x": [
          0.08882602290852044,
          0.3472852132477984,
          -0.37246145250677315,
          -0.5471198817931465,
          0.9612201659969524,
          -0.9855005302431957,
          1.119709969364751,
          -1.5617645240073064,
          0.3784234935225686,
          0.8406059405919006,
          0.2478538909570599,
          0.2245201258386008,
          -0.014007087076950283,
          -0.017978432906322183,
          0.23460468060069478,
          -0.46640179910384066,
          0.8643632730322002,
          -2.6157456252518436,
          1.1628922977618183,
          -0.7598486830496928,
          -0.6520913250599274,
          -0.013592979843362926,
          -2.7804940392783677,
          -0.3473536826461263,
          1.1078778869163652,
          0.5857347552960472,
          -0.9958308215441067,
          -2.5263763627546973,
          -0.26672147672956403,
          0.2862130405186244,
          -2.6837494659660046,
          0.3033874733214488,
          0.5033661712626599,
          1.2197512825265693,
          -0.7138700472974253,
          -1.925808072447536,
          -0.5814574365040682,
          -0.4316677271910598,
          -0.5703494359618949,
          -0.858974487595339,
          -1.268676361059802,
          1.8444717976597462,
          -2.1710324942939474,
          -0.3184873602637343,
          0.8737016676868598,
          0.44676451160752684,
          0.19552955849466425,
          0.0097143559489846,
          -0.0907528690945857,
          0.08390466816220352,
          0.8499106301768232,
          -0.5016390313044293,
          -1.31739615184278,
          -0.9576190435279951,
          -0.4544082003105043,
          -0.4869871195405576,
          -0.8031200143028007,
          1.075905546432674,
          0.11504800737028045,
          0.6313800121106293,
          -0.02836752563835282,
          0.20623183108131207,
          0.4924132535395281,
          0.36853576080201733,
          0.37820890226831194,
          -1.2439165858578292,
          -1.0284139820799816,
          0.21205417447788924,
          1.3137150199660272,
          -1.6444588158118052,
          -0.30379493368012983,
          -0.4395301958526581,
          -0.3402084180822364,
          0.6792109021535856,
          2.2801482871709338,
          -1.558556941237184,
          1.2111088848996647,
          -0.4985515344568757,
          -0.9371606948293234,
          -0.23032569341794734,
          -0.5784890532022261,
          1.4498168645510277,
          -0.6048136450530708,
          -0.18714427053050872,
          0.5624949566075169,
          0.2609508920583652,
          -1.6613993136336094,
          -0.6533027541602376,
          0.3832809683638925,
          0.7929129370617669,
          -0.19080093806256554,
          0.7551565441543654,
          -0.34100404750090174,
          1.487922424333899,
          1.0231598093783791,
          -0.20659353593347068,
          -0.31801059017001254,
          0.025258088091292458,
          -1.3992419746609126,
          -0.9911240824684592
         ],
         "xaxis": "x16",
         "yaxis": "y16"
        }
       ],
       "layout": {
        "bargap": 0.02,
        "legend": {
         "bgcolor": "#F5F6F9",
         "font": {
          "color": "#4D5663"
         }
        },
        "paper_bgcolor": "#F5F6F9",
        "plot_bgcolor": "#F5F6F9",
        "showlegend": false,
        "template": {
         "data": {
          "bar": [
           {
            "error_x": {
             "color": "#2a3f5f"
            },
            "error_y": {
             "color": "#2a3f5f"
            },
            "marker": {
             "line": {
              "color": "#E5ECF6",
              "width": 0.5
             },
             "pattern": {
              "fillmode": "overlay",
              "size": 10,
              "solidity": 0.2
             }
            },
            "type": "bar"
           }
          ],
          "barpolar": [
           {
            "marker": {
             "line": {
              "color": "#E5ECF6",
              "width": 0.5
             },
             "pattern": {
              "fillmode": "overlay",
              "size": 10,
              "solidity": 0.2
             }
            },
            "type": "barpolar"
           }
          ],
          "carpet": [
           {
            "aaxis": {
             "endlinecolor": "#2a3f5f",
             "gridcolor": "white",
             "linecolor": "white",
             "minorgridcolor": "white",
             "startlinecolor": "#2a3f5f"
            },
            "baxis": {
             "endlinecolor": "#2a3f5f",
             "gridcolor": "white",
             "linecolor": "white",
             "minorgridcolor": "white",
             "startlinecolor": "#2a3f5f"
            },
            "type": "carpet"
           }
          ],
          "choropleth": [
           {
            "colorbar": {
             "outlinewidth": 0,
             "ticks": ""
            },
            "type": "choropleth"
           }
          ],
          "contour": [
           {
            "colorbar": {
             "outlinewidth": 0,
             "ticks": ""
            },
            "colorscale": [
             [
              0,
              "#0d0887"
             ],
             [
              0.1111111111111111,
              "#46039f"
             ],
             [
              0.2222222222222222,
              "#7201a8"
             ],
             [
              0.3333333333333333,
              "#9c179e"
             ],
             [
              0.4444444444444444,
              "#bd3786"
             ],
             [
              0.5555555555555556,
              "#d8576b"
             ],
             [
              0.6666666666666666,
              "#ed7953"
             ],
             [
              0.7777777777777778,
              "#fb9f3a"
             ],
             [
              0.8888888888888888,
              "#fdca26"
             ],
             [
              1,
              "#f0f921"
             ]
            ],
            "type": "contour"
           }
          ],
          "contourcarpet": [
           {
            "colorbar": {
             "outlinewidth": 0,
             "ticks": ""
            },
            "type": "contourcarpet"
           }
          ],
          "heatmap": [
           {
            "colorbar": {
             "outlinewidth": 0,
             "ticks": ""
            },
            "colorscale": [
             [
              0,
              "#0d0887"
             ],
             [
              0.1111111111111111,
              "#46039f"
             ],
             [
              0.2222222222222222,
              "#7201a8"
             ],
             [
              0.3333333333333333,
              "#9c179e"
             ],
             [
              0.4444444444444444,
              "#bd3786"
             ],
             [
              0.5555555555555556,
              "#d8576b"
             ],
             [
              0.6666666666666666,
              "#ed7953"
             ],
             [
              0.7777777777777778,
              "#fb9f3a"
             ],
             [
              0.8888888888888888,
              "#fdca26"
             ],
             [
              1,
              "#f0f921"
             ]
            ],
            "type": "heatmap"
           }
          ],
          "heatmapgl": [
           {
            "colorbar": {
             "outlinewidth": 0,
             "ticks": ""
            },
            "colorscale": [
             [
              0,
              "#0d0887"
             ],
             [
              0.1111111111111111,
              "#46039f"
             ],
             [
              0.2222222222222222,
              "#7201a8"
             ],
             [
              0.3333333333333333,
              "#9c179e"
             ],
             [
              0.4444444444444444,
              "#bd3786"
             ],
             [
              0.5555555555555556,
              "#d8576b"
             ],
             [
              0.6666666666666666,
              "#ed7953"
             ],
             [
              0.7777777777777778,
              "#fb9f3a"
             ],
             [
              0.8888888888888888,
              "#fdca26"
             ],
             [
              1,
              "#f0f921"
             ]
            ],
            "type": "heatmapgl"
           }
          ],
          "histogram": [
           {
            "marker": {
             "pattern": {
              "fillmode": "overlay",
              "size": 10,
              "solidity": 0.2
             }
            },
            "type": "histogram"
           }
          ],
          "histogram2d": [
           {
            "colorbar": {
             "outlinewidth": 0,
             "ticks": ""
            },
            "colorscale": [
             [
              0,
              "#0d0887"
             ],
             [
              0.1111111111111111,
              "#46039f"
             ],
             [
              0.2222222222222222,
              "#7201a8"
             ],
             [
              0.3333333333333333,
              "#9c179e"
             ],
             [
              0.4444444444444444,
              "#bd3786"
             ],
             [
              0.5555555555555556,
              "#d8576b"
             ],
             [
              0.6666666666666666,
              "#ed7953"
             ],
             [
              0.7777777777777778,
              "#fb9f3a"
             ],
             [
              0.8888888888888888,
              "#fdca26"
             ],
             [
              1,
              "#f0f921"
             ]
            ],
            "type": "histogram2d"
           }
          ],
          "histogram2dcontour": [
           {
            "colorbar": {
             "outlinewidth": 0,
             "ticks": ""
            },
            "colorscale": [
             [
              0,
              "#0d0887"
             ],
             [
              0.1111111111111111,
              "#46039f"
             ],
             [
              0.2222222222222222,
              "#7201a8"
             ],
             [
              0.3333333333333333,
              "#9c179e"
             ],
             [
              0.4444444444444444,
              "#bd3786"
             ],
             [
              0.5555555555555556,
              "#d8576b"
             ],
             [
              0.6666666666666666,
              "#ed7953"
             ],
             [
              0.7777777777777778,
              "#fb9f3a"
             ],
             [
              0.8888888888888888,
              "#fdca26"
             ],
             [
              1,
              "#f0f921"
             ]
            ],
            "type": "histogram2dcontour"
           }
          ],
          "mesh3d": [
           {
            "colorbar": {
             "outlinewidth": 0,
             "ticks": ""
            },
            "type": "mesh3d"
           }
          ],
          "parcoords": [
           {
            "line": {
             "colorbar": {
              "outlinewidth": 0,
              "ticks": ""
             }
            },
            "type": "parcoords"
           }
          ],
          "pie": [
           {
            "automargin": true,
            "type": "pie"
           }
          ],
          "scatter": [
           {
            "fillpattern": {
             "fillmode": "overlay",
             "size": 10,
             "solidity": 0.2
            },
            "type": "scatter"
           }
          ],
          "scatter3d": [
           {
            "line": {
             "colorbar": {
              "outlinewidth": 0,
              "ticks": ""
             }
            },
            "marker": {
             "colorbar": {
              "outlinewidth": 0,
              "ticks": ""
             }
            },
            "type": "scatter3d"
           }
          ],
          "scattercarpet": [
           {
            "marker": {
             "colorbar": {
              "outlinewidth": 0,
              "ticks": ""
             }
            },
            "type": "scattercarpet"
           }
          ],
          "scattergeo": [
           {
            "marker": {
             "colorbar": {
              "outlinewidth": 0,
              "ticks": ""
             }
            },
            "type": "scattergeo"
           }
          ],
          "scattergl": [
           {
            "marker": {
             "colorbar": {
              "outlinewidth": 0,
              "ticks": ""
             }
            },
            "type": "scattergl"
           }
          ],
          "scattermapbox": [
           {
            "marker": {
             "colorbar": {
              "outlinewidth": 0,
              "ticks": ""
             }
            },
            "type": "scattermapbox"
           }
          ],
          "scatterpolar": [
           {
            "marker": {
             "colorbar": {
              "outlinewidth": 0,
              "ticks": ""
             }
            },
            "type": "scatterpolar"
           }
          ],
          "scatterpolargl": [
           {
            "marker": {
             "colorbar": {
              "outlinewidth": 0,
              "ticks": ""
             }
            },
            "type": "scatterpolargl"
           }
          ],
          "scatterternary": [
           {
            "marker": {
             "colorbar": {
              "outlinewidth": 0,
              "ticks": ""
             }
            },
            "type": "scatterternary"
           }
          ],
          "surface": [
           {
            "colorbar": {
             "outlinewidth": 0,
             "ticks": ""
            },
            "colorscale": [
             [
              0,
              "#0d0887"
             ],
             [
              0.1111111111111111,
              "#46039f"
             ],
             [
              0.2222222222222222,
              "#7201a8"
             ],
             [
              0.3333333333333333,
              "#9c179e"
             ],
             [
              0.4444444444444444,
              "#bd3786"
             ],
             [
              0.5555555555555556,
              "#d8576b"
             ],
             [
              0.6666666666666666,
              "#ed7953"
             ],
             [
              0.7777777777777778,
              "#fb9f3a"
             ],
             [
              0.8888888888888888,
              "#fdca26"
             ],
             [
              1,
              "#f0f921"
             ]
            ],
            "type": "surface"
           }
          ],
          "table": [
           {
            "cells": {
             "fill": {
              "color": "#EBF0F8"
             },
             "line": {
              "color": "white"
             }
            },
            "header": {
             "fill": {
              "color": "#C8D4E3"
             },
             "line": {
              "color": "white"
             }
            },
            "type": "table"
           }
          ]
         },
         "layout": {
          "annotationdefaults": {
           "arrowcolor": "#2a3f5f",
           "arrowhead": 0,
           "arrowwidth": 1
          },
          "autotypenumbers": "strict",
          "coloraxis": {
           "colorbar": {
            "outlinewidth": 0,
            "ticks": ""
           }
          },
          "colorscale": {
           "diverging": [
            [
             0,
             "#8e0152"
            ],
            [
             0.1,
             "#c51b7d"
            ],
            [
             0.2,
             "#de77ae"
            ],
            [
             0.3,
             "#f1b6da"
            ],
            [
             0.4,
             "#fde0ef"
            ],
            [
             0.5,
             "#f7f7f7"
            ],
            [
             0.6,
             "#e6f5d0"
            ],
            [
             0.7,
             "#b8e186"
            ],
            [
             0.8,
             "#7fbc41"
            ],
            [
             0.9,
             "#4d9221"
            ],
            [
             1,
             "#276419"
            ]
           ],
           "sequential": [
            [
             0,
             "#0d0887"
            ],
            [
             0.1111111111111111,
             "#46039f"
            ],
            [
             0.2222222222222222,
             "#7201a8"
            ],
            [
             0.3333333333333333,
             "#9c179e"
            ],
            [
             0.4444444444444444,
             "#bd3786"
            ],
            [
             0.5555555555555556,
             "#d8576b"
            ],
            [
             0.6666666666666666,
             "#ed7953"
            ],
            [
             0.7777777777777778,
             "#fb9f3a"
            ],
            [
             0.8888888888888888,
             "#fdca26"
            ],
            [
             1,
             "#f0f921"
            ]
           ],
           "sequentialminus": [
            [
             0,
             "#0d0887"
            ],
            [
             0.1111111111111111,
             "#46039f"
            ],
            [
             0.2222222222222222,
             "#7201a8"
            ],
            [
             0.3333333333333333,
             "#9c179e"
            ],
            [
             0.4444444444444444,
             "#bd3786"
            ],
            [
             0.5555555555555556,
             "#d8576b"
            ],
            [
             0.6666666666666666,
             "#ed7953"
            ],
            [
             0.7777777777777778,
             "#fb9f3a"
            ],
            [
             0.8888888888888888,
             "#fdca26"
            ],
            [
             1,
             "#f0f921"
            ]
           ]
          },
          "colorway": [
           "#636efa",
           "#EF553B",
           "#00cc96",
           "#ab63fa",
           "#FFA15A",
           "#19d3f3",
           "#FF6692",
           "#B6E880",
           "#FF97FF",
           "#FECB52"
          ],
          "font": {
           "color": "#2a3f5f"
          },
          "geo": {
           "bgcolor": "white",
           "lakecolor": "white",
           "landcolor": "#E5ECF6",
           "showlakes": true,
           "showland": true,
           "subunitcolor": "white"
          },
          "hoverlabel": {
           "align": "left"
          },
          "hovermode": "closest",
          "mapbox": {
           "style": "light"
          },
          "paper_bgcolor": "white",
          "plot_bgcolor": "#E5ECF6",
          "polar": {
           "angularaxis": {
            "gridcolor": "white",
            "linecolor": "white",
            "ticks": ""
           },
           "bgcolor": "#E5ECF6",
           "radialaxis": {
            "gridcolor": "white",
            "linecolor": "white",
            "ticks": ""
           }
          },
          "scene": {
           "xaxis": {
            "backgroundcolor": "#E5ECF6",
            "gridcolor": "white",
            "gridwidth": 2,
            "linecolor": "white",
            "showbackground": true,
            "ticks": "",
            "zerolinecolor": "white"
           },
           "yaxis": {
            "backgroundcolor": "#E5ECF6",
            "gridcolor": "white",
            "gridwidth": 2,
            "linecolor": "white",
            "showbackground": true,
            "ticks": "",
            "zerolinecolor": "white"
           },
           "zaxis": {
            "backgroundcolor": "#E5ECF6",
            "gridcolor": "white",
            "gridwidth": 2,
            "linecolor": "white",
            "showbackground": true,
            "ticks": "",
            "zerolinecolor": "white"
           }
          },
          "shapedefaults": {
           "line": {
            "color": "#2a3f5f"
           }
          },
          "ternary": {
           "aaxis": {
            "gridcolor": "white",
            "linecolor": "white",
            "ticks": ""
           },
           "baxis": {
            "gridcolor": "white",
            "linecolor": "white",
            "ticks": ""
           },
           "bgcolor": "#E5ECF6",
           "caxis": {
            "gridcolor": "white",
            "linecolor": "white",
            "ticks": ""
           }
          },
          "title": {
           "x": 0.05
          },
          "xaxis": {
           "automargin": true,
           "gridcolor": "white",
           "linecolor": "white",
           "ticks": "",
           "title": {
            "standoff": 15
           },
           "zerolinecolor": "white",
           "zerolinewidth": 2
          },
          "yaxis": {
           "automargin": true,
           "gridcolor": "white",
           "linecolor": "white",
           "ticks": "",
           "title": {
            "standoff": 15
           },
           "zerolinecolor": "white",
           "zerolinewidth": 2
          }
         }
        },
        "title": {
         "font": {
          "color": "#4D5663"
         }
        },
        "xaxis": {
         "anchor": "y",
         "domain": [
          0,
          0.2125
         ],
         "gridcolor": "#E1E5ED",
         "showgrid": false,
         "tickfont": {
          "color": "#4D5663"
         },
         "title": {
          "font": {
           "color": "#4D5663"
          },
          "text": ""
         },
         "zerolinecolor": "#E1E5ED"
        },
        "xaxis10": {
         "anchor": "y10",
         "domain": [
          0.2625,
          0.475
         ],
         "gridcolor": "#E1E5ED",
         "showgrid": false,
         "tickfont": {
          "color": "#4D5663"
         },
         "title": {
          "font": {
           "color": "#4D5663"
          },
          "text": ""
         },
         "zerolinecolor": "#E1E5ED"
        },
        "xaxis11": {
         "anchor": "y11",
         "domain": [
          0.525,
          0.7375
         ],
         "gridcolor": "#E1E5ED",
         "showgrid": false,
         "tickfont": {
          "color": "#4D5663"
         },
         "title": {
          "font": {
           "color": "#4D5663"
          },
          "text": ""
         },
         "zerolinecolor": "#E1E5ED"
        },
        "xaxis12": {
         "anchor": "y12",
         "domain": [
          0.7875,
          1
         ],
         "gridcolor": "#E1E5ED",
         "showgrid": false,
         "tickfont": {
          "color": "#4D5663"
         },
         "title": {
          "font": {
           "color": "#4D5663"
          },
          "text": ""
         },
         "zerolinecolor": "#E1E5ED"
        },
        "xaxis13": {
         "anchor": "y13",
         "domain": [
          0,
          0.2125
         ],
         "gridcolor": "#E1E5ED",
         "showgrid": false,
         "tickfont": {
          "color": "#4D5663"
         },
         "title": {
          "font": {
           "color": "#4D5663"
          },
          "text": ""
         },
         "zerolinecolor": "#E1E5ED"
        },
        "xaxis14": {
         "anchor": "y14",
         "domain": [
          0.2625,
          0.475
         ],
         "gridcolor": "#E1E5ED",
         "showgrid": false,
         "tickfont": {
          "color": "#4D5663"
         },
         "title": {
          "font": {
           "color": "#4D5663"
          },
          "text": ""
         },
         "zerolinecolor": "#E1E5ED"
        },
        "xaxis15": {
         "anchor": "y15",
         "domain": [
          0.525,
          0.7375
         ],
         "gridcolor": "#E1E5ED",
         "showgrid": false,
         "tickfont": {
          "color": "#4D5663"
         },
         "title": {
          "font": {
           "color": "#4D5663"
          },
          "text": ""
         },
         "zerolinecolor": "#E1E5ED"
        },
        "xaxis16": {
         "anchor": "y16",
         "domain": [
          0.7875,
          1
         ],
         "gridcolor": "#E1E5ED",
         "showgrid": false,
         "tickfont": {
          "color": "#4D5663"
         },
         "title": {
          "font": {
           "color": "#4D5663"
          },
          "text": ""
         },
         "zerolinecolor": "#E1E5ED"
        },
        "xaxis2": {
         "anchor": "y2",
         "domain": [
          0.2625,
          0.475
         ],
         "gridcolor": "#E1E5ED",
         "showgrid": false,
         "tickfont": {
          "color": "#4D5663"
         },
         "title": {
          "font": {
           "color": "#4D5663"
          },
          "text": ""
         },
         "zerolinecolor": "#E1E5ED"
        },
        "xaxis3": {
         "anchor": "y3",
         "domain": [
          0.525,
          0.7375
         ],
         "gridcolor": "#E1E5ED",
         "showgrid": false,
         "tickfont": {
          "color": "#4D5663"
         },
         "title": {
          "font": {
           "color": "#4D5663"
          },
          "text": ""
         },
         "zerolinecolor": "#E1E5ED"
        },
        "xaxis4": {
         "anchor": "y4",
         "domain": [
          0.7875,
          1
         ],
         "gridcolor": "#E1E5ED",
         "showgrid": false,
         "tickfont": {
          "color": "#4D5663"
         },
         "title": {
          "font": {
           "color": "#4D5663"
          },
          "text": ""
         },
         "zerolinecolor": "#E1E5ED"
        },
        "xaxis5": {
         "anchor": "y5",
         "domain": [
          0,
          0.2125
         ],
         "gridcolor": "#E1E5ED",
         "showgrid": false,
         "tickfont": {
          "color": "#4D5663"
         },
         "title": {
          "font": {
           "color": "#4D5663"
          },
          "text": ""
         },
         "zerolinecolor": "#E1E5ED"
        },
        "xaxis6": {
         "anchor": "y6",
         "domain": [
          0.2625,
          0.475
         ],
         "gridcolor": "#E1E5ED",
         "showgrid": false,
         "tickfont": {
          "color": "#4D5663"
         },
         "title": {
          "font": {
           "color": "#4D5663"
          },
          "text": ""
         },
         "zerolinecolor": "#E1E5ED"
        },
        "xaxis7": {
         "anchor": "y7",
         "domain": [
          0.525,
          0.7375
         ],
         "gridcolor": "#E1E5ED",
         "showgrid": false,
         "tickfont": {
          "color": "#4D5663"
         },
         "title": {
          "font": {
           "color": "#4D5663"
          },
          "text": ""
         },
         "zerolinecolor": "#E1E5ED"
        },
        "xaxis8": {
         "anchor": "y8",
         "domain": [
          0.7875,
          1
         ],
         "gridcolor": "#E1E5ED",
         "showgrid": false,
         "tickfont": {
          "color": "#4D5663"
         },
         "title": {
          "font": {
           "color": "#4D5663"
          },
          "text": ""
         },
         "zerolinecolor": "#E1E5ED"
        },
        "xaxis9": {
         "anchor": "y9",
         "domain": [
          0,
          0.2125
         ],
         "gridcolor": "#E1E5ED",
         "showgrid": false,
         "tickfont": {
          "color": "#4D5663"
         },
         "title": {
          "font": {
           "color": "#4D5663"
          },
          "text": ""
         },
         "zerolinecolor": "#E1E5ED"
        },
        "yaxis": {
         "anchor": "x",
         "domain": [
          0.8025,
          1
         ],
         "gridcolor": "#E1E5ED",
         "showgrid": false,
         "tickfont": {
          "color": "#4D5663"
         },
         "title": {
          "font": {
           "color": "#4D5663"
          },
          "text": ""
         },
         "zerolinecolor": "#E1E5ED"
        },
        "yaxis10": {
         "anchor": "x10",
         "domain": [
          0.2675,
          0.465
         ],
         "gridcolor": "#E1E5ED",
         "showgrid": false,
         "tickfont": {
          "color": "#4D5663"
         },
         "title": {
          "font": {
           "color": "#4D5663"
          },
          "text": ""
         },
         "zerolinecolor": "#E1E5ED"
        },
        "yaxis11": {
         "anchor": "x11",
         "domain": [
          0.2675,
          0.465
         ],
         "gridcolor": "#E1E5ED",
         "showgrid": false,
         "tickfont": {
          "color": "#4D5663"
         },
         "title": {
          "font": {
           "color": "#4D5663"
          },
          "text": ""
         },
         "zerolinecolor": "#E1E5ED"
        },
        "yaxis12": {
         "anchor": "x12",
         "domain": [
          0.2675,
          0.465
         ],
         "gridcolor": "#E1E5ED",
         "showgrid": false,
         "tickfont": {
          "color": "#4D5663"
         },
         "title": {
          "font": {
           "color": "#4D5663"
          },
          "text": ""
         },
         "zerolinecolor": "#E1E5ED"
        },
        "yaxis13": {
         "anchor": "x13",
         "domain": [
          0,
          0.1975
         ],
         "gridcolor": "#E1E5ED",
         "showgrid": false,
         "tickfont": {
          "color": "#4D5663"
         },
         "title": {
          "font": {
           "color": "#4D5663"
          },
          "text": ""
         },
         "zerolinecolor": "#E1E5ED"
        },
        "yaxis14": {
         "anchor": "x14",
         "domain": [
          0,
          0.1975
         ],
         "gridcolor": "#E1E5ED",
         "showgrid": false,
         "tickfont": {
          "color": "#4D5663"
         },
         "title": {
          "font": {
           "color": "#4D5663"
          },
          "text": ""
         },
         "zerolinecolor": "#E1E5ED"
        },
        "yaxis15": {
         "anchor": "x15",
         "domain": [
          0,
          0.1975
         ],
         "gridcolor": "#E1E5ED",
         "showgrid": false,
         "tickfont": {
          "color": "#4D5663"
         },
         "title": {
          "font": {
           "color": "#4D5663"
          },
          "text": ""
         },
         "zerolinecolor": "#E1E5ED"
        },
        "yaxis16": {
         "anchor": "x16",
         "domain": [
          0,
          0.1975
         ],
         "gridcolor": "#E1E5ED",
         "showgrid": false,
         "tickfont": {
          "color": "#4D5663"
         },
         "title": {
          "font": {
           "color": "#4D5663"
          },
          "text": ""
         },
         "zerolinecolor": "#E1E5ED"
        },
        "yaxis2": {
         "anchor": "x2",
         "domain": [
          0.8025,
          1
         ],
         "gridcolor": "#E1E5ED",
         "showgrid": false,
         "tickfont": {
          "color": "#4D5663"
         },
         "title": {
          "font": {
           "color": "#4D5663"
          },
          "text": ""
         },
         "zerolinecolor": "#E1E5ED"
        },
        "yaxis3": {
         "anchor": "x3",
         "domain": [
          0.8025,
          1
         ],
         "gridcolor": "#E1E5ED",
         "showgrid": false,
         "tickfont": {
          "color": "#4D5663"
         },
         "title": {
          "font": {
           "color": "#4D5663"
          },
          "text": ""
         },
         "zerolinecolor": "#E1E5ED"
        },
        "yaxis4": {
         "anchor": "x4",
         "domain": [
          0.8025,
          1
         ],
         "gridcolor": "#E1E5ED",
         "showgrid": false,
         "tickfont": {
          "color": "#4D5663"
         },
         "title": {
          "font": {
           "color": "#4D5663"
          },
          "text": ""
         },
         "zerolinecolor": "#E1E5ED"
        },
        "yaxis5": {
         "anchor": "x5",
         "domain": [
          0.535,
          0.7325
         ],
         "gridcolor": "#E1E5ED",
         "showgrid": false,
         "tickfont": {
          "color": "#4D5663"
         },
         "title": {
          "font": {
           "color": "#4D5663"
          },
          "text": ""
         },
         "zerolinecolor": "#E1E5ED"
        },
        "yaxis6": {
         "anchor": "x6",
         "domain": [
          0.535,
          0.7325
         ],
         "gridcolor": "#E1E5ED",
         "showgrid": false,
         "tickfont": {
          "color": "#4D5663"
         },
         "title": {
          "font": {
           "color": "#4D5663"
          },
          "text": ""
         },
         "zerolinecolor": "#E1E5ED"
        },
        "yaxis7": {
         "anchor": "x7",
         "domain": [
          0.535,
          0.7325
         ],
         "gridcolor": "#E1E5ED",
         "showgrid": false,
         "tickfont": {
          "color": "#4D5663"
         },
         "title": {
          "font": {
           "color": "#4D5663"
          },
          "text": ""
         },
         "zerolinecolor": "#E1E5ED"
        },
        "yaxis8": {
         "anchor": "x8",
         "domain": [
          0.535,
          0.7325
         ],
         "gridcolor": "#E1E5ED",
         "showgrid": false,
         "tickfont": {
          "color": "#4D5663"
         },
         "title": {
          "font": {
           "color": "#4D5663"
          },
          "text": ""
         },
         "zerolinecolor": "#E1E5ED"
        },
        "yaxis9": {
         "anchor": "x9",
         "domain": [
          0.2675,
          0.465
         ],
         "gridcolor": "#E1E5ED",
         "showgrid": false,
         "tickfont": {
          "color": "#4D5663"
         },
         "title": {
          "font": {
           "color": "#4D5663"
          },
          "text": ""
         },
         "zerolinecolor": "#E1E5ED"
        }
       }
      },
      "text/html": [
       "<div>                            <div id=\"83f25e83-78f6-4ae9-bd10-4be16ed22336\" class=\"plotly-graph-div\" style=\"height:525px; width:100%;\"></div>            <script type=\"text/javascript\">                require([\"plotly\"], function(Plotly) {                    window.PLOTLYENV=window.PLOTLYENV || {};\n",
       "                    window.PLOTLYENV.BASE_URL='https://plot.ly';                                    if (document.getElementById(\"83f25e83-78f6-4ae9-bd10-4be16ed22336\")) {                    Plotly.newPlot(                        \"83f25e83-78f6-4ae9-bd10-4be16ed22336\",                        [{\"histfunc\":\"count\",\"histnorm\":\"\",\"marker\":{\"color\":\"rgba(255, 153, 51, 1.0)\",\"line\":{\"color\":\"#4D5663\",\"width\":1.3}},\"name\":\"A\",\"nbinsx\":10,\"opacity\":0.8,\"orientation\":\"v\",\"x\":[0.15387951566040683,2.181248765458232,-0.13566587094592006,2.5826373196933714,1.6784225961066819,-0.16299128101973356,-0.17874297565492092,0.48903983504613824,-0.050245207821652656,-0.21504123172855624,-0.9579247028153586,-0.9893440631800207,-0.5545866030923471,-0.729196183556216,-2.1468969108658733,1.443650242734995,0.9090913732870752,0.16199268989531002,-0.9466477932939458,0.35055814554620657,-0.21162327402463743,0.6365749108453906,-0.3836843220449782,1.0035932100576173,-0.6335239904754568,0.8596977337897347,0.4447230070289421,-1.2523804891664259,-0.13451250405916465,-0.5780800680607079,-0.2450155534501923,-0.9832040367280465,-0.23809181759312123,-0.34116672085694183,-0.8558574974421355,1.699621211172324,-1.0103056803776571,-0.8897721763689249,0.9747541077716472,0.2733325155193339,-2.3269122184399578,-0.3725394679542613,-1.1036867869571978,-0.1352555301863368,-1.1509761019037328,-1.2187335433615616,0.05506999604218593,-0.10228406176818654,1.2778340337032956,-1.6499243125727343,0.2584083064742115,0.022789195090183578,-0.05469858920966472,0.6934335354023595,-0.3582243331584894,-0.6762481063753567,-2.6093883903092228,0.08746280693315048,0.7907999135080389,-0.016400209655702606,-1.020020479062982,1.062252800413191,0.06000472648461456,-0.5751331128737663,0.7283756600309553,0.1828699910324269,-0.15630554197630672,-1.864294517478185,-0.05583743965754278,-1.3671415114751497,-0.2859607383869635,0.49472919490075573,-0.35969076601765726,0.9720742091395949,-0.11590515837531183,0.39360624198567107,0.7839283888154851,-1.177254142345938,0.8315862249829457,-1.1865453897625722,1.29698117990059,0.8766686456478701,0.7043101490622228,0.34654329113273163,0.009958136649100556,-1.134745510635879,0.0785083179815372,-1.8470364158934645,-0.4875047829676378,-0.735646683248686,-1.316475374019799,1.3776811867196217,-1.321076206512763,0.45445257779186266,2.5370214104573803,0.5769179650580939,0.4222801389522976,-0.5517893605255988,-0.30363543870509463,-0.33995824148450854],\"xaxis\":\"x\",\"yaxis\":\"y\",\"type\":\"histogram\"},{\"line\":{\"color\":\"rgba(128, 128, 128, 1.0)\",\"dash\":\"solid\",\"shape\":\"linear\",\"width\":1.3},\"marker\":{\"size\":2,\"symbol\":\"circle\"},\"mode\":\"markers\",\"name\":\"A\",\"text\":\"\",\"x\":[0.2083619918066731,-0.007445592501653823,0.013438670371493154,-1.1402200714610695,-1.0037282728945376,-1.7796940522845184,1.4005425881113962,-0.12409065370077918,0.4452116013367775,-0.33569644713285623,0.9193071025427763,0.3170284786129296,0.13430335146684186,0.7787044216687309,0.21450459241797218,-1.5092666232396665,0.7919886424619987,-0.1927552256597784,0.1407274967059369,0.913396235037004,-0.39175435019456206,-0.5407190613207937,-1.129410685739879,-0.7073325132739956,-0.1202465665969558,-1.2835242588380795,-0.37277920098249084,0.40015445605057215,-0.40024857144059733,-0.6379169763897673,-0.2866340398118274,0.06139895861208848,-2.252517714720179,0.5457545446741421,1.1544587442506151,-0.6168270294189658,-0.3630037900029631,-1.2010279486365256,-0.7653438306648163,-0.11053318751770316,0.38388124646772853,-1.2674203103987471,0.0028399536666268025,-1.5494254508705259,2.095749715307753,-0.5641187149411993,0.34709305987418854,0.6236619982195952,-0.08063942778001149,0.08689494745775367,-1.2433803804032548,0.17159566961706876,-0.0032167099066127717,0.11739239250666493,0.38951736549480986,-1.0280734833091218,-0.4800090749698621,0.5740201552456949,-1.2084516763572983,0.7238828648723517,2.2005364752879752,0.15802727378773124,0.32649568568896786,-2.7143738424005797,0.38341951411432434,1.116813227600596,-0.01989660137589359,1.8878704671898408,-0.6405584469147696,-2.3590894870123007,-0.8715844322342543,-1.4398225910640223,1.3363221386595507,1.8283221642713612,-1.1084543823687798,-0.9822653578380953,-0.6494889734849333,-0.3426015797521599,-0.6837935756698565,0.6076716337813307,0.33659591669323224,0.4269690302146352,-0.9343729078118749,0.02124021733474761,-0.8433181262016681,-1.6579278057042166,1.0367687781471089,-0.508413311460955,1.039475592623558,-0.23178447064330665,0.0724413119156897,0.3487934006331482,1.4631758122581195,-1.9585115623098048,0.05495266418138907,0.01997126586927419,0.19730602361652821,-0.07707793518496193,1.2635910163603281,-1.575182626460573],\"xaxis\":\"x2\",\"y\":[0.15387951566040683,2.181248765458232,-0.13566587094592006,2.5826373196933714,1.6784225961066819,-0.16299128101973356,-0.17874297565492092,0.48903983504613824,-0.050245207821652656,-0.21504123172855624,-0.9579247028153586,-0.9893440631800207,-0.5545866030923471,-0.729196183556216,-2.1468969108658733,1.443650242734995,0.9090913732870752,0.16199268989531002,-0.9466477932939458,0.35055814554620657,-0.21162327402463743,0.6365749108453906,-0.3836843220449782,1.0035932100576173,-0.6335239904754568,0.8596977337897347,0.4447230070289421,-1.2523804891664259,-0.13451250405916465,-0.5780800680607079,-0.2450155534501923,-0.9832040367280465,-0.23809181759312123,-0.34116672085694183,-0.8558574974421355,1.699621211172324,-1.0103056803776571,-0.8897721763689249,0.9747541077716472,0.2733325155193339,-2.3269122184399578,-0.3725394679542613,-1.1036867869571978,-0.1352555301863368,-1.1509761019037328,-1.2187335433615616,0.05506999604218593,-0.10228406176818654,1.2778340337032956,-1.6499243125727343,0.2584083064742115,0.022789195090183578,-0.05469858920966472,0.6934335354023595,-0.3582243331584894,-0.6762481063753567,-2.6093883903092228,0.08746280693315048,0.7907999135080389,-0.016400209655702606,-1.020020479062982,1.062252800413191,0.06000472648461456,-0.5751331128737663,0.7283756600309553,0.1828699910324269,-0.15630554197630672,-1.864294517478185,-0.05583743965754278,-1.3671415114751497,-0.2859607383869635,0.49472919490075573,-0.35969076601765726,0.9720742091395949,-0.11590515837531183,0.39360624198567107,0.7839283888154851,-1.177254142345938,0.8315862249829457,-1.1865453897625722,1.29698117990059,0.8766686456478701,0.7043101490622228,0.34654329113273163,0.009958136649100556,-1.134745510635879,0.0785083179815372,-1.8470364158934645,-0.4875047829676378,-0.735646683248686,-1.316475374019799,1.3776811867196217,-1.321076206512763,0.45445257779186266,2.5370214104573803,0.5769179650580939,0.4222801389522976,-0.5517893605255988,-0.30363543870509463,-0.33995824148450854],\"yaxis\":\"y2\",\"type\":\"scatter\"},{\"line\":{\"color\":\"rgba(128, 128, 128, 1.0)\",\"dash\":\"solid\",\"shape\":\"linear\",\"width\":1.3},\"marker\":{\"size\":2,\"symbol\":\"circle\"},\"mode\":\"markers\",\"name\":\"A\",\"text\":\"\",\"x\":[0.4106594435925352,0.16451668922706855,-0.5369782056226539,0.5660853315566969,-0.6276131115541184,-0.35623907365489893,2.747624814704155,-1.2334283538430675,0.5953695186024907,-0.43852943328974997,0.10864185727711775,1.3197907328048857,-0.7903712263306164,-0.31436931313673816,0.47876479857992377,-0.2304329790855753,-0.061560034155332115,0.3004897403370486,1.79510490898758,1.2737593271137766,1.6419424352503602,1.852751669824922,0.8831830072945414,-0.5882779788344554,0.3703825755458452,1.3929082760023928,-1.2071419796121867,0.011100149059746016,-0.8635739978677018,1.8413447682384052,-1.8794815878480156,1.5621316515960426,-0.06962888037480293,-0.6454974165203449,-0.3910014561766563,-1.5022335662754505,0.15306706295055966,-2.4860561301597333,-0.23823128755041628,0.7955648043997234,-1.123206905763666,1.1149380253123027,0.5841552064517905,1.5849024443809798,2.183832117184637,1.1175896993788657,-2.412033509219897,-1.1201490345928256,0.3107292331598913,0.20800900242550194,-0.24909411972896087,-0.926708027691749,0.36539845848899705,-1.0705890309135304,0.44291927119139923,1.0578310118172347,-1.038867142693977,-0.10689897007298131,-0.6760368140223842,-0.5593242936247103,0.4123230011731821,0.24003181245138533,-0.4209577645954547,-0.1558898255604296,1.178123514861103,0.22598894428301605,0.5908452772763777,-1.0324048991723151,-0.31238836333956754,-0.6219794206029533,0.8572476323195839,0.9116187337831878,0.6936904236664377,0.011038814736188172,0.5282033650357248,-2.2337668917608267,0.3476652905185053,-1.847080978535126,0.9563701003727998,-0.040863608859851734,0.5495966278412764,1.6700886104241803,1.5442686926470075,1.010725902990785,0.037871630419494456,-2.648921228271641,-1.0762630270105022,-1.6877633899055529,-0.7502413749444725,0.09517969500198269,-0.8494083429449227,0.16620975044199085,-0.5609639231128154,1.1383046777516879,0.20397077776091715,0.8810095241960068,-0.29968980450177246,0.3106062982832132,1.0062792714069575,0.5117597024230559],\"xaxis\":\"x3\",\"y\":[0.15387951566040683,2.181248765458232,-0.13566587094592006,2.5826373196933714,1.6784225961066819,-0.16299128101973356,-0.17874297565492092,0.48903983504613824,-0.050245207821652656,-0.21504123172855624,-0.9579247028153586,-0.9893440631800207,-0.5545866030923471,-0.729196183556216,-2.1468969108658733,1.443650242734995,0.9090913732870752,0.16199268989531002,-0.9466477932939458,0.35055814554620657,-0.21162327402463743,0.6365749108453906,-0.3836843220449782,1.0035932100576173,-0.6335239904754568,0.8596977337897347,0.4447230070289421,-1.2523804891664259,-0.13451250405916465,-0.5780800680607079,-0.2450155534501923,-0.9832040367280465,-0.23809181759312123,-0.34116672085694183,-0.8558574974421355,1.699621211172324,-1.0103056803776571,-0.8897721763689249,0.9747541077716472,0.2733325155193339,-2.3269122184399578,-0.3725394679542613,-1.1036867869571978,-0.1352555301863368,-1.1509761019037328,-1.2187335433615616,0.05506999604218593,-0.10228406176818654,1.2778340337032956,-1.6499243125727343,0.2584083064742115,0.022789195090183578,-0.05469858920966472,0.6934335354023595,-0.3582243331584894,-0.6762481063753567,-2.6093883903092228,0.08746280693315048,0.7907999135080389,-0.016400209655702606,-1.020020479062982,1.062252800413191,0.06000472648461456,-0.5751331128737663,0.7283756600309553,0.1828699910324269,-0.15630554197630672,-1.864294517478185,-0.05583743965754278,-1.3671415114751497,-0.2859607383869635,0.49472919490075573,-0.35969076601765726,0.9720742091395949,-0.11590515837531183,0.39360624198567107,0.7839283888154851,-1.177254142345938,0.8315862249829457,-1.1865453897625722,1.29698117990059,0.8766686456478701,0.7043101490622228,0.34654329113273163,0.009958136649100556,-1.134745510635879,0.0785083179815372,-1.8470364158934645,-0.4875047829676378,-0.735646683248686,-1.316475374019799,1.3776811867196217,-1.321076206512763,0.45445257779186266,2.5370214104573803,0.5769179650580939,0.4222801389522976,-0.5517893605255988,-0.30363543870509463,-0.33995824148450854],\"yaxis\":\"y3\",\"type\":\"scatter\"},{\"line\":{\"color\":\"rgba(128, 128, 128, 1.0)\",\"dash\":\"solid\",\"shape\":\"linear\",\"width\":1.3},\"marker\":{\"size\":2,\"symbol\":\"circle\"},\"mode\":\"markers\",\"name\":\"A\",\"text\":\"\",\"x\":[0.08882602290852044,0.3472852132477984,-0.37246145250677315,-0.5471198817931465,0.9612201659969524,-0.9855005302431957,1.119709969364751,-1.5617645240073064,0.3784234935225686,0.8406059405919006,0.2478538909570599,0.2245201258386008,-0.014007087076950283,-0.017978432906322183,0.23460468060069478,-0.46640179910384066,0.8643632730322002,-2.6157456252518436,1.1628922977618183,-0.7598486830496928,-0.6520913250599274,-0.013592979843362926,-2.7804940392783677,-0.3473536826461263,1.1078778869163652,0.5857347552960472,-0.9958308215441067,-2.5263763627546973,-0.26672147672956403,0.2862130405186244,-2.6837494659660046,0.3033874733214488,0.5033661712626599,1.2197512825265693,-0.7138700472974253,-1.925808072447536,-0.5814574365040682,-0.4316677271910598,-0.5703494359618949,-0.858974487595339,-1.268676361059802,1.8444717976597462,-2.1710324942939474,-0.3184873602637343,0.8737016676868598,0.44676451160752684,0.19552955849466425,0.0097143559489846,-0.0907528690945857,0.08390466816220352,0.8499106301768232,-0.5016390313044293,-1.31739615184278,-0.9576190435279951,-0.4544082003105043,-0.4869871195405576,-0.8031200143028007,1.075905546432674,0.11504800737028045,0.6313800121106293,-0.02836752563835282,0.20623183108131207,0.4924132535395281,0.36853576080201733,0.37820890226831194,-1.2439165858578292,-1.0284139820799816,0.21205417447788924,1.3137150199660272,-1.6444588158118052,-0.30379493368012983,-0.4395301958526581,-0.3402084180822364,0.6792109021535856,2.2801482871709338,-1.558556941237184,1.2111088848996647,-0.4985515344568757,-0.9371606948293234,-0.23032569341794734,-0.5784890532022261,1.4498168645510277,-0.6048136450530708,-0.18714427053050872,0.5624949566075169,0.2609508920583652,-1.6613993136336094,-0.6533027541602376,0.3832809683638925,0.7929129370617669,-0.19080093806256554,0.7551565441543654,-0.34100404750090174,1.487922424333899,1.0231598093783791,-0.20659353593347068,-0.31801059017001254,0.025258088091292458,-1.3992419746609126,-0.9911240824684592],\"xaxis\":\"x4\",\"y\":[0.15387951566040683,2.181248765458232,-0.13566587094592006,2.5826373196933714,1.6784225961066819,-0.16299128101973356,-0.17874297565492092,0.48903983504613824,-0.050245207821652656,-0.21504123172855624,-0.9579247028153586,-0.9893440631800207,-0.5545866030923471,-0.729196183556216,-2.1468969108658733,1.443650242734995,0.9090913732870752,0.16199268989531002,-0.9466477932939458,0.35055814554620657,-0.21162327402463743,0.6365749108453906,-0.3836843220449782,1.0035932100576173,-0.6335239904754568,0.8596977337897347,0.4447230070289421,-1.2523804891664259,-0.13451250405916465,-0.5780800680607079,-0.2450155534501923,-0.9832040367280465,-0.23809181759312123,-0.34116672085694183,-0.8558574974421355,1.699621211172324,-1.0103056803776571,-0.8897721763689249,0.9747541077716472,0.2733325155193339,-2.3269122184399578,-0.3725394679542613,-1.1036867869571978,-0.1352555301863368,-1.1509761019037328,-1.2187335433615616,0.05506999604218593,-0.10228406176818654,1.2778340337032956,-1.6499243125727343,0.2584083064742115,0.022789195090183578,-0.05469858920966472,0.6934335354023595,-0.3582243331584894,-0.6762481063753567,-2.6093883903092228,0.08746280693315048,0.7907999135080389,-0.016400209655702606,-1.020020479062982,1.062252800413191,0.06000472648461456,-0.5751331128737663,0.7283756600309553,0.1828699910324269,-0.15630554197630672,-1.864294517478185,-0.05583743965754278,-1.3671415114751497,-0.2859607383869635,0.49472919490075573,-0.35969076601765726,0.9720742091395949,-0.11590515837531183,0.39360624198567107,0.7839283888154851,-1.177254142345938,0.8315862249829457,-1.1865453897625722,1.29698117990059,0.8766686456478701,0.7043101490622228,0.34654329113273163,0.009958136649100556,-1.134745510635879,0.0785083179815372,-1.8470364158934645,-0.4875047829676378,-0.735646683248686,-1.316475374019799,1.3776811867196217,-1.321076206512763,0.45445257779186266,2.5370214104573803,0.5769179650580939,0.4222801389522976,-0.5517893605255988,-0.30363543870509463,-0.33995824148450854],\"yaxis\":\"y4\",\"type\":\"scatter\"},{\"line\":{\"color\":\"rgba(128, 128, 128, 1.0)\",\"dash\":\"solid\",\"shape\":\"linear\",\"width\":1.3},\"marker\":{\"size\":2,\"symbol\":\"circle\"},\"mode\":\"markers\",\"name\":\"B\",\"text\":\"\",\"x\":[0.15387951566040683,2.181248765458232,-0.13566587094592006,2.5826373196933714,1.6784225961066819,-0.16299128101973356,-0.17874297565492092,0.48903983504613824,-0.050245207821652656,-0.21504123172855624,-0.9579247028153586,-0.9893440631800207,-0.5545866030923471,-0.729196183556216,-2.1468969108658733,1.443650242734995,0.9090913732870752,0.16199268989531002,-0.9466477932939458,0.35055814554620657,-0.21162327402463743,0.6365749108453906,-0.3836843220449782,1.0035932100576173,-0.6335239904754568,0.8596977337897347,0.4447230070289421,-1.2523804891664259,-0.13451250405916465,-0.5780800680607079,-0.2450155534501923,-0.9832040367280465,-0.23809181759312123,-0.34116672085694183,-0.8558574974421355,1.699621211172324,-1.0103056803776571,-0.8897721763689249,0.9747541077716472,0.2733325155193339,-2.3269122184399578,-0.3725394679542613,-1.1036867869571978,-0.1352555301863368,-1.1509761019037328,-1.2187335433615616,0.05506999604218593,-0.10228406176818654,1.2778340337032956,-1.6499243125727343,0.2584083064742115,0.022789195090183578,-0.05469858920966472,0.6934335354023595,-0.3582243331584894,-0.6762481063753567,-2.6093883903092228,0.08746280693315048,0.7907999135080389,-0.016400209655702606,-1.020020479062982,1.062252800413191,0.06000472648461456,-0.5751331128737663,0.7283756600309553,0.1828699910324269,-0.15630554197630672,-1.864294517478185,-0.05583743965754278,-1.3671415114751497,-0.2859607383869635,0.49472919490075573,-0.35969076601765726,0.9720742091395949,-0.11590515837531183,0.39360624198567107,0.7839283888154851,-1.177254142345938,0.8315862249829457,-1.1865453897625722,1.29698117990059,0.8766686456478701,0.7043101490622228,0.34654329113273163,0.009958136649100556,-1.134745510635879,0.0785083179815372,-1.8470364158934645,-0.4875047829676378,-0.735646683248686,-1.316475374019799,1.3776811867196217,-1.321076206512763,0.45445257779186266,2.5370214104573803,0.5769179650580939,0.4222801389522976,-0.5517893605255988,-0.30363543870509463,-0.33995824148450854],\"xaxis\":\"x5\",\"y\":[0.2083619918066731,-0.007445592501653823,0.013438670371493154,-1.1402200714610695,-1.0037282728945376,-1.7796940522845184,1.4005425881113962,-0.12409065370077918,0.4452116013367775,-0.33569644713285623,0.9193071025427763,0.3170284786129296,0.13430335146684186,0.7787044216687309,0.21450459241797218,-1.5092666232396665,0.7919886424619987,-0.1927552256597784,0.1407274967059369,0.913396235037004,-0.39175435019456206,-0.5407190613207937,-1.129410685739879,-0.7073325132739956,-0.1202465665969558,-1.2835242588380795,-0.37277920098249084,0.40015445605057215,-0.40024857144059733,-0.6379169763897673,-0.2866340398118274,0.06139895861208848,-2.252517714720179,0.5457545446741421,1.1544587442506151,-0.6168270294189658,-0.3630037900029631,-1.2010279486365256,-0.7653438306648163,-0.11053318751770316,0.38388124646772853,-1.2674203103987471,0.0028399536666268025,-1.5494254508705259,2.095749715307753,-0.5641187149411993,0.34709305987418854,0.6236619982195952,-0.08063942778001149,0.08689494745775367,-1.2433803804032548,0.17159566961706876,-0.0032167099066127717,0.11739239250666493,0.38951736549480986,-1.0280734833091218,-0.4800090749698621,0.5740201552456949,-1.2084516763572983,0.7238828648723517,2.2005364752879752,0.15802727378773124,0.32649568568896786,-2.7143738424005797,0.38341951411432434,1.116813227600596,-0.01989660137589359,1.8878704671898408,-0.6405584469147696,-2.3590894870123007,-0.8715844322342543,-1.4398225910640223,1.3363221386595507,1.8283221642713612,-1.1084543823687798,-0.9822653578380953,-0.6494889734849333,-0.3426015797521599,-0.6837935756698565,0.6076716337813307,0.33659591669323224,0.4269690302146352,-0.9343729078118749,0.02124021733474761,-0.8433181262016681,-1.6579278057042166,1.0367687781471089,-0.508413311460955,1.039475592623558,-0.23178447064330665,0.0724413119156897,0.3487934006331482,1.4631758122581195,-1.9585115623098048,0.05495266418138907,0.01997126586927419,0.19730602361652821,-0.07707793518496193,1.2635910163603281,-1.575182626460573],\"yaxis\":\"y5\",\"type\":\"scatter\"},{\"histfunc\":\"count\",\"histnorm\":\"\",\"marker\":{\"color\":\"rgba(55, 128, 191, 1.0)\",\"line\":{\"color\":\"#4D5663\",\"width\":1.3}},\"name\":\"B\",\"nbinsx\":10,\"opacity\":0.8,\"orientation\":\"v\",\"x\":[0.2083619918066731,-0.007445592501653823,0.013438670371493154,-1.1402200714610695,-1.0037282728945376,-1.7796940522845184,1.4005425881113962,-0.12409065370077918,0.4452116013367775,-0.33569644713285623,0.9193071025427763,0.3170284786129296,0.13430335146684186,0.7787044216687309,0.21450459241797218,-1.5092666232396665,0.7919886424619987,-0.1927552256597784,0.1407274967059369,0.913396235037004,-0.39175435019456206,-0.5407190613207937,-1.129410685739879,-0.7073325132739956,-0.1202465665969558,-1.2835242588380795,-0.37277920098249084,0.40015445605057215,-0.40024857144059733,-0.6379169763897673,-0.2866340398118274,0.06139895861208848,-2.252517714720179,0.5457545446741421,1.1544587442506151,-0.6168270294189658,-0.3630037900029631,-1.2010279486365256,-0.7653438306648163,-0.11053318751770316,0.38388124646772853,-1.2674203103987471,0.0028399536666268025,-1.5494254508705259,2.095749715307753,-0.5641187149411993,0.34709305987418854,0.6236619982195952,-0.08063942778001149,0.08689494745775367,-1.2433803804032548,0.17159566961706876,-0.0032167099066127717,0.11739239250666493,0.38951736549480986,-1.0280734833091218,-0.4800090749698621,0.5740201552456949,-1.2084516763572983,0.7238828648723517,2.2005364752879752,0.15802727378773124,0.32649568568896786,-2.7143738424005797,0.38341951411432434,1.116813227600596,-0.01989660137589359,1.8878704671898408,-0.6405584469147696,-2.3590894870123007,-0.8715844322342543,-1.4398225910640223,1.3363221386595507,1.8283221642713612,-1.1084543823687798,-0.9822653578380953,-0.6494889734849333,-0.3426015797521599,-0.6837935756698565,0.6076716337813307,0.33659591669323224,0.4269690302146352,-0.9343729078118749,0.02124021733474761,-0.8433181262016681,-1.6579278057042166,1.0367687781471089,-0.508413311460955,1.039475592623558,-0.23178447064330665,0.0724413119156897,0.3487934006331482,1.4631758122581195,-1.9585115623098048,0.05495266418138907,0.01997126586927419,0.19730602361652821,-0.07707793518496193,1.2635910163603281,-1.575182626460573],\"xaxis\":\"x6\",\"yaxis\":\"y6\",\"type\":\"histogram\"},{\"line\":{\"color\":\"rgba(128, 128, 128, 1.0)\",\"dash\":\"solid\",\"shape\":\"linear\",\"width\":1.3},\"marker\":{\"size\":2,\"symbol\":\"circle\"},\"mode\":\"markers\",\"name\":\"B\",\"text\":\"\",\"x\":[0.4106594435925352,0.16451668922706855,-0.5369782056226539,0.5660853315566969,-0.6276131115541184,-0.35623907365489893,2.747624814704155,-1.2334283538430675,0.5953695186024907,-0.43852943328974997,0.10864185727711775,1.3197907328048857,-0.7903712263306164,-0.31436931313673816,0.47876479857992377,-0.2304329790855753,-0.061560034155332115,0.3004897403370486,1.79510490898758,1.2737593271137766,1.6419424352503602,1.852751669824922,0.8831830072945414,-0.5882779788344554,0.3703825755458452,1.3929082760023928,-1.2071419796121867,0.011100149059746016,-0.8635739978677018,1.8413447682384052,-1.8794815878480156,1.5621316515960426,-0.06962888037480293,-0.6454974165203449,-0.3910014561766563,-1.5022335662754505,0.15306706295055966,-2.4860561301597333,-0.23823128755041628,0.7955648043997234,-1.123206905763666,1.1149380253123027,0.5841552064517905,1.5849024443809798,2.183832117184637,1.1175896993788657,-2.412033509219897,-1.1201490345928256,0.3107292331598913,0.20800900242550194,-0.24909411972896087,-0.926708027691749,0.36539845848899705,-1.0705890309135304,0.44291927119139923,1.0578310118172347,-1.038867142693977,-0.10689897007298131,-0.6760368140223842,-0.5593242936247103,0.4123230011731821,0.24003181245138533,-0.4209577645954547,-0.1558898255604296,1.178123514861103,0.22598894428301605,0.5908452772763777,-1.0324048991723151,-0.31238836333956754,-0.6219794206029533,0.8572476323195839,0.9116187337831878,0.6936904236664377,0.011038814736188172,0.5282033650357248,-2.2337668917608267,0.3476652905185053,-1.847080978535126,0.9563701003727998,-0.040863608859851734,0.5495966278412764,1.6700886104241803,1.5442686926470075,1.010725902990785,0.037871630419494456,-2.648921228271641,-1.0762630270105022,-1.6877633899055529,-0.7502413749444725,0.09517969500198269,-0.8494083429449227,0.16620975044199085,-0.5609639231128154,1.1383046777516879,0.20397077776091715,0.8810095241960068,-0.29968980450177246,0.3106062982832132,1.0062792714069575,0.5117597024230559],\"xaxis\":\"x7\",\"y\":[0.2083619918066731,-0.007445592501653823,0.013438670371493154,-1.1402200714610695,-1.0037282728945376,-1.7796940522845184,1.4005425881113962,-0.12409065370077918,0.4452116013367775,-0.33569644713285623,0.9193071025427763,0.3170284786129296,0.13430335146684186,0.7787044216687309,0.21450459241797218,-1.5092666232396665,0.7919886424619987,-0.1927552256597784,0.1407274967059369,0.913396235037004,-0.39175435019456206,-0.5407190613207937,-1.129410685739879,-0.7073325132739956,-0.1202465665969558,-1.2835242588380795,-0.37277920098249084,0.40015445605057215,-0.40024857144059733,-0.6379169763897673,-0.2866340398118274,0.06139895861208848,-2.252517714720179,0.5457545446741421,1.1544587442506151,-0.6168270294189658,-0.3630037900029631,-1.2010279486365256,-0.7653438306648163,-0.11053318751770316,0.38388124646772853,-1.2674203103987471,0.0028399536666268025,-1.5494254508705259,2.095749715307753,-0.5641187149411993,0.34709305987418854,0.6236619982195952,-0.08063942778001149,0.08689494745775367,-1.2433803804032548,0.17159566961706876,-0.0032167099066127717,0.11739239250666493,0.38951736549480986,-1.0280734833091218,-0.4800090749698621,0.5740201552456949,-1.2084516763572983,0.7238828648723517,2.2005364752879752,0.15802727378773124,0.32649568568896786,-2.7143738424005797,0.38341951411432434,1.116813227600596,-0.01989660137589359,1.8878704671898408,-0.6405584469147696,-2.3590894870123007,-0.8715844322342543,-1.4398225910640223,1.3363221386595507,1.8283221642713612,-1.1084543823687798,-0.9822653578380953,-0.6494889734849333,-0.3426015797521599,-0.6837935756698565,0.6076716337813307,0.33659591669323224,0.4269690302146352,-0.9343729078118749,0.02124021733474761,-0.8433181262016681,-1.6579278057042166,1.0367687781471089,-0.508413311460955,1.039475592623558,-0.23178447064330665,0.0724413119156897,0.3487934006331482,1.4631758122581195,-1.9585115623098048,0.05495266418138907,0.01997126586927419,0.19730602361652821,-0.07707793518496193,1.2635910163603281,-1.575182626460573],\"yaxis\":\"y7\",\"type\":\"scatter\"},{\"line\":{\"color\":\"rgba(128, 128, 128, 1.0)\",\"dash\":\"solid\",\"shape\":\"linear\",\"width\":1.3},\"marker\":{\"size\":2,\"symbol\":\"circle\"},\"mode\":\"markers\",\"name\":\"B\",\"text\":\"\",\"x\":[0.08882602290852044,0.3472852132477984,-0.37246145250677315,-0.5471198817931465,0.9612201659969524,-0.9855005302431957,1.119709969364751,-1.5617645240073064,0.3784234935225686,0.8406059405919006,0.2478538909570599,0.2245201258386008,-0.014007087076950283,-0.017978432906322183,0.23460468060069478,-0.46640179910384066,0.8643632730322002,-2.6157456252518436,1.1628922977618183,-0.7598486830496928,-0.6520913250599274,-0.013592979843362926,-2.7804940392783677,-0.3473536826461263,1.1078778869163652,0.5857347552960472,-0.9958308215441067,-2.5263763627546973,-0.26672147672956403,0.2862130405186244,-2.6837494659660046,0.3033874733214488,0.5033661712626599,1.2197512825265693,-0.7138700472974253,-1.925808072447536,-0.5814574365040682,-0.4316677271910598,-0.5703494359618949,-0.858974487595339,-1.268676361059802,1.8444717976597462,-2.1710324942939474,-0.3184873602637343,0.8737016676868598,0.44676451160752684,0.19552955849466425,0.0097143559489846,-0.0907528690945857,0.08390466816220352,0.8499106301768232,-0.5016390313044293,-1.31739615184278,-0.9576190435279951,-0.4544082003105043,-0.4869871195405576,-0.8031200143028007,1.075905546432674,0.11504800737028045,0.6313800121106293,-0.02836752563835282,0.20623183108131207,0.4924132535395281,0.36853576080201733,0.37820890226831194,-1.2439165858578292,-1.0284139820799816,0.21205417447788924,1.3137150199660272,-1.6444588158118052,-0.30379493368012983,-0.4395301958526581,-0.3402084180822364,0.6792109021535856,2.2801482871709338,-1.558556941237184,1.2111088848996647,-0.4985515344568757,-0.9371606948293234,-0.23032569341794734,-0.5784890532022261,1.4498168645510277,-0.6048136450530708,-0.18714427053050872,0.5624949566075169,0.2609508920583652,-1.6613993136336094,-0.6533027541602376,0.3832809683638925,0.7929129370617669,-0.19080093806256554,0.7551565441543654,-0.34100404750090174,1.487922424333899,1.0231598093783791,-0.20659353593347068,-0.31801059017001254,0.025258088091292458,-1.3992419746609126,-0.9911240824684592],\"xaxis\":\"x8\",\"y\":[0.2083619918066731,-0.007445592501653823,0.013438670371493154,-1.1402200714610695,-1.0037282728945376,-1.7796940522845184,1.4005425881113962,-0.12409065370077918,0.4452116013367775,-0.33569644713285623,0.9193071025427763,0.3170284786129296,0.13430335146684186,0.7787044216687309,0.21450459241797218,-1.5092666232396665,0.7919886424619987,-0.1927552256597784,0.1407274967059369,0.913396235037004,-0.39175435019456206,-0.5407190613207937,-1.129410685739879,-0.7073325132739956,-0.1202465665969558,-1.2835242588380795,-0.37277920098249084,0.40015445605057215,-0.40024857144059733,-0.6379169763897673,-0.2866340398118274,0.06139895861208848,-2.252517714720179,0.5457545446741421,1.1544587442506151,-0.6168270294189658,-0.3630037900029631,-1.2010279486365256,-0.7653438306648163,-0.11053318751770316,0.38388124646772853,-1.2674203103987471,0.0028399536666268025,-1.5494254508705259,2.095749715307753,-0.5641187149411993,0.34709305987418854,0.6236619982195952,-0.08063942778001149,0.08689494745775367,-1.2433803804032548,0.17159566961706876,-0.0032167099066127717,0.11739239250666493,0.38951736549480986,-1.0280734833091218,-0.4800090749698621,0.5740201552456949,-1.2084516763572983,0.7238828648723517,2.2005364752879752,0.15802727378773124,0.32649568568896786,-2.7143738424005797,0.38341951411432434,1.116813227600596,-0.01989660137589359,1.8878704671898408,-0.6405584469147696,-2.3590894870123007,-0.8715844322342543,-1.4398225910640223,1.3363221386595507,1.8283221642713612,-1.1084543823687798,-0.9822653578380953,-0.6494889734849333,-0.3426015797521599,-0.6837935756698565,0.6076716337813307,0.33659591669323224,0.4269690302146352,-0.9343729078118749,0.02124021733474761,-0.8433181262016681,-1.6579278057042166,1.0367687781471089,-0.508413311460955,1.039475592623558,-0.23178447064330665,0.0724413119156897,0.3487934006331482,1.4631758122581195,-1.9585115623098048,0.05495266418138907,0.01997126586927419,0.19730602361652821,-0.07707793518496193,1.2635910163603281,-1.575182626460573],\"yaxis\":\"y8\",\"type\":\"scatter\"},{\"line\":{\"color\":\"rgba(128, 128, 128, 1.0)\",\"dash\":\"solid\",\"shape\":\"linear\",\"width\":1.3},\"marker\":{\"size\":2,\"symbol\":\"circle\"},\"mode\":\"markers\",\"name\":\"C\",\"text\":\"\",\"x\":[0.15387951566040683,2.181248765458232,-0.13566587094592006,2.5826373196933714,1.6784225961066819,-0.16299128101973356,-0.17874297565492092,0.48903983504613824,-0.050245207821652656,-0.21504123172855624,-0.9579247028153586,-0.9893440631800207,-0.5545866030923471,-0.729196183556216,-2.1468969108658733,1.443650242734995,0.9090913732870752,0.16199268989531002,-0.9466477932939458,0.35055814554620657,-0.21162327402463743,0.6365749108453906,-0.3836843220449782,1.0035932100576173,-0.6335239904754568,0.8596977337897347,0.4447230070289421,-1.2523804891664259,-0.13451250405916465,-0.5780800680607079,-0.2450155534501923,-0.9832040367280465,-0.23809181759312123,-0.34116672085694183,-0.8558574974421355,1.699621211172324,-1.0103056803776571,-0.8897721763689249,0.9747541077716472,0.2733325155193339,-2.3269122184399578,-0.3725394679542613,-1.1036867869571978,-0.1352555301863368,-1.1509761019037328,-1.2187335433615616,0.05506999604218593,-0.10228406176818654,1.2778340337032956,-1.6499243125727343,0.2584083064742115,0.022789195090183578,-0.05469858920966472,0.6934335354023595,-0.3582243331584894,-0.6762481063753567,-2.6093883903092228,0.08746280693315048,0.7907999135080389,-0.016400209655702606,-1.020020479062982,1.062252800413191,0.06000472648461456,-0.5751331128737663,0.7283756600309553,0.1828699910324269,-0.15630554197630672,-1.864294517478185,-0.05583743965754278,-1.3671415114751497,-0.2859607383869635,0.49472919490075573,-0.35969076601765726,0.9720742091395949,-0.11590515837531183,0.39360624198567107,0.7839283888154851,-1.177254142345938,0.8315862249829457,-1.1865453897625722,1.29698117990059,0.8766686456478701,0.7043101490622228,0.34654329113273163,0.009958136649100556,-1.134745510635879,0.0785083179815372,-1.8470364158934645,-0.4875047829676378,-0.735646683248686,-1.316475374019799,1.3776811867196217,-1.321076206512763,0.45445257779186266,2.5370214104573803,0.5769179650580939,0.4222801389522976,-0.5517893605255988,-0.30363543870509463,-0.33995824148450854],\"xaxis\":\"x9\",\"y\":[0.4106594435925352,0.16451668922706855,-0.5369782056226539,0.5660853315566969,-0.6276131115541184,-0.35623907365489893,2.747624814704155,-1.2334283538430675,0.5953695186024907,-0.43852943328974997,0.10864185727711775,1.3197907328048857,-0.7903712263306164,-0.31436931313673816,0.47876479857992377,-0.2304329790855753,-0.061560034155332115,0.3004897403370486,1.79510490898758,1.2737593271137766,1.6419424352503602,1.852751669824922,0.8831830072945414,-0.5882779788344554,0.3703825755458452,1.3929082760023928,-1.2071419796121867,0.011100149059746016,-0.8635739978677018,1.8413447682384052,-1.8794815878480156,1.5621316515960426,-0.06962888037480293,-0.6454974165203449,-0.3910014561766563,-1.5022335662754505,0.15306706295055966,-2.4860561301597333,-0.23823128755041628,0.7955648043997234,-1.123206905763666,1.1149380253123027,0.5841552064517905,1.5849024443809798,2.183832117184637,1.1175896993788657,-2.412033509219897,-1.1201490345928256,0.3107292331598913,0.20800900242550194,-0.24909411972896087,-0.926708027691749,0.36539845848899705,-1.0705890309135304,0.44291927119139923,1.0578310118172347,-1.038867142693977,-0.10689897007298131,-0.6760368140223842,-0.5593242936247103,0.4123230011731821,0.24003181245138533,-0.4209577645954547,-0.1558898255604296,1.178123514861103,0.22598894428301605,0.5908452772763777,-1.0324048991723151,-0.31238836333956754,-0.6219794206029533,0.8572476323195839,0.9116187337831878,0.6936904236664377,0.011038814736188172,0.5282033650357248,-2.2337668917608267,0.3476652905185053,-1.847080978535126,0.9563701003727998,-0.040863608859851734,0.5495966278412764,1.6700886104241803,1.5442686926470075,1.010725902990785,0.037871630419494456,-2.648921228271641,-1.0762630270105022,-1.6877633899055529,-0.7502413749444725,0.09517969500198269,-0.8494083429449227,0.16620975044199085,-0.5609639231128154,1.1383046777516879,0.20397077776091715,0.8810095241960068,-0.29968980450177246,0.3106062982832132,1.0062792714069575,0.5117597024230559],\"yaxis\":\"y9\",\"type\":\"scatter\"},{\"line\":{\"color\":\"rgba(128, 128, 128, 1.0)\",\"dash\":\"solid\",\"shape\":\"linear\",\"width\":1.3},\"marker\":{\"size\":2,\"symbol\":\"circle\"},\"mode\":\"markers\",\"name\":\"C\",\"text\":\"\",\"x\":[0.2083619918066731,-0.007445592501653823,0.013438670371493154,-1.1402200714610695,-1.0037282728945376,-1.7796940522845184,1.4005425881113962,-0.12409065370077918,0.4452116013367775,-0.33569644713285623,0.9193071025427763,0.3170284786129296,0.13430335146684186,0.7787044216687309,0.21450459241797218,-1.5092666232396665,0.7919886424619987,-0.1927552256597784,0.1407274967059369,0.913396235037004,-0.39175435019456206,-0.5407190613207937,-1.129410685739879,-0.7073325132739956,-0.1202465665969558,-1.2835242588380795,-0.37277920098249084,0.40015445605057215,-0.40024857144059733,-0.6379169763897673,-0.2866340398118274,0.06139895861208848,-2.252517714720179,0.5457545446741421,1.1544587442506151,-0.6168270294189658,-0.3630037900029631,-1.2010279486365256,-0.7653438306648163,-0.11053318751770316,0.38388124646772853,-1.2674203103987471,0.0028399536666268025,-1.5494254508705259,2.095749715307753,-0.5641187149411993,0.34709305987418854,0.6236619982195952,-0.08063942778001149,0.08689494745775367,-1.2433803804032548,0.17159566961706876,-0.0032167099066127717,0.11739239250666493,0.38951736549480986,-1.0280734833091218,-0.4800090749698621,0.5740201552456949,-1.2084516763572983,0.7238828648723517,2.2005364752879752,0.15802727378773124,0.32649568568896786,-2.7143738424005797,0.38341951411432434,1.116813227600596,-0.01989660137589359,1.8878704671898408,-0.6405584469147696,-2.3590894870123007,-0.8715844322342543,-1.4398225910640223,1.3363221386595507,1.8283221642713612,-1.1084543823687798,-0.9822653578380953,-0.6494889734849333,-0.3426015797521599,-0.6837935756698565,0.6076716337813307,0.33659591669323224,0.4269690302146352,-0.9343729078118749,0.02124021733474761,-0.8433181262016681,-1.6579278057042166,1.0367687781471089,-0.508413311460955,1.039475592623558,-0.23178447064330665,0.0724413119156897,0.3487934006331482,1.4631758122581195,-1.9585115623098048,0.05495266418138907,0.01997126586927419,0.19730602361652821,-0.07707793518496193,1.2635910163603281,-1.575182626460573],\"xaxis\":\"x10\",\"y\":[0.4106594435925352,0.16451668922706855,-0.5369782056226539,0.5660853315566969,-0.6276131115541184,-0.35623907365489893,2.747624814704155,-1.2334283538430675,0.5953695186024907,-0.43852943328974997,0.10864185727711775,1.3197907328048857,-0.7903712263306164,-0.31436931313673816,0.47876479857992377,-0.2304329790855753,-0.061560034155332115,0.3004897403370486,1.79510490898758,1.2737593271137766,1.6419424352503602,1.852751669824922,0.8831830072945414,-0.5882779788344554,0.3703825755458452,1.3929082760023928,-1.2071419796121867,0.011100149059746016,-0.8635739978677018,1.8413447682384052,-1.8794815878480156,1.5621316515960426,-0.06962888037480293,-0.6454974165203449,-0.3910014561766563,-1.5022335662754505,0.15306706295055966,-2.4860561301597333,-0.23823128755041628,0.7955648043997234,-1.123206905763666,1.1149380253123027,0.5841552064517905,1.5849024443809798,2.183832117184637,1.1175896993788657,-2.412033509219897,-1.1201490345928256,0.3107292331598913,0.20800900242550194,-0.24909411972896087,-0.926708027691749,0.36539845848899705,-1.0705890309135304,0.44291927119139923,1.0578310118172347,-1.038867142693977,-0.10689897007298131,-0.6760368140223842,-0.5593242936247103,0.4123230011731821,0.24003181245138533,-0.4209577645954547,-0.1558898255604296,1.178123514861103,0.22598894428301605,0.5908452772763777,-1.0324048991723151,-0.31238836333956754,-0.6219794206029533,0.8572476323195839,0.9116187337831878,0.6936904236664377,0.011038814736188172,0.5282033650357248,-2.2337668917608267,0.3476652905185053,-1.847080978535126,0.9563701003727998,-0.040863608859851734,0.5495966278412764,1.6700886104241803,1.5442686926470075,1.010725902990785,0.037871630419494456,-2.648921228271641,-1.0762630270105022,-1.6877633899055529,-0.7502413749444725,0.09517969500198269,-0.8494083429449227,0.16620975044199085,-0.5609639231128154,1.1383046777516879,0.20397077776091715,0.8810095241960068,-0.29968980450177246,0.3106062982832132,1.0062792714069575,0.5117597024230559],\"yaxis\":\"y10\",\"type\":\"scatter\"},{\"histfunc\":\"count\",\"histnorm\":\"\",\"marker\":{\"color\":\"rgba(50, 171, 96, 1.0)\",\"line\":{\"color\":\"#4D5663\",\"width\":1.3}},\"name\":\"C\",\"nbinsx\":10,\"opacity\":0.8,\"orientation\":\"v\",\"x\":[0.4106594435925352,0.16451668922706855,-0.5369782056226539,0.5660853315566969,-0.6276131115541184,-0.35623907365489893,2.747624814704155,-1.2334283538430675,0.5953695186024907,-0.43852943328974997,0.10864185727711775,1.3197907328048857,-0.7903712263306164,-0.31436931313673816,0.47876479857992377,-0.2304329790855753,-0.061560034155332115,0.3004897403370486,1.79510490898758,1.2737593271137766,1.6419424352503602,1.852751669824922,0.8831830072945414,-0.5882779788344554,0.3703825755458452,1.3929082760023928,-1.2071419796121867,0.011100149059746016,-0.8635739978677018,1.8413447682384052,-1.8794815878480156,1.5621316515960426,-0.06962888037480293,-0.6454974165203449,-0.3910014561766563,-1.5022335662754505,0.15306706295055966,-2.4860561301597333,-0.23823128755041628,0.7955648043997234,-1.123206905763666,1.1149380253123027,0.5841552064517905,1.5849024443809798,2.183832117184637,1.1175896993788657,-2.412033509219897,-1.1201490345928256,0.3107292331598913,0.20800900242550194,-0.24909411972896087,-0.926708027691749,0.36539845848899705,-1.0705890309135304,0.44291927119139923,1.0578310118172347,-1.038867142693977,-0.10689897007298131,-0.6760368140223842,-0.5593242936247103,0.4123230011731821,0.24003181245138533,-0.4209577645954547,-0.1558898255604296,1.178123514861103,0.22598894428301605,0.5908452772763777,-1.0324048991723151,-0.31238836333956754,-0.6219794206029533,0.8572476323195839,0.9116187337831878,0.6936904236664377,0.011038814736188172,0.5282033650357248,-2.2337668917608267,0.3476652905185053,-1.847080978535126,0.9563701003727998,-0.040863608859851734,0.5495966278412764,1.6700886104241803,1.5442686926470075,1.010725902990785,0.037871630419494456,-2.648921228271641,-1.0762630270105022,-1.6877633899055529,-0.7502413749444725,0.09517969500198269,-0.8494083429449227,0.16620975044199085,-0.5609639231128154,1.1383046777516879,0.20397077776091715,0.8810095241960068,-0.29968980450177246,0.3106062982832132,1.0062792714069575,0.5117597024230559],\"xaxis\":\"x11\",\"yaxis\":\"y11\",\"type\":\"histogram\"},{\"line\":{\"color\":\"rgba(128, 128, 128, 1.0)\",\"dash\":\"solid\",\"shape\":\"linear\",\"width\":1.3},\"marker\":{\"size\":2,\"symbol\":\"circle\"},\"mode\":\"markers\",\"name\":\"C\",\"text\":\"\",\"x\":[0.08882602290852044,0.3472852132477984,-0.37246145250677315,-0.5471198817931465,0.9612201659969524,-0.9855005302431957,1.119709969364751,-1.5617645240073064,0.3784234935225686,0.8406059405919006,0.2478538909570599,0.2245201258386008,-0.014007087076950283,-0.017978432906322183,0.23460468060069478,-0.46640179910384066,0.8643632730322002,-2.6157456252518436,1.1628922977618183,-0.7598486830496928,-0.6520913250599274,-0.013592979843362926,-2.7804940392783677,-0.3473536826461263,1.1078778869163652,0.5857347552960472,-0.9958308215441067,-2.5263763627546973,-0.26672147672956403,0.2862130405186244,-2.6837494659660046,0.3033874733214488,0.5033661712626599,1.2197512825265693,-0.7138700472974253,-1.925808072447536,-0.5814574365040682,-0.4316677271910598,-0.5703494359618949,-0.858974487595339,-1.268676361059802,1.8444717976597462,-2.1710324942939474,-0.3184873602637343,0.8737016676868598,0.44676451160752684,0.19552955849466425,0.0097143559489846,-0.0907528690945857,0.08390466816220352,0.8499106301768232,-0.5016390313044293,-1.31739615184278,-0.9576190435279951,-0.4544082003105043,-0.4869871195405576,-0.8031200143028007,1.075905546432674,0.11504800737028045,0.6313800121106293,-0.02836752563835282,0.20623183108131207,0.4924132535395281,0.36853576080201733,0.37820890226831194,-1.2439165858578292,-1.0284139820799816,0.21205417447788924,1.3137150199660272,-1.6444588158118052,-0.30379493368012983,-0.4395301958526581,-0.3402084180822364,0.6792109021535856,2.2801482871709338,-1.558556941237184,1.2111088848996647,-0.4985515344568757,-0.9371606948293234,-0.23032569341794734,-0.5784890532022261,1.4498168645510277,-0.6048136450530708,-0.18714427053050872,0.5624949566075169,0.2609508920583652,-1.6613993136336094,-0.6533027541602376,0.3832809683638925,0.7929129370617669,-0.19080093806256554,0.7551565441543654,-0.34100404750090174,1.487922424333899,1.0231598093783791,-0.20659353593347068,-0.31801059017001254,0.025258088091292458,-1.3992419746609126,-0.9911240824684592],\"xaxis\":\"x12\",\"y\":[0.4106594435925352,0.16451668922706855,-0.5369782056226539,0.5660853315566969,-0.6276131115541184,-0.35623907365489893,2.747624814704155,-1.2334283538430675,0.5953695186024907,-0.43852943328974997,0.10864185727711775,1.3197907328048857,-0.7903712263306164,-0.31436931313673816,0.47876479857992377,-0.2304329790855753,-0.061560034155332115,0.3004897403370486,1.79510490898758,1.2737593271137766,1.6419424352503602,1.852751669824922,0.8831830072945414,-0.5882779788344554,0.3703825755458452,1.3929082760023928,-1.2071419796121867,0.011100149059746016,-0.8635739978677018,1.8413447682384052,-1.8794815878480156,1.5621316515960426,-0.06962888037480293,-0.6454974165203449,-0.3910014561766563,-1.5022335662754505,0.15306706295055966,-2.4860561301597333,-0.23823128755041628,0.7955648043997234,-1.123206905763666,1.1149380253123027,0.5841552064517905,1.5849024443809798,2.183832117184637,1.1175896993788657,-2.412033509219897,-1.1201490345928256,0.3107292331598913,0.20800900242550194,-0.24909411972896087,-0.926708027691749,0.36539845848899705,-1.0705890309135304,0.44291927119139923,1.0578310118172347,-1.038867142693977,-0.10689897007298131,-0.6760368140223842,-0.5593242936247103,0.4123230011731821,0.24003181245138533,-0.4209577645954547,-0.1558898255604296,1.178123514861103,0.22598894428301605,0.5908452772763777,-1.0324048991723151,-0.31238836333956754,-0.6219794206029533,0.8572476323195839,0.9116187337831878,0.6936904236664377,0.011038814736188172,0.5282033650357248,-2.2337668917608267,0.3476652905185053,-1.847080978535126,0.9563701003727998,-0.040863608859851734,0.5495966278412764,1.6700886104241803,1.5442686926470075,1.010725902990785,0.037871630419494456,-2.648921228271641,-1.0762630270105022,-1.6877633899055529,-0.7502413749444725,0.09517969500198269,-0.8494083429449227,0.16620975044199085,-0.5609639231128154,1.1383046777516879,0.20397077776091715,0.8810095241960068,-0.29968980450177246,0.3106062982832132,1.0062792714069575,0.5117597024230559],\"yaxis\":\"y12\",\"type\":\"scatter\"},{\"line\":{\"color\":\"rgba(128, 128, 128, 1.0)\",\"dash\":\"solid\",\"shape\":\"linear\",\"width\":1.3},\"marker\":{\"size\":2,\"symbol\":\"circle\"},\"mode\":\"markers\",\"name\":\"D\",\"text\":\"\",\"x\":[0.15387951566040683,2.181248765458232,-0.13566587094592006,2.5826373196933714,1.6784225961066819,-0.16299128101973356,-0.17874297565492092,0.48903983504613824,-0.050245207821652656,-0.21504123172855624,-0.9579247028153586,-0.9893440631800207,-0.5545866030923471,-0.729196183556216,-2.1468969108658733,1.443650242734995,0.9090913732870752,0.16199268989531002,-0.9466477932939458,0.35055814554620657,-0.21162327402463743,0.6365749108453906,-0.3836843220449782,1.0035932100576173,-0.6335239904754568,0.8596977337897347,0.4447230070289421,-1.2523804891664259,-0.13451250405916465,-0.5780800680607079,-0.2450155534501923,-0.9832040367280465,-0.23809181759312123,-0.34116672085694183,-0.8558574974421355,1.699621211172324,-1.0103056803776571,-0.8897721763689249,0.9747541077716472,0.2733325155193339,-2.3269122184399578,-0.3725394679542613,-1.1036867869571978,-0.1352555301863368,-1.1509761019037328,-1.2187335433615616,0.05506999604218593,-0.10228406176818654,1.2778340337032956,-1.6499243125727343,0.2584083064742115,0.022789195090183578,-0.05469858920966472,0.6934335354023595,-0.3582243331584894,-0.6762481063753567,-2.6093883903092228,0.08746280693315048,0.7907999135080389,-0.016400209655702606,-1.020020479062982,1.062252800413191,0.06000472648461456,-0.5751331128737663,0.7283756600309553,0.1828699910324269,-0.15630554197630672,-1.864294517478185,-0.05583743965754278,-1.3671415114751497,-0.2859607383869635,0.49472919490075573,-0.35969076601765726,0.9720742091395949,-0.11590515837531183,0.39360624198567107,0.7839283888154851,-1.177254142345938,0.8315862249829457,-1.1865453897625722,1.29698117990059,0.8766686456478701,0.7043101490622228,0.34654329113273163,0.009958136649100556,-1.134745510635879,0.0785083179815372,-1.8470364158934645,-0.4875047829676378,-0.735646683248686,-1.316475374019799,1.3776811867196217,-1.321076206512763,0.45445257779186266,2.5370214104573803,0.5769179650580939,0.4222801389522976,-0.5517893605255988,-0.30363543870509463,-0.33995824148450854],\"xaxis\":\"x13\",\"y\":[0.08882602290852044,0.3472852132477984,-0.37246145250677315,-0.5471198817931465,0.9612201659969524,-0.9855005302431957,1.119709969364751,-1.5617645240073064,0.3784234935225686,0.8406059405919006,0.2478538909570599,0.2245201258386008,-0.014007087076950283,-0.017978432906322183,0.23460468060069478,-0.46640179910384066,0.8643632730322002,-2.6157456252518436,1.1628922977618183,-0.7598486830496928,-0.6520913250599274,-0.013592979843362926,-2.7804940392783677,-0.3473536826461263,1.1078778869163652,0.5857347552960472,-0.9958308215441067,-2.5263763627546973,-0.26672147672956403,0.2862130405186244,-2.6837494659660046,0.3033874733214488,0.5033661712626599,1.2197512825265693,-0.7138700472974253,-1.925808072447536,-0.5814574365040682,-0.4316677271910598,-0.5703494359618949,-0.858974487595339,-1.268676361059802,1.8444717976597462,-2.1710324942939474,-0.3184873602637343,0.8737016676868598,0.44676451160752684,0.19552955849466425,0.0097143559489846,-0.0907528690945857,0.08390466816220352,0.8499106301768232,-0.5016390313044293,-1.31739615184278,-0.9576190435279951,-0.4544082003105043,-0.4869871195405576,-0.8031200143028007,1.075905546432674,0.11504800737028045,0.6313800121106293,-0.02836752563835282,0.20623183108131207,0.4924132535395281,0.36853576080201733,0.37820890226831194,-1.2439165858578292,-1.0284139820799816,0.21205417447788924,1.3137150199660272,-1.6444588158118052,-0.30379493368012983,-0.4395301958526581,-0.3402084180822364,0.6792109021535856,2.2801482871709338,-1.558556941237184,1.2111088848996647,-0.4985515344568757,-0.9371606948293234,-0.23032569341794734,-0.5784890532022261,1.4498168645510277,-0.6048136450530708,-0.18714427053050872,0.5624949566075169,0.2609508920583652,-1.6613993136336094,-0.6533027541602376,0.3832809683638925,0.7929129370617669,-0.19080093806256554,0.7551565441543654,-0.34100404750090174,1.487922424333899,1.0231598093783791,-0.20659353593347068,-0.31801059017001254,0.025258088091292458,-1.3992419746609126,-0.9911240824684592],\"yaxis\":\"y13\",\"type\":\"scatter\"},{\"line\":{\"color\":\"rgba(128, 128, 128, 1.0)\",\"dash\":\"solid\",\"shape\":\"linear\",\"width\":1.3},\"marker\":{\"size\":2,\"symbol\":\"circle\"},\"mode\":\"markers\",\"name\":\"D\",\"text\":\"\",\"x\":[0.2083619918066731,-0.007445592501653823,0.013438670371493154,-1.1402200714610695,-1.0037282728945376,-1.7796940522845184,1.4005425881113962,-0.12409065370077918,0.4452116013367775,-0.33569644713285623,0.9193071025427763,0.3170284786129296,0.13430335146684186,0.7787044216687309,0.21450459241797218,-1.5092666232396665,0.7919886424619987,-0.1927552256597784,0.1407274967059369,0.913396235037004,-0.39175435019456206,-0.5407190613207937,-1.129410685739879,-0.7073325132739956,-0.1202465665969558,-1.2835242588380795,-0.37277920098249084,0.40015445605057215,-0.40024857144059733,-0.6379169763897673,-0.2866340398118274,0.06139895861208848,-2.252517714720179,0.5457545446741421,1.1544587442506151,-0.6168270294189658,-0.3630037900029631,-1.2010279486365256,-0.7653438306648163,-0.11053318751770316,0.38388124646772853,-1.2674203103987471,0.0028399536666268025,-1.5494254508705259,2.095749715307753,-0.5641187149411993,0.34709305987418854,0.6236619982195952,-0.08063942778001149,0.08689494745775367,-1.2433803804032548,0.17159566961706876,-0.0032167099066127717,0.11739239250666493,0.38951736549480986,-1.0280734833091218,-0.4800090749698621,0.5740201552456949,-1.2084516763572983,0.7238828648723517,2.2005364752879752,0.15802727378773124,0.32649568568896786,-2.7143738424005797,0.38341951411432434,1.116813227600596,-0.01989660137589359,1.8878704671898408,-0.6405584469147696,-2.3590894870123007,-0.8715844322342543,-1.4398225910640223,1.3363221386595507,1.8283221642713612,-1.1084543823687798,-0.9822653578380953,-0.6494889734849333,-0.3426015797521599,-0.6837935756698565,0.6076716337813307,0.33659591669323224,0.4269690302146352,-0.9343729078118749,0.02124021733474761,-0.8433181262016681,-1.6579278057042166,1.0367687781471089,-0.508413311460955,1.039475592623558,-0.23178447064330665,0.0724413119156897,0.3487934006331482,1.4631758122581195,-1.9585115623098048,0.05495266418138907,0.01997126586927419,0.19730602361652821,-0.07707793518496193,1.2635910163603281,-1.575182626460573],\"xaxis\":\"x14\",\"y\":[0.08882602290852044,0.3472852132477984,-0.37246145250677315,-0.5471198817931465,0.9612201659969524,-0.9855005302431957,1.119709969364751,-1.5617645240073064,0.3784234935225686,0.8406059405919006,0.2478538909570599,0.2245201258386008,-0.014007087076950283,-0.017978432906322183,0.23460468060069478,-0.46640179910384066,0.8643632730322002,-2.6157456252518436,1.1628922977618183,-0.7598486830496928,-0.6520913250599274,-0.013592979843362926,-2.7804940392783677,-0.3473536826461263,1.1078778869163652,0.5857347552960472,-0.9958308215441067,-2.5263763627546973,-0.26672147672956403,0.2862130405186244,-2.6837494659660046,0.3033874733214488,0.5033661712626599,1.2197512825265693,-0.7138700472974253,-1.925808072447536,-0.5814574365040682,-0.4316677271910598,-0.5703494359618949,-0.858974487595339,-1.268676361059802,1.8444717976597462,-2.1710324942939474,-0.3184873602637343,0.8737016676868598,0.44676451160752684,0.19552955849466425,0.0097143559489846,-0.0907528690945857,0.08390466816220352,0.8499106301768232,-0.5016390313044293,-1.31739615184278,-0.9576190435279951,-0.4544082003105043,-0.4869871195405576,-0.8031200143028007,1.075905546432674,0.11504800737028045,0.6313800121106293,-0.02836752563835282,0.20623183108131207,0.4924132535395281,0.36853576080201733,0.37820890226831194,-1.2439165858578292,-1.0284139820799816,0.21205417447788924,1.3137150199660272,-1.6444588158118052,-0.30379493368012983,-0.4395301958526581,-0.3402084180822364,0.6792109021535856,2.2801482871709338,-1.558556941237184,1.2111088848996647,-0.4985515344568757,-0.9371606948293234,-0.23032569341794734,-0.5784890532022261,1.4498168645510277,-0.6048136450530708,-0.18714427053050872,0.5624949566075169,0.2609508920583652,-1.6613993136336094,-0.6533027541602376,0.3832809683638925,0.7929129370617669,-0.19080093806256554,0.7551565441543654,-0.34100404750090174,1.487922424333899,1.0231598093783791,-0.20659353593347068,-0.31801059017001254,0.025258088091292458,-1.3992419746609126,-0.9911240824684592],\"yaxis\":\"y14\",\"type\":\"scatter\"},{\"line\":{\"color\":\"rgba(128, 128, 128, 1.0)\",\"dash\":\"solid\",\"shape\":\"linear\",\"width\":1.3},\"marker\":{\"size\":2,\"symbol\":\"circle\"},\"mode\":\"markers\",\"name\":\"D\",\"text\":\"\",\"x\":[0.4106594435925352,0.16451668922706855,-0.5369782056226539,0.5660853315566969,-0.6276131115541184,-0.35623907365489893,2.747624814704155,-1.2334283538430675,0.5953695186024907,-0.43852943328974997,0.10864185727711775,1.3197907328048857,-0.7903712263306164,-0.31436931313673816,0.47876479857992377,-0.2304329790855753,-0.061560034155332115,0.3004897403370486,1.79510490898758,1.2737593271137766,1.6419424352503602,1.852751669824922,0.8831830072945414,-0.5882779788344554,0.3703825755458452,1.3929082760023928,-1.2071419796121867,0.011100149059746016,-0.8635739978677018,1.8413447682384052,-1.8794815878480156,1.5621316515960426,-0.06962888037480293,-0.6454974165203449,-0.3910014561766563,-1.5022335662754505,0.15306706295055966,-2.4860561301597333,-0.23823128755041628,0.7955648043997234,-1.123206905763666,1.1149380253123027,0.5841552064517905,1.5849024443809798,2.183832117184637,1.1175896993788657,-2.412033509219897,-1.1201490345928256,0.3107292331598913,0.20800900242550194,-0.24909411972896087,-0.926708027691749,0.36539845848899705,-1.0705890309135304,0.44291927119139923,1.0578310118172347,-1.038867142693977,-0.10689897007298131,-0.6760368140223842,-0.5593242936247103,0.4123230011731821,0.24003181245138533,-0.4209577645954547,-0.1558898255604296,1.178123514861103,0.22598894428301605,0.5908452772763777,-1.0324048991723151,-0.31238836333956754,-0.6219794206029533,0.8572476323195839,0.9116187337831878,0.6936904236664377,0.011038814736188172,0.5282033650357248,-2.2337668917608267,0.3476652905185053,-1.847080978535126,0.9563701003727998,-0.040863608859851734,0.5495966278412764,1.6700886104241803,1.5442686926470075,1.010725902990785,0.037871630419494456,-2.648921228271641,-1.0762630270105022,-1.6877633899055529,-0.7502413749444725,0.09517969500198269,-0.8494083429449227,0.16620975044199085,-0.5609639231128154,1.1383046777516879,0.20397077776091715,0.8810095241960068,-0.29968980450177246,0.3106062982832132,1.0062792714069575,0.5117597024230559],\"xaxis\":\"x15\",\"y\":[0.08882602290852044,0.3472852132477984,-0.37246145250677315,-0.5471198817931465,0.9612201659969524,-0.9855005302431957,1.119709969364751,-1.5617645240073064,0.3784234935225686,0.8406059405919006,0.2478538909570599,0.2245201258386008,-0.014007087076950283,-0.017978432906322183,0.23460468060069478,-0.46640179910384066,0.8643632730322002,-2.6157456252518436,1.1628922977618183,-0.7598486830496928,-0.6520913250599274,-0.013592979843362926,-2.7804940392783677,-0.3473536826461263,1.1078778869163652,0.5857347552960472,-0.9958308215441067,-2.5263763627546973,-0.26672147672956403,0.2862130405186244,-2.6837494659660046,0.3033874733214488,0.5033661712626599,1.2197512825265693,-0.7138700472974253,-1.925808072447536,-0.5814574365040682,-0.4316677271910598,-0.5703494359618949,-0.858974487595339,-1.268676361059802,1.8444717976597462,-2.1710324942939474,-0.3184873602637343,0.8737016676868598,0.44676451160752684,0.19552955849466425,0.0097143559489846,-0.0907528690945857,0.08390466816220352,0.8499106301768232,-0.5016390313044293,-1.31739615184278,-0.9576190435279951,-0.4544082003105043,-0.4869871195405576,-0.8031200143028007,1.075905546432674,0.11504800737028045,0.6313800121106293,-0.02836752563835282,0.20623183108131207,0.4924132535395281,0.36853576080201733,0.37820890226831194,-1.2439165858578292,-1.0284139820799816,0.21205417447788924,1.3137150199660272,-1.6444588158118052,-0.30379493368012983,-0.4395301958526581,-0.3402084180822364,0.6792109021535856,2.2801482871709338,-1.558556941237184,1.2111088848996647,-0.4985515344568757,-0.9371606948293234,-0.23032569341794734,-0.5784890532022261,1.4498168645510277,-0.6048136450530708,-0.18714427053050872,0.5624949566075169,0.2609508920583652,-1.6613993136336094,-0.6533027541602376,0.3832809683638925,0.7929129370617669,-0.19080093806256554,0.7551565441543654,-0.34100404750090174,1.487922424333899,1.0231598093783791,-0.20659353593347068,-0.31801059017001254,0.025258088091292458,-1.3992419746609126,-0.9911240824684592],\"yaxis\":\"y15\",\"type\":\"scatter\"},{\"histfunc\":\"count\",\"histnorm\":\"\",\"marker\":{\"color\":\"rgba(128, 0, 128, 1.0)\",\"line\":{\"color\":\"#4D5663\",\"width\":1.3}},\"name\":\"D\",\"nbinsx\":10,\"opacity\":0.8,\"orientation\":\"v\",\"x\":[0.08882602290852044,0.3472852132477984,-0.37246145250677315,-0.5471198817931465,0.9612201659969524,-0.9855005302431957,1.119709969364751,-1.5617645240073064,0.3784234935225686,0.8406059405919006,0.2478538909570599,0.2245201258386008,-0.014007087076950283,-0.017978432906322183,0.23460468060069478,-0.46640179910384066,0.8643632730322002,-2.6157456252518436,1.1628922977618183,-0.7598486830496928,-0.6520913250599274,-0.013592979843362926,-2.7804940392783677,-0.3473536826461263,1.1078778869163652,0.5857347552960472,-0.9958308215441067,-2.5263763627546973,-0.26672147672956403,0.2862130405186244,-2.6837494659660046,0.3033874733214488,0.5033661712626599,1.2197512825265693,-0.7138700472974253,-1.925808072447536,-0.5814574365040682,-0.4316677271910598,-0.5703494359618949,-0.858974487595339,-1.268676361059802,1.8444717976597462,-2.1710324942939474,-0.3184873602637343,0.8737016676868598,0.44676451160752684,0.19552955849466425,0.0097143559489846,-0.0907528690945857,0.08390466816220352,0.8499106301768232,-0.5016390313044293,-1.31739615184278,-0.9576190435279951,-0.4544082003105043,-0.4869871195405576,-0.8031200143028007,1.075905546432674,0.11504800737028045,0.6313800121106293,-0.02836752563835282,0.20623183108131207,0.4924132535395281,0.36853576080201733,0.37820890226831194,-1.2439165858578292,-1.0284139820799816,0.21205417447788924,1.3137150199660272,-1.6444588158118052,-0.30379493368012983,-0.4395301958526581,-0.3402084180822364,0.6792109021535856,2.2801482871709338,-1.558556941237184,1.2111088848996647,-0.4985515344568757,-0.9371606948293234,-0.23032569341794734,-0.5784890532022261,1.4498168645510277,-0.6048136450530708,-0.18714427053050872,0.5624949566075169,0.2609508920583652,-1.6613993136336094,-0.6533027541602376,0.3832809683638925,0.7929129370617669,-0.19080093806256554,0.7551565441543654,-0.34100404750090174,1.487922424333899,1.0231598093783791,-0.20659353593347068,-0.31801059017001254,0.025258088091292458,-1.3992419746609126,-0.9911240824684592],\"xaxis\":\"x16\",\"yaxis\":\"y16\",\"type\":\"histogram\"}],                        {\"bargap\":0.02,\"legend\":{\"bgcolor\":\"#F5F6F9\",\"font\":{\"color\":\"#4D5663\"}},\"paper_bgcolor\":\"#F5F6F9\",\"plot_bgcolor\":\"#F5F6F9\",\"showlegend\":false,\"template\":{\"data\":{\"barpolar\":[{\"marker\":{\"line\":{\"color\":\"#E5ECF6\",\"width\":0.5},\"pattern\":{\"fillmode\":\"overlay\",\"size\":10,\"solidity\":0.2}},\"type\":\"barpolar\"}],\"bar\":[{\"error_x\":{\"color\":\"#2a3f5f\"},\"error_y\":{\"color\":\"#2a3f5f\"},\"marker\":{\"line\":{\"color\":\"#E5ECF6\",\"width\":0.5},\"pattern\":{\"fillmode\":\"overlay\",\"size\":10,\"solidity\":0.2}},\"type\":\"bar\"}],\"carpet\":[{\"aaxis\":{\"endlinecolor\":\"#2a3f5f\",\"gridcolor\":\"white\",\"linecolor\":\"white\",\"minorgridcolor\":\"white\",\"startlinecolor\":\"#2a3f5f\"},\"baxis\":{\"endlinecolor\":\"#2a3f5f\",\"gridcolor\":\"white\",\"linecolor\":\"white\",\"minorgridcolor\":\"white\",\"startlinecolor\":\"#2a3f5f\"},\"type\":\"carpet\"}],\"choropleth\":[{\"colorbar\":{\"outlinewidth\":0,\"ticks\":\"\"},\"type\":\"choropleth\"}],\"contourcarpet\":[{\"colorbar\":{\"outlinewidth\":0,\"ticks\":\"\"},\"type\":\"contourcarpet\"}],\"contour\":[{\"colorbar\":{\"outlinewidth\":0,\"ticks\":\"\"},\"colorscale\":[[0.0,\"#0d0887\"],[0.1111111111111111,\"#46039f\"],[0.2222222222222222,\"#7201a8\"],[0.3333333333333333,\"#9c179e\"],[0.4444444444444444,\"#bd3786\"],[0.5555555555555556,\"#d8576b\"],[0.6666666666666666,\"#ed7953\"],[0.7777777777777778,\"#fb9f3a\"],[0.8888888888888888,\"#fdca26\"],[1.0,\"#f0f921\"]],\"type\":\"contour\"}],\"heatmapgl\":[{\"colorbar\":{\"outlinewidth\":0,\"ticks\":\"\"},\"colorscale\":[[0.0,\"#0d0887\"],[0.1111111111111111,\"#46039f\"],[0.2222222222222222,\"#7201a8\"],[0.3333333333333333,\"#9c179e\"],[0.4444444444444444,\"#bd3786\"],[0.5555555555555556,\"#d8576b\"],[0.6666666666666666,\"#ed7953\"],[0.7777777777777778,\"#fb9f3a\"],[0.8888888888888888,\"#fdca26\"],[1.0,\"#f0f921\"]],\"type\":\"heatmapgl\"}],\"heatmap\":[{\"colorbar\":{\"outlinewidth\":0,\"ticks\":\"\"},\"colorscale\":[[0.0,\"#0d0887\"],[0.1111111111111111,\"#46039f\"],[0.2222222222222222,\"#7201a8\"],[0.3333333333333333,\"#9c179e\"],[0.4444444444444444,\"#bd3786\"],[0.5555555555555556,\"#d8576b\"],[0.6666666666666666,\"#ed7953\"],[0.7777777777777778,\"#fb9f3a\"],[0.8888888888888888,\"#fdca26\"],[1.0,\"#f0f921\"]],\"type\":\"heatmap\"}],\"histogram2dcontour\":[{\"colorbar\":{\"outlinewidth\":0,\"ticks\":\"\"},\"colorscale\":[[0.0,\"#0d0887\"],[0.1111111111111111,\"#46039f\"],[0.2222222222222222,\"#7201a8\"],[0.3333333333333333,\"#9c179e\"],[0.4444444444444444,\"#bd3786\"],[0.5555555555555556,\"#d8576b\"],[0.6666666666666666,\"#ed7953\"],[0.7777777777777778,\"#fb9f3a\"],[0.8888888888888888,\"#fdca26\"],[1.0,\"#f0f921\"]],\"type\":\"histogram2dcontour\"}],\"histogram2d\":[{\"colorbar\":{\"outlinewidth\":0,\"ticks\":\"\"},\"colorscale\":[[0.0,\"#0d0887\"],[0.1111111111111111,\"#46039f\"],[0.2222222222222222,\"#7201a8\"],[0.3333333333333333,\"#9c179e\"],[0.4444444444444444,\"#bd3786\"],[0.5555555555555556,\"#d8576b\"],[0.6666666666666666,\"#ed7953\"],[0.7777777777777778,\"#fb9f3a\"],[0.8888888888888888,\"#fdca26\"],[1.0,\"#f0f921\"]],\"type\":\"histogram2d\"}],\"histogram\":[{\"marker\":{\"pattern\":{\"fillmode\":\"overlay\",\"size\":10,\"solidity\":0.2}},\"type\":\"histogram\"}],\"mesh3d\":[{\"colorbar\":{\"outlinewidth\":0,\"ticks\":\"\"},\"type\":\"mesh3d\"}],\"parcoords\":[{\"line\":{\"colorbar\":{\"outlinewidth\":0,\"ticks\":\"\"}},\"type\":\"parcoords\"}],\"pie\":[{\"automargin\":true,\"type\":\"pie\"}],\"scatter3d\":[{\"line\":{\"colorbar\":{\"outlinewidth\":0,\"ticks\":\"\"}},\"marker\":{\"colorbar\":{\"outlinewidth\":0,\"ticks\":\"\"}},\"type\":\"scatter3d\"}],\"scattercarpet\":[{\"marker\":{\"colorbar\":{\"outlinewidth\":0,\"ticks\":\"\"}},\"type\":\"scattercarpet\"}],\"scattergeo\":[{\"marker\":{\"colorbar\":{\"outlinewidth\":0,\"ticks\":\"\"}},\"type\":\"scattergeo\"}],\"scattergl\":[{\"marker\":{\"colorbar\":{\"outlinewidth\":0,\"ticks\":\"\"}},\"type\":\"scattergl\"}],\"scattermapbox\":[{\"marker\":{\"colorbar\":{\"outlinewidth\":0,\"ticks\":\"\"}},\"type\":\"scattermapbox\"}],\"scatterpolargl\":[{\"marker\":{\"colorbar\":{\"outlinewidth\":0,\"ticks\":\"\"}},\"type\":\"scatterpolargl\"}],\"scatterpolar\":[{\"marker\":{\"colorbar\":{\"outlinewidth\":0,\"ticks\":\"\"}},\"type\":\"scatterpolar\"}],\"scatter\":[{\"fillpattern\":{\"fillmode\":\"overlay\",\"size\":10,\"solidity\":0.2},\"type\":\"scatter\"}],\"scatterternary\":[{\"marker\":{\"colorbar\":{\"outlinewidth\":0,\"ticks\":\"\"}},\"type\":\"scatterternary\"}],\"surface\":[{\"colorbar\":{\"outlinewidth\":0,\"ticks\":\"\"},\"colorscale\":[[0.0,\"#0d0887\"],[0.1111111111111111,\"#46039f\"],[0.2222222222222222,\"#7201a8\"],[0.3333333333333333,\"#9c179e\"],[0.4444444444444444,\"#bd3786\"],[0.5555555555555556,\"#d8576b\"],[0.6666666666666666,\"#ed7953\"],[0.7777777777777778,\"#fb9f3a\"],[0.8888888888888888,\"#fdca26\"],[1.0,\"#f0f921\"]],\"type\":\"surface\"}],\"table\":[{\"cells\":{\"fill\":{\"color\":\"#EBF0F8\"},\"line\":{\"color\":\"white\"}},\"header\":{\"fill\":{\"color\":\"#C8D4E3\"},\"line\":{\"color\":\"white\"}},\"type\":\"table\"}]},\"layout\":{\"annotationdefaults\":{\"arrowcolor\":\"#2a3f5f\",\"arrowhead\":0,\"arrowwidth\":1},\"autotypenumbers\":\"strict\",\"coloraxis\":{\"colorbar\":{\"outlinewidth\":0,\"ticks\":\"\"}},\"colorscale\":{\"diverging\":[[0,\"#8e0152\"],[0.1,\"#c51b7d\"],[0.2,\"#de77ae\"],[0.3,\"#f1b6da\"],[0.4,\"#fde0ef\"],[0.5,\"#f7f7f7\"],[0.6,\"#e6f5d0\"],[0.7,\"#b8e186\"],[0.8,\"#7fbc41\"],[0.9,\"#4d9221\"],[1,\"#276419\"]],\"sequential\":[[0.0,\"#0d0887\"],[0.1111111111111111,\"#46039f\"],[0.2222222222222222,\"#7201a8\"],[0.3333333333333333,\"#9c179e\"],[0.4444444444444444,\"#bd3786\"],[0.5555555555555556,\"#d8576b\"],[0.6666666666666666,\"#ed7953\"],[0.7777777777777778,\"#fb9f3a\"],[0.8888888888888888,\"#fdca26\"],[1.0,\"#f0f921\"]],\"sequentialminus\":[[0.0,\"#0d0887\"],[0.1111111111111111,\"#46039f\"],[0.2222222222222222,\"#7201a8\"],[0.3333333333333333,\"#9c179e\"],[0.4444444444444444,\"#bd3786\"],[0.5555555555555556,\"#d8576b\"],[0.6666666666666666,\"#ed7953\"],[0.7777777777777778,\"#fb9f3a\"],[0.8888888888888888,\"#fdca26\"],[1.0,\"#f0f921\"]]},\"colorway\":[\"#636efa\",\"#EF553B\",\"#00cc96\",\"#ab63fa\",\"#FFA15A\",\"#19d3f3\",\"#FF6692\",\"#B6E880\",\"#FF97FF\",\"#FECB52\"],\"font\":{\"color\":\"#2a3f5f\"},\"geo\":{\"bgcolor\":\"white\",\"lakecolor\":\"white\",\"landcolor\":\"#E5ECF6\",\"showlakes\":true,\"showland\":true,\"subunitcolor\":\"white\"},\"hoverlabel\":{\"align\":\"left\"},\"hovermode\":\"closest\",\"mapbox\":{\"style\":\"light\"},\"paper_bgcolor\":\"white\",\"plot_bgcolor\":\"#E5ECF6\",\"polar\":{\"angularaxis\":{\"gridcolor\":\"white\",\"linecolor\":\"white\",\"ticks\":\"\"},\"bgcolor\":\"#E5ECF6\",\"radialaxis\":{\"gridcolor\":\"white\",\"linecolor\":\"white\",\"ticks\":\"\"}},\"scene\":{\"xaxis\":{\"backgroundcolor\":\"#E5ECF6\",\"gridcolor\":\"white\",\"gridwidth\":2,\"linecolor\":\"white\",\"showbackground\":true,\"ticks\":\"\",\"zerolinecolor\":\"white\"},\"yaxis\":{\"backgroundcolor\":\"#E5ECF6\",\"gridcolor\":\"white\",\"gridwidth\":2,\"linecolor\":\"white\",\"showbackground\":true,\"ticks\":\"\",\"zerolinecolor\":\"white\"},\"zaxis\":{\"backgroundcolor\":\"#E5ECF6\",\"gridcolor\":\"white\",\"gridwidth\":2,\"linecolor\":\"white\",\"showbackground\":true,\"ticks\":\"\",\"zerolinecolor\":\"white\"}},\"shapedefaults\":{\"line\":{\"color\":\"#2a3f5f\"}},\"ternary\":{\"aaxis\":{\"gridcolor\":\"white\",\"linecolor\":\"white\",\"ticks\":\"\"},\"baxis\":{\"gridcolor\":\"white\",\"linecolor\":\"white\",\"ticks\":\"\"},\"bgcolor\":\"#E5ECF6\",\"caxis\":{\"gridcolor\":\"white\",\"linecolor\":\"white\",\"ticks\":\"\"}},\"title\":{\"x\":0.05},\"xaxis\":{\"automargin\":true,\"gridcolor\":\"white\",\"linecolor\":\"white\",\"ticks\":\"\",\"title\":{\"standoff\":15},\"zerolinecolor\":\"white\",\"zerolinewidth\":2},\"yaxis\":{\"automargin\":true,\"gridcolor\":\"white\",\"linecolor\":\"white\",\"ticks\":\"\",\"title\":{\"standoff\":15},\"zerolinecolor\":\"white\",\"zerolinewidth\":2}}},\"title\":{\"font\":{\"color\":\"#4D5663\"}},\"xaxis\":{\"anchor\":\"y\",\"domain\":[0.0,0.2125],\"gridcolor\":\"#E1E5ED\",\"showgrid\":false,\"tickfont\":{\"color\":\"#4D5663\"},\"title\":{\"font\":{\"color\":\"#4D5663\"},\"text\":\"\"},\"zerolinecolor\":\"#E1E5ED\"},\"yaxis\":{\"anchor\":\"x\",\"domain\":[0.8025,1.0],\"gridcolor\":\"#E1E5ED\",\"showgrid\":false,\"tickfont\":{\"color\":\"#4D5663\"},\"title\":{\"font\":{\"color\":\"#4D5663\"},\"text\":\"\"},\"zerolinecolor\":\"#E1E5ED\"},\"xaxis2\":{\"anchor\":\"y2\",\"domain\":[0.2625,0.475],\"gridcolor\":\"#E1E5ED\",\"showgrid\":false,\"tickfont\":{\"color\":\"#4D5663\"},\"title\":{\"font\":{\"color\":\"#4D5663\"},\"text\":\"\"},\"zerolinecolor\":\"#E1E5ED\"},\"yaxis2\":{\"anchor\":\"x2\",\"domain\":[0.8025,1.0],\"gridcolor\":\"#E1E5ED\",\"showgrid\":false,\"tickfont\":{\"color\":\"#4D5663\"},\"title\":{\"font\":{\"color\":\"#4D5663\"},\"text\":\"\"},\"zerolinecolor\":\"#E1E5ED\"},\"xaxis3\":{\"anchor\":\"y3\",\"domain\":[0.525,0.7375],\"gridcolor\":\"#E1E5ED\",\"showgrid\":false,\"tickfont\":{\"color\":\"#4D5663\"},\"title\":{\"font\":{\"color\":\"#4D5663\"},\"text\":\"\"},\"zerolinecolor\":\"#E1E5ED\"},\"yaxis3\":{\"anchor\":\"x3\",\"domain\":[0.8025,1.0],\"gridcolor\":\"#E1E5ED\",\"showgrid\":false,\"tickfont\":{\"color\":\"#4D5663\"},\"title\":{\"font\":{\"color\":\"#4D5663\"},\"text\":\"\"},\"zerolinecolor\":\"#E1E5ED\"},\"xaxis4\":{\"anchor\":\"y4\",\"domain\":[0.7875,1.0],\"gridcolor\":\"#E1E5ED\",\"showgrid\":false,\"tickfont\":{\"color\":\"#4D5663\"},\"title\":{\"font\":{\"color\":\"#4D5663\"},\"text\":\"\"},\"zerolinecolor\":\"#E1E5ED\"},\"yaxis4\":{\"anchor\":\"x4\",\"domain\":[0.8025,1.0],\"gridcolor\":\"#E1E5ED\",\"showgrid\":false,\"tickfont\":{\"color\":\"#4D5663\"},\"title\":{\"font\":{\"color\":\"#4D5663\"},\"text\":\"\"},\"zerolinecolor\":\"#E1E5ED\"},\"xaxis5\":{\"anchor\":\"y5\",\"domain\":[0.0,0.2125],\"gridcolor\":\"#E1E5ED\",\"showgrid\":false,\"tickfont\":{\"color\":\"#4D5663\"},\"title\":{\"font\":{\"color\":\"#4D5663\"},\"text\":\"\"},\"zerolinecolor\":\"#E1E5ED\"},\"yaxis5\":{\"anchor\":\"x5\",\"domain\":[0.535,0.7325],\"gridcolor\":\"#E1E5ED\",\"showgrid\":false,\"tickfont\":{\"color\":\"#4D5663\"},\"title\":{\"font\":{\"color\":\"#4D5663\"},\"text\":\"\"},\"zerolinecolor\":\"#E1E5ED\"},\"xaxis6\":{\"anchor\":\"y6\",\"domain\":[0.2625,0.475],\"gridcolor\":\"#E1E5ED\",\"showgrid\":false,\"tickfont\":{\"color\":\"#4D5663\"},\"title\":{\"font\":{\"color\":\"#4D5663\"},\"text\":\"\"},\"zerolinecolor\":\"#E1E5ED\"},\"yaxis6\":{\"anchor\":\"x6\",\"domain\":[0.535,0.7325],\"gridcolor\":\"#E1E5ED\",\"showgrid\":false,\"tickfont\":{\"color\":\"#4D5663\"},\"title\":{\"font\":{\"color\":\"#4D5663\"},\"text\":\"\"},\"zerolinecolor\":\"#E1E5ED\"},\"xaxis7\":{\"anchor\":\"y7\",\"domain\":[0.525,0.7375],\"gridcolor\":\"#E1E5ED\",\"showgrid\":false,\"tickfont\":{\"color\":\"#4D5663\"},\"title\":{\"font\":{\"color\":\"#4D5663\"},\"text\":\"\"},\"zerolinecolor\":\"#E1E5ED\"},\"yaxis7\":{\"anchor\":\"x7\",\"domain\":[0.535,0.7325],\"gridcolor\":\"#E1E5ED\",\"showgrid\":false,\"tickfont\":{\"color\":\"#4D5663\"},\"title\":{\"font\":{\"color\":\"#4D5663\"},\"text\":\"\"},\"zerolinecolor\":\"#E1E5ED\"},\"xaxis8\":{\"anchor\":\"y8\",\"domain\":[0.7875,1.0],\"gridcolor\":\"#E1E5ED\",\"showgrid\":false,\"tickfont\":{\"color\":\"#4D5663\"},\"title\":{\"font\":{\"color\":\"#4D5663\"},\"text\":\"\"},\"zerolinecolor\":\"#E1E5ED\"},\"yaxis8\":{\"anchor\":\"x8\",\"domain\":[0.535,0.7325],\"gridcolor\":\"#E1E5ED\",\"showgrid\":false,\"tickfont\":{\"color\":\"#4D5663\"},\"title\":{\"font\":{\"color\":\"#4D5663\"},\"text\":\"\"},\"zerolinecolor\":\"#E1E5ED\"},\"xaxis9\":{\"anchor\":\"y9\",\"domain\":[0.0,0.2125],\"gridcolor\":\"#E1E5ED\",\"showgrid\":false,\"tickfont\":{\"color\":\"#4D5663\"},\"title\":{\"font\":{\"color\":\"#4D5663\"},\"text\":\"\"},\"zerolinecolor\":\"#E1E5ED\"},\"yaxis9\":{\"anchor\":\"x9\",\"domain\":[0.2675,0.465],\"gridcolor\":\"#E1E5ED\",\"showgrid\":false,\"tickfont\":{\"color\":\"#4D5663\"},\"title\":{\"font\":{\"color\":\"#4D5663\"},\"text\":\"\"},\"zerolinecolor\":\"#E1E5ED\"},\"xaxis10\":{\"anchor\":\"y10\",\"domain\":[0.2625,0.475],\"gridcolor\":\"#E1E5ED\",\"showgrid\":false,\"tickfont\":{\"color\":\"#4D5663\"},\"title\":{\"font\":{\"color\":\"#4D5663\"},\"text\":\"\"},\"zerolinecolor\":\"#E1E5ED\"},\"yaxis10\":{\"anchor\":\"x10\",\"domain\":[0.2675,0.465],\"gridcolor\":\"#E1E5ED\",\"showgrid\":false,\"tickfont\":{\"color\":\"#4D5663\"},\"title\":{\"font\":{\"color\":\"#4D5663\"},\"text\":\"\"},\"zerolinecolor\":\"#E1E5ED\"},\"xaxis11\":{\"anchor\":\"y11\",\"domain\":[0.525,0.7375],\"gridcolor\":\"#E1E5ED\",\"showgrid\":false,\"tickfont\":{\"color\":\"#4D5663\"},\"title\":{\"font\":{\"color\":\"#4D5663\"},\"text\":\"\"},\"zerolinecolor\":\"#E1E5ED\"},\"yaxis11\":{\"anchor\":\"x11\",\"domain\":[0.2675,0.465],\"gridcolor\":\"#E1E5ED\",\"showgrid\":false,\"tickfont\":{\"color\":\"#4D5663\"},\"title\":{\"font\":{\"color\":\"#4D5663\"},\"text\":\"\"},\"zerolinecolor\":\"#E1E5ED\"},\"xaxis12\":{\"anchor\":\"y12\",\"domain\":[0.7875,1.0],\"gridcolor\":\"#E1E5ED\",\"showgrid\":false,\"tickfont\":{\"color\":\"#4D5663\"},\"title\":{\"font\":{\"color\":\"#4D5663\"},\"text\":\"\"},\"zerolinecolor\":\"#E1E5ED\"},\"yaxis12\":{\"anchor\":\"x12\",\"domain\":[0.2675,0.465],\"gridcolor\":\"#E1E5ED\",\"showgrid\":false,\"tickfont\":{\"color\":\"#4D5663\"},\"title\":{\"font\":{\"color\":\"#4D5663\"},\"text\":\"\"},\"zerolinecolor\":\"#E1E5ED\"},\"xaxis13\":{\"anchor\":\"y13\",\"domain\":[0.0,0.2125],\"gridcolor\":\"#E1E5ED\",\"showgrid\":false,\"tickfont\":{\"color\":\"#4D5663\"},\"title\":{\"font\":{\"color\":\"#4D5663\"},\"text\":\"\"},\"zerolinecolor\":\"#E1E5ED\"},\"yaxis13\":{\"anchor\":\"x13\",\"domain\":[0.0,0.1975],\"gridcolor\":\"#E1E5ED\",\"showgrid\":false,\"tickfont\":{\"color\":\"#4D5663\"},\"title\":{\"font\":{\"color\":\"#4D5663\"},\"text\":\"\"},\"zerolinecolor\":\"#E1E5ED\"},\"xaxis14\":{\"anchor\":\"y14\",\"domain\":[0.2625,0.475],\"gridcolor\":\"#E1E5ED\",\"showgrid\":false,\"tickfont\":{\"color\":\"#4D5663\"},\"title\":{\"font\":{\"color\":\"#4D5663\"},\"text\":\"\"},\"zerolinecolor\":\"#E1E5ED\"},\"yaxis14\":{\"anchor\":\"x14\",\"domain\":[0.0,0.1975],\"gridcolor\":\"#E1E5ED\",\"showgrid\":false,\"tickfont\":{\"color\":\"#4D5663\"},\"title\":{\"font\":{\"color\":\"#4D5663\"},\"text\":\"\"},\"zerolinecolor\":\"#E1E5ED\"},\"xaxis15\":{\"anchor\":\"y15\",\"domain\":[0.525,0.7375],\"gridcolor\":\"#E1E5ED\",\"showgrid\":false,\"tickfont\":{\"color\":\"#4D5663\"},\"title\":{\"font\":{\"color\":\"#4D5663\"},\"text\":\"\"},\"zerolinecolor\":\"#E1E5ED\"},\"yaxis15\":{\"anchor\":\"x15\",\"domain\":[0.0,0.1975],\"gridcolor\":\"#E1E5ED\",\"showgrid\":false,\"tickfont\":{\"color\":\"#4D5663\"},\"title\":{\"font\":{\"color\":\"#4D5663\"},\"text\":\"\"},\"zerolinecolor\":\"#E1E5ED\"},\"xaxis16\":{\"anchor\":\"y16\",\"domain\":[0.7875,1.0],\"gridcolor\":\"#E1E5ED\",\"showgrid\":false,\"tickfont\":{\"color\":\"#4D5663\"},\"title\":{\"font\":{\"color\":\"#4D5663\"},\"text\":\"\"},\"zerolinecolor\":\"#E1E5ED\"},\"yaxis16\":{\"anchor\":\"x16\",\"domain\":[0.0,0.1975],\"gridcolor\":\"#E1E5ED\",\"showgrid\":false,\"tickfont\":{\"color\":\"#4D5663\"},\"title\":{\"font\":{\"color\":\"#4D5663\"},\"text\":\"\"},\"zerolinecolor\":\"#E1E5ED\"}},                        {\"showLink\": true, \"linkText\": \"Export to plot.ly\", \"plotlyServerURL\": \"https://plot.ly\", \"responsive\": true}                    ).then(function(){\n",
       "                            \n",
       "var gd = document.getElementById('83f25e83-78f6-4ae9-bd10-4be16ed22336');\n",
       "var x = new MutationObserver(function (mutations, observer) {{\n",
       "        var display = window.getComputedStyle(gd).display;\n",
       "        if (!display || display === 'none') {{\n",
       "            console.log([gd, 'removed!']);\n",
       "            Plotly.purge(gd);\n",
       "            observer.disconnect();\n",
       "        }}\n",
       "}});\n",
       "\n",
       "// Listen for the removal of the full notebook cells\n",
       "var notebookContainer = gd.closest('#notebook-container');\n",
       "if (notebookContainer) {{\n",
       "    x.observe(notebookContainer, {childList: true});\n",
       "}}\n",
       "\n",
       "// Listen for the clearing of the current output cell\n",
       "var outputEl = gd.closest('.output');\n",
       "if (outputEl) {{\n",
       "    x.observe(outputEl, {childList: true});\n",
       "}}\n",
       "\n",
       "                        })                };                });            </script>        </div>"
      ]
     },
     "metadata": {},
     "output_type": "display_data"
    }
   ],
   "source": [
    "df.scatter_matrix()"
   ]
  },
  {
   "cell_type": "code",
   "execution_count": null,
   "id": "2328718b",
   "metadata": {},
   "outputs": [],
   "source": []
  },
  {
   "cell_type": "code",
   "execution_count": null,
   "id": "18439a44",
   "metadata": {},
   "outputs": [],
   "source": []
  }
 ],
 "metadata": {
  "kernelspec": {
   "display_name": "Python 3 (ipykernel)",
   "language": "python",
   "name": "python3"
  },
  "language_info": {
   "codemirror_mode": {
    "name": "ipython",
    "version": 3
   },
   "file_extension": ".py",
   "mimetype": "text/x-python",
   "name": "python",
   "nbconvert_exporter": "python",
   "pygments_lexer": "ipython3",
   "version": "3.9.7"
  }
 },
 "nbformat": 4,
 "nbformat_minor": 5
}
